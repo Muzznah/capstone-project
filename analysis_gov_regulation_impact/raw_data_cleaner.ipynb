{
 "cells": [
  {
   "cell_type": "code",
   "execution_count": 11,
   "metadata": {},
   "outputs": [],
   "source": [
    "import pandas as pd\n",
    "import re\n",
    "import numpy as np"
   ]
  },
  {
   "cell_type": "code",
   "execution_count": 12,
   "metadata": {},
   "outputs": [
    {
     "name": "stderr",
     "output_type": "stream",
     "text": [
      "/home/sami/anaconda3/envs/mlenv2/lib/python3.7/site-packages/IPython/core/interactiveshell.py:3146: DtypeWarning: Columns (2,3) have mixed types.Specify dtype option on import or set low_memory=False.\n",
      "  interactivity=interactivity, compiler=compiler, result=result)\n"
     ]
    }
   ],
   "source": [
    "file = \"Resources/raw/OxCGRT_latest(Aug31,2020).csv\"\n",
    "gr_df = pd.read_csv(file)"
   ]
  },
  {
   "cell_type": "code",
   "execution_count": 13,
   "metadata": {},
   "outputs": [
    {
     "data": {
      "text/html": [
       "<div>\n",
       "<style scoped>\n",
       "    .dataframe tbody tr th:only-of-type {\n",
       "        vertical-align: middle;\n",
       "    }\n",
       "\n",
       "    .dataframe tbody tr th {\n",
       "        vertical-align: top;\n",
       "    }\n",
       "\n",
       "    .dataframe thead th {\n",
       "        text-align: right;\n",
       "    }\n",
       "</style>\n",
       "<table border=\"1\" class=\"dataframe\">\n",
       "  <thead>\n",
       "    <tr style=\"text-align: right;\">\n",
       "      <th></th>\n",
       "      <th>CountryName</th>\n",
       "      <th>CountryCode</th>\n",
       "      <th>RegionName</th>\n",
       "      <th>RegionCode</th>\n",
       "      <th>Date</th>\n",
       "      <th>C1_School closing</th>\n",
       "      <th>C1_Flag</th>\n",
       "      <th>C2_Workplace closing</th>\n",
       "      <th>C2_Flag</th>\n",
       "      <th>C3_Cancel public events</th>\n",
       "      <th>...</th>\n",
       "      <th>StringencyIndex</th>\n",
       "      <th>StringencyIndexForDisplay</th>\n",
       "      <th>StringencyLegacyIndex</th>\n",
       "      <th>StringencyLegacyIndexForDisplay</th>\n",
       "      <th>GovernmentResponseIndex</th>\n",
       "      <th>GovernmentResponseIndexForDisplay</th>\n",
       "      <th>ContainmentHealthIndex</th>\n",
       "      <th>ContainmentHealthIndexForDisplay</th>\n",
       "      <th>EconomicSupportIndex</th>\n",
       "      <th>EconomicSupportIndexForDisplay</th>\n",
       "    </tr>\n",
       "  </thead>\n",
       "  <tbody>\n",
       "    <tr>\n",
       "      <th>0</th>\n",
       "      <td>Aruba</td>\n",
       "      <td>ABW</td>\n",
       "      <td>NaN</td>\n",
       "      <td>NaN</td>\n",
       "      <td>20200101</td>\n",
       "      <td>0.0</td>\n",
       "      <td>NaN</td>\n",
       "      <td>0.0</td>\n",
       "      <td>NaN</td>\n",
       "      <td>0.0</td>\n",
       "      <td>...</td>\n",
       "      <td>0.0</td>\n",
       "      <td>0.0</td>\n",
       "      <td>0.0</td>\n",
       "      <td>0.0</td>\n",
       "      <td>0.0</td>\n",
       "      <td>0.0</td>\n",
       "      <td>0.0</td>\n",
       "      <td>0.0</td>\n",
       "      <td>0.0</td>\n",
       "      <td>0.0</td>\n",
       "    </tr>\n",
       "    <tr>\n",
       "      <th>1</th>\n",
       "      <td>Aruba</td>\n",
       "      <td>ABW</td>\n",
       "      <td>NaN</td>\n",
       "      <td>NaN</td>\n",
       "      <td>20200102</td>\n",
       "      <td>0.0</td>\n",
       "      <td>NaN</td>\n",
       "      <td>0.0</td>\n",
       "      <td>NaN</td>\n",
       "      <td>0.0</td>\n",
       "      <td>...</td>\n",
       "      <td>0.0</td>\n",
       "      <td>0.0</td>\n",
       "      <td>0.0</td>\n",
       "      <td>0.0</td>\n",
       "      <td>0.0</td>\n",
       "      <td>0.0</td>\n",
       "      <td>0.0</td>\n",
       "      <td>0.0</td>\n",
       "      <td>0.0</td>\n",
       "      <td>0.0</td>\n",
       "    </tr>\n",
       "    <tr>\n",
       "      <th>2</th>\n",
       "      <td>Aruba</td>\n",
       "      <td>ABW</td>\n",
       "      <td>NaN</td>\n",
       "      <td>NaN</td>\n",
       "      <td>20200103</td>\n",
       "      <td>0.0</td>\n",
       "      <td>NaN</td>\n",
       "      <td>0.0</td>\n",
       "      <td>NaN</td>\n",
       "      <td>0.0</td>\n",
       "      <td>...</td>\n",
       "      <td>0.0</td>\n",
       "      <td>0.0</td>\n",
       "      <td>0.0</td>\n",
       "      <td>0.0</td>\n",
       "      <td>0.0</td>\n",
       "      <td>0.0</td>\n",
       "      <td>0.0</td>\n",
       "      <td>0.0</td>\n",
       "      <td>0.0</td>\n",
       "      <td>0.0</td>\n",
       "    </tr>\n",
       "    <tr>\n",
       "      <th>3</th>\n",
       "      <td>Aruba</td>\n",
       "      <td>ABW</td>\n",
       "      <td>NaN</td>\n",
       "      <td>NaN</td>\n",
       "      <td>20200104</td>\n",
       "      <td>0.0</td>\n",
       "      <td>NaN</td>\n",
       "      <td>0.0</td>\n",
       "      <td>NaN</td>\n",
       "      <td>0.0</td>\n",
       "      <td>...</td>\n",
       "      <td>0.0</td>\n",
       "      <td>0.0</td>\n",
       "      <td>0.0</td>\n",
       "      <td>0.0</td>\n",
       "      <td>0.0</td>\n",
       "      <td>0.0</td>\n",
       "      <td>0.0</td>\n",
       "      <td>0.0</td>\n",
       "      <td>0.0</td>\n",
       "      <td>0.0</td>\n",
       "    </tr>\n",
       "    <tr>\n",
       "      <th>4</th>\n",
       "      <td>Aruba</td>\n",
       "      <td>ABW</td>\n",
       "      <td>NaN</td>\n",
       "      <td>NaN</td>\n",
       "      <td>20200105</td>\n",
       "      <td>0.0</td>\n",
       "      <td>NaN</td>\n",
       "      <td>0.0</td>\n",
       "      <td>NaN</td>\n",
       "      <td>0.0</td>\n",
       "      <td>...</td>\n",
       "      <td>0.0</td>\n",
       "      <td>0.0</td>\n",
       "      <td>0.0</td>\n",
       "      <td>0.0</td>\n",
       "      <td>0.0</td>\n",
       "      <td>0.0</td>\n",
       "      <td>0.0</td>\n",
       "      <td>0.0</td>\n",
       "      <td>0.0</td>\n",
       "      <td>0.0</td>\n",
       "    </tr>\n",
       "  </tbody>\n",
       "</table>\n",
       "<p>5 rows × 44 columns</p>\n",
       "</div>"
      ],
      "text/plain": [
       "  CountryName CountryCode RegionName RegionCode      Date  C1_School closing  \\\n",
       "0       Aruba         ABW        NaN        NaN  20200101                0.0   \n",
       "1       Aruba         ABW        NaN        NaN  20200102                0.0   \n",
       "2       Aruba         ABW        NaN        NaN  20200103                0.0   \n",
       "3       Aruba         ABW        NaN        NaN  20200104                0.0   \n",
       "4       Aruba         ABW        NaN        NaN  20200105                0.0   \n",
       "\n",
       "   C1_Flag  C2_Workplace closing  C2_Flag  C3_Cancel public events  ...  \\\n",
       "0      NaN                   0.0      NaN                      0.0  ...   \n",
       "1      NaN                   0.0      NaN                      0.0  ...   \n",
       "2      NaN                   0.0      NaN                      0.0  ...   \n",
       "3      NaN                   0.0      NaN                      0.0  ...   \n",
       "4      NaN                   0.0      NaN                      0.0  ...   \n",
       "\n",
       "   StringencyIndex  StringencyIndexForDisplay  StringencyLegacyIndex  \\\n",
       "0              0.0                        0.0                    0.0   \n",
       "1              0.0                        0.0                    0.0   \n",
       "2              0.0                        0.0                    0.0   \n",
       "3              0.0                        0.0                    0.0   \n",
       "4              0.0                        0.0                    0.0   \n",
       "\n",
       "   StringencyLegacyIndexForDisplay  GovernmentResponseIndex  \\\n",
       "0                              0.0                      0.0   \n",
       "1                              0.0                      0.0   \n",
       "2                              0.0                      0.0   \n",
       "3                              0.0                      0.0   \n",
       "4                              0.0                      0.0   \n",
       "\n",
       "   GovernmentResponseIndexForDisplay  ContainmentHealthIndex  \\\n",
       "0                                0.0                     0.0   \n",
       "1                                0.0                     0.0   \n",
       "2                                0.0                     0.0   \n",
       "3                                0.0                     0.0   \n",
       "4                                0.0                     0.0   \n",
       "\n",
       "   ContainmentHealthIndexForDisplay  EconomicSupportIndex  \\\n",
       "0                               0.0                   0.0   \n",
       "1                               0.0                   0.0   \n",
       "2                               0.0                   0.0   \n",
       "3                               0.0                   0.0   \n",
       "4                               0.0                   0.0   \n",
       "\n",
       "   EconomicSupportIndexForDisplay  \n",
       "0                             0.0  \n",
       "1                             0.0  \n",
       "2                             0.0  \n",
       "3                             0.0  \n",
       "4                             0.0  \n",
       "\n",
       "[5 rows x 44 columns]"
      ]
     },
     "execution_count": 13,
     "metadata": {},
     "output_type": "execute_result"
    }
   ],
   "source": [
    "gr_df.head()"
   ]
  },
  {
   "cell_type": "code",
   "execution_count": 14,
   "metadata": {},
   "outputs": [],
   "source": [
    "to_remove = [col for col in gr_df if re.search(\"_Flag\",col) != None]"
   ]
  },
  {
   "cell_type": "code",
   "execution_count": 15,
   "metadata": {},
   "outputs": [],
   "source": [
    "gr_df = gr_df.drop(columns=to_remove)"
   ]
  },
  {
   "cell_type": "code",
   "execution_count": 16,
   "metadata": {},
   "outputs": [
    {
     "data": {
      "text/plain": [
       "CountryName                                  0\n",
       "CountryCode                                  0\n",
       "RegionName                               45140\n",
       "RegionCode                               45140\n",
       "Date                                         0\n",
       "C1_School closing                         1763\n",
       "C2_Workplace closing                      1887\n",
       "C3_Cancel public events                   1820\n",
       "C4_Restrictions on gatherings             1853\n",
       "C5_Close public transport                 1695\n",
       "C6_Stay at home requirements              1853\n",
       "C7_Restrictions on internal movement      1741\n",
       "C8_International travel controls          1841\n",
       "E1_Income support                         2793\n",
       "E2_Debt/contract relief                   3222\n",
       "E3_Fiscal measures                       12399\n",
       "E4_International support                 12205\n",
       "H1_Public information campaigns           2299\n",
       "H2_Testing policy                         2643\n",
       "H3_Contact tracing                        2671\n",
       "H4_Emergency investment in healthcare    12890\n",
       "H5_Investment in vaccines                12487\n",
       "M1_Wildcard                              58804\n",
       "ConfirmedCases                           12617\n",
       "ConfirmedDeaths                          12617\n",
       "StringencyIndex                           1956\n",
       "StringencyIndexForDisplay                 1102\n",
       "StringencyLegacyIndex                     1916\n",
       "StringencyLegacyIndexForDisplay           1062\n",
       "GovernmentResponseIndex                   2932\n",
       "GovernmentResponseIndexForDisplay         2079\n",
       "ContainmentHealthIndex                    2695\n",
       "ContainmentHealthIndexForDisplay          1842\n",
       "EconomicSupportIndex                      3334\n",
       "EconomicSupportIndexForDisplay            2529\n",
       "dtype: int64"
      ]
     },
     "execution_count": 16,
     "metadata": {},
     "output_type": "execute_result"
    }
   ],
   "source": [
    "gr_df.isnull().sum()"
   ]
  },
  {
   "cell_type": "code",
   "execution_count": 17,
   "metadata": {},
   "outputs": [],
   "source": [
    "gr_df[\"RegionName\"] = gr_df[\"RegionName\"].astype(str)"
   ]
  },
  {
   "cell_type": "code",
   "execution_count": 18,
   "metadata": {},
   "outputs": [],
   "source": [
    "boolean = [v == 'nan' for v in gr_df[\"RegionName\"]]"
   ]
  },
  {
   "cell_type": "code",
   "execution_count": 19,
   "metadata": {},
   "outputs": [],
   "source": [
    "gr_df = gr_df[boolean].copy()"
   ]
  },
  {
   "cell_type": "code",
   "execution_count": 20,
   "metadata": {},
   "outputs": [
    {
     "data": {
      "text/plain": [
       "'Canada'"
      ]
     },
     "execution_count": 20,
     "metadata": {},
     "output_type": "execute_result"
    }
   ],
   "source": [
    "# Get iso_code, country name dictionary\n",
    "\n",
    "iso_codes = gr_df[\"CountryCode\"].unique()\n",
    "country_names = {code:gr_df[gr_df[\"CountryCode\"] == code].CountryName.unique()[0] for code in iso_codes}\n",
    "country_names[\"CAN\"]"
   ]
  },
  {
   "cell_type": "code",
   "execution_count": 35,
   "metadata": {},
   "outputs": [
    {
     "data": {
      "text/html": [
       "<div>\n",
       "<style scoped>\n",
       "    .dataframe tbody tr th:only-of-type {\n",
       "        vertical-align: middle;\n",
       "    }\n",
       "\n",
       "    .dataframe tbody tr th {\n",
       "        vertical-align: top;\n",
       "    }\n",
       "\n",
       "    .dataframe thead th {\n",
       "        text-align: right;\n",
       "    }\n",
       "</style>\n",
       "<table border=\"1\" class=\"dataframe\">\n",
       "  <thead>\n",
       "    <tr style=\"text-align: right;\">\n",
       "      <th></th>\n",
       "      <th>CountryCode</th>\n",
       "      <th>Date</th>\n",
       "      <th>C1_School closing</th>\n",
       "      <th>C2_Workplace closing</th>\n",
       "      <th>C3_Cancel public events</th>\n",
       "      <th>C4_Restrictions on gatherings</th>\n",
       "      <th>C5_Close public transport</th>\n",
       "      <th>C6_Stay at home requirements</th>\n",
       "      <th>C7_Restrictions on internal movement</th>\n",
       "      <th>C8_International travel controls</th>\n",
       "      <th>E1_Income support</th>\n",
       "    </tr>\n",
       "  </thead>\n",
       "  <tbody>\n",
       "    <tr>\n",
       "      <th>0</th>\n",
       "      <td>ABW</td>\n",
       "      <td>20200101</td>\n",
       "      <td>0.0</td>\n",
       "      <td>0.0</td>\n",
       "      <td>0.0</td>\n",
       "      <td>0.0</td>\n",
       "      <td>0.0</td>\n",
       "      <td>0.0</td>\n",
       "      <td>0.0</td>\n",
       "      <td>0.0</td>\n",
       "      <td>0.0</td>\n",
       "    </tr>\n",
       "    <tr>\n",
       "      <th>1</th>\n",
       "      <td>ABW</td>\n",
       "      <td>20200102</td>\n",
       "      <td>0.0</td>\n",
       "      <td>0.0</td>\n",
       "      <td>0.0</td>\n",
       "      <td>0.0</td>\n",
       "      <td>0.0</td>\n",
       "      <td>0.0</td>\n",
       "      <td>0.0</td>\n",
       "      <td>0.0</td>\n",
       "      <td>0.0</td>\n",
       "    </tr>\n",
       "    <tr>\n",
       "      <th>2</th>\n",
       "      <td>ABW</td>\n",
       "      <td>20200103</td>\n",
       "      <td>0.0</td>\n",
       "      <td>0.0</td>\n",
       "      <td>0.0</td>\n",
       "      <td>0.0</td>\n",
       "      <td>0.0</td>\n",
       "      <td>0.0</td>\n",
       "      <td>0.0</td>\n",
       "      <td>0.0</td>\n",
       "      <td>0.0</td>\n",
       "    </tr>\n",
       "    <tr>\n",
       "      <th>3</th>\n",
       "      <td>ABW</td>\n",
       "      <td>20200104</td>\n",
       "      <td>0.0</td>\n",
       "      <td>0.0</td>\n",
       "      <td>0.0</td>\n",
       "      <td>0.0</td>\n",
       "      <td>0.0</td>\n",
       "      <td>0.0</td>\n",
       "      <td>0.0</td>\n",
       "      <td>0.0</td>\n",
       "      <td>0.0</td>\n",
       "    </tr>\n",
       "    <tr>\n",
       "      <th>4</th>\n",
       "      <td>ABW</td>\n",
       "      <td>20200105</td>\n",
       "      <td>0.0</td>\n",
       "      <td>0.0</td>\n",
       "      <td>0.0</td>\n",
       "      <td>0.0</td>\n",
       "      <td>0.0</td>\n",
       "      <td>0.0</td>\n",
       "      <td>0.0</td>\n",
       "      <td>0.0</td>\n",
       "      <td>0.0</td>\n",
       "    </tr>\n",
       "    <tr>\n",
       "      <th>...</th>\n",
       "      <td>...</td>\n",
       "      <td>...</td>\n",
       "      <td>...</td>\n",
       "      <td>...</td>\n",
       "      <td>...</td>\n",
       "      <td>...</td>\n",
       "      <td>...</td>\n",
       "      <td>...</td>\n",
       "      <td>...</td>\n",
       "      <td>...</td>\n",
       "      <td>...</td>\n",
       "    </tr>\n",
       "    <tr>\n",
       "      <th>58799</th>\n",
       "      <td>ZWE</td>\n",
       "      <td>20200827</td>\n",
       "      <td>NaN</td>\n",
       "      <td>NaN</td>\n",
       "      <td>NaN</td>\n",
       "      <td>NaN</td>\n",
       "      <td>NaN</td>\n",
       "      <td>NaN</td>\n",
       "      <td>NaN</td>\n",
       "      <td>NaN</td>\n",
       "      <td>NaN</td>\n",
       "    </tr>\n",
       "    <tr>\n",
       "      <th>58800</th>\n",
       "      <td>ZWE</td>\n",
       "      <td>20200828</td>\n",
       "      <td>NaN</td>\n",
       "      <td>NaN</td>\n",
       "      <td>NaN</td>\n",
       "      <td>NaN</td>\n",
       "      <td>NaN</td>\n",
       "      <td>NaN</td>\n",
       "      <td>NaN</td>\n",
       "      <td>NaN</td>\n",
       "      <td>NaN</td>\n",
       "    </tr>\n",
       "    <tr>\n",
       "      <th>58801</th>\n",
       "      <td>ZWE</td>\n",
       "      <td>20200829</td>\n",
       "      <td>NaN</td>\n",
       "      <td>NaN</td>\n",
       "      <td>NaN</td>\n",
       "      <td>NaN</td>\n",
       "      <td>NaN</td>\n",
       "      <td>NaN</td>\n",
       "      <td>NaN</td>\n",
       "      <td>NaN</td>\n",
       "      <td>NaN</td>\n",
       "    </tr>\n",
       "    <tr>\n",
       "      <th>58802</th>\n",
       "      <td>ZWE</td>\n",
       "      <td>20200830</td>\n",
       "      <td>NaN</td>\n",
       "      <td>NaN</td>\n",
       "      <td>NaN</td>\n",
       "      <td>NaN</td>\n",
       "      <td>NaN</td>\n",
       "      <td>NaN</td>\n",
       "      <td>NaN</td>\n",
       "      <td>NaN</td>\n",
       "      <td>NaN</td>\n",
       "    </tr>\n",
       "    <tr>\n",
       "      <th>58803</th>\n",
       "      <td>ZWE</td>\n",
       "      <td>20200831</td>\n",
       "      <td>NaN</td>\n",
       "      <td>NaN</td>\n",
       "      <td>NaN</td>\n",
       "      <td>NaN</td>\n",
       "      <td>NaN</td>\n",
       "      <td>NaN</td>\n",
       "      <td>NaN</td>\n",
       "      <td>NaN</td>\n",
       "      <td>NaN</td>\n",
       "    </tr>\n",
       "  </tbody>\n",
       "</table>\n",
       "<p>45140 rows × 11 columns</p>\n",
       "</div>"
      ],
      "text/plain": [
       "      CountryCode      Date  C1_School closing  C2_Workplace closing  \\\n",
       "0             ABW  20200101                0.0                   0.0   \n",
       "1             ABW  20200102                0.0                   0.0   \n",
       "2             ABW  20200103                0.0                   0.0   \n",
       "3             ABW  20200104                0.0                   0.0   \n",
       "4             ABW  20200105                0.0                   0.0   \n",
       "...           ...       ...                ...                   ...   \n",
       "58799         ZWE  20200827                NaN                   NaN   \n",
       "58800         ZWE  20200828                NaN                   NaN   \n",
       "58801         ZWE  20200829                NaN                   NaN   \n",
       "58802         ZWE  20200830                NaN                   NaN   \n",
       "58803         ZWE  20200831                NaN                   NaN   \n",
       "\n",
       "       C3_Cancel public events  C4_Restrictions on gatherings  \\\n",
       "0                          0.0                            0.0   \n",
       "1                          0.0                            0.0   \n",
       "2                          0.0                            0.0   \n",
       "3                          0.0                            0.0   \n",
       "4                          0.0                            0.0   \n",
       "...                        ...                            ...   \n",
       "58799                      NaN                            NaN   \n",
       "58800                      NaN                            NaN   \n",
       "58801                      NaN                            NaN   \n",
       "58802                      NaN                            NaN   \n",
       "58803                      NaN                            NaN   \n",
       "\n",
       "       C5_Close public transport  C6_Stay at home requirements  \\\n",
       "0                            0.0                           0.0   \n",
       "1                            0.0                           0.0   \n",
       "2                            0.0                           0.0   \n",
       "3                            0.0                           0.0   \n",
       "4                            0.0                           0.0   \n",
       "...                          ...                           ...   \n",
       "58799                        NaN                           NaN   \n",
       "58800                        NaN                           NaN   \n",
       "58801                        NaN                           NaN   \n",
       "58802                        NaN                           NaN   \n",
       "58803                        NaN                           NaN   \n",
       "\n",
       "       C7_Restrictions on internal movement  C8_International travel controls  \\\n",
       "0                                       0.0                               0.0   \n",
       "1                                       0.0                               0.0   \n",
       "2                                       0.0                               0.0   \n",
       "3                                       0.0                               0.0   \n",
       "4                                       0.0                               0.0   \n",
       "...                                     ...                               ...   \n",
       "58799                                   NaN                               NaN   \n",
       "58800                                   NaN                               NaN   \n",
       "58801                                   NaN                               NaN   \n",
       "58802                                   NaN                               NaN   \n",
       "58803                                   NaN                               NaN   \n",
       "\n",
       "       E1_Income support  \n",
       "0                    0.0  \n",
       "1                    0.0  \n",
       "2                    0.0  \n",
       "3                    0.0  \n",
       "4                    0.0  \n",
       "...                  ...  \n",
       "58799                NaN  \n",
       "58800                NaN  \n",
       "58801                NaN  \n",
       "58802                NaN  \n",
       "58803                NaN  \n",
       "\n",
       "[45140 rows x 11 columns]"
      ]
     },
     "execution_count": 35,
     "metadata": {},
     "output_type": "execute_result"
    }
   ],
   "source": [
    "to_keep = [c for c in gr_df if (re.search('^(C\\d|E1)',c) != None) | (c in [\"Date\",\"CountryCode\"]) ]\n",
    "\n",
    "gr_df = gr_df[to_keep]\n",
    "\n",
    "gr_df"
   ]
  },
  {
   "cell_type": "code",
   "execution_count": 36,
   "metadata": {},
   "outputs": [],
   "source": [
    "def get_col_index(df, col):\n",
    "    for i,c in enumerate(df.columns):\n",
    "        if col == c:\n",
    "            return i\n",
    "    return -1"
   ]
  },
  {
   "cell_type": "code",
   "execution_count": 37,
   "metadata": {},
   "outputs": [
    {
     "name": "stderr",
     "output_type": "stream",
     "text": [
      "/home/sami/anaconda3/envs/mlenv2/lib/python3.7/site-packages/ipykernel_launcher.py:12: SettingWithCopyWarning: \n",
      "A value is trying to be set on a copy of a slice from a DataFrame\n",
      "\n",
      "See the caveats in the documentation: https://pandas.pydata.org/pandas-docs/stable/user_guide/indexing.html#returning-a-view-versus-a-copy\n",
      "  if sys.path[0] == '':\n"
     ]
    }
   ],
   "source": [
    "columns = [c for c in gr_df if (re.search('^(C\\d|[EH]1)',c) != None) ]  #C1_ , C2_ , ...., E1, ... H1\n",
    "col_indices = {c:get_col_index(gr_df,c) for c in gr_df}\n",
    "\n",
    "iso_dfs = []\n",
    "\n",
    "for code in iso_codes:\n",
    "    iso_df = gr_df[gr_df[\"CountryCode\"] == code].copy()\n",
    "    for col in columns:\n",
    "        col_index = col_indices[col]\n",
    "        \n",
    "        if np.isnan(iso_df.iloc[0][col_index]):\n",
    "            iso_df.iloc[0][col_index] = 0\n",
    "        \n",
    "    iso_df.fillna(method=\"ffill\",inplace=True) \n",
    "    \n",
    "    iso_dfs.append(iso_df)\n",
    "    \n",
    "cleaned_df = pd.DataFrame()\n",
    "\n",
    "for iso_df in iso_dfs:\n",
    "    cleaned_df = cleaned_df.append(iso_df)"
   ]
  },
  {
   "cell_type": "code",
   "execution_count": 38,
   "metadata": {},
   "outputs": [
    {
     "data": {
      "text/plain": [
       "['C1_School closing',\n",
       " 'C2_Workplace closing',\n",
       " 'C3_Cancel public events',\n",
       " 'C4_Restrictions on gatherings',\n",
       " 'C5_Close public transport',\n",
       " 'C6_Stay at home requirements',\n",
       " 'C7_Restrictions on internal movement',\n",
       " 'C8_International travel controls',\n",
       " 'E1_Income support']"
      ]
     },
     "execution_count": 38,
     "metadata": {},
     "output_type": "execute_result"
    }
   ],
   "source": [
    "columns"
   ]
  },
  {
   "cell_type": "code",
   "execution_count": 39,
   "metadata": {
    "scrolled": true
   },
   "outputs": [
    {
     "data": {
      "text/plain": [
       "0.0    23752\n",
       "1.0    12258\n",
       "2.0     8112\n",
       "Name: E1_Income support, dtype: int64"
      ]
     },
     "execution_count": 39,
     "metadata": {},
     "output_type": "execute_result"
    }
   ],
   "source": [
    "cleaned_df[\"E1_Income support\"].value_counts()"
   ]
  },
  {
   "cell_type": "code",
   "execution_count": 40,
   "metadata": {},
   "outputs": [
    {
     "data": {
      "text/plain": [
       "CountryCode                                0\n",
       "Date                                       0\n",
       "C1_School closing                          0\n",
       "C2_Workplace closing                       0\n",
       "C3_Cancel public events                    0\n",
       "C4_Restrictions on gatherings              0\n",
       "C5_Close public transport                  0\n",
       "C6_Stay at home requirements               0\n",
       "C7_Restrictions on internal movement       0\n",
       "C8_International travel controls           0\n",
       "E1_Income support                       1018\n",
       "dtype: int64"
      ]
     },
     "execution_count": 40,
     "metadata": {},
     "output_type": "execute_result"
    }
   ],
   "source": [
    "cleaned_df.isnull().sum()"
   ]
  },
  {
   "cell_type": "code",
   "execution_count": 41,
   "metadata": {},
   "outputs": [],
   "source": [
    "nulls = cleaned_df[np.isnan(cleaned_df[\"E1_Income support\"])][\"CountryCode\"].unique()"
   ]
  },
  {
   "cell_type": "code",
   "execution_count": 42,
   "metadata": {},
   "outputs": [],
   "source": [
    "null_codes = list(nulls)"
   ]
  },
  {
   "cell_type": "code",
   "execution_count": 43,
   "metadata": {},
   "outputs": [
    {
     "data": {
      "text/plain": [
       "['Cayman Islands',\n",
       " 'Falkland Islands',\n",
       " 'Gibraltar',\n",
       " 'Montserrat',\n",
       " 'Pitcairn Islands',\n",
       " 'Turks and Caicos Islands',\n",
       " 'British Virgin Islands']"
      ]
     },
     "execution_count": 43,
     "metadata": {},
     "output_type": "execute_result"
    }
   ],
   "source": [
    "[country_names[code] for code in null_codes]"
   ]
  },
  {
   "cell_type": "code",
   "execution_count": 44,
   "metadata": {},
   "outputs": [
    {
     "data": {
      "text/plain": [
       "CountryCode                             0\n",
       "Date                                    0\n",
       "C1_School closing                       0\n",
       "C2_Workplace closing                    0\n",
       "C3_Cancel public events                 0\n",
       "C4_Restrictions on gatherings           0\n",
       "C5_Close public transport               0\n",
       "C6_Stay at home requirements            0\n",
       "C7_Restrictions on internal movement    0\n",
       "C8_International travel controls        0\n",
       "E1_Income support                       0\n",
       "dtype: int64"
      ]
     },
     "execution_count": 44,
     "metadata": {},
     "output_type": "execute_result"
    }
   ],
   "source": [
    "drop_index = cleaned_df[cleaned_df[\"CountryCode\"].isin(null_codes)].index\n",
    "cleaned_df = cleaned_df.drop(drop_index, axis=0)\n",
    "cleaned_df.isnull().sum()"
   ]
  },
  {
   "cell_type": "code",
   "execution_count": 45,
   "metadata": {},
   "outputs": [
    {
     "data": {
      "text/plain": [
       "Index(['CountryCode', 'Date', 'C1_School closing', 'C2_Workplace closing',\n",
       "       'C3_Cancel public events', 'C4_Restrictions on gatherings',\n",
       "       'C5_Close public transport', 'C6_Stay at home requirements',\n",
       "       'C7_Restrictions on internal movement',\n",
       "       'C8_International travel controls', 'E1_Income support'],\n",
       "      dtype='object')"
      ]
     },
     "execution_count": 45,
     "metadata": {},
     "output_type": "execute_result"
    }
   ],
   "source": [
    "cleaned_df.columns"
   ]
  },
  {
   "cell_type": "code",
   "execution_count": 46,
   "metadata": {},
   "outputs": [],
   "source": [
    "cleaned_df.rename(columns={\"CountryCode\":\"iso_code\",\"Date\":\"date\"},inplace=True)"
   ]
  },
  {
   "cell_type": "code",
   "execution_count": 47,
   "metadata": {},
   "outputs": [],
   "source": [
    "cleaned_df.to_csv(\"Resources/raw/OxCGRT_latest(Aug31,2020)-cleaned.csv\")"
   ]
  }
 ],
 "metadata": {
  "kernelspec": {
   "display_name": "mlenv2",
   "language": "python",
   "name": "mlenv2"
  },
  "language_info": {
   "codemirror_mode": {
    "name": "ipython",
    "version": 3
   },
   "file_extension": ".py",
   "mimetype": "text/x-python",
   "name": "python",
   "nbconvert_exporter": "python",
   "pygments_lexer": "ipython3",
   "version": "3.7.7"
  }
 },
 "nbformat": 4,
 "nbformat_minor": 4
}
