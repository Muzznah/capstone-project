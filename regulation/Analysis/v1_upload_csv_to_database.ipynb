{
 "cells": [
  {
   "cell_type": "markdown",
   "metadata": {},
   "source": [
    "https://github.com/jupyter/notebook/issues/2287\n",
    "\n",
    "incase you run into an issue with running the code due to exceeding run rate (?)"
   ]
  },
  {
   "cell_type": "code",
   "execution_count": 25,
   "metadata": {},
   "outputs": [],
   "source": [
    "# imports for database connection\n",
    "import pandas as pd\n",
    "import sqlalchemy\n",
    "from sqlalchemy.ext.automap import automap_base\n",
    "from sqlalchemy import create_engine, func\n",
    "\n",
    "# import these to view table column headers & rows\n",
    "from sqlalchemy.orm import sessionmaker\n",
    "from sqlalchemy import select"
   ]
  },
  {
   "cell_type": "code",
   "execution_count": 26,
   "metadata": {},
   "outputs": [],
   "source": [
    "engine = create_engine(\"sqlite:///../Resources/covid_db.db\")"
   ]
  },
  {
   "cell_type": "code",
   "execution_count": 27,
   "metadata": {},
   "outputs": [],
   "source": [
    "# reflect an existing database into a new model (creates base class for automap schema)\n",
    "Base = automap_base()"
   ]
  },
  {
   "cell_type": "code",
   "execution_count": 28,
   "metadata": {},
   "outputs": [],
   "source": [
    "# reflect the tables\n",
    "Base.prepare(engine, reflect=True)"
   ]
  },
  {
   "cell_type": "code",
   "execution_count": 29,
   "metadata": {},
   "outputs": [
    {
     "output_type": "execute_result",
     "data": {
      "text/plain": "['covid_stats', 'government_regulation']"
     },
     "metadata": {},
     "execution_count": 29
    }
   ],
   "source": [
    "Base.classes.keys()"
   ]
  },
  {
   "cell_type": "code",
   "execution_count": 30,
   "metadata": {},
   "outputs": [],
   "source": [
    "# save references to each table\n",
    "covid_stats = Base.classes.covid_stats\n",
    "government_regulation = Base.classes.government_regulation"
   ]
  },
  {
   "cell_type": "code",
   "execution_count": 31,
   "metadata": {},
   "outputs": [],
   "source": [
    "# Create session (link) from Python to the database\n",
    "session = sessionmaker(bind=engine)()\n",
    "\n",
    "# View table column headers & rows - covid_stats\n",
    "covid_stats_table = select('*').select_from(covid_stats)\n",
    "covid_stats_result = session.execute(covid_stats_table).fetchall()\n",
    "# print(covid_stats.__table__.columns.keys())\n",
    "# print(covid_stats_result)"
   ]
  },
  {
   "cell_type": "code",
   "execution_count": 32,
   "metadata": {},
   "outputs": [],
   "source": [
    "# Create session (link) from Python to the database\n",
    "###### session = sessionmaker(bind=engine)()\n",
    "\n",
    "# View table column headers & rows - government_regulation\n",
    "government_regulation_table = select('*').select_from(government_regulation)\n",
    "government_regulation_result = session.execute(government_regulation_table).fetchall()\n",
    "# print(government_regulation.__table__.columns.keys())\n",
    "# print(government_regulation_result)"
   ]
  },
  {
   "cell_type": "code",
   "execution_count": 33,
   "metadata": {},
   "outputs": [],
   "source": [
    "# perform a query to retrieve the data\n",
    "results = session.query(covid_stats.primary_key_reaction,covid_stats.date_updated,covid_stats.iso_code,covid_stats.continent,covid_stats.location,covid_stats.population,covid_stats.population_density,covid_stats.median_age,covid_stats.new_cases,covid_stats.percentage_of_Pop_New_Cases,covid_stats.new_deaths,covid_stats.percentage_of_Pop_New_Deaths,covid_stats.new_tests,covid_stats.percentage_of_Pop_New_Tests,covid_stats.total_cases_updated,covid_stats.percentage_of_Pop_Total_Cases,covid_stats.total_deaths_updated,covid_stats.percentage_of_Pop_Total_Deaths,covid_stats.total_tests_updated,covid_stats.percentage_of_Pop_Total_Tests).all()\n",
    "\n",
    "# save the query results as a Pandas DataFrame and set the index\n",
    "covid_stats = pd.DataFrame(results, columns=['primary_key_reaction', 'date_updated', 'iso_code', 'continent', 'location', 'population', 'population_density', 'median_age', 'new_cases', 'percentage_of_Pop_New_Cases', 'new_deaths', 'percentage_of_Pop_New_Deaths', 'new_tests', 'percentage_of_Pop_New_Tests', 'total_cases_updated', 'percentage_of_Pop_Total_Cases', 'total_deaths_updated', 'percentage_of_Pop_Total_Deaths', 'total_tests_updated', 'percentage_of_Pop_Total_Tests'])"
   ]
  },
  {
   "cell_type": "code",
   "execution_count": 34,
   "metadata": {},
   "outputs": [
    {
     "output_type": "execute_result",
     "data": {
      "text/plain": "      primary_key_reaction date_updated iso_code      continent  location  \\\n0            ABW2020-03-13   2020-03-13      ABW  North America     Aruba   \n1            ABW2020-03-19   2020-03-19      ABW  North America     Aruba   \n2            ABW2020-03-20   2020-03-20      ABW  North America     Aruba   \n3            ABW2020-03-21   2020-03-21      ABW  North America     Aruba   \n4            ABW2020-03-22   2020-03-22      ABW  North America     Aruba   \n...                    ...          ...      ...            ...       ...   \n34859        ZWE2020-08-27   2020-08-27      ZWE         Africa  Zimbabwe   \n34860        ZWE2020-08-28   2020-08-28      ZWE         Africa  Zimbabwe   \n34861        ZWE2020-08-29   2020-08-29      ZWE         Africa  Zimbabwe   \n34862        ZWE2020-08-30   2020-08-30      ZWE         Africa  Zimbabwe   \n34863        ZWE2020-08-31   2020-08-31      ZWE         Africa  Zimbabwe   \n\n      population population_density median_age new_cases  \\\n0         106766              584.8       41.2         2   \n1         106766              584.8       41.2         0   \n2         106766              584.8       41.2         2   \n3         106766              584.8       41.2         0   \n4         106766              584.8       41.2         0   \n...          ...                ...        ...       ...   \n34859   14862927             42.729       19.6        55   \n34860   14862927             42.729       19.6        41   \n34861   14862927             42.729       19.6        96   \n34862   14862927             42.729       19.6        18   \n34863   14862927             42.729       19.6         6   \n\n      percentage_of_Pop_New_Cases new_deaths percentage_of_Pop_New_Deaths  \\\n0                     0.001873256          0                            0   \n1                               0          0                            0   \n2                     0.001873256          0                            0   \n3                               0          0                            0   \n4                               0          0                            0   \n...                           ...        ...                          ...   \n34859                 0.000370048         13                     8.75E-07   \n34860                 0.000275854         10                     6.73E-07   \n34861                 0.000645902          6                     4.04E-07   \n34862                 0.000121107          1                     6.73E-08   \n34863                    4.04E-05          0                            0   \n\n      new_tests percentage_of_Pop_New_Tests total_cases_updated  \\\n0             0                           0                   2   \n1             0                           0                   2   \n2             0                           0                   4   \n3             0                           0                   4   \n4             0                           0                   4   \n...         ...                         ...                 ...   \n34859       951                 0.006398471                6251   \n34860      1551                  0.01043536                6292   \n34861         0                           0                6388   \n34862         0                           0                6406   \n34863         0                           0                6412   \n\n      percentage_of_Pop_Total_Cases total_deaths_updated  \\\n0                       0.001873256                    0   \n1                       0.001873256                    0   \n2                       0.003746511                    0   \n3                       0.003746511                    0   \n4                       0.003746511                    0   \n...                             ...                  ...   \n34859                   0.042057665                  179   \n34860                   0.042333519                  189   \n34861                   0.042979421                  195   \n34862                   0.043100528                  196   \n34863                   0.043140897                  196   \n\n      percentage_of_Pop_Total_Deaths total_tests_updated  \\\n0                                  0                   0   \n1                                  0                   0   \n2                                  0                   0   \n3                                  0                   0   \n4                                  0                   0   \n...                              ...                 ...   \n34859                    0.001204339               95721   \n34860                     0.00127162               97272   \n34861                    0.001311989               97272   \n34862                    0.001318717               97272   \n34863                    0.001318717               97272   \n\n      percentage_of_Pop_Total_Tests  \n0                                 0  \n1                                 0  \n2                                 0  \n3                                 0  \n4                                 0  \n...                             ...  \n34859                   0.644025231  \n34860                   0.654460592  \n34861                   0.654460592  \n34862                   0.654460592  \n34863                   0.654460592  \n\n[34864 rows x 20 columns]",
      "text/html": "<div>\n<style scoped>\n    .dataframe tbody tr th:only-of-type {\n        vertical-align: middle;\n    }\n\n    .dataframe tbody tr th {\n        vertical-align: top;\n    }\n\n    .dataframe thead th {\n        text-align: right;\n    }\n</style>\n<table border=\"1\" class=\"dataframe\">\n  <thead>\n    <tr style=\"text-align: right;\">\n      <th></th>\n      <th>primary_key_reaction</th>\n      <th>date_updated</th>\n      <th>iso_code</th>\n      <th>continent</th>\n      <th>location</th>\n      <th>population</th>\n      <th>population_density</th>\n      <th>median_age</th>\n      <th>new_cases</th>\n      <th>percentage_of_Pop_New_Cases</th>\n      <th>new_deaths</th>\n      <th>percentage_of_Pop_New_Deaths</th>\n      <th>new_tests</th>\n      <th>percentage_of_Pop_New_Tests</th>\n      <th>total_cases_updated</th>\n      <th>percentage_of_Pop_Total_Cases</th>\n      <th>total_deaths_updated</th>\n      <th>percentage_of_Pop_Total_Deaths</th>\n      <th>total_tests_updated</th>\n      <th>percentage_of_Pop_Total_Tests</th>\n    </tr>\n  </thead>\n  <tbody>\n    <tr>\n      <th>0</th>\n      <td>ABW2020-03-13</td>\n      <td>2020-03-13</td>\n      <td>ABW</td>\n      <td>North America</td>\n      <td>Aruba</td>\n      <td>106766</td>\n      <td>584.8</td>\n      <td>41.2</td>\n      <td>2</td>\n      <td>0.001873256</td>\n      <td>0</td>\n      <td>0</td>\n      <td>0</td>\n      <td>0</td>\n      <td>2</td>\n      <td>0.001873256</td>\n      <td>0</td>\n      <td>0</td>\n      <td>0</td>\n      <td>0</td>\n    </tr>\n    <tr>\n      <th>1</th>\n      <td>ABW2020-03-19</td>\n      <td>2020-03-19</td>\n      <td>ABW</td>\n      <td>North America</td>\n      <td>Aruba</td>\n      <td>106766</td>\n      <td>584.8</td>\n      <td>41.2</td>\n      <td>0</td>\n      <td>0</td>\n      <td>0</td>\n      <td>0</td>\n      <td>0</td>\n      <td>0</td>\n      <td>2</td>\n      <td>0.001873256</td>\n      <td>0</td>\n      <td>0</td>\n      <td>0</td>\n      <td>0</td>\n    </tr>\n    <tr>\n      <th>2</th>\n      <td>ABW2020-03-20</td>\n      <td>2020-03-20</td>\n      <td>ABW</td>\n      <td>North America</td>\n      <td>Aruba</td>\n      <td>106766</td>\n      <td>584.8</td>\n      <td>41.2</td>\n      <td>2</td>\n      <td>0.001873256</td>\n      <td>0</td>\n      <td>0</td>\n      <td>0</td>\n      <td>0</td>\n      <td>4</td>\n      <td>0.003746511</td>\n      <td>0</td>\n      <td>0</td>\n      <td>0</td>\n      <td>0</td>\n    </tr>\n    <tr>\n      <th>3</th>\n      <td>ABW2020-03-21</td>\n      <td>2020-03-21</td>\n      <td>ABW</td>\n      <td>North America</td>\n      <td>Aruba</td>\n      <td>106766</td>\n      <td>584.8</td>\n      <td>41.2</td>\n      <td>0</td>\n      <td>0</td>\n      <td>0</td>\n      <td>0</td>\n      <td>0</td>\n      <td>0</td>\n      <td>4</td>\n      <td>0.003746511</td>\n      <td>0</td>\n      <td>0</td>\n      <td>0</td>\n      <td>0</td>\n    </tr>\n    <tr>\n      <th>4</th>\n      <td>ABW2020-03-22</td>\n      <td>2020-03-22</td>\n      <td>ABW</td>\n      <td>North America</td>\n      <td>Aruba</td>\n      <td>106766</td>\n      <td>584.8</td>\n      <td>41.2</td>\n      <td>0</td>\n      <td>0</td>\n      <td>0</td>\n      <td>0</td>\n      <td>0</td>\n      <td>0</td>\n      <td>4</td>\n      <td>0.003746511</td>\n      <td>0</td>\n      <td>0</td>\n      <td>0</td>\n      <td>0</td>\n    </tr>\n    <tr>\n      <th>...</th>\n      <td>...</td>\n      <td>...</td>\n      <td>...</td>\n      <td>...</td>\n      <td>...</td>\n      <td>...</td>\n      <td>...</td>\n      <td>...</td>\n      <td>...</td>\n      <td>...</td>\n      <td>...</td>\n      <td>...</td>\n      <td>...</td>\n      <td>...</td>\n      <td>...</td>\n      <td>...</td>\n      <td>...</td>\n      <td>...</td>\n      <td>...</td>\n      <td>...</td>\n    </tr>\n    <tr>\n      <th>34859</th>\n      <td>ZWE2020-08-27</td>\n      <td>2020-08-27</td>\n      <td>ZWE</td>\n      <td>Africa</td>\n      <td>Zimbabwe</td>\n      <td>14862927</td>\n      <td>42.729</td>\n      <td>19.6</td>\n      <td>55</td>\n      <td>0.000370048</td>\n      <td>13</td>\n      <td>8.75E-07</td>\n      <td>951</td>\n      <td>0.006398471</td>\n      <td>6251</td>\n      <td>0.042057665</td>\n      <td>179</td>\n      <td>0.001204339</td>\n      <td>95721</td>\n      <td>0.644025231</td>\n    </tr>\n    <tr>\n      <th>34860</th>\n      <td>ZWE2020-08-28</td>\n      <td>2020-08-28</td>\n      <td>ZWE</td>\n      <td>Africa</td>\n      <td>Zimbabwe</td>\n      <td>14862927</td>\n      <td>42.729</td>\n      <td>19.6</td>\n      <td>41</td>\n      <td>0.000275854</td>\n      <td>10</td>\n      <td>6.73E-07</td>\n      <td>1551</td>\n      <td>0.01043536</td>\n      <td>6292</td>\n      <td>0.042333519</td>\n      <td>189</td>\n      <td>0.00127162</td>\n      <td>97272</td>\n      <td>0.654460592</td>\n    </tr>\n    <tr>\n      <th>34861</th>\n      <td>ZWE2020-08-29</td>\n      <td>2020-08-29</td>\n      <td>ZWE</td>\n      <td>Africa</td>\n      <td>Zimbabwe</td>\n      <td>14862927</td>\n      <td>42.729</td>\n      <td>19.6</td>\n      <td>96</td>\n      <td>0.000645902</td>\n      <td>6</td>\n      <td>4.04E-07</td>\n      <td>0</td>\n      <td>0</td>\n      <td>6388</td>\n      <td>0.042979421</td>\n      <td>195</td>\n      <td>0.001311989</td>\n      <td>97272</td>\n      <td>0.654460592</td>\n    </tr>\n    <tr>\n      <th>34862</th>\n      <td>ZWE2020-08-30</td>\n      <td>2020-08-30</td>\n      <td>ZWE</td>\n      <td>Africa</td>\n      <td>Zimbabwe</td>\n      <td>14862927</td>\n      <td>42.729</td>\n      <td>19.6</td>\n      <td>18</td>\n      <td>0.000121107</td>\n      <td>1</td>\n      <td>6.73E-08</td>\n      <td>0</td>\n      <td>0</td>\n      <td>6406</td>\n      <td>0.043100528</td>\n      <td>196</td>\n      <td>0.001318717</td>\n      <td>97272</td>\n      <td>0.654460592</td>\n    </tr>\n    <tr>\n      <th>34863</th>\n      <td>ZWE2020-08-31</td>\n      <td>2020-08-31</td>\n      <td>ZWE</td>\n      <td>Africa</td>\n      <td>Zimbabwe</td>\n      <td>14862927</td>\n      <td>42.729</td>\n      <td>19.6</td>\n      <td>6</td>\n      <td>4.04E-05</td>\n      <td>0</td>\n      <td>0</td>\n      <td>0</td>\n      <td>0</td>\n      <td>6412</td>\n      <td>0.043140897</td>\n      <td>196</td>\n      <td>0.001318717</td>\n      <td>97272</td>\n      <td>0.654460592</td>\n    </tr>\n  </tbody>\n</table>\n<p>34864 rows × 20 columns</p>\n</div>"
     },
     "metadata": {},
     "execution_count": 34
    }
   ],
   "source": [
    "# preview \n",
    "covid_stats"
   ]
  },
  {
   "cell_type": "code",
   "execution_count": 35,
   "metadata": {},
   "outputs": [],
   "source": [
    "# perform a query to retrieve the data\n",
    "results = session.query(government_regulation.primary_key_response,\n",
    "                       government_regulation.Date_updated,\n",
    "                       government_regulation.CountryName,\n",
    "                       government_regulation.CountryCode,\n",
    "                       government_regulation.StringencyIndex_updated,\n",
    "                       government_regulation.StringencyLegacyIndex_updated,\n",
    "                       government_regulation.GovernmentResponseIndex_updated,\n",
    "                       government_regulation.ContainmentHealthIndex_updated,\n",
    "                       government_regulation.EconomicSupportIndex_updated\n",
    "                       ).all()\n",
    "    \n",
    "# save the query results as a Pandas DataFrame and set the index\n",
    "government_regulation = pd.DataFrame(results, columns=['primary_key_response',\n",
    "                                                       'Date_updated',\n",
    "                                                       'CountryName',\n",
    "                                                       'CountryCode',\n",
    "                                                       'StringencyIndex_updated',\n",
    "                                                       'StringencyLegacyIndex_updated',\n",
    "                                                       'GovernmentResponseIndex_updated',\n",
    "                                                       'ContainmentHealthIndex_updated',\n",
    "                                                       'EconomicSupportIndex_updated'\n",
    "                                                      ])"
   ]
  },
  {
   "cell_type": "code",
   "execution_count": 36,
   "metadata": {},
   "outputs": [
    {
     "output_type": "execute_result",
     "data": {
      "text/plain": "      primary_key_response Date_updated CountryName CountryCode  \\\n0            ABW2020-01-01   2020-01-01       Aruba         ABW   \n1            ABW2020-01-02   2020-01-02       Aruba         ABW   \n2            ABW2020-01-03   2020-01-03       Aruba         ABW   \n3            ABW2020-01-04   2020-01-04       Aruba         ABW   \n4            ABW2020-01-05   2020-01-05       Aruba         ABW   \n...                    ...          ...         ...         ...   \n43671        ZWE2020-08-27   2020-08-27    Zimbabwe         ZWE   \n43672        ZWE2020-08-28   2020-08-28    Zimbabwe         ZWE   \n43673        ZWE2020-08-29   2020-08-29    Zimbabwe         ZWE   \n43674        ZWE2020-08-30   2020-08-30    Zimbabwe         ZWE   \n43675        ZWE2020-08-31   2020-08-31    Zimbabwe         ZWE   \n\n      StringencyIndex_updated StringencyLegacyIndex_updated  \\\n0                         0.0                           0.0   \n1                         0.0                           0.0   \n2                         0.0                           0.0   \n3                         0.0                           0.0   \n4                         0.0                           0.0   \n...                       ...                           ...   \n43671                   80.56                          88.1   \n43672                   80.56                          88.1   \n43673                   80.56                          88.1   \n43674                   80.56                          88.1   \n43675                   80.56                          88.1   \n\n      GovernmentResponseIndex_updated ContainmentHealthIndex_updated  \\\n0                                 0.0                            0.0   \n1                                 0.0                            0.0   \n2                                 0.0                            0.0   \n3                                 0.0                            0.0   \n4                                 0.0                            0.0   \n...                               ...                            ...   \n43671                           66.03                          73.48   \n43672                           66.03                          73.48   \n43673                           66.03                          73.48   \n43674                           66.03                          73.48   \n43675                           66.03                          73.48   \n\n      EconomicSupportIndex_updated  \n0                              0.0  \n1                              0.0  \n2                              0.0  \n3                              0.0  \n4                              0.0  \n...                            ...  \n43671                         25.0  \n43672                         25.0  \n43673                         25.0  \n43674                         25.0  \n43675                         25.0  \n\n[43676 rows x 9 columns]",
      "text/html": "<div>\n<style scoped>\n    .dataframe tbody tr th:only-of-type {\n        vertical-align: middle;\n    }\n\n    .dataframe tbody tr th {\n        vertical-align: top;\n    }\n\n    .dataframe thead th {\n        text-align: right;\n    }\n</style>\n<table border=\"1\" class=\"dataframe\">\n  <thead>\n    <tr style=\"text-align: right;\">\n      <th></th>\n      <th>primary_key_response</th>\n      <th>Date_updated</th>\n      <th>CountryName</th>\n      <th>CountryCode</th>\n      <th>StringencyIndex_updated</th>\n      <th>StringencyLegacyIndex_updated</th>\n      <th>GovernmentResponseIndex_updated</th>\n      <th>ContainmentHealthIndex_updated</th>\n      <th>EconomicSupportIndex_updated</th>\n    </tr>\n  </thead>\n  <tbody>\n    <tr>\n      <th>0</th>\n      <td>ABW2020-01-01</td>\n      <td>2020-01-01</td>\n      <td>Aruba</td>\n      <td>ABW</td>\n      <td>0.0</td>\n      <td>0.0</td>\n      <td>0.0</td>\n      <td>0.0</td>\n      <td>0.0</td>\n    </tr>\n    <tr>\n      <th>1</th>\n      <td>ABW2020-01-02</td>\n      <td>2020-01-02</td>\n      <td>Aruba</td>\n      <td>ABW</td>\n      <td>0.0</td>\n      <td>0.0</td>\n      <td>0.0</td>\n      <td>0.0</td>\n      <td>0.0</td>\n    </tr>\n    <tr>\n      <th>2</th>\n      <td>ABW2020-01-03</td>\n      <td>2020-01-03</td>\n      <td>Aruba</td>\n      <td>ABW</td>\n      <td>0.0</td>\n      <td>0.0</td>\n      <td>0.0</td>\n      <td>0.0</td>\n      <td>0.0</td>\n    </tr>\n    <tr>\n      <th>3</th>\n      <td>ABW2020-01-04</td>\n      <td>2020-01-04</td>\n      <td>Aruba</td>\n      <td>ABW</td>\n      <td>0.0</td>\n      <td>0.0</td>\n      <td>0.0</td>\n      <td>0.0</td>\n      <td>0.0</td>\n    </tr>\n    <tr>\n      <th>4</th>\n      <td>ABW2020-01-05</td>\n      <td>2020-01-05</td>\n      <td>Aruba</td>\n      <td>ABW</td>\n      <td>0.0</td>\n      <td>0.0</td>\n      <td>0.0</td>\n      <td>0.0</td>\n      <td>0.0</td>\n    </tr>\n    <tr>\n      <th>...</th>\n      <td>...</td>\n      <td>...</td>\n      <td>...</td>\n      <td>...</td>\n      <td>...</td>\n      <td>...</td>\n      <td>...</td>\n      <td>...</td>\n      <td>...</td>\n    </tr>\n    <tr>\n      <th>43671</th>\n      <td>ZWE2020-08-27</td>\n      <td>2020-08-27</td>\n      <td>Zimbabwe</td>\n      <td>ZWE</td>\n      <td>80.56</td>\n      <td>88.1</td>\n      <td>66.03</td>\n      <td>73.48</td>\n      <td>25.0</td>\n    </tr>\n    <tr>\n      <th>43672</th>\n      <td>ZWE2020-08-28</td>\n      <td>2020-08-28</td>\n      <td>Zimbabwe</td>\n      <td>ZWE</td>\n      <td>80.56</td>\n      <td>88.1</td>\n      <td>66.03</td>\n      <td>73.48</td>\n      <td>25.0</td>\n    </tr>\n    <tr>\n      <th>43673</th>\n      <td>ZWE2020-08-29</td>\n      <td>2020-08-29</td>\n      <td>Zimbabwe</td>\n      <td>ZWE</td>\n      <td>80.56</td>\n      <td>88.1</td>\n      <td>66.03</td>\n      <td>73.48</td>\n      <td>25.0</td>\n    </tr>\n    <tr>\n      <th>43674</th>\n      <td>ZWE2020-08-30</td>\n      <td>2020-08-30</td>\n      <td>Zimbabwe</td>\n      <td>ZWE</td>\n      <td>80.56</td>\n      <td>88.1</td>\n      <td>66.03</td>\n      <td>73.48</td>\n      <td>25.0</td>\n    </tr>\n    <tr>\n      <th>43675</th>\n      <td>ZWE2020-08-31</td>\n      <td>2020-08-31</td>\n      <td>Zimbabwe</td>\n      <td>ZWE</td>\n      <td>80.56</td>\n      <td>88.1</td>\n      <td>66.03</td>\n      <td>73.48</td>\n      <td>25.0</td>\n    </tr>\n  </tbody>\n</table>\n<p>43676 rows × 9 columns</p>\n</div>"
     },
     "metadata": {},
     "execution_count": 36
    }
   ],
   "source": [
    "# preview \n",
    "government_regulation"
   ]
  },
  {
   "cell_type": "code",
   "execution_count": null,
   "metadata": {},
   "outputs": [],
   "source": []
  }
 ],
 "metadata": {
  "kernelspec": {
   "display_name": "mlenv2",
   "language": "python",
   "name": "mlenv2"
  },
  "language_info": {
   "codemirror_mode": {
    "name": "ipython",
    "version": 3
   },
   "file_extension": ".py",
   "mimetype": "text/x-python",
   "name": "python",
   "nbconvert_exporter": "python",
   "pygments_lexer": "ipython3",
   "version": "3.7.7-final"
  }
 },
 "nbformat": 4,
 "nbformat_minor": 4
}