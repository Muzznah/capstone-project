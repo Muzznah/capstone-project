{
 "cells": [
  {
   "cell_type": "markdown",
   "metadata": {},
   "source": [
    "https://github.com/jupyter/notebook/issues/2287\n",
    "\n",
    "incase you run into an issue with running the code due to exceeding run rate (?)"
   ]
  },
  {
   "cell_type": "code",
   "execution_count": null,
   "metadata": {},
   "outputs": [],
   "source": [
    "# imports for database connection\n",
    "import pandas as pd\n",
    "import sqlalchemy\n",
    "from sqlalchemy.ext.automap import automap_base\n",
    "from sqlalchemy import create_engine, func\n",
    "\n",
    "# import these to view table column headers & rows\n",
    "from sqlalchemy.orm import sessionmaker\n",
    "from sqlalchemy import select\n",
    "\n",
    "# Import the dependencies for analysis\n",
    "%matplotlib inline\n",
    "\n",
    "import numpy as np\n",
    "import pandas as pd\n",
    "import datetime as dt\n",
    "from datetime import date\n",
    "from datetime import timedelta\n",
    "import matplotlib.pyplot as plt"
   ]
  },
  {
   "cell_type": "code",
   "execution_count": null,
   "metadata": {},
   "outputs": [],
   "source": [
    "# UPDATE PATH ONCE FINAL ANALYSIS FILE IS COMPILED\n",
    "engine = create_engine(\"sqlite:///../../Resources/covid_db.db\")"
   ]
  },
  {
   "cell_type": "code",
   "execution_count": null,
   "metadata": {},
   "outputs": [],
   "source": [
    "# reflect an existing database into a new model (creates base class for automap schema)\n",
    "Base = automap_base()"
   ]
  },
  {
   "cell_type": "code",
   "execution_count": null,
   "metadata": {},
   "outputs": [],
   "source": [
    "# reflect the tables\n",
    "Base.prepare(engine, reflect=True)"
   ]
  },
  {
   "cell_type": "code",
   "execution_count": null,
   "metadata": {},
   "outputs": [],
   "source": [
    "Base.classes.keys()"
   ]
  },
  {
   "cell_type": "code",
   "execution_count": null,
   "metadata": {},
   "outputs": [],
   "source": [
    "# save references to each table\n",
    "covid_stats = Base.classes.covid_stats\n",
    "government_regulation = Base.classes.government_regulation"
   ]
  },
  {
   "cell_type": "code",
   "execution_count": null,
   "metadata": {},
   "outputs": [],
   "source": [
    "# Create session (link) from Python to the database\n",
    "session = sessionmaker(bind=engine)()"
   ]
  },
  {
   "cell_type": "code",
   "execution_count": null,
   "metadata": {},
   "outputs": [],
   "source": [
    "# perform a query to retrieve the data\n",
    "results = session.query(government_regulation.primary_key_response,\n",
    "                       government_regulation.Date_updated,\n",
    "                       government_regulation.CountryName,\n",
    "                       government_regulation.CountryCode,\n",
    "                       government_regulation.StringencyIndex_updated,\n",
    "                       government_regulation.percentage_change_stringency,\n",
    "                       government_regulation.StringencyLegacyIndex_updated,\n",
    "                       government_regulation.GovernmentResponseIndex_updated,\n",
    "                       government_regulation.percentage_change_GovernmentResponse,\n",
    "                       government_regulation.ContainmentHealthIndex_updated,\n",
    "                       government_regulation.percentage_change_ContainmentHealth ,\n",
    "                       government_regulation.EconomicSupportIndex_updated,\n",
    "                       government_regulation.percentage_change_EconomicSupport\n",
    "                       ).all()\n",
    "    \n",
    "# save the query results as a Pandas DataFrame and set the index\n",
    "government_regulation = pd.DataFrame(results, columns=['primary_key_response',\n",
    "                                                       'Date_updated',\n",
    "                                                       'CountryName',\n",
    "                                                       'CountryCode',\n",
    "                                                       'StringencyIndex_updated',\n",
    "                                                       'percentage_change_stringency',\n",
    "                                                       'StringencyLegacyIndex_updated',\n",
    "                                                       'GovernmentResponseIndex_updated',\n",
    "                                                       'percentage_change_GovernmentResponse',\n",
    "                                                       'ContainmentHealthIndex_updated',\n",
    "                                                       'percentage_change_ContainmentHealth',\n",
    "                                                       'EconomicSupportIndex_updated',\n",
    "                                                       'percentage_change_EconomicSupport'\n",
    "                                                      ])"
   ]
  },
  {
   "cell_type": "code",
   "execution_count": null,
   "metadata": {},
   "outputs": [],
   "source": [
    "# preview \n",
    "government_regulation"
   ]
  },
  {
   "cell_type": "markdown",
   "metadata": {},
   "source": [
    "# Exploratory Analysis"
   ]
  },
  {
   "cell_type": "markdown",
   "metadata": {},
   "source": [
    "# Building blocks for for loop"
   ]
  },
  {
   "cell_type": "code",
   "execution_count": null,
   "metadata": {},
   "outputs": [],
   "source": [
    "China = pd.DataFrame(government_regulation.loc[government_regulation[\"CountryName\"]==\"China\"].reset_index()).drop([\"index\"],axis=1)"
   ]
  },
  {
   "cell_type": "code",
   "execution_count": null,
   "metadata": {},
   "outputs": [],
   "source": [
    "China[\"StringencyIndex_updated\"].max()"
   ]
  },
  {
   "cell_type": "code",
   "execution_count": null,
   "metadata": {},
   "outputs": [],
   "source": [
    "# Filter based on percentage changes greater than 10% in policy - CANADA\n",
    "China = China.loc[(China.StringencyIndex_updated >= 10) &\n",
    "                   (China.percentage_change_stringency > 0) &\n",
    "                   (China.StringencyIndex_updated <= China[\"StringencyIndex_updated\"].max())\n",
    "                  ]\n",
    "China['Date_updated'] = pd.to_datetime(China['Date_updated'])\n",
    "China.reset_index(inplace=True)"
   ]
  },
  {
   "cell_type": "code",
   "execution_count": null,
   "metadata": {},
   "outputs": [],
   "source": [
    "China"
   ]
  },
  {
   "cell_type": "code",
   "execution_count": null,
   "metadata": {},
   "outputs": [],
   "source": [
    "ramp_up_max = China.StringencyIndex_updated.max()\n",
    "ramp_up_end_date = China.loc[China.StringencyIndex_updated == ramp_up_max]\n",
    "ramp_up_end_date = ramp_up_end_date.drop_duplicates(subset=['StringencyIndex_updated'], keep='first')\n",
    "ramp_up_date = ramp_up_end_date['Date_updated']\n",
    "index = ramp_up_date.index.values\n",
    "index = index.tolist()"
   ]
  },
  {
   "cell_type": "code",
   "execution_count": null,
   "metadata": {},
   "outputs": [],
   "source": [
    "index"
   ]
  },
  {
   "cell_type": "code",
   "execution_count": null,
   "metadata": {},
   "outputs": [],
   "source": [
    "China.drop(China.index[np.where(China.index > index)[0]])"
   ]
  },
  {
   "cell_type": "code",
   "execution_count": null,
   "metadata": {},
   "outputs": [],
   "source": []
  },
  {
   "cell_type": "code",
   "execution_count": null,
   "metadata": {},
   "outputs": [],
   "source": [
    "number_of_days = Zimbabwe['Date_updated'].max() - Zimbabwe['Date_updated'].min()\n",
    "number_of_days.days"
   ]
  },
  {
   "cell_type": "markdown",
   "metadata": {},
   "source": [
    "# for loop trial 1"
   ]
  },
  {
   "cell_type": "code",
   "execution_count": null,
   "metadata": {},
   "outputs": [],
   "source": [
    "countries = government_regulation[\"CountryName\"].unique()"
   ]
  },
  {
   "cell_type": "code",
   "execution_count": null,
   "metadata": {},
   "outputs": [],
   "source": [
    "countries"
   ]
  },
  {
   "cell_type": "code",
   "execution_count": null,
   "metadata": {},
   "outputs": [],
   "source": [
    "len(countries)"
   ]
  },
  {
   "cell_type": "code",
   "execution_count": null,
   "metadata": {},
   "outputs": [],
   "source": [
    "index_1 = round(len(countries)/4)\n",
    "index_2 = index_1 + index_1\n",
    "index_3 = index_2 + index_1"
   ]
  },
  {
   "cell_type": "code",
   "execution_count": null,
   "metadata": {},
   "outputs": [],
   "source": [
    "index_1"
   ]
  },
  {
   "cell_type": "code",
   "execution_count": null,
   "metadata": {},
   "outputs": [],
   "source": [
    "countries11 = countries[:2]\n",
    "countries1 = countries[:index_1]\n",
    "countries2 = countries[index_1:index_2]\n",
    "countries3 = countries[index_2:index_3]\n",
    "countries4 = countries[index_3:]"
   ]
  },
  {
   "cell_type": "code",
   "execution_count": null,
   "metadata": {},
   "outputs": [],
   "source": [
    "countries11"
   ]
  },
  {
   "cell_type": "code",
   "execution_count": null,
   "metadata": {},
   "outputs": [],
   "source": [
    "countries1"
   ]
  },
  {
   "cell_type": "code",
   "execution_count": null,
   "metadata": {},
   "outputs": [],
   "source": [
    "countries2"
   ]
  },
  {
   "cell_type": "code",
   "execution_count": null,
   "metadata": {},
   "outputs": [],
   "source": [
    "countries3"
   ]
  },
  {
   "cell_type": "code",
   "execution_count": null,
   "metadata": {},
   "outputs": [],
   "source": [
    "countries4"
   ]
  },
  {
   "cell_type": "code",
   "execution_count": null,
   "metadata": {},
   "outputs": [],
   "source": [
    "# List or processed iso dataframes\n",
    "ramp_up = []"
   ]
  },
  {
   "cell_type": "code",
   "execution_count": null,
   "metadata": {},
   "outputs": [],
   "source": [
    "# Loop through all countries and capture ramp up period\n",
    "for location in countries11:\n",
    "    country = government_regulation.loc[government_regulation[\"CountryName\"]==location].copy()\n",
    "   \n",
    "    country = country.loc[(country.StringencyIndex_updated >= 10) &\n",
    "                   (country.percentage_change_stringency > 0) &\n",
    "                   (country.StringencyIndex_updated <= country[\"StringencyIndex_updated\"].max())\n",
    "                  ]\n",
    "    \n",
    "    country['Date_updated'] = pd.to_datetime(country['Date_updated'])\n",
    "    country.reset_index(inplace=True)\n",
    "    \n",
    "    ramp_up_max = country.StringencyIndex_updated.max()\n",
    "    ramp_up_end_date = country.loc[country.StringencyIndex_updated == ramp_up_max]\n",
    "    ramp_up_end_date = ramp_up_end_date.drop_duplicates(subset=['StringencyIndex_updated'], keep='first')\n",
    "    ramp_up_date = ramp_up_end_date['Date_updated']\n",
    "    index = ramp_up_date.index.values\n",
    "    index = index.tolist()\n",
    "    \n",
    "    country.drop(country.index[np.where(country.index > index)[0]])\n",
    "    \n",
    "    ramp_up.append(country)\n",
    "\n",
    "ramp_up_df = pd.DataFrame()\n",
    "# del government_regulation\n",
    "for df in ramp_up:\n",
    "    ramp_up_df = ramp_up.append(df)"
   ]
  },
  {
   "cell_type": "code",
   "execution_count": null,
   "metadata": {},
   "outputs": [],
   "source": [
    "ramp_up_df"
   ]
  },
  {
   "cell_type": "markdown",
   "metadata": {},
   "source": [
    "# without for loop"
   ]
  },
  {
   "cell_type": "code",
   "execution_count": null,
   "metadata": {},
   "outputs": [],
   "source": [
    "China = government_regulation.loc[government_regulation[\"CountryName\"]==\"China\"].copy()\n",
    "   \n",
    "China = China.loc[(China.StringencyIndex_updated >= 10) &\n",
    "               (China.percentage_change_stringency > 0) &\n",
    "               (China.StringencyIndex_updated <= China[\"StringencyIndex_updated\"].max())\n",
    "              ]\n",
    "    \n",
    "China['Date_updated'] = pd.to_datetime(China['Date_updated'])\n",
    "China.reset_index(inplace=True)\n",
    "    \n",
    "ramp_up_max = China.StringencyIndex_updated.max()\n",
    "ramp_up_end_date = China.loc[China.StringencyIndex_updated == ramp_up_max]\n",
    "ramp_up_end_date = ramp_up_end_date.drop_duplicates(subset=['StringencyIndex_updated'], keep='first')\n",
    "ramp_up_date = ramp_up_end_date['Date_updated']\n",
    "index = ramp_up_date.index.values\n",
    "index = index.tolist()\n",
    "    \n",
    "China.drop(China.index[np.where(China.index > index)[0]])"
   ]
  },
  {
   "cell_type": "code",
   "execution_count": null,
   "metadata": {},
   "outputs": [],
   "source": []
  }
 ],
 "metadata": {
  "kernelspec": {
   "display_name": "Python 3",
   "language": "python",
   "name": "python3"
  },
  "language_info": {
   "codemirror_mode": {
    "name": "ipython",
    "version": 3
   },
   "file_extension": ".py",
   "mimetype": "text/x-python",
   "name": "python",
   "nbconvert_exporter": "python",
   "pygments_lexer": "ipython3",
   "version": "3.7.7"
  }
 },
 "nbformat": 4,
 "nbformat_minor": 4
}
