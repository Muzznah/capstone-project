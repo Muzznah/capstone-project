{
 "cells": [
  {
   "cell_type": "markdown",
   "metadata": {},
   "source": [
    "https://github.com/jupyter/notebook/issues/2287\n",
    "\n",
    "incase you run into an issue with running the code due to exceeding run rate (?)"
   ]
  },
  {
   "cell_type": "code",
   "execution_count": 1,
   "metadata": {},
   "outputs": [],
   "source": [
    "# imports for database connection\n",
    "import pandas as pd\n",
    "import sqlalchemy\n",
    "from sqlalchemy.ext.automap import automap_base\n",
    "from sqlalchemy import create_engine, func\n",
    "\n",
    "# import these to view table column headers & rows\n",
    "from sqlalchemy.orm import sessionmaker\n",
    "from sqlalchemy import select\n",
    "\n",
    "# Import the dependencies for analysis\n",
    "%matplotlib inline\n",
    "\n",
    "import numpy as np\n",
    "import pandas as pd\n",
    "import datetime as dt\n",
    "from datetime import date\n",
    "from datetime import timedelta\n",
    "import matplotlib.pyplot as plt"
   ]
  },
  {
   "cell_type": "code",
   "execution_count": 2,
   "metadata": {},
   "outputs": [],
   "source": [
    "# UPDATE PATH ONCE FINAL ANALYSIS FILE IS COMPILED\n",
    "engine = create_engine(\"sqlite:///../../Resources/covid_db.db\")"
   ]
  },
  {
   "cell_type": "code",
   "execution_count": 3,
   "metadata": {},
   "outputs": [],
   "source": [
    "# reflect an existing database into a new model (creates base class for automap schema)\n",
    "Base = automap_base()"
   ]
  },
  {
   "cell_type": "code",
   "execution_count": 4,
   "metadata": {},
   "outputs": [],
   "source": [
    "# reflect the tables\n",
    "Base.prepare(engine, reflect=True)"
   ]
  },
  {
   "cell_type": "code",
   "execution_count": 5,
   "metadata": {},
   "outputs": [
    {
     "data": {
      "text/plain": [
       "['covid_stats', 'government_regulation']"
      ]
     },
     "execution_count": 5,
     "metadata": {},
     "output_type": "execute_result"
    }
   ],
   "source": [
    "Base.classes.keys()"
   ]
  },
  {
   "cell_type": "code",
   "execution_count": 6,
   "metadata": {},
   "outputs": [],
   "source": [
    "# save references to each table\n",
    "covid_stats = Base.classes.covid_stats\n",
    "government_regulation = Base.classes.government_regulation"
   ]
  },
  {
   "cell_type": "code",
   "execution_count": 7,
   "metadata": {},
   "outputs": [],
   "source": [
    "# Create session (link) from Python to the database\n",
    "session = sessionmaker(bind=engine)()"
   ]
  },
  {
   "cell_type": "code",
   "execution_count": 8,
   "metadata": {},
   "outputs": [],
   "source": [
    "# perform a query to retrieve the data\n",
    "results = session.query(government_regulation.primary_key_response,\n",
    "                       government_regulation.Date_updated,\n",
    "                       government_regulation.CountryName,\n",
    "                       government_regulation.CountryCode,\n",
    "                       government_regulation.StringencyIndex_updated,\n",
    "                       government_regulation.percentage_change_stringency,\n",
    "                       government_regulation.StringencyLegacyIndex_updated,\n",
    "                       government_regulation.GovernmentResponseIndex_updated,\n",
    "                       government_regulation.percentage_change_GovernmentResponse,\n",
    "                       government_regulation.ContainmentHealthIndex_updated,\n",
    "                       government_regulation.percentage_change_ContainmentHealth ,\n",
    "                       government_regulation.EconomicSupportIndex_updated,\n",
    "                       government_regulation.percentage_change_EconomicSupport\n",
    "                       ).all()\n",
    "    \n",
    "# save the query results as a Pandas DataFrame and set the index\n",
    "government_regulation = pd.DataFrame(results, columns=['primary_key_response',\n",
    "                                                       'Date_updated',\n",
    "                                                       'CountryName',\n",
    "                                                       'CountryCode',\n",
    "                                                       'StringencyIndex_updated',\n",
    "                                                       'percentage_change_stringency',\n",
    "                                                       'StringencyLegacyIndex_updated',\n",
    "                                                       'GovernmentResponseIndex_updated',\n",
    "                                                       'percentage_change_GovernmentResponse',\n",
    "                                                       'ContainmentHealthIndex_updated',\n",
    "                                                       'percentage_change_ContainmentHealth',\n",
    "                                                       'EconomicSupportIndex_updated',\n",
    "                                                       'percentage_change_EconomicSupport'\n",
    "                                                      ])"
   ]
  },
  {
   "cell_type": "code",
   "execution_count": 9,
   "metadata": {},
   "outputs": [
    {
     "data": {
      "text/html": [
       "<div>\n",
       "<style scoped>\n",
       "    .dataframe tbody tr th:only-of-type {\n",
       "        vertical-align: middle;\n",
       "    }\n",
       "\n",
       "    .dataframe tbody tr th {\n",
       "        vertical-align: top;\n",
       "    }\n",
       "\n",
       "    .dataframe thead th {\n",
       "        text-align: right;\n",
       "    }\n",
       "</style>\n",
       "<table border=\"1\" class=\"dataframe\">\n",
       "  <thead>\n",
       "    <tr style=\"text-align: right;\">\n",
       "      <th></th>\n",
       "      <th>primary_key_response</th>\n",
       "      <th>Date_updated</th>\n",
       "      <th>CountryName</th>\n",
       "      <th>CountryCode</th>\n",
       "      <th>StringencyIndex_updated</th>\n",
       "      <th>percentage_change_stringency</th>\n",
       "      <th>StringencyLegacyIndex_updated</th>\n",
       "      <th>GovernmentResponseIndex_updated</th>\n",
       "      <th>percentage_change_GovernmentResponse</th>\n",
       "      <th>ContainmentHealthIndex_updated</th>\n",
       "      <th>percentage_change_ContainmentHealth</th>\n",
       "      <th>EconomicSupportIndex_updated</th>\n",
       "      <th>percentage_change_EconomicSupport</th>\n",
       "    </tr>\n",
       "  </thead>\n",
       "  <tbody>\n",
       "    <tr>\n",
       "      <th>0</th>\n",
       "      <td>ABW2020-01-01</td>\n",
       "      <td>2020-01-01</td>\n",
       "      <td>Aruba</td>\n",
       "      <td>ABW</td>\n",
       "      <td>0.00</td>\n",
       "      <td>0.0</td>\n",
       "      <td>0.0</td>\n",
       "      <td>0.00</td>\n",
       "      <td>0.0</td>\n",
       "      <td>0.00</td>\n",
       "      <td>0.0</td>\n",
       "      <td>0.0</td>\n",
       "      <td>0.0</td>\n",
       "    </tr>\n",
       "    <tr>\n",
       "      <th>1</th>\n",
       "      <td>ABW2020-01-02</td>\n",
       "      <td>2020-01-02</td>\n",
       "      <td>Aruba</td>\n",
       "      <td>ABW</td>\n",
       "      <td>0.00</td>\n",
       "      <td>0.0</td>\n",
       "      <td>0.0</td>\n",
       "      <td>0.00</td>\n",
       "      <td>0.0</td>\n",
       "      <td>0.00</td>\n",
       "      <td>0.0</td>\n",
       "      <td>0.0</td>\n",
       "      <td>0.0</td>\n",
       "    </tr>\n",
       "    <tr>\n",
       "      <th>2</th>\n",
       "      <td>ABW2020-01-03</td>\n",
       "      <td>2020-01-03</td>\n",
       "      <td>Aruba</td>\n",
       "      <td>ABW</td>\n",
       "      <td>0.00</td>\n",
       "      <td>0.0</td>\n",
       "      <td>0.0</td>\n",
       "      <td>0.00</td>\n",
       "      <td>0.0</td>\n",
       "      <td>0.00</td>\n",
       "      <td>0.0</td>\n",
       "      <td>0.0</td>\n",
       "      <td>0.0</td>\n",
       "    </tr>\n",
       "    <tr>\n",
       "      <th>3</th>\n",
       "      <td>ABW2020-01-04</td>\n",
       "      <td>2020-01-04</td>\n",
       "      <td>Aruba</td>\n",
       "      <td>ABW</td>\n",
       "      <td>0.00</td>\n",
       "      <td>0.0</td>\n",
       "      <td>0.0</td>\n",
       "      <td>0.00</td>\n",
       "      <td>0.0</td>\n",
       "      <td>0.00</td>\n",
       "      <td>0.0</td>\n",
       "      <td>0.0</td>\n",
       "      <td>0.0</td>\n",
       "    </tr>\n",
       "    <tr>\n",
       "      <th>4</th>\n",
       "      <td>ABW2020-01-05</td>\n",
       "      <td>2020-01-05</td>\n",
       "      <td>Aruba</td>\n",
       "      <td>ABW</td>\n",
       "      <td>0.00</td>\n",
       "      <td>0.0</td>\n",
       "      <td>0.0</td>\n",
       "      <td>0.00</td>\n",
       "      <td>0.0</td>\n",
       "      <td>0.00</td>\n",
       "      <td>0.0</td>\n",
       "      <td>0.0</td>\n",
       "      <td>0.0</td>\n",
       "    </tr>\n",
       "    <tr>\n",
       "      <th>...</th>\n",
       "      <td>...</td>\n",
       "      <td>...</td>\n",
       "      <td>...</td>\n",
       "      <td>...</td>\n",
       "      <td>...</td>\n",
       "      <td>...</td>\n",
       "      <td>...</td>\n",
       "      <td>...</td>\n",
       "      <td>...</td>\n",
       "      <td>...</td>\n",
       "      <td>...</td>\n",
       "      <td>...</td>\n",
       "      <td>...</td>\n",
       "    </tr>\n",
       "    <tr>\n",
       "      <th>43671</th>\n",
       "      <td>ZWE2020-08-27</td>\n",
       "      <td>2020-08-27</td>\n",
       "      <td>Zimbabwe</td>\n",
       "      <td>ZWE</td>\n",
       "      <td>80.56</td>\n",
       "      <td>0.0</td>\n",
       "      <td>88.1</td>\n",
       "      <td>66.03</td>\n",
       "      <td>0.0</td>\n",
       "      <td>73.48</td>\n",
       "      <td>0.0</td>\n",
       "      <td>25.0</td>\n",
       "      <td>0.0</td>\n",
       "    </tr>\n",
       "    <tr>\n",
       "      <th>43672</th>\n",
       "      <td>ZWE2020-08-28</td>\n",
       "      <td>2020-08-28</td>\n",
       "      <td>Zimbabwe</td>\n",
       "      <td>ZWE</td>\n",
       "      <td>80.56</td>\n",
       "      <td>0.0</td>\n",
       "      <td>88.1</td>\n",
       "      <td>66.03</td>\n",
       "      <td>0.0</td>\n",
       "      <td>73.48</td>\n",
       "      <td>0.0</td>\n",
       "      <td>25.0</td>\n",
       "      <td>0.0</td>\n",
       "    </tr>\n",
       "    <tr>\n",
       "      <th>43673</th>\n",
       "      <td>ZWE2020-08-29</td>\n",
       "      <td>2020-08-29</td>\n",
       "      <td>Zimbabwe</td>\n",
       "      <td>ZWE</td>\n",
       "      <td>80.56</td>\n",
       "      <td>0.0</td>\n",
       "      <td>88.1</td>\n",
       "      <td>66.03</td>\n",
       "      <td>0.0</td>\n",
       "      <td>73.48</td>\n",
       "      <td>0.0</td>\n",
       "      <td>25.0</td>\n",
       "      <td>0.0</td>\n",
       "    </tr>\n",
       "    <tr>\n",
       "      <th>43674</th>\n",
       "      <td>ZWE2020-08-30</td>\n",
       "      <td>2020-08-30</td>\n",
       "      <td>Zimbabwe</td>\n",
       "      <td>ZWE</td>\n",
       "      <td>80.56</td>\n",
       "      <td>0.0</td>\n",
       "      <td>88.1</td>\n",
       "      <td>66.03</td>\n",
       "      <td>0.0</td>\n",
       "      <td>73.48</td>\n",
       "      <td>0.0</td>\n",
       "      <td>25.0</td>\n",
       "      <td>0.0</td>\n",
       "    </tr>\n",
       "    <tr>\n",
       "      <th>43675</th>\n",
       "      <td>ZWE2020-08-31</td>\n",
       "      <td>2020-08-31</td>\n",
       "      <td>Zimbabwe</td>\n",
       "      <td>ZWE</td>\n",
       "      <td>80.56</td>\n",
       "      <td>0.0</td>\n",
       "      <td>88.1</td>\n",
       "      <td>66.03</td>\n",
       "      <td>0.0</td>\n",
       "      <td>73.48</td>\n",
       "      <td>0.0</td>\n",
       "      <td>25.0</td>\n",
       "      <td>0.0</td>\n",
       "    </tr>\n",
       "  </tbody>\n",
       "</table>\n",
       "<p>43676 rows × 13 columns</p>\n",
       "</div>"
      ],
      "text/plain": [
       "      primary_key_response Date_updated CountryName CountryCode  \\\n",
       "0            ABW2020-01-01   2020-01-01       Aruba         ABW   \n",
       "1            ABW2020-01-02   2020-01-02       Aruba         ABW   \n",
       "2            ABW2020-01-03   2020-01-03       Aruba         ABW   \n",
       "3            ABW2020-01-04   2020-01-04       Aruba         ABW   \n",
       "4            ABW2020-01-05   2020-01-05       Aruba         ABW   \n",
       "...                    ...          ...         ...         ...   \n",
       "43671        ZWE2020-08-27   2020-08-27    Zimbabwe         ZWE   \n",
       "43672        ZWE2020-08-28   2020-08-28    Zimbabwe         ZWE   \n",
       "43673        ZWE2020-08-29   2020-08-29    Zimbabwe         ZWE   \n",
       "43674        ZWE2020-08-30   2020-08-30    Zimbabwe         ZWE   \n",
       "43675        ZWE2020-08-31   2020-08-31    Zimbabwe         ZWE   \n",
       "\n",
       "       StringencyIndex_updated  percentage_change_stringency  \\\n",
       "0                         0.00                           0.0   \n",
       "1                         0.00                           0.0   \n",
       "2                         0.00                           0.0   \n",
       "3                         0.00                           0.0   \n",
       "4                         0.00                           0.0   \n",
       "...                        ...                           ...   \n",
       "43671                    80.56                           0.0   \n",
       "43672                    80.56                           0.0   \n",
       "43673                    80.56                           0.0   \n",
       "43674                    80.56                           0.0   \n",
       "43675                    80.56                           0.0   \n",
       "\n",
       "       StringencyLegacyIndex_updated  GovernmentResponseIndex_updated  \\\n",
       "0                                0.0                             0.00   \n",
       "1                                0.0                             0.00   \n",
       "2                                0.0                             0.00   \n",
       "3                                0.0                             0.00   \n",
       "4                                0.0                             0.00   \n",
       "...                              ...                              ...   \n",
       "43671                           88.1                            66.03   \n",
       "43672                           88.1                            66.03   \n",
       "43673                           88.1                            66.03   \n",
       "43674                           88.1                            66.03   \n",
       "43675                           88.1                            66.03   \n",
       "\n",
       "       percentage_change_GovernmentResponse  ContainmentHealthIndex_updated  \\\n",
       "0                                       0.0                            0.00   \n",
       "1                                       0.0                            0.00   \n",
       "2                                       0.0                            0.00   \n",
       "3                                       0.0                            0.00   \n",
       "4                                       0.0                            0.00   \n",
       "...                                     ...                             ...   \n",
       "43671                                   0.0                           73.48   \n",
       "43672                                   0.0                           73.48   \n",
       "43673                                   0.0                           73.48   \n",
       "43674                                   0.0                           73.48   \n",
       "43675                                   0.0                           73.48   \n",
       "\n",
       "       percentage_change_ContainmentHealth  EconomicSupportIndex_updated  \\\n",
       "0                                      0.0                           0.0   \n",
       "1                                      0.0                           0.0   \n",
       "2                                      0.0                           0.0   \n",
       "3                                      0.0                           0.0   \n",
       "4                                      0.0                           0.0   \n",
       "...                                    ...                           ...   \n",
       "43671                                  0.0                          25.0   \n",
       "43672                                  0.0                          25.0   \n",
       "43673                                  0.0                          25.0   \n",
       "43674                                  0.0                          25.0   \n",
       "43675                                  0.0                          25.0   \n",
       "\n",
       "       percentage_change_EconomicSupport  \n",
       "0                                    0.0  \n",
       "1                                    0.0  \n",
       "2                                    0.0  \n",
       "3                                    0.0  \n",
       "4                                    0.0  \n",
       "...                                  ...  \n",
       "43671                                0.0  \n",
       "43672                                0.0  \n",
       "43673                                0.0  \n",
       "43674                                0.0  \n",
       "43675                                0.0  \n",
       "\n",
       "[43676 rows x 13 columns]"
      ]
     },
     "execution_count": 9,
     "metadata": {},
     "output_type": "execute_result"
    }
   ],
   "source": [
    "# preview \n",
    "government_regulation"
   ]
  },
  {
   "cell_type": "markdown",
   "metadata": {},
   "source": [
    "# Building blocks for for loop"
   ]
  },
  {
   "cell_type": "code",
   "execution_count": null,
   "metadata": {},
   "outputs": [],
   "source": [
    "China = pd.DataFrame(government_regulation.loc[government_regulation[\"CountryName\"]==\"China\"].reset_index()).drop([\"index\"],axis=1)"
   ]
  },
  {
   "cell_type": "code",
   "execution_count": null,
   "metadata": {},
   "outputs": [],
   "source": [
    "China[\"StringencyIndex_updated\"].max()"
   ]
  },
  {
   "cell_type": "code",
   "execution_count": null,
   "metadata": {},
   "outputs": [],
   "source": [
    "# Filter based on percentage changes greater than 10% in policy - CANADA\n",
    "China = China.loc[(China.StringencyIndex_updated >= 10) &\n",
    "                   (China.percentage_change_stringency > 0) &\n",
    "                   (China.StringencyIndex_updated <= China[\"StringencyIndex_updated\"].max())\n",
    "                  ]\n",
    "China['Date_updated'] = pd.to_datetime(China['Date_updated'])\n",
    "China.reset_index(inplace=True)"
   ]
  },
  {
   "cell_type": "code",
   "execution_count": null,
   "metadata": {},
   "outputs": [],
   "source": [
    "China"
   ]
  },
  {
   "cell_type": "code",
   "execution_count": null,
   "metadata": {},
   "outputs": [],
   "source": [
    "ramp_up_max = China.StringencyIndex_updated.max()\n",
    "ramp_up_end_date = China.loc[China.StringencyIndex_updated == ramp_up_max]\n",
    "ramp_up_end_date = ramp_up_end_date.drop_duplicates(subset=['StringencyIndex_updated'], keep='first')\n",
    "ramp_up_date = ramp_up_end_date['Date_updated']\n",
    "index = ramp_up_date.index.values\n",
    "index = index.tolist()"
   ]
  },
  {
   "cell_type": "code",
   "execution_count": null,
   "metadata": {},
   "outputs": [],
   "source": [
    "index"
   ]
  },
  {
   "cell_type": "code",
   "execution_count": null,
   "metadata": {},
   "outputs": [],
   "source": [
    "China.drop(China.index[np.where(China.index > index)[0]])"
   ]
  },
  {
   "cell_type": "code",
   "execution_count": null,
   "metadata": {},
   "outputs": [],
   "source": []
  },
  {
   "cell_type": "code",
   "execution_count": null,
   "metadata": {},
   "outputs": [],
   "source": [
    "number_of_days = Zimbabwe['Date_updated'].max() - Zimbabwe['Date_updated'].min()\n",
    "number_of_days.days"
   ]
  },
  {
   "cell_type": "markdown",
   "metadata": {},
   "source": [
    "# for loop trial 1"
   ]
  },
  {
   "cell_type": "code",
   "execution_count": 10,
   "metadata": {},
   "outputs": [],
   "source": [
    "countries = government_regulation[\"CountryName\"].unique()"
   ]
  },
  {
   "cell_type": "code",
   "execution_count": 11,
   "metadata": {},
   "outputs": [
    {
     "data": {
      "text/plain": [
       "array(['Aruba', 'Afghanistan', 'Angola', 'Anguilla', 'Albania', 'Andorra',\n",
       "       'United Arab Emirates', 'Argentina', 'Australia', 'Austria',\n",
       "       'Azerbaijan', 'Burundi', 'Belgium', 'Benin', 'Burkina Faso',\n",
       "       'Bangladesh', 'Bulgaria', 'Bahrain', 'Bosnia and Herzegovina',\n",
       "       'Belarus', 'Belize', 'Bermuda', 'Bolivia', 'Brazil', 'Barbados',\n",
       "       'Brunei', 'Bhutan', 'Botswana', 'Central African Republic',\n",
       "       'Canada', 'Switzerland', 'Chile', 'China', \"Cote d'Ivoire\",\n",
       "       'Cameroon', 'Democratic Republic of Congo', 'Congo', 'Colombia',\n",
       "       'Cape Verde', 'Costa Rica', 'Cuba', 'Cayman Islands', 'Cyprus',\n",
       "       'Czech Republic', 'Germany', 'Djibouti', 'Dominica', 'Denmark',\n",
       "       'Dominican Republic', 'Algeria', 'Ecuador', 'Egypt', 'Eritrea',\n",
       "       'Spain', 'Estonia', 'Ethiopia', 'Finland', 'Fiji',\n",
       "       'Falkland Islands', 'France', 'Gabon', 'United Kingdom', 'Georgia',\n",
       "       'Ghana', 'Gibraltar', 'Guinea', 'Gambia', 'Greece', 'Greenland',\n",
       "       'Guatemala', 'Guam', 'Guyana', 'Hong Kong', 'Honduras', 'Croatia',\n",
       "       'Haiti', 'Hungary', 'Indonesia', 'India', 'Ireland', 'Iran',\n",
       "       'Iraq', 'Iceland', 'Israel', 'Italy', 'Jamaica', 'Jordan', 'Japan',\n",
       "       'Kazakhstan', 'Kenya', 'Kyrgyz Republic', 'Cambodia',\n",
       "       'South Korea', 'Kuwait', 'Laos', 'Lebanon', 'Liberia', 'Libya',\n",
       "       'Sri Lanka', 'Lesotho', 'Lithuania', 'Luxembourg', 'Latvia',\n",
       "       'Morocco', 'Moldova', 'Madagascar', 'Mexico', 'Mali', 'Myanmar',\n",
       "       'Mongolia', 'Mozambique', 'Mauritania', 'Montserrat', 'Mauritius',\n",
       "       'Malawi', 'Malaysia', 'Namibia', 'Niger', 'Nigeria', 'Nicaragua',\n",
       "       'Netherlands', 'Norway', 'Nepal', 'New Zealand', 'Oman',\n",
       "       'Pakistan', 'Panama', 'Peru', 'Philippines', 'Papua New Guinea',\n",
       "       'Poland', 'Puerto Rico', 'Portugal', 'Paraguay', 'Palestine',\n",
       "       'Qatar', 'Romania', 'Russia', 'Rwanda', 'Saudi Arabia', 'Sudan',\n",
       "       'Senegal', 'Singapore', 'Sierra Leone', 'El Salvador',\n",
       "       'San Marino', 'Somalia', 'Serbia', 'South Sudan', 'Suriname',\n",
       "       'Slovak Republic', 'Slovenia', 'Sweden', 'Eswatini', 'Seychelles',\n",
       "       'Syria', 'Turks and Caicos Islands', 'Chad', 'Togo', 'Thailand',\n",
       "       'Tajikistan', 'Timor-Leste', 'Trinidad and Tobago', 'Tunisia',\n",
       "       'Turkey', 'Taiwan', 'Tanzania', 'Uganda', 'Ukraine', 'Uruguay',\n",
       "       'United States', 'Uzbekistan', 'Venezuela',\n",
       "       'British Virgin Islands', 'Vietnam', 'Yemen', 'South Africa',\n",
       "       'Zambia', 'Zimbabwe'], dtype=object)"
      ]
     },
     "execution_count": 11,
     "metadata": {},
     "output_type": "execute_result"
    }
   ],
   "source": [
    "countries"
   ]
  },
  {
   "cell_type": "code",
   "execution_count": 12,
   "metadata": {},
   "outputs": [
    {
     "data": {
      "text/plain": [
       "179"
      ]
     },
     "execution_count": 12,
     "metadata": {},
     "output_type": "execute_result"
    }
   ],
   "source": [
    "len(countries)"
   ]
  },
  {
   "cell_type": "code",
   "execution_count": 13,
   "metadata": {},
   "outputs": [],
   "source": [
    "index_1 = round(len(countries)/4)\n",
    "index_2 = index_1 + index_1\n",
    "index_3 = index_2 + index_1"
   ]
  },
  {
   "cell_type": "code",
   "execution_count": 14,
   "metadata": {},
   "outputs": [
    {
     "data": {
      "text/plain": [
       "45"
      ]
     },
     "execution_count": 14,
     "metadata": {},
     "output_type": "execute_result"
    }
   ],
   "source": [
    "index_1"
   ]
  },
  {
   "cell_type": "code",
   "execution_count": 15,
   "metadata": {},
   "outputs": [],
   "source": [
    "countries11 = countries[:2]\n",
    "countries1 = countries[:index_1]\n",
    "countries2 = countries[index_1:index_2]\n",
    "countries3 = countries[index_2:index_3]\n",
    "countries4 = countries[index_3:]"
   ]
  },
  {
   "cell_type": "code",
   "execution_count": 16,
   "metadata": {},
   "outputs": [
    {
     "data": {
      "text/plain": [
       "array(['Aruba', 'Afghanistan'], dtype=object)"
      ]
     },
     "execution_count": 16,
     "metadata": {},
     "output_type": "execute_result"
    }
   ],
   "source": [
    "countries11"
   ]
  },
  {
   "cell_type": "code",
   "execution_count": null,
   "metadata": {},
   "outputs": [],
   "source": [
    "countries1"
   ]
  },
  {
   "cell_type": "code",
   "execution_count": null,
   "metadata": {},
   "outputs": [],
   "source": [
    "countries2"
   ]
  },
  {
   "cell_type": "code",
   "execution_count": null,
   "metadata": {},
   "outputs": [],
   "source": [
    "countries3"
   ]
  },
  {
   "cell_type": "code",
   "execution_count": null,
   "metadata": {},
   "outputs": [],
   "source": [
    "countries4"
   ]
  },
  {
   "cell_type": "code",
   "execution_count": 17,
   "metadata": {},
   "outputs": [],
   "source": [
    "# List of filtered countries for \"ramp up\" period - stringency index is at minimum 10 to first time index hits its maximum\n",
    "ramp_up = []"
   ]
  },
  {
   "cell_type": "code",
   "execution_count": 18,
   "metadata": {},
   "outputs": [
    {
     "ename": "MemoryError",
     "evalue": "",
     "output_type": "error",
     "traceback": [
      "\u001b[1;31m---------------------------------------------------------------------------\u001b[0m",
      "\u001b[1;31mMemoryError\u001b[0m                               Traceback (most recent call last)",
      "\u001b[1;32m<ipython-input-18-595f623fecad>\u001b[0m in \u001b[0;36m<module>\u001b[1;34m\u001b[0m\n\u001b[0;32m     25\u001b[0m \u001b[1;31m# del government_regulation\u001b[0m\u001b[1;33m\u001b[0m\u001b[1;33m\u001b[0m\u001b[1;33m\u001b[0m\u001b[0m\n\u001b[0;32m     26\u001b[0m \u001b[1;32mfor\u001b[0m \u001b[0mdf\u001b[0m \u001b[1;32min\u001b[0m \u001b[0mramp_up\u001b[0m\u001b[1;33m:\u001b[0m\u001b[1;33m\u001b[0m\u001b[1;33m\u001b[0m\u001b[0m\n\u001b[1;32m---> 27\u001b[1;33m     \u001b[0mramp_up_df\u001b[0m \u001b[1;33m=\u001b[0m \u001b[0mramp_up\u001b[0m\u001b[1;33m.\u001b[0m\u001b[0mappend\u001b[0m\u001b[1;33m(\u001b[0m\u001b[0mdf\u001b[0m\u001b[1;33m)\u001b[0m\u001b[1;33m\u001b[0m\u001b[1;33m\u001b[0m\u001b[0m\n\u001b[0m",
      "\u001b[1;31mMemoryError\u001b[0m: "
     ]
    }
   ],
   "source": [
    "# Loop through all countries and capture ramp up period\n",
    "for location in countries11:\n",
    "    country = government_regulation.loc[government_regulation[\"CountryName\"]==location].copy()\n",
    "   \n",
    "    country = country.loc[(country.StringencyIndex_updated >= 10) &\n",
    "                   (country.percentage_change_stringency > 0) &\n",
    "                   (country.StringencyIndex_updated <= country[\"StringencyIndex_updated\"].max())\n",
    "                  ]\n",
    "    \n",
    "    country['Date_updated'] = pd.to_datetime(country['Date_updated'])\n",
    "    country.reset_index(inplace=True)\n",
    "    \n",
    "    ramp_up_max = country.StringencyIndex_updated.max()\n",
    "    ramp_up_end_date = country.loc[country.StringencyIndex_updated == ramp_up_max]\n",
    "    ramp_up_end_date = ramp_up_end_date.drop_duplicates(subset=['StringencyIndex_updated'], keep='first')\n",
    "    ramp_up_date = ramp_up_end_date['Date_updated']\n",
    "    index = ramp_up_date.index.values\n",
    "    index = index.tolist()\n",
    "    \n",
    "    country.drop(country.index[np.where(country.index > index)[0]])\n",
    "    \n",
    "    ramp_up.append(country)\n",
    "\n",
    "ramp_up_df = pd.DataFrame()\n",
    "# del government_regulation\n",
    "for df in ramp_up:\n",
    "    ramp_up_df = ramp_up.append(df)"
   ]
  },
  {
   "cell_type": "code",
   "execution_count": null,
   "metadata": {},
   "outputs": [],
   "source": [
    "ramp_up_df"
   ]
  },
  {
   "cell_type": "markdown",
   "metadata": {},
   "source": [
    "# without for loop"
   ]
  },
  {
   "cell_type": "code",
   "execution_count": null,
   "metadata": {},
   "outputs": [],
   "source": [
    "China = government_regulation.loc[government_regulation[\"CountryName\"]==\"China\"].copy()\n",
    "   \n",
    "China = China.loc[(China.StringencyIndex_updated >= 10) &\n",
    "               (China.percentage_change_stringency > 0) &\n",
    "               (China.StringencyIndex_updated <= China[\"StringencyIndex_updated\"].max())\n",
    "              ]\n",
    "    \n",
    "China['Date_updated'] = pd.to_datetime(China['Date_updated'])\n",
    "China.reset_index(inplace=True)\n",
    "    \n",
    "ramp_up_max = China.StringencyIndex_updated.max()\n",
    "ramp_up_end_date = China.loc[China.StringencyIndex_updated == ramp_up_max]\n",
    "ramp_up_end_date = ramp_up_end_date.drop_duplicates(subset=['StringencyIndex_updated'], keep='first')\n",
    "ramp_up_date = ramp_up_end_date['Date_updated']\n",
    "index = ramp_up_date.index.values\n",
    "index = index.tolist()\n",
    "    \n",
    "China.drop(China.index[np.where(China.index > index)[0]])"
   ]
  },
  {
   "cell_type": "code",
   "execution_count": null,
   "metadata": {},
   "outputs": [],
   "source": []
  }
 ],
 "metadata": {
  "kernelspec": {
   "display_name": "Python 3",
   "language": "python",
   "name": "python3"
  },
  "language_info": {
   "codemirror_mode": {
    "name": "ipython",
    "version": 3
   },
   "file_extension": ".py",
   "mimetype": "text/x-python",
   "name": "python",
   "nbconvert_exporter": "python",
   "pygments_lexer": "ipython3",
   "version": "3.7.7"
  }
 },
 "nbformat": 4,
 "nbformat_minor": 4
}
