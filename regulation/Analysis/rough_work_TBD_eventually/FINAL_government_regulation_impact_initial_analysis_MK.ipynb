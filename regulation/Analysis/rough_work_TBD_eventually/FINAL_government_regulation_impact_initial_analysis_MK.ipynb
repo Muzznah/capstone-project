{
 "cells": [
  {
   "cell_type": "markdown",
   "metadata": {},
   "source": [
    "https://github.com/jupyter/notebook/issues/2287\n",
    "\n",
    "incase you run into an issue with running the code due to exceeding run rate (?)"
   ]
  },
  {
   "cell_type": "code",
   "execution_count": 1,
   "metadata": {},
   "outputs": [],
   "source": [
    "# imports for database connection\n",
    "import pandas as pd\n",
    "import sqlalchemy\n",
    "from sqlalchemy.ext.automap import automap_base\n",
    "from sqlalchemy import create_engine, func\n",
    "\n",
    "# import these to view table column headers & rows\n",
    "from sqlalchemy.orm import sessionmaker\n",
    "from sqlalchemy import select\n",
    "\n",
    "# Import the dependencies for analysis\n",
    "%matplotlib inline\n",
    "\n",
    "import numpy as np\n",
    "import pandas as pd\n",
    "import datetime as dt\n",
    "from datetime import timedelta\n",
    "import matplotlib.pyplot as plt"
   ]
  },
  {
   "cell_type": "code",
   "execution_count": 2,
   "metadata": {},
   "outputs": [],
   "source": [
    "# UPDATE PATH ONCE FINAL ANALYSIS FILE IS COMPILED\n",
    "engine = create_engine(\"sqlite:///../../Resources/covid_db.db\")"
   ]
  },
  {
   "cell_type": "code",
   "execution_count": 3,
   "metadata": {},
   "outputs": [],
   "source": [
    "# reflect an existing database into a new model (creates base class for automap schema)\n",
    "Base = automap_base()"
   ]
  },
  {
   "cell_type": "code",
   "execution_count": 4,
   "metadata": {},
   "outputs": [],
   "source": [
    "# reflect the tables\n",
    "Base.prepare(engine, reflect=True)"
   ]
  },
  {
   "cell_type": "code",
   "execution_count": 5,
   "metadata": {},
   "outputs": [
    {
     "data": {
      "text/plain": [
       "['covid_stats', 'government_regulation']"
      ]
     },
     "execution_count": 5,
     "metadata": {},
     "output_type": "execute_result"
    }
   ],
   "source": [
    "Base.classes.keys()"
   ]
  },
  {
   "cell_type": "code",
   "execution_count": 6,
   "metadata": {},
   "outputs": [],
   "source": [
    "# save references to each table\n",
    "covid_stats = Base.classes.covid_stats\n",
    "government_regulation = Base.classes.government_regulation"
   ]
  },
  {
   "cell_type": "code",
   "execution_count": 7,
   "metadata": {},
   "outputs": [],
   "source": [
    "# Create session (link) from Python to the database\n",
    "session = sessionmaker(bind=engine)()"
   ]
  },
  {
   "cell_type": "code",
   "execution_count": 8,
   "metadata": {},
   "outputs": [],
   "source": [
    "# Merge covid_stats_table with government regulation_table\n",
    "joined = session.query(covid_stats.primary_key_reaction,\\\n",
    "                        covid_stats.date_updated,\\\n",
    "                        covid_stats.iso_code,\\\n",
    "                        covid_stats.continent,\\\n",
    "                        covid_stats.location,\\\n",
    "                        covid_stats.population,\\\n",
    "                        covid_stats.population_density,\\\n",
    "                        covid_stats.median_age,\\\n",
    "                        covid_stats.new_cases,\\\n",
    "                        covid_stats.percentage_of_Pop_New_Cases,\\\n",
    "                        covid_stats.new_deaths,\\\n",
    "                        covid_stats.percentage_of_Pop_New_Deaths,\\\n",
    "                        covid_stats.new_tests,\\\n",
    "                        covid_stats.percentage_of_Pop_New_Tests,\\\n",
    "                        covid_stats.total_cases_updated,\\\n",
    "                        covid_stats.percentage_of_Pop_Total_Cases,\\\n",
    "                        covid_stats.total_deaths_updated,\\\n",
    "                        covid_stats.percentage_of_Pop_Total_Deaths,\\\n",
    "                        covid_stats.total_tests_updated,\\\n",
    "                        covid_stats.percentage_of_Pop_Total_Tests,\\\n",
    "                       government_regulation.primary_key_response,\\\n",
    "                       government_regulation.StringencyIndex_updated,\\\n",
    "                       government_regulation.percentage_change_stringency,\\\n",
    "                       government_regulation.StringencyLegacyIndex_updated,\\\n",
    "                       government_regulation.GovernmentResponseIndex_updated,\\\n",
    "                       government_regulation.percentage_change_GovernmentResponse,\\\n",
    "                       government_regulation.ContainmentHealthIndex_updated,\\\n",
    "                       government_regulation.percentage_change_ContainmentHealth,\\\n",
    "                       government_regulation.EconomicSupportIndex_updated,\\\n",
    "                       government_regulation.percentage_change_EconomicSupport)\\\n",
    "        .join(government_regulation,government_regulation.primary_key_response == covid_stats.primary_key_reaction)\n",
    "\n",
    "# save the query results as a Pandas DataFrame and set the index\n",
    "merged_covid_df = pd.DataFrame(joined, columns=['primary_key_reaction',\n",
    "                                             'date_updated',\n",
    "                                             'iso_code',\n",
    "                                             'continent',\n",
    "                                             'location',\n",
    "                                             'population',\n",
    "                                             'population_density',\n",
    "                                             'median_age',\n",
    "                                             'new_cases',\n",
    "                                             'percentage_of_Pop_New_Cases',\n",
    "                                             'new_deaths',\n",
    "                                             'percentage_of_Pop_New_Deaths',\n",
    "                                             'new_tests',\n",
    "                                             'percentage_of_Pop_New_Tests',\n",
    "                                             'total_cases_updated',\n",
    "                                             'percentage_of_Pop_Total_Cases',\n",
    "                                             'total_deaths_updated',\n",
    "                                             'percentage_of_Pop_Total_Deaths',\n",
    "                                             'total_tests_updated',\n",
    "                                             'percentage_of_Pop_Total_Tests',\n",
    "                                             'primary_key_response',\n",
    "                                             'StringencyIndex_updated',\n",
    "                                             'percentage_change_stringency',\n",
    "                                             'StringencyLegacyIndex_updated',\n",
    "                                             'GovernmentResponseIndex_updated',\n",
    "                                             'percentage_change_GovernmentResponse',\n",
    "                                             'ContainmentHealthIndex_updated',\n",
    "                                             'percentage_change_ContainmentHealth',\n",
    "                                             'EconomicSupportIndex_updated',\n",
    "                                             'percentage_change_EconomicSupport'\n",
    "                                             ])"
   ]
  },
  {
   "cell_type": "code",
   "execution_count": 9,
   "metadata": {},
   "outputs": [
    {
     "data": {
      "text/html": [
       "<div>\n",
       "<style scoped>\n",
       "    .dataframe tbody tr th:only-of-type {\n",
       "        vertical-align: middle;\n",
       "    }\n",
       "\n",
       "    .dataframe tbody tr th {\n",
       "        vertical-align: top;\n",
       "    }\n",
       "\n",
       "    .dataframe thead th {\n",
       "        text-align: right;\n",
       "    }\n",
       "</style>\n",
       "<table border=\"1\" class=\"dataframe\">\n",
       "  <thead>\n",
       "    <tr style=\"text-align: right;\">\n",
       "      <th></th>\n",
       "      <th>primary_key_reaction</th>\n",
       "      <th>date_updated</th>\n",
       "      <th>iso_code</th>\n",
       "      <th>continent</th>\n",
       "      <th>location</th>\n",
       "      <th>population</th>\n",
       "      <th>population_density</th>\n",
       "      <th>median_age</th>\n",
       "      <th>new_cases</th>\n",
       "      <th>percentage_of_Pop_New_Cases</th>\n",
       "      <th>...</th>\n",
       "      <th>primary_key_response</th>\n",
       "      <th>StringencyIndex_updated</th>\n",
       "      <th>percentage_change_stringency</th>\n",
       "      <th>StringencyLegacyIndex_updated</th>\n",
       "      <th>GovernmentResponseIndex_updated</th>\n",
       "      <th>percentage_change_GovernmentResponse</th>\n",
       "      <th>ContainmentHealthIndex_updated</th>\n",
       "      <th>percentage_change_ContainmentHealth</th>\n",
       "      <th>EconomicSupportIndex_updated</th>\n",
       "      <th>percentage_change_EconomicSupport</th>\n",
       "    </tr>\n",
       "  </thead>\n",
       "  <tbody>\n",
       "    <tr>\n",
       "      <th>0</th>\n",
       "      <td>ABW2020-03-13</td>\n",
       "      <td>2020-03-13</td>\n",
       "      <td>ABW</td>\n",
       "      <td>North America</td>\n",
       "      <td>Aruba</td>\n",
       "      <td>106766</td>\n",
       "      <td>584.800</td>\n",
       "      <td>41.2</td>\n",
       "      <td>2</td>\n",
       "      <td>0.001873</td>\n",
       "      <td>...</td>\n",
       "      <td>ABW2020-03-13</td>\n",
       "      <td>0.00</td>\n",
       "      <td>0.000000</td>\n",
       "      <td>0.00</td>\n",
       "      <td>2.56</td>\n",
       "      <td>0.000000</td>\n",
       "      <td>3.03</td>\n",
       "      <td>0.000000</td>\n",
       "      <td>0.0</td>\n",
       "      <td>0.0</td>\n",
       "    </tr>\n",
       "    <tr>\n",
       "      <th>1</th>\n",
       "      <td>ABW2020-03-19</td>\n",
       "      <td>2020-03-19</td>\n",
       "      <td>ABW</td>\n",
       "      <td>North America</td>\n",
       "      <td>Aruba</td>\n",
       "      <td>106766</td>\n",
       "      <td>584.800</td>\n",
       "      <td>41.2</td>\n",
       "      <td>0</td>\n",
       "      <td>0.000000</td>\n",
       "      <td>...</td>\n",
       "      <td>ABW2020-03-19</td>\n",
       "      <td>33.33</td>\n",
       "      <td>0.000000</td>\n",
       "      <td>42.86</td>\n",
       "      <td>29.49</td>\n",
       "      <td>15.015601</td>\n",
       "      <td>34.85</td>\n",
       "      <td>15.016502</td>\n",
       "      <td>0.0</td>\n",
       "      <td>0.0</td>\n",
       "    </tr>\n",
       "    <tr>\n",
       "      <th>2</th>\n",
       "      <td>ABW2020-03-20</td>\n",
       "      <td>2020-03-20</td>\n",
       "      <td>ABW</td>\n",
       "      <td>North America</td>\n",
       "      <td>Aruba</td>\n",
       "      <td>106766</td>\n",
       "      <td>584.800</td>\n",
       "      <td>41.2</td>\n",
       "      <td>2</td>\n",
       "      <td>0.001873</td>\n",
       "      <td>...</td>\n",
       "      <td>ABW2020-03-20</td>\n",
       "      <td>33.33</td>\n",
       "      <td>0.000000</td>\n",
       "      <td>42.86</td>\n",
       "      <td>29.49</td>\n",
       "      <td>0.000000</td>\n",
       "      <td>34.85</td>\n",
       "      <td>0.000000</td>\n",
       "      <td>0.0</td>\n",
       "      <td>0.0</td>\n",
       "    </tr>\n",
       "    <tr>\n",
       "      <th>3</th>\n",
       "      <td>ABW2020-03-21</td>\n",
       "      <td>2020-03-21</td>\n",
       "      <td>ABW</td>\n",
       "      <td>North America</td>\n",
       "      <td>Aruba</td>\n",
       "      <td>106766</td>\n",
       "      <td>584.800</td>\n",
       "      <td>41.2</td>\n",
       "      <td>0</td>\n",
       "      <td>0.000000</td>\n",
       "      <td>...</td>\n",
       "      <td>ABW2020-03-21</td>\n",
       "      <td>44.44</td>\n",
       "      <td>33.333333</td>\n",
       "      <td>60.71</td>\n",
       "      <td>37.18</td>\n",
       "      <td>26.076636</td>\n",
       "      <td>43.94</td>\n",
       "      <td>26.083214</td>\n",
       "      <td>0.0</td>\n",
       "      <td>0.0</td>\n",
       "    </tr>\n",
       "    <tr>\n",
       "      <th>4</th>\n",
       "      <td>ABW2020-03-22</td>\n",
       "      <td>2020-03-22</td>\n",
       "      <td>ABW</td>\n",
       "      <td>North America</td>\n",
       "      <td>Aruba</td>\n",
       "      <td>106766</td>\n",
       "      <td>584.800</td>\n",
       "      <td>41.2</td>\n",
       "      <td>0</td>\n",
       "      <td>0.000000</td>\n",
       "      <td>...</td>\n",
       "      <td>ABW2020-03-22</td>\n",
       "      <td>44.44</td>\n",
       "      <td>0.000000</td>\n",
       "      <td>60.71</td>\n",
       "      <td>37.18</td>\n",
       "      <td>0.000000</td>\n",
       "      <td>43.94</td>\n",
       "      <td>0.000000</td>\n",
       "      <td>0.0</td>\n",
       "      <td>0.0</td>\n",
       "    </tr>\n",
       "    <tr>\n",
       "      <th>...</th>\n",
       "      <td>...</td>\n",
       "      <td>...</td>\n",
       "      <td>...</td>\n",
       "      <td>...</td>\n",
       "      <td>...</td>\n",
       "      <td>...</td>\n",
       "      <td>...</td>\n",
       "      <td>...</td>\n",
       "      <td>...</td>\n",
       "      <td>...</td>\n",
       "      <td>...</td>\n",
       "      <td>...</td>\n",
       "      <td>...</td>\n",
       "      <td>...</td>\n",
       "      <td>...</td>\n",
       "      <td>...</td>\n",
       "      <td>...</td>\n",
       "      <td>...</td>\n",
       "      <td>...</td>\n",
       "      <td>...</td>\n",
       "      <td>...</td>\n",
       "    </tr>\n",
       "    <tr>\n",
       "      <th>32272</th>\n",
       "      <td>ZWE2020-08-27</td>\n",
       "      <td>2020-08-27</td>\n",
       "      <td>ZWE</td>\n",
       "      <td>Africa</td>\n",
       "      <td>Zimbabwe</td>\n",
       "      <td>14862927</td>\n",
       "      <td>42.729</td>\n",
       "      <td>19.6</td>\n",
       "      <td>55</td>\n",
       "      <td>0.000370</td>\n",
       "      <td>...</td>\n",
       "      <td>ZWE2020-08-27</td>\n",
       "      <td>80.56</td>\n",
       "      <td>0.000000</td>\n",
       "      <td>88.10</td>\n",
       "      <td>66.03</td>\n",
       "      <td>0.000000</td>\n",
       "      <td>73.48</td>\n",
       "      <td>0.000000</td>\n",
       "      <td>25.0</td>\n",
       "      <td>0.0</td>\n",
       "    </tr>\n",
       "    <tr>\n",
       "      <th>32273</th>\n",
       "      <td>ZWE2020-08-28</td>\n",
       "      <td>2020-08-28</td>\n",
       "      <td>ZWE</td>\n",
       "      <td>Africa</td>\n",
       "      <td>Zimbabwe</td>\n",
       "      <td>14862927</td>\n",
       "      <td>42.729</td>\n",
       "      <td>19.6</td>\n",
       "      <td>41</td>\n",
       "      <td>0.000276</td>\n",
       "      <td>...</td>\n",
       "      <td>ZWE2020-08-28</td>\n",
       "      <td>80.56</td>\n",
       "      <td>0.000000</td>\n",
       "      <td>88.10</td>\n",
       "      <td>66.03</td>\n",
       "      <td>0.000000</td>\n",
       "      <td>73.48</td>\n",
       "      <td>0.000000</td>\n",
       "      <td>25.0</td>\n",
       "      <td>0.0</td>\n",
       "    </tr>\n",
       "    <tr>\n",
       "      <th>32274</th>\n",
       "      <td>ZWE2020-08-29</td>\n",
       "      <td>2020-08-29</td>\n",
       "      <td>ZWE</td>\n",
       "      <td>Africa</td>\n",
       "      <td>Zimbabwe</td>\n",
       "      <td>14862927</td>\n",
       "      <td>42.729</td>\n",
       "      <td>19.6</td>\n",
       "      <td>96</td>\n",
       "      <td>0.000646</td>\n",
       "      <td>...</td>\n",
       "      <td>ZWE2020-08-29</td>\n",
       "      <td>80.56</td>\n",
       "      <td>0.000000</td>\n",
       "      <td>88.10</td>\n",
       "      <td>66.03</td>\n",
       "      <td>0.000000</td>\n",
       "      <td>73.48</td>\n",
       "      <td>0.000000</td>\n",
       "      <td>25.0</td>\n",
       "      <td>0.0</td>\n",
       "    </tr>\n",
       "    <tr>\n",
       "      <th>32275</th>\n",
       "      <td>ZWE2020-08-30</td>\n",
       "      <td>2020-08-30</td>\n",
       "      <td>ZWE</td>\n",
       "      <td>Africa</td>\n",
       "      <td>Zimbabwe</td>\n",
       "      <td>14862927</td>\n",
       "      <td>42.729</td>\n",
       "      <td>19.6</td>\n",
       "      <td>18</td>\n",
       "      <td>0.000121</td>\n",
       "      <td>...</td>\n",
       "      <td>ZWE2020-08-30</td>\n",
       "      <td>80.56</td>\n",
       "      <td>0.000000</td>\n",
       "      <td>88.10</td>\n",
       "      <td>66.03</td>\n",
       "      <td>0.000000</td>\n",
       "      <td>73.48</td>\n",
       "      <td>0.000000</td>\n",
       "      <td>25.0</td>\n",
       "      <td>0.0</td>\n",
       "    </tr>\n",
       "    <tr>\n",
       "      <th>32276</th>\n",
       "      <td>ZWE2020-08-31</td>\n",
       "      <td>2020-08-31</td>\n",
       "      <td>ZWE</td>\n",
       "      <td>Africa</td>\n",
       "      <td>Zimbabwe</td>\n",
       "      <td>14862927</td>\n",
       "      <td>42.729</td>\n",
       "      <td>19.6</td>\n",
       "      <td>6</td>\n",
       "      <td>0.000040</td>\n",
       "      <td>...</td>\n",
       "      <td>ZWE2020-08-31</td>\n",
       "      <td>80.56</td>\n",
       "      <td>0.000000</td>\n",
       "      <td>88.10</td>\n",
       "      <td>66.03</td>\n",
       "      <td>0.000000</td>\n",
       "      <td>73.48</td>\n",
       "      <td>0.000000</td>\n",
       "      <td>25.0</td>\n",
       "      <td>0.0</td>\n",
       "    </tr>\n",
       "  </tbody>\n",
       "</table>\n",
       "<p>32277 rows × 30 columns</p>\n",
       "</div>"
      ],
      "text/plain": [
       "      primary_key_reaction date_updated iso_code      continent  location  \\\n",
       "0            ABW2020-03-13   2020-03-13      ABW  North America     Aruba   \n",
       "1            ABW2020-03-19   2020-03-19      ABW  North America     Aruba   \n",
       "2            ABW2020-03-20   2020-03-20      ABW  North America     Aruba   \n",
       "3            ABW2020-03-21   2020-03-21      ABW  North America     Aruba   \n",
       "4            ABW2020-03-22   2020-03-22      ABW  North America     Aruba   \n",
       "...                    ...          ...      ...            ...       ...   \n",
       "32272        ZWE2020-08-27   2020-08-27      ZWE         Africa  Zimbabwe   \n",
       "32273        ZWE2020-08-28   2020-08-28      ZWE         Africa  Zimbabwe   \n",
       "32274        ZWE2020-08-29   2020-08-29      ZWE         Africa  Zimbabwe   \n",
       "32275        ZWE2020-08-30   2020-08-30      ZWE         Africa  Zimbabwe   \n",
       "32276        ZWE2020-08-31   2020-08-31      ZWE         Africa  Zimbabwe   \n",
       "\n",
       "       population  population_density  median_age  new_cases  \\\n",
       "0          106766             584.800        41.2          2   \n",
       "1          106766             584.800        41.2          0   \n",
       "2          106766             584.800        41.2          2   \n",
       "3          106766             584.800        41.2          0   \n",
       "4          106766             584.800        41.2          0   \n",
       "...           ...                 ...         ...        ...   \n",
       "32272    14862927              42.729        19.6         55   \n",
       "32273    14862927              42.729        19.6         41   \n",
       "32274    14862927              42.729        19.6         96   \n",
       "32275    14862927              42.729        19.6         18   \n",
       "32276    14862927              42.729        19.6          6   \n",
       "\n",
       "       percentage_of_Pop_New_Cases  ...  primary_key_response  \\\n",
       "0                         0.001873  ...         ABW2020-03-13   \n",
       "1                         0.000000  ...         ABW2020-03-19   \n",
       "2                         0.001873  ...         ABW2020-03-20   \n",
       "3                         0.000000  ...         ABW2020-03-21   \n",
       "4                         0.000000  ...         ABW2020-03-22   \n",
       "...                            ...  ...                   ...   \n",
       "32272                     0.000370  ...         ZWE2020-08-27   \n",
       "32273                     0.000276  ...         ZWE2020-08-28   \n",
       "32274                     0.000646  ...         ZWE2020-08-29   \n",
       "32275                     0.000121  ...         ZWE2020-08-30   \n",
       "32276                     0.000040  ...         ZWE2020-08-31   \n",
       "\n",
       "       StringencyIndex_updated  percentage_change_stringency  \\\n",
       "0                         0.00                      0.000000   \n",
       "1                        33.33                      0.000000   \n",
       "2                        33.33                      0.000000   \n",
       "3                        44.44                     33.333333   \n",
       "4                        44.44                      0.000000   \n",
       "...                        ...                           ...   \n",
       "32272                    80.56                      0.000000   \n",
       "32273                    80.56                      0.000000   \n",
       "32274                    80.56                      0.000000   \n",
       "32275                    80.56                      0.000000   \n",
       "32276                    80.56                      0.000000   \n",
       "\n",
       "       StringencyLegacyIndex_updated  GovernmentResponseIndex_updated  \\\n",
       "0                               0.00                             2.56   \n",
       "1                              42.86                            29.49   \n",
       "2                              42.86                            29.49   \n",
       "3                              60.71                            37.18   \n",
       "4                              60.71                            37.18   \n",
       "...                              ...                              ...   \n",
       "32272                          88.10                            66.03   \n",
       "32273                          88.10                            66.03   \n",
       "32274                          88.10                            66.03   \n",
       "32275                          88.10                            66.03   \n",
       "32276                          88.10                            66.03   \n",
       "\n",
       "       percentage_change_GovernmentResponse  ContainmentHealthIndex_updated  \\\n",
       "0                                  0.000000                            3.03   \n",
       "1                                 15.015601                           34.85   \n",
       "2                                  0.000000                           34.85   \n",
       "3                                 26.076636                           43.94   \n",
       "4                                  0.000000                           43.94   \n",
       "...                                     ...                             ...   \n",
       "32272                              0.000000                           73.48   \n",
       "32273                              0.000000                           73.48   \n",
       "32274                              0.000000                           73.48   \n",
       "32275                              0.000000                           73.48   \n",
       "32276                              0.000000                           73.48   \n",
       "\n",
       "       percentage_change_ContainmentHealth  EconomicSupportIndex_updated  \\\n",
       "0                                 0.000000                           0.0   \n",
       "1                                15.016502                           0.0   \n",
       "2                                 0.000000                           0.0   \n",
       "3                                26.083214                           0.0   \n",
       "4                                 0.000000                           0.0   \n",
       "...                                    ...                           ...   \n",
       "32272                             0.000000                          25.0   \n",
       "32273                             0.000000                          25.0   \n",
       "32274                             0.000000                          25.0   \n",
       "32275                             0.000000                          25.0   \n",
       "32276                             0.000000                          25.0   \n",
       "\n",
       "       percentage_change_EconomicSupport  \n",
       "0                                    0.0  \n",
       "1                                    0.0  \n",
       "2                                    0.0  \n",
       "3                                    0.0  \n",
       "4                                    0.0  \n",
       "...                                  ...  \n",
       "32272                                0.0  \n",
       "32273                                0.0  \n",
       "32274                                0.0  \n",
       "32275                                0.0  \n",
       "32276                                0.0  \n",
       "\n",
       "[32277 rows x 30 columns]"
      ]
     },
     "execution_count": 9,
     "metadata": {},
     "output_type": "execute_result"
    }
   ],
   "source": [
    "# preview \n",
    "merged_covid_df"
   ]
  },
  {
   "cell_type": "markdown",
   "metadata": {},
   "source": [
    "### Trying to create a charts that shows shows historicals for index, cases, deaths, and tests"
   ]
  },
  {
   "cell_type": "code",
   "execution_count": 10,
   "metadata": {},
   "outputs": [],
   "source": [
    "# Create new Dataframe filtered for Canada\n",
    "canada_df = pd.DataFrame(merged_covid_df.loc[merged_covid_df[\"location\"]==\"Canada\"].reset_index())\n",
    "canada_df = canada_df.drop([\"index\"],axis=1)\n",
    "# canada_df"
   ]
  },
  {
   "cell_type": "code",
   "execution_count": 11,
   "metadata": {},
   "outputs": [],
   "source": [
    "# Create new Dataframe filtered for USA\n",
    "usa_df = pd.DataFrame(merged_covid_df.loc[merged_covid_df[\"location\"]==\"United States\"].reset_index())\n",
    "usa_df = usa_df.drop([\"index\"],axis=1)\n",
    "# usa_df"
   ]
  },
  {
   "cell_type": "code",
   "execution_count": 12,
   "metadata": {},
   "outputs": [],
   "source": [
    "# Set up all x and y axis for Canada\n",
    "x_axis = canada_df[\"date_updated\"]\n",
    "\n",
    "y_axis = canada_df[\"StringencyIndex_updated\"]\n",
    "y_axis1 = canada_df[\"total_cases_updated\"]\n",
    "y_axis2 = canada_df[\"total_tests_updated\"]\n",
    "y_axis3 = canada_df[\"total_deaths_updated\"]\n",
    "y_axis4 = canada_df[\"new_cases\"]\n",
    "y_axis5 = canada_df[\"new_tests\"]\n",
    "y_axis6 = canada_df[\"new_deaths\"]"
   ]
  },
  {
   "cell_type": "code",
   "execution_count": 13,
   "metadata": {},
   "outputs": [],
   "source": [
    "# Set up all x and y axis for USA\n",
    "x_axis0 = usa_df[\"date_updated\"]\n",
    "\n",
    "y_axis0 = usa_df[\"StringencyIndex_updated\"]\n",
    "y_axis01 = usa_df[\"total_cases_updated\"]\n",
    "y_axis02 = usa_df[\"total_tests_updated\"]\n",
    "y_axis03 = usa_df[\"total_deaths_updated\"]\n",
    "y_axis04 = usa_df[\"new_cases\"]\n",
    "y_axis05 = usa_df[\"new_tests\"]\n",
    "y_axis06 = usa_df[\"new_deaths\"]"
   ]
  },
  {
   "cell_type": "code",
   "execution_count": 16,
   "metadata": {},
   "outputs": [
    {
     "data": {
      "text/plain": [
       "Text(0.5, 1.0, 'Stringency Index by Day - CANADA')"
      ]
     },
     "execution_count": 16,
     "metadata": {},
     "output_type": "execute_result"
    },
    {
     "data": {
      "image/png": "[encoded data removed]",
      "text/plain": [
       "<Figure size 432x288 with 1 Axes>"
      ]
     },
     "metadata": {
      "needs_background": "light"
     },
     "output_type": "display_data"
    }
   ],
   "source": [
    "# Create the plot - canada\n",
    "plt.bar(x_axis, y_axis, color=\"red\", label=\"Stringency Index\")\n",
    "\n",
    "# Create labels for the x and y axis\n",
    "plt.xlabel(\"Date\")\n",
    "plt.ylabel(\"Stringency Index\")\n",
    "\n",
    "# Create a title\n",
    "plt.title(\"Stringency Index by Day - CANADA\")"
   ]
  },
  {
   "cell_type": "code",
   "execution_count": 15,
   "metadata": {},
   "outputs": [
    {
     "data": {
      "text/plain": [
       "Text(0.5, 1.0, 'Stringency Index by Day - USA')"
      ]
     },
     "execution_count": 15,
     "metadata": {},
     "output_type": "execute_result"
    },
    {
     "data": {
      "image/png": "[encoded data removed]",
      "text/plain": [
       "<Figure size 432x288 with 1 Axes>"
      ]
     },
     "metadata": {
      "needs_background": "light"
     },
     "output_type": "display_data"
    }
   ],
   "source": [
    "# Create the plot - usa\n",
    "plt.bar(x_axis0, y_axis0, color=\"red\", label=\"Stringency Index\")\n",
    "\n",
    "# Create labels for the x and y axis\n",
    "plt.xlabel(\"Date\")\n",
    "plt.ylabel(\"Stringency Index\")\n",
    "\n",
    "# Create a title\n",
    "plt.title(\"Stringency Index by Day - USA\")"
   ]
  },
  {
   "cell_type": "code",
   "execution_count": 19,
   "metadata": {},
   "outputs": [
    {
     "data": {
      "image/png": "[encoded data removed]",
      "text/plain": [
       "<Figure size 432x288 with 2 Axes>"
      ]
     },
     "metadata": {},
     "output_type": "display_data"
    }
   ],
   "source": [
    "# Create comparison plot - index vs daily cases\n",
    "fig, ax1 = plt.subplots()\n",
    "\n",
    "color = 'tab:orange'\n",
    "ax1.set_xlabel('Jan 1, 2020 to August 30, 2020')\n",
    "ax1.set_ylabel('Stringency Index', color=color)\n",
    "ax1.bar(x_axis, y_axis, color=color)\n",
    "ax1.tick_params(axis='y', labelcolor=color)\n",
    "\n",
    "ax2 = ax1.twinx()  # instantiate a second axes that shares the same x-axis\n",
    "\n",
    "color = 'tab:blue'\n",
    "ax2.set_ylabel('Daily Cases', color=color)  # we already handled the x-label with ax1\n",
    "ax2.plot(x_axis, y_axis4, color=color)\n",
    "ax2.tick_params(axis='y', labelcolor=color)\n",
    "\n",
    "plt.title(\"Stringency Index vs Daily Cases - Canada\")\n",
    "\n",
    "fig.tight_layout()  # otherwise the right y-label is slightly clipped\n",
    "plt.show()"
   ]
  },
  {
   "cell_type": "code",
   "execution_count": 20,
   "metadata": {},
   "outputs": [
    {
     "data": {
      "image/png": "[encoded data removed]",
      "text/plain": [
       "<Figure size 432x288 with 2 Axes>"
      ]
     },
     "metadata": {},
     "output_type": "display_data"
    }
   ],
   "source": [
    "# Create comparison plot - index vs daily cases\n",
    "fig, ax1 = plt.subplots()\n",
    "\n",
    "color = 'tab:orange'\n",
    "ax1.set_xlabel('Jan 1, 2020 to August 30, 2020')\n",
    "ax1.set_ylabel('Stringency Index', color=color)\n",
    "ax1.bar(x_axis, y_axis0, color=color)\n",
    "ax1.tick_params(axis='y', labelcolor=color)\n",
    "\n",
    "ax2 = ax1.twinx()  # instantiate a second axes that shares the same x-axis\n",
    "\n",
    "color = 'tab:blue'\n",
    "ax2.set_ylabel('Daily Cases', color=color)  # we already handled the x-label with ax1\n",
    "ax2.plot(x_axis, y_axis04, color=color)\n",
    "ax2.tick_params(axis='y', labelcolor=color)\n",
    "\n",
    "plt.title(\"Stringency Index vs Daily Cases - USA\")\n",
    "\n",
    "fig.tight_layout()  # otherwise the right y-label is slightly clipped\n",
    "plt.show()"
   ]
  },
  {
   "cell_type": "markdown",
   "metadata": {},
   "source": [
    "# interesting to note that when daily cases increase, stringency decreases"
   ]
  },
  {
   "cell_type": "code",
   "execution_count": 21,
   "metadata": {},
   "outputs": [
    {
     "data": {
      "text/plain": [
       "<matplotlib.legend.Legend at 0x179b440c888>"
      ]
     },
     "execution_count": 21,
     "metadata": {},
     "output_type": "execute_result"
    },
    {
     "data": {
      "image/png": "[encoded data removed]",
      "text/plain": [
       "<Figure size 432x288 with 1 Axes>"
      ]
     },
     "metadata": {
      "needs_background": "light"
     },
     "output_type": "display_data"
    }
   ],
   "source": [
    "# Create the stacked bar chart - Canada\n",
    "p1 = plt.bar(x_axis, y_axis1)\n",
    "p2 = plt.bar(x_axis, y_axis3)\n",
    "\n",
    "plt.title(\"Total Cases vs Total Deaths - Canada\")\n",
    "\n",
    "plt.legend([\"total_cases\", \"total_deaths\"])"
   ]
  },
  {
   "cell_type": "code",
   "execution_count": 22,
   "metadata": {},
   "outputs": [
    {
     "data": {
      "text/plain": [
       "<matplotlib.legend.Legend at 0x179b2122e48>"
      ]
     },
     "execution_count": 22,
     "metadata": {},
     "output_type": "execute_result"
    },
    {
     "data": {
      "image/png": "[encoded data removed]",
      "text/plain": [
       "<Figure size 432x288 with 1 Axes>"
      ]
     },
     "metadata": {
      "needs_background": "light"
     },
     "output_type": "display_data"
    }
   ],
   "source": [
    "# Create the stacked bar chart - USA\n",
    "p01 = plt.bar(x_axis, y_axis01)\n",
    "p02 = plt.bar(x_axis, y_axis03)\n",
    "\n",
    "plt.title(\"Total Cases vs Total Deaths - USA\")\n",
    "\n",
    "plt.legend([\"total_cases\", \"total_deaths\"])"
   ]
  },
  {
   "cell_type": "code",
   "execution_count": 23,
   "metadata": {},
   "outputs": [
    {
     "data": {
      "text/plain": [
       "<matplotlib.legend.Legend at 0x179b73b2c48>"
      ]
     },
     "execution_count": 23,
     "metadata": {},
     "output_type": "execute_result"
    },
    {
     "data": {
      "image/png": "[encoded data removed]",
      "text/plain": [
       "<Figure size 432x288 with 1 Axes>"
      ]
     },
     "metadata": {
      "needs_background": "light"
     },
     "output_type": "display_data"
    }
   ],
   "source": [
    "# Plot daily amounts for cases, deaths - Canada\n",
    "p4 = plt.bar(x_axis, y_axis4)\n",
    "p5 = plt.bar(x_axis, y_axis6)\n",
    "\n",
    "plt.title(\"New Cases vs New Deaths - Canada\")\n",
    "\n",
    "plt.legend([\"new_cases\", \"new_deaths\"])"
   ]
  },
  {
   "cell_type": "code",
   "execution_count": 24,
   "metadata": {},
   "outputs": [
    {
     "data": {
      "text/plain": [
       "Text(0.5, 1.0, 'New Deaths - Canada')"
      ]
     },
     "execution_count": 24,
     "metadata": {},
     "output_type": "execute_result"
    },
    {
     "data": {
      "image/png": "[encoded data removed]",
      "text/plain": [
       "<Figure size 432x288 with 1 Axes>"
      ]
     },
     "metadata": {
      "needs_background": "light"
     },
     "output_type": "display_data"
    }
   ],
   "source": [
    "# Plot daily amounts for deaths - Canada\n",
    "plt.bar(x_axis, y_axis6)\n",
    "\n",
    "plt.title(\"New Deaths - Canada\")"
   ]
  },
  {
   "cell_type": "code",
   "execution_count": 25,
   "metadata": {},
   "outputs": [
    {
     "data": {
      "text/plain": [
       "<matplotlib.legend.Legend at 0x179b81c8d08>"
      ]
     },
     "execution_count": 25,
     "metadata": {},
     "output_type": "execute_result"
    },
    {
     "data": {
      "image/png": "[encoded data removed]",
      "text/plain": [
       "<Figure size 432x288 with 1 Axes>"
      ]
     },
     "metadata": {
      "needs_background": "light"
     },
     "output_type": "display_data"
    }
   ],
   "source": [
    "# Plot daily amounts for cases, deaths - Usa\n",
    "p04 = plt.bar(x_axis, y_axis04)\n",
    "p05 = plt.bar(x_axis, y_axis06)\n",
    "\n",
    "plt.title(\"New Cases vs New Deaths - USA\")\n",
    "\n",
    "plt.legend([\"new_cases\", \"new_deaths\"])"
   ]
  },
  {
   "cell_type": "code",
   "execution_count": 26,
   "metadata": {},
   "outputs": [
    {
     "data": {
      "text/plain": [
       "Text(0.5, 1.0, 'New Deaths - USA')"
      ]
     },
     "execution_count": 26,
     "metadata": {},
     "output_type": "execute_result"
    },
    {
     "data": {
      "image/png": "[encoded data removed]",
      "text/plain": [
       "<Figure size 432x288 with 1 Axes>"
      ]
     },
     "metadata": {
      "needs_background": "light"
     },
     "output_type": "display_data"
    }
   ],
   "source": [
    "# Plot daily amounts for deaths - Usa\n",
    "plt.bar(x_axis, y_axis06)\n",
    "\n",
    "plt.title(\"New Deaths - USA\")"
   ]
  },
  {
   "cell_type": "markdown",
   "metadata": {},
   "source": [
    "### Trying to add a new column that calculates percentage change with strigency index"
   ]
  },
  {
   "cell_type": "code",
   "execution_count": 27,
   "metadata": {},
   "outputs": [],
   "source": [
    "# Set the x-axis to a date_updated and y-axis to percentage change for Canada\n",
    "x_axis = canada_df[\"date_updated\"]\n",
    "y_axis = canada_df[\"percentage_change_stringency\"]"
   ]
  },
  {
   "cell_type": "code",
   "execution_count": 28,
   "metadata": {},
   "outputs": [],
   "source": [
    "# Set the x-axis to a date_updated and y-axis to percentage change for USA\n",
    "x_axis0 = usa_df[\"date_updated\"]\n",
    "y_axis0 = usa_df[\"percentage_change_stringency\"]"
   ]
  },
  {
   "cell_type": "code",
   "execution_count": 29,
   "metadata": {
    "scrolled": true
   },
   "outputs": [
    {
     "data": {
      "text/plain": [
       "Text(0.5, 1.0, 'Stringency Index Percentage Change - Canada')"
      ]
     },
     "execution_count": 29,
     "metadata": {},
     "output_type": "execute_result"
    },
    {
     "data": {
      "image/png": "[encoded data removed]",
      "text/plain": [
       "<Figure size 432x288 with 1 Axes>"
      ]
     },
     "metadata": {
      "needs_background": "light"
     },
     "output_type": "display_data"
    }
   ],
   "source": [
    "# Plot daily percentage change for stringency index - CANADA\n",
    "plt.plot(x_axis , y_axis)\n",
    "\n",
    "plt.title(\"Stringency Index Percentage Change - Canada\")"
   ]
  },
  {
   "cell_type": "code",
   "execution_count": 30,
   "metadata": {},
   "outputs": [
    {
     "data": {
      "text/plain": [
       "Text(0.5, 1.0, 'Stringency Index Percentage Change - USA')"
      ]
     },
     "execution_count": 30,
     "metadata": {},
     "output_type": "execute_result"
    },
    {
     "data": {
      "image/png": "[encoded data removed]",
      "text/plain": [
       "<Figure size 432x288 with 1 Axes>"
      ]
     },
     "metadata": {
      "needs_background": "light"
     },
     "output_type": "display_data"
    }
   ],
   "source": [
    "# Plot daily percentage change for stringency index - USA\n",
    "plt.plot(x_axis0 , y_axis0)\n",
    "\n",
    "plt.title(\"Stringency Index Percentage Change - USA\")"
   ]
  },
  {
   "cell_type": "markdown",
   "metadata": {},
   "source": [
    "### Will filter for the days that have material changes in policy"
   ]
  },
  {
   "cell_type": "code",
   "execution_count": null,
   "metadata": {},
   "outputs": [],
   "source": [
    "# Filter based on percentage changes greater than 10% or any decrease in policy - USA\n",
    "new_canada_GT10 = new_canada_df.loc[(new_canada_df.percentage_change_stringency > 10) | (new_canada_df.percentage_change_stringency < 0)]"
   ]
  },
  {
   "cell_type": "code",
   "execution_count": null,
   "metadata": {},
   "outputs": [],
   "source": [
    "# Set the x-axis to a date_updated and y-axis to percentage change for Canada\n",
    "x_axis = new_canada_GT10[\"date_updated\"]\n",
    "y_axis = new_canada_GT10[\"percentage_change_stringency\"]"
   ]
  },
  {
   "cell_type": "code",
   "execution_count": null,
   "metadata": {},
   "outputs": [],
   "source": [
    "# Plot material percentage change for stringency index - CANADA\n",
    "plt.plot(x_axis , y_axis)\n",
    "\n",
    "plt.xticks(rotation=60)\n",
    "\n",
    "plt.title(\"Material (+10% or <0%) Stringency Index Percentage Change - Canada\")"
   ]
  },
  {
   "cell_type": "code",
   "execution_count": null,
   "metadata": {
    "scrolled": true
   },
   "outputs": [],
   "source": [
    "# Filter based on percentage changes greater than 10% or any decrease in policy - USA\n",
    "new_usa_GT10 = new_usa_df.loc[(new_usa_df.percentage_change_stringency > 10) | (new_usa_df.percentage_change_stringency < 0)]"
   ]
  },
  {
   "cell_type": "code",
   "execution_count": null,
   "metadata": {},
   "outputs": [],
   "source": [
    "# Set the x-axis to a date_updated and y-axis to percentage change for USA\n",
    "x_axis0 = new_usa_GT10[\"date_updated\"]\n",
    "y_axis0 = new_usa_GT10[\"percentage_change_stringency\"]"
   ]
  },
  {
   "cell_type": "code",
   "execution_count": null,
   "metadata": {},
   "outputs": [],
   "source": [
    "# Plot material percentage change for stringency index - USA\n",
    "plt.plot(x_axis0 , y_axis0)\n",
    "\n",
    "plt.xticks(rotation=60)\n",
    "\n",
    "plt.title(\"Material (+10% or <0%) Stringency Index Percentage Change - USA\")"
   ]
  },
  {
   "cell_type": "markdown",
   "metadata": {},
   "source": [
    "### Trying to calculate percentages of population for existing metrics\n",
    "notes:\n",
    "- total tests doesn't mean one test per person only, so % of population isn't necessarily accurate\n",
    "- total cases could include those who caught it a second time, though I'd imagine that is a very small number of people\n",
    "- total deaths % of population isn't accurate either as the population amount doesn't change, implying daily birth and death isn't be captured in total population - assume the amounts generally net eachother out, or go off the general population trend of country"
   ]
  },
  {
   "cell_type": "code",
   "execution_count": null,
   "metadata": {},
   "outputs": [],
   "source": [
    "# Set the x-axis to a date_updated and y-axis to % of Population - NEW - CANADA\n",
    "x_axis1 = canada_df[\"date_updated\"]\n",
    "y_axis1 = canada_df[\"percentage_of_Pop_New_Tests\"]\n",
    "\n",
    "x_axis2 = canada_df[\"date_updated\"]\n",
    "y_axis2 = canada_df[\"percentage_of_Pop_New_Cases\"]\n",
    "\n",
    "x_axis3 = canada_df[\"date_updated\"]\n",
    "y_axis3 = canada_df[\"percentage_of_Pop_New_Deaths\"]"
   ]
  },
  {
   "cell_type": "code",
   "execution_count": null,
   "metadata": {},
   "outputs": [],
   "source": [
    "# Set the x-axis to a date_updated and y-axis to % of Population - TOTALS - CANADA\n",
    "x_axis4 = canada_df[\"date_updated\"]\n",
    "y_axis4 = canada_df[\"percentage_of_Pop_Total_Tests\"]\n",
    "\n",
    "x_axis5 = canada_df[\"date_updated\"]\n",
    "y_axis5 = canada_df[\"percentage_of_Pop_Total_Cases\"]\n",
    "\n",
    "x_axis6 = canada_df[\"date_updated\"]\n",
    "y_axis6 = canada_df[\"percentage_of_Pop_Total_Deaths\"]"
   ]
  },
  {
   "cell_type": "code",
   "execution_count": null,
   "metadata": {},
   "outputs": [],
   "source": [
    "# Plot % of Population - NEW - CANADA\n",
    "plt.plot(x_axis1, y_axis1)\n",
    "\n",
    "plt.xticks(rotation=90)\n",
    "\n",
    "plt.title(\"% of Population - NEW Tests - CANADA\")"
   ]
  },
  {
   "cell_type": "code",
   "execution_count": null,
   "metadata": {},
   "outputs": [],
   "source": [
    "# Plot % of Population - TOTAL - CANADA\n",
    "plt.plot(x_axis4, y_axis4)\n",
    "\n",
    "plt.xticks(rotation=90)\n",
    "\n",
    "plt.title(\"% of Population - TOTAL Tested - CANADA\")"
   ]
  },
  {
   "cell_type": "code",
   "execution_count": null,
   "metadata": {},
   "outputs": [],
   "source": [
    "# Plot % of Population - NEW - CANADA\n",
    "plt.plot(x_axis2, y_axis2, x_axis3, y_axis3)\n",
    "\n",
    "plt.xticks(rotation=90)\n",
    "\n",
    "plt.legend([\"New Cases\", \"New Deaths\"])\n",
    "\n",
    "plt.title(\"% of Population - NEW Cases & Deaths - CANADA\")"
   ]
  },
  {
   "cell_type": "code",
   "execution_count": null,
   "metadata": {},
   "outputs": [],
   "source": [
    "# Plot % of Population - TOTAL - CANADA\n",
    "plt.plot(x_axis5, y_axis5, x_axis6, y_axis6)\n",
    "\n",
    "plt.xticks(rotation=90)\n",
    "\n",
    "plt.legend([\"Toal Cases\", \"Total Deaths\"])\n",
    "\n",
    "plt.title(\"% of Population - TOTAL Cases & Deaths - CANADA\")"
   ]
  },
  {
   "cell_type": "code",
   "execution_count": null,
   "metadata": {},
   "outputs": [],
   "source": [
    "# Set the x-axis to a date_updated and y-axis to % of Population - NEW - USA\n",
    "x_axis01 = usa_df[\"date_updated\"]\n",
    "y_axis01 = usa_df[\"percentage_of_Pop_New_Tests\"]\n",
    "\n",
    "x_axis02 = usa_df[\"date_updated\"]\n",
    "y_axis02 = usa_df[\"percentage_of_Pop_New_Cases\"]\n",
    "\n",
    "x_axis03 = usa_df[\"date_updated\"]\n",
    "y_axis03 = usa_df[\"percentage_of_Pop_New_Deaths\"]"
   ]
  },
  {
   "cell_type": "code",
   "execution_count": null,
   "metadata": {},
   "outputs": [],
   "source": [
    "# Set the x-axis to a date_updated and y-axis to % of Population - TOTAL - USA\n",
    "x_axis04 = usa_df[\"date_updated\"]\n",
    "y_axis04 = usa_df[\"percentage_of_Pop_Total_Tests\"]\n",
    "\n",
    "x_axis05 = usa_df[\"date_updated\"]\n",
    "y_axis05 = usa_df[\"percentage_of_Pop_Total_Cases\"]\n",
    "\n",
    "x_axis06 = usa_df[\"date_updated\"]\n",
    "y_axis06 = usa_df[\"percentage_of_Pop_Total_Deaths\"]"
   ]
  },
  {
   "cell_type": "code",
   "execution_count": null,
   "metadata": {},
   "outputs": [],
   "source": [
    "# Plot % of Population - NEW - USA\n",
    "plt.plot(x_axis01, y_axis01)\n",
    "\n",
    "plt.xticks(rotation=90)\n",
    "\n",
    "\n",
    "plt.title(\"% of Population - NEW Tests - USA\")"
   ]
  },
  {
   "cell_type": "code",
   "execution_count": null,
   "metadata": {},
   "outputs": [],
   "source": [
    "# Plot % of Population - TOTAL - USA\n",
    "plt.plot(x_axis04, y_axis04)\n",
    "\n",
    "plt.xticks(rotation=90)\n",
    "\n",
    "\n",
    "plt.title(\"% of Population - TOTAL Tests - USA\")"
   ]
  },
  {
   "cell_type": "code",
   "execution_count": null,
   "metadata": {},
   "outputs": [],
   "source": [
    "# Plot % of Population - NEW - USA\n",
    "plt.plot(x_axis02, y_axis02, x_axis03, y_axis03)\n",
    "\n",
    "plt.xticks(rotation=90)\n",
    "\n",
    "plt.legend([\"New Cases\", \"New Deaths\"])\n",
    "\n",
    "plt.title(\"% of Population - NEW Cases & Deaths - USA\")"
   ]
  },
  {
   "cell_type": "code",
   "execution_count": null,
   "metadata": {},
   "outputs": [],
   "source": [
    "# Plot % of Population - TOTAL - USA\n",
    "plt.plot(x_axis05, y_axis05, x_axis06, y_axis06)\n",
    "\n",
    "plt.xticks(rotation=90)\n",
    "\n",
    "plt.legend([\"Total Cases\", \"Total Deaths\"])\n",
    "\n",
    "plt.title(\"% of Population - TOTAL Cases & Deaths- USA\")"
   ]
  },
  {
   "cell_type": "code",
   "execution_count": null,
   "metadata": {},
   "outputs": [],
   "source": [
    "# Plot % of Population - TOTAL - USA\n",
    "plt.plot(x_axis06, y_axis06)\n",
    "\n",
    "plt.xticks(rotation=90)\n",
    "\n",
    "plt.legend([\"Total Cases\", \"Total Deaths\"])\n",
    "\n",
    "plt.title(\"% of Population - TOTAL Deaths- USA\")"
   ]
  },
  {
   "cell_type": "markdown",
   "metadata": {},
   "source": [
    "### Trying to capture total stats based on material changes in stringency index"
   ]
  },
  {
   "cell_type": "code",
   "execution_count": null,
   "metadata": {},
   "outputs": [],
   "source": [
    "# To track # days out - CANADA\n",
    "canada_df[\"date_updated\"] = pd.to_datetime(canada_df['date_updated'])\n",
    "canada_df['+7 days'] = canada_df['date_updated']+timedelta(days=7)\n",
    "canada_df['+14 days'] = canada_df['date_updated']+timedelta(days=14)\n",
    "canada_df['+30 days'] = canada_df['date_updated']+timedelta(days=30)\n",
    "canada_df['+60 days'] = canada_df['date_updated']+timedelta(days=60)"
   ]
  },
  {
   "cell_type": "code",
   "execution_count": null,
   "metadata": {},
   "outputs": [],
   "source": [
    "# Create date shifted DataFrames - CANADA\n",
    "sub_total_updated = canada_df[[\"date_updated\",\"location\",\"total_tests_updated\",\"total_cases_updated\",\"total_deaths_updated\"]]\n",
    "\n",
    "\n",
    "sub_total_updated_7 = sub_total_updated.loc[sub_total_updated.date_updated >= \"2020-01-07\" ].reset_index()\n",
    "sub_total_updated_7 = sub_total_updated_7.drop([\"index\"], axis=1)\n",
    "\n",
    "sub_total_updated_14 = sub_total_updated.loc[sub_total_updated.date_updated >= \"2020-01-14\" ].reset_index()\n",
    "sub_total_updated_14 = sub_total_updated_14.drop([\"index\"], axis=1)\n",
    "\n",
    "sub_total_updated_30 = sub_total_updated.loc[sub_total_updated.date_updated >= \"2020-01-30\" ].reset_index()\n",
    "sub_total_updated_30 = sub_total_updated_30.drop([\"index\"], axis=1)\n",
    "\n",
    "sub_total_updated_60 = sub_total_updated.loc[sub_total_updated.date_updated >= \"2020-02-29\" ].reset_index()\n",
    "sub_total_updated_60 = sub_total_updated_60.drop([\"index\"], axis=1)"
   ]
  },
  {
   "cell_type": "code",
   "execution_count": null,
   "metadata": {},
   "outputs": [],
   "source": [
    "# Add new columns for shifted results - CANADA\n",
    "# 7 Days out...\n",
    "canada_df[\"7 Days - Total Tests\"] = sub_total_updated_7[\"total_tests_updated\"]\n",
    "canada_df[\"7 Days - Total Cases\"] = sub_total_updated_7[\"total_cases_updated\"]\n",
    "canada_df[\"7 Days - Total Deaths\"] = sub_total_updated_7[\"total_deaths_updated\"]\n",
    "\n",
    "# 14 Days out...\n",
    "canada_df[\"14 Days - Total Tests\"] = sub_total_updated_14[\"total_tests_updated\"]\n",
    "canada_df[\"14 Days - Total Cases\"] = sub_total_updated_14[\"total_cases_updated\"]\n",
    "canada_df[\"14 Days - Total Deaths\"] = sub_total_updated_14[\"total_deaths_updated\"]\n",
    "\n",
    "# 30 Days out...\n",
    "canada_df[\"30 Days - Total Tests\"] = sub_total_updated_30[\"total_tests_updated\"]\n",
    "canada_df[\"30 Days - Total Cases\"] = sub_total_updated_30[\"total_cases_updated\"]\n",
    "canada_df[\"30 Days - Total Deaths\"] = sub_total_updated_30[\"total_deaths_updated\"]\n",
    "\n",
    "# 60 Days out...\n",
    "canada_df[\"60 Days - Total Tests\"] = sub_total_updated_60[\"total_tests_updated\"]\n",
    "canada_df[\"60 Days - Total Cases\"] = sub_total_updated_60[\"total_cases_updated\"]\n",
    "canada_df[\"60 Days - Total Deaths\"] = sub_total_updated_60[\"total_deaths_updated\"]"
   ]
  },
  {
   "cell_type": "code",
   "execution_count": null,
   "metadata": {
    "scrolled": true
   },
   "outputs": [],
   "source": [
    "# In all shifter results columns, replace NaN with proceeding value - CANADA\n",
    "canada_df_filled = canada_df.fillna(method=\"ffill\")"
   ]
  },
  {
   "cell_type": "code",
   "execution_count": null,
   "metadata": {},
   "outputs": [],
   "source": [
    "# Add new columns for % change from shifter results - CANADA\n",
    "# 7 Days out...\n",
    "canada_df_filled[\"7 Days - % Change Tests\"] = ((canada_df_filled[\"7 Days - Total Tests\"]-canada_df_filled[\"total_tests_updated\"])/canada_df_filled[\"total_tests_updated\"])*100\n",
    "canada_df_filled[\"7 Days - % Change Cases\"] = ((canada_df_filled[\"7 Days - Total Cases\"]-canada_df_filled[\"total_cases_updated\"])/canada_df_filled[\"total_tests_updated\"])*100\n",
    "canada_df_filled[\"7 Days - % Change Deaths\"] = ((canada_df_filled[\"7 Days - Total Deaths\"]-canada_df_filled[\"total_deaths_updated\"])/canada_df_filled[\"total_tests_updated\"])*100\n",
    "\n",
    "# 14 Days out...\n",
    "canada_df_filled[\"14 Days - % Change Tests\"] = ((canada_df_filled[\"14 Days - Total Tests\"]-canada_df_filled[\"total_tests_updated\"])/canada_df_filled[\"total_tests_updated\"])*100\n",
    "canada_df_filled[\"14 Days - % Change Cases\"] = ((canada_df_filled[\"14 Days - Total Cases\"]-canada_df_filled[\"total_cases_updated\"])/canada_df_filled[\"total_tests_updated\"])*100\n",
    "canada_df_filled[\"14 Days - % Change Deaths\"] = ((canada_df_filled[\"14 Days - Total Deaths\"]-canada_df_filled[\"total_deaths_updated\"])/canada_df_filled[\"total_tests_updated\"])*100\n",
    "\n",
    "# 30 Days out...\n",
    "canada_df_filled[\"30 Days - % Change Tests\"] = ((canada_df_filled[\"30 Days - Total Tests\"]-canada_df_filled[\"total_tests_updated\"])/canada_df_filled[\"total_tests_updated\"])*100\n",
    "canada_df_filled[\"30 Days - % Change Cases\"] = ((canada_df_filled[\"30 Days - Total Cases\"]-canada_df_filled[\"total_cases_updated\"])/canada_df_filled[\"total_tests_updated\"])*100\n",
    "canada_df_filled[\"30 Days - % Change Deaths\"] = ((canada_df_filled[\"30 Days - Total Deaths\"]-canada_df_filled[\"total_deaths_updated\"])/canada_df_filled[\"total_tests_updated\"])*100\n",
    "\n",
    "# 60 Days out...\n",
    "canada_df_filled[\"60 Days - % Change Tests\"] = ((canada_df_filled[\"60 Days - Total Tests\"]-canada_df_filled[\"total_tests_updated\"])/canada_df_filled[\"total_tests_updated\"])*100\n",
    "canada_df_filled[\"60 Days - % Change Cases\"] = ((canada_df_filled[\"60 Days - Total Cases\"]-canada_df_filled[\"total_cases_updated\"])/canada_df_filled[\"total_tests_updated\"])*100\n",
    "canada_df_filled[\"60 Days - % Change Deaths\"] = ((canada_df_filled[\"60 Days - Total Deaths\"]-canada_df_filled[\"total_deaths_updated\"])/canada_df_filled[\"total_tests_updated\"])*100"
   ]
  },
  {
   "cell_type": "code",
   "execution_count": null,
   "metadata": {
    "scrolled": true
   },
   "outputs": [],
   "source": [
    "# Filter for material percentage changes (>10% or <0%) - CANADA\n",
    "new_canada_projection = canada_df_filled.loc[(new_canada_df.percentage_change_stringency > 10) | \n",
    "                                    (new_canada_df.percentage_change_stringency < 0)]"
   ]
  },
  {
   "cell_type": "code",
   "execution_count": null,
   "metadata": {},
   "outputs": [],
   "source": [
    "# Rearrange columns in logical order - CANADA\n",
    "new_canada_projection = new_canada_projection[['date_updated', \n",
    "                                         'location', \n",
    "                                         'population',\n",
    "                                         'StringencyIndex_updated',\n",
    "                                         'new_tests', \n",
    "                                         'percentage of Pop - New Tests',\n",
    "                                         'total_tests_updated', \n",
    "                                         'percentage of Pop - Total Tests',\n",
    "                                         '7 Days - Total Tests',\n",
    "                                         '7 Days - % Change Tests',\n",
    "                                         '14 Days - Total Tests', \n",
    "                                         '14 Days - % Change Tests',\n",
    "                                         '30 Days - Total Tests',\n",
    "                                         '30 Days - % Change Tests',\n",
    "                                         '60 Days - Total Tests', \n",
    "                                         '60 Days - % Change Tests',\n",
    "                                         'new_cases', \n",
    "                                         'percentage of Pop - New Cases',\n",
    "                                         'total_cases_updated', \n",
    "                                         'percentage of Pop - Total Cases',\n",
    "                                         '7 Days - Total Cases',\n",
    "                                         '7 Days - % Change Cases',\n",
    "                                         '14 Days - Total Cases',\n",
    "                                         '14 Days - % Change Cases',\n",
    "                                         '30 Days - Total Cases',\n",
    "                                         '30 Days - % Change Cases',\n",
    "                                         '60 Days - Total Cases',\n",
    "                                         '60 Days - % Change Cases',\n",
    "                                         'new_deaths',\n",
    "                                         'percentage of Pop - New Deaths',\n",
    "                                         'total_deaths_updated',\n",
    "                                         'percentage of Pop - Total Deaths',\n",
    "                                         '7 Days - Total Deaths',\n",
    "                                         '7 Days - % Change Deaths',\n",
    "                                         '14 Days - Total Deaths', \n",
    "                                         '14 Days - % Change Deaths',\n",
    "                                         '30 Days - Total Deaths',\n",
    "                                         '30 Days - % Change Deaths',\n",
    "                                         '60 Days - Total Deaths', \n",
    "                                         '60 Days - % Change Deaths'\n",
    "                                        ]]\n",
    "\n",
    "# Replace NaN with 0 \n",
    "new_canada_projection.fillna(0, inplace=True)\n",
    "\n",
    "# Replace inf with 0 \n",
    "new_canada_projection.replace(np.inf, 0, inplace=True)\n",
    "\n",
    "new_canada_projection"
   ]
  },
  {
   "cell_type": "code",
   "execution_count": null,
   "metadata": {},
   "outputs": [],
   "source": [
    "# To track # days out - USA\n",
    "usa_df[\"date_updated\"] = pd.to_datetime(usa_df['date_updated'])\n",
    "usa_df['+7 days'] = usa_df['date_updated']+timedelta(days=7)\n",
    "usa_df['+14 days'] = usa_df['date_updated']+timedelta(days=14)\n",
    "usa_df['+30 days'] = usa_df['date_updated']+timedelta(days=30)\n",
    "usa_df['+60 days'] = usa_df['date_updated']+timedelta(days=60)"
   ]
  },
  {
   "cell_type": "code",
   "execution_count": null,
   "metadata": {},
   "outputs": [],
   "source": [
    "# Create date shifted DataFrames - USA\n",
    "sub_total_updated = usa_df[[\"date_updated\",\"location\",\"total_tests_updated\",\"total_cases_updated\",\"total_deaths_updated\"]]\n",
    "\n",
    "\n",
    "sub_total_updated_7 = sub_total_updated.loc[sub_total_updated.date_updated >= \"2020-01-07\" ].reset_index()\n",
    "sub_total_updated_7 = sub_total_updated_7.drop([\"index\"], axis=1)\n",
    "\n",
    "sub_total_updated_14 = sub_total_updated.loc[sub_total_updated.date_updated >= \"2020-01-14\" ].reset_index()\n",
    "sub_total_updated_14 = sub_total_updated_14.drop([\"index\"], axis=1)\n",
    "\n",
    "sub_total_updated_30 = sub_total_updated.loc[sub_total_updated.date_updated >= \"2020-01-30\" ].reset_index()\n",
    "sub_total_updated_30 = sub_total_updated_30.drop([\"index\"], axis=1)\n",
    "\n",
    "sub_total_updated_60 = sub_total_updated.loc[sub_total_updated.date_updated >= \"2020-02-29\" ].reset_index()\n",
    "sub_total_updated_60 = sub_total_updated_60.drop([\"index\"], axis=1)"
   ]
  },
  {
   "cell_type": "code",
   "execution_count": null,
   "metadata": {},
   "outputs": [],
   "source": [
    "# Add new columns for shifted results - USA\n",
    "# 7 Days out...\n",
    "usa_df[\"7 Days - Total Tests\"] = sub_total_updated_7[\"total_tests_updated\"]\n",
    "usa_df[\"7 Days - Total Cases\"] = sub_total_updated_7[\"total_cases_updated\"]\n",
    "usa_df[\"7 Days - Total Deaths\"] = sub_total_updated_7[\"total_deaths_updated\"]\n",
    "\n",
    "# 14 Days out...\n",
    "usa_df[\"14 Days - Total Tests\"] = sub_total_updated_14[\"total_tests_updated\"]\n",
    "usa_df[\"14 Days - Total Cases\"] = sub_total_updated_14[\"total_cases_updated\"]\n",
    "usa_df[\"14 Days - Total Deaths\"] = sub_total_updated_14[\"total_deaths_updated\"]\n",
    "\n",
    "# 30 Days out...\n",
    "usa_df[\"30 Days - Total Tests\"] = sub_total_updated_30[\"total_tests_updated\"]\n",
    "usa_df[\"30 Days - Total Cases\"] = sub_total_updated_30[\"total_cases_updated\"]\n",
    "usa_df[\"30 Days - Total Deaths\"] = sub_total_updated_30[\"total_deaths_updated\"]\n",
    "\n",
    "# 60 Days out...\n",
    "usa_df[\"60 Days - Total Tests\"] = sub_total_updated_60[\"total_tests_updated\"]\n",
    "usa_df[\"60 Days - Total Cases\"] = sub_total_updated_60[\"total_cases_updated\"]\n",
    "usa_df[\"60 Days - Total Deaths\"] = sub_total_updated_60[\"total_deaths_updated\"]"
   ]
  },
  {
   "cell_type": "code",
   "execution_count": null,
   "metadata": {},
   "outputs": [],
   "source": [
    "# In all shifter results columns, replace NaN with proceeding value - USA\n",
    "usa_df_filled = usa_df.fillna(method=\"ffill\")"
   ]
  },
  {
   "cell_type": "code",
   "execution_count": null,
   "metadata": {},
   "outputs": [],
   "source": [
    "# Add new columns for % change from shifter results - USA\n",
    "# 7 Days out...\n",
    "usa_df_filled[\"7 Days - % Change Tests\"] = ((usa_df_filled[\"7 Days - Total Tests\"]-usa_df_filled[\"total_tests_updated\"])/usa_df_filled[\"total_tests_updated\"])*100\n",
    "usa_df_filled[\"7 Days - % Change Cases\"] = ((usa_df_filled[\"7 Days - Total Cases\"]-usa_df_filled[\"total_cases_updated\"])/usa_df_filled[\"total_tests_updated\"])*100\n",
    "usa_df_filled[\"7 Days - % Change Deaths\"] = ((usa_df_filled[\"7 Days - Total Deaths\"]-usa_df_filled[\"total_deaths_updated\"])/usa_df_filled[\"total_tests_updated\"])*100\n",
    "\n",
    "# 14 Days out...\n",
    "usa_df_filled[\"14 Days - % Change Tests\"] = ((usa_df_filled[\"14 Days - Total Tests\"]-usa_df_filled[\"total_tests_updated\"])/usa_df_filled[\"total_tests_updated\"])*100\n",
    "usa_df_filled[\"14 Days - % Change Cases\"] = ((usa_df_filled[\"14 Days - Total Cases\"]-usa_df_filled[\"total_cases_updated\"])/usa_df_filled[\"total_tests_updated\"])*100\n",
    "usa_df_filled[\"14 Days - % Change Deaths\"] = ((usa_df_filled[\"14 Days - Total Deaths\"]-usa_df_filled[\"total_deaths_updated\"])/usa_df_filled[\"total_tests_updated\"])*100\n",
    "\n",
    "# 30 Days out...\n",
    "usa_df_filled[\"30 Days - % Change Tests\"] = ((usa_df_filled[\"30 Days - Total Tests\"]-usa_df_filled[\"total_tests_updated\"])/usa_df_filled[\"total_tests_updated\"])*100\n",
    "usa_df_filled[\"30 Days - % Change Cases\"] = ((usa_df_filled[\"30 Days - Total Cases\"]-usa_df_filled[\"total_cases_updated\"])/usa_df_filled[\"total_tests_updated\"])*100\n",
    "usa_df_filled[\"30 Days - % Change Deaths\"] = ((usa_df_filled[\"30 Days - Total Deaths\"]-usa_df_filled[\"total_deaths_updated\"])/usa_df_filled[\"total_tests_updated\"])*100\n",
    "\n",
    "# 60 Days out...\n",
    "usa_df_filled[\"60 Days - % Change Tests\"] = ((usa_df_filled[\"60 Days - Total Tests\"]-usa_df_filled[\"total_tests_updated\"])/usa_df_filled[\"total_tests_updated\"])*100\n",
    "usa_df_filled[\"60 Days - % Change Cases\"] = ((usa_df_filled[\"60 Days - Total Cases\"]-usa_df_filled[\"total_cases_updated\"])/usa_df_filled[\"total_tests_updated\"])*100\n",
    "usa_df_filled[\"60 Days - % Change Deaths\"] = ((usa_df_filled[\"60 Days - Total Deaths\"]-usa_df_filled[\"total_deaths_updated\"])/usa_df_filled[\"total_tests_updated\"])*100"
   ]
  },
  {
   "cell_type": "code",
   "execution_count": null,
   "metadata": {},
   "outputs": [],
   "source": [
    "# Filter for material percentage changes (>10% or <0%) - USA\n",
    "new_usa_projection = usa_df_filled.loc[(new_usa_df.percentage_change_stringency > 10) | \n",
    "                                    (new_usa_df.percentage_change_stringency < 0)]"
   ]
  },
  {
   "cell_type": "code",
   "execution_count": null,
   "metadata": {},
   "outputs": [],
   "source": [
    "# Rearrange columns in logical order - USA\n",
    "new_usa_projection = new_usa_projection[['date_updated', \n",
    "                                         'location', \n",
    "                                         'population',\n",
    "                                         'StringencyIndex_updated',\n",
    "                                         'new_tests', \n",
    "                                         'percentage of Pop - New Tests',\n",
    "                                         'total_tests_updated', \n",
    "                                         'percentage of Pop - Total Tests',\n",
    "                                         '7 Days - Total Tests',\n",
    "                                         '7 Days - % Change Tests',\n",
    "                                         '14 Days - Total Tests', \n",
    "                                         '14 Days - % Change Tests',\n",
    "                                         '30 Days - Total Tests',\n",
    "                                         '30 Days - % Change Tests',\n",
    "                                         '60 Days - Total Tests', \n",
    "                                         '60 Days - % Change Tests',\n",
    "                                         'new_cases', \n",
    "                                         'percentage of Pop - New Cases',\n",
    "                                         'total_cases_updated', \n",
    "                                         'percentage of Pop - Total Cases',\n",
    "                                         '7 Days - Total Cases',\n",
    "                                         '7 Days - % Change Cases',\n",
    "                                         '14 Days - Total Cases',\n",
    "                                         '14 Days - % Change Cases',\n",
    "                                         '30 Days - Total Cases',\n",
    "                                         '30 Days - % Change Cases',\n",
    "                                         '60 Days - Total Cases',\n",
    "                                         '60 Days - % Change Cases',\n",
    "                                         'new_deaths',\n",
    "                                         'percentage of Pop - New Deaths',\n",
    "                                         'total_deaths_updated',\n",
    "                                         'percentage of Pop - Total Deaths',\n",
    "                                         '7 Days - Total Deaths',\n",
    "                                         '7 Days - % Change Deaths',\n",
    "                                         '14 Days - Total Deaths', \n",
    "                                         '14 Days - % Change Deaths',\n",
    "                                         '30 Days - Total Deaths',\n",
    "                                         '30 Days - % Change Deaths',\n",
    "                                         '60 Days - Total Deaths', \n",
    "                                         '60 Days - % Change Deaths'\n",
    "                                        ]]\n",
    "\n",
    "# Replace NaN with 0 \n",
    "new_usa_projection.fillna(0, inplace=True)\n",
    "\n",
    "# Replace inf with 0 \n",
    "new_usa_projection.replace(np.inf, 0, inplace=True)\n",
    "\n",
    "new_usa_projection"
   ]
  },
  {
   "cell_type": "markdown",
   "metadata": {},
   "source": [
    "### creating some graphs for analysis of material changes in index"
   ]
  },
  {
   "cell_type": "code",
   "execution_count": null,
   "metadata": {},
   "outputs": [],
   "source": [
    "new_canada_projection = new_canada_projection[[ \n",
    "                                         'date_updated',\n",
    "                                         'total_cases_updated', \n",
    "                                         '7 Days - Total Cases',\n",
    "                                         '14 Days - Total Cases',\n",
    "                                         '30 Days - Total Cases',\n",
    "                                         '60 Days - Total Cases'\n",
    "                                         ]]\n",
    "new_canada_projection = new_canada_projection.transpose().reset_index()\n",
    "\n",
    "#grab the first row for the header\n",
    "new_header = new_canada_projection.iloc[0]\n",
    "\n",
    "#take the data less the header row\n",
    "new_canada_projection = new_canada_projection[1:]\n",
    "\n",
    "#set the header row as the df header\n",
    "new_canada_projection.columns = new_header\n",
    "\n",
    "new_canada_projection"
   ]
  },
  {
   "cell_type": "code",
   "execution_count": null,
   "metadata": {},
   "outputs": [],
   "source": [
    "# Set the axis - CANADA\n",
    "x_axis1 = new_canada_projection[\"date_updated\"]\n",
    "y_axis1 = new_canada_projection.iloc[ : ,1]\n",
    "\n",
    "x_axis2 = new_canada_projection[\"date_updated\"]\n",
    "y_axis2 = new_canada_projection.iloc[ : ,2]\n",
    "\n",
    "x_axis3 = new_canada_projection[\"date_updated\"]\n",
    "y_axis3 = new_canada_projection.iloc[ : ,3]\n",
    "\n",
    "x_axis4 = new_canada_projection[\"date_updated\"]\n",
    "y_axis4 = new_canada_projection.iloc[ : ,4]\n",
    "\n",
    "x_axis5 = new_canada_projection[\"date_updated\"]\n",
    "y_axis5 = new_canada_projection.iloc[ : ,5]\n",
    "\n",
    "x_axis6 = new_canada_projection[\"date_updated\"]\n",
    "y_axis6 = new_canada_projection.iloc[ : ,6]\n",
    "\n",
    "x_axis7 = new_canada_projection[\"date_updated\"]\n",
    "y_axis7 = new_canada_projection.iloc[ : ,7]\n",
    "\n",
    "x_axis8 = new_canada_projection[\"date_updated\"]\n",
    "y_axis8 = new_canada_projection.iloc[ : ,8]\n",
    "\n",
    "x_axis9 = new_canada_projection[\"date_updated\"]\n",
    "y_axis9 = new_canada_projection.iloc[ : ,9]\n",
    "\n",
    "x_axis10 = new_canada_projection[\"date_updated\"]\n",
    "y_axis10 = new_canada_projection.iloc[ : ,10]\n",
    "\n",
    "# x_axis11 = new_canada_projection[\"date_updated\"]\n",
    "# y_axis11 = new_canada_projection.iloc[ : ,11]\n",
    "\n",
    "# x_axis12 = new_canada_projection[\"date_updated\"]\n",
    "# y_axis12 = new_canada_projection.iloc[ : ,12]\n"
   ]
  },
  {
   "cell_type": "code",
   "execution_count": null,
   "metadata": {},
   "outputs": [],
   "source": [
    "# Plot amounts for cases, at intervals - CANADA\n",
    "p1 = plt.plot(x_axis1 , y_axis1)\n",
    "p2 = plt.plot(x_axis2 , y_axis2)\n",
    "p3 = plt.plot(x_axis3 , y_axis3)\n",
    "p4 = plt.plot(x_axis4 , y_axis4)\n",
    "p5 = plt.plot(x_axis5 , y_axis5)\n",
    "p1 = plt.plot(x_axis6 , y_axis6)\n",
    "p1 = plt.plot(x_axis7 , y_axis7)\n",
    "p1 = plt.plot(x_axis8 , y_axis8)\n",
    "p1 = plt.plot(x_axis9 , y_axis9)\n",
    "p1 = plt.plot(x_axis10 , y_axis10)\n",
    "# p1 = plt.plot(x_axis11 , y_axis11)\n",
    "# p1 = plt.plot(x_axis12 , y_axis12)\n",
    "plt.title(\"Milestone Moments - Impact on Cases - CANADA\")\n",
    "\n",
    "plt.xticks(rotation=90)"
   ]
  },
  {
   "cell_type": "code",
   "execution_count": null,
   "metadata": {},
   "outputs": [],
   "source": [
    "new_usa_projection = new_usa_projection[[ \n",
    "                                         'date_updated',\n",
    "                                         'total_cases_updated', \n",
    "                                         '7 Days - Total Cases',\n",
    "                                         '14 Days - Total Cases',\n",
    "                                         '30 Days - Total Cases',\n",
    "                                         '60 Days - Total Cases'\n",
    "                                         ]]\n",
    "new_usa_projection = new_usa_projection.transpose().reset_index()\n",
    "\n",
    "#grab the first row for the header\n",
    "new_header = new_usa_projection.iloc[0]\n",
    "\n",
    "#take the data less the header row\n",
    "new_usa_projection = new_usa_projection[1:]\n",
    "\n",
    "#set the header row as the df header\n",
    "new_usa_projection.columns = new_header\n",
    "\n",
    "new_usa_projection"
   ]
  },
  {
   "cell_type": "code",
   "execution_count": null,
   "metadata": {},
   "outputs": [],
   "source": [
    "# Set the axis - USA\n",
    "x_axis1 = new_usa_projection[\"date_updated\"]\n",
    "y_axis1 = new_usa_projection.iloc[ : ,1]\n",
    "\n",
    "x_axis2 = new_usa_projection[\"date_updated\"]\n",
    "y_axis2 = new_usa_projection.iloc[ : ,2]\n",
    "\n",
    "x_axis3 = new_usa_projection[\"date_updated\"]\n",
    "y_axis3 = new_usa_projection.iloc[ : ,3]\n",
    "\n",
    "x_axis4 = new_usa_projection[\"date_updated\"]\n",
    "y_axis4 = new_usa_projection.iloc[ : ,4]\n",
    "\n",
    "x_axis5 = new_usa_projection[\"date_updated\"]\n",
    "y_axis5 = new_usa_projection.iloc[ : ,5]\n",
    "\n",
    "x_axis6 = new_usa_projection[\"date_updated\"]\n",
    "y_axis6 = new_usa_projection.iloc[ : ,6]\n",
    "\n",
    "x_axis7 = new_usa_projection[\"date_updated\"]\n",
    "y_axis7 = new_usa_projection.iloc[ : ,7]\n",
    "\n",
    "x_axis8 = new_usa_projection[\"date_updated\"]\n",
    "y_axis8 = new_usa_projection.iloc[ : ,8]\n",
    "\n",
    "x_axis9 = new_usa_projection[\"date_updated\"]\n",
    "y_axis9 = new_usa_projection.iloc[ : ,9]\n",
    "\n",
    "x_axis10 = new_usa_projection[\"date_updated\"]\n",
    "y_axis10 = new_usa_projection.iloc[ : ,10]\n",
    "\n",
    "x_axis11 = new_usa_projection[\"date_updated\"]\n",
    "y_axis11 = new_usa_projection.iloc[ : ,11]\n"
   ]
  },
  {
   "cell_type": "code",
   "execution_count": null,
   "metadata": {},
   "outputs": [],
   "source": [
    "# Plot amounts for cases, at intervals - USA\n",
    "p1 = plt.plot(x_axis1 , y_axis1)\n",
    "p2 = plt.plot(x_axis2 , y_axis2)\n",
    "p3 = plt.plot(x_axis3 , y_axis3)\n",
    "p4 = plt.plot(x_axis4 , y_axis4)\n",
    "p5 = plt.plot(x_axis5 , y_axis5)\n",
    "p1 = plt.plot(x_axis6 , y_axis6)\n",
    "p1 = plt.plot(x_axis7 , y_axis7)\n",
    "p1 = plt.plot(x_axis8 , y_axis8)\n",
    "p1 = plt.plot(x_axis9 , y_axis9)\n",
    "p1 = plt.plot(x_axis10 , y_axis10)\n",
    "p1 = plt.plot(x_axis11 , y_axis11)\n",
    "plt.title(\"Milestone Moments - Impact on Cases - USA\")\n",
    "\n",
    "plt.xticks(rotation=90)"
   ]
  },
  {
   "cell_type": "code",
   "execution_count": null,
   "metadata": {},
   "outputs": [],
   "source": []
  }
 ],
 "metadata": {
  "kernelspec": {
   "display_name": "Python 3",
   "language": "python",
   "name": "python3"
  },
  "language_info": {
   "codemirror_mode": {
    "name": "ipython",
    "version": 3
   },
   "file_extension": ".py",
   "mimetype": "text/x-python",
   "name": "python",
   "nbconvert_exporter": "python",
   "pygments_lexer": "ipython3",
   "version": "3.7.7"
  }
 },
 "nbformat": 4,
 "nbformat_minor": 4
}
