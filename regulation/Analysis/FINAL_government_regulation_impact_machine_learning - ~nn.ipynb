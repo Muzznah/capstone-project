{
 "cells": [
  {
   "cell_type": "code",
   "execution_count": 1,
   "metadata": {},
   "outputs": [],
   "source": [
    "# import dependencies\n",
    "from path import Path\n",
    "import pandas as pd\n",
    "import numpy as np\n",
    "from sklearn.model_selection import train_test_split\n",
    "from sklearn.preprocessing import StandardScaler,OneHotEncoder\n",
    "import pandas as pd\n",
    "from matplotlib import pyplot as plt\n",
    "from tensorflow.keras.models import Sequential\n",
    "from tensorflow.keras.layers import Dense\n",
    "from sklearn.metrics import r2_score\n",
    "\n",
    "# imports for database connection\n",
    "import sqlalchemy\n",
    "from sqlalchemy.ext.automap import automap_base\n",
    "from sqlalchemy import create_engine, func\n",
    "\n",
    "# import these to view table column headers & rows\n",
    "from sqlalchemy.orm import sessionmaker\n",
    "from sqlalchemy import select\n",
    "%matplotlib inline"
   ]
  },
  {
   "cell_type": "code",
   "execution_count": 2,
   "metadata": {},
   "outputs": [],
   "source": [
    "engine = create_engine(\"sqlite:///../Resources/covid_db.db\")"
   ]
  },
  {
   "cell_type": "code",
   "execution_count": 3,
   "metadata": {},
   "outputs": [],
   "source": [
    "# reflect an existing database into a new model (creates base class for automap schema)\n",
    "Base = automap_base()"
   ]
  },
  {
   "cell_type": "code",
   "execution_count": 4,
   "metadata": {},
   "outputs": [],
   "source": [
    "# reflect the tables\n",
    "Base.prepare(engine, reflect=True)"
   ]
  },
  {
   "cell_type": "code",
   "execution_count": 5,
   "metadata": {},
   "outputs": [
    {
     "output_type": "execute_result",
     "data": {
      "text/plain": "['covid_stats', 'government_regulation']"
     },
     "metadata": {},
     "execution_count": 5
    }
   ],
   "source": [
    "Base.classes.keys()"
   ]
  },
  {
   "cell_type": "code",
   "execution_count": 6,
   "metadata": {},
   "outputs": [],
   "source": [
    "# save references to each table\n",
    "covid_stats = Base.classes.covid_stats\n",
    "government_regulation = Base.classes.government_regulation"
   ]
  },
  {
   "cell_type": "code",
   "execution_count": 7,
   "metadata": {},
   "outputs": [],
   "source": [
    "# Create session (link) from Python to the database\n",
    "session = sessionmaker(bind=engine)()"
   ]
  },
  {
   "cell_type": "code",
   "execution_count": 8,
   "metadata": {},
   "outputs": [],
   "source": [
    "# View table column headers & rows - covid_stats\n",
    "covid_stats_table = select('*').select_from(covid_stats)\n",
    "covid_stats_result = session.execute(covid_stats_table).fetchall()\n",
    "# print(covid_stats.__table__.columns.keys())\n",
    "# print(covid_stats_result)"
   ]
  },
  {
   "cell_type": "code",
   "execution_count": 9,
   "metadata": {},
   "outputs": [],
   "source": [
    "# View table column headers & rows - government_regulation\n",
    "government_regulation_table = select('*').select_from(government_regulation)\n",
    "government_regulation_result = session.execute(government_regulation_table).fetchall()\n",
    "# print(government_regulation.__table__.columns.keys())\n",
    "# print(government_regulation_result)"
   ]
  },
  {
   "cell_type": "code",
   "execution_count": 10,
   "metadata": {},
   "outputs": [],
   "source": [
    "# Merge covid_stats_table with government regulation_table\n",
    "joined = session.query(covid_stats.primary_key_reaction,\\\n",
    "                        covid_stats.date_updated,\\\n",
    "                        covid_stats.iso_code,\\\n",
    "                        covid_stats.continent,\\\n",
    "                        covid_stats.location,\\\n",
    "                        covid_stats.population,\\\n",
    "                        covid_stats.population_density,\\\n",
    "                        covid_stats.median_age,\\\n",
    "                        covid_stats.new_cases,\\\n",
    "                        covid_stats.percentage_of_Pop_New_Cases,\\\n",
    "                        covid_stats.new_deaths,\\\n",
    "                        covid_stats.percentage_of_Pop_New_Deaths,\\\n",
    "                        covid_stats.new_tests,\\\n",
    "                        covid_stats.percentage_of_Pop_New_Tests,\\\n",
    "                        covid_stats.total_cases_updated,\\\n",
    "                        covid_stats.percentage_of_Pop_Total_Cases,\\\n",
    "                        covid_stats.total_deaths_updated,\\\n",
    "                        covid_stats.percentage_of_Pop_Total_Deaths,\\\n",
    "                        covid_stats.total_tests_updated,\\\n",
    "                        covid_stats.percentage_of_Pop_Total_Tests,\\\n",
    "                       government_regulation.primary_key_response,\\\n",
    "                       government_regulation.StringencyIndex_updated,\\\n",
    "                       government_regulation.percentage_change_stringency,\\\n",
    "                       government_regulation.StringencyLegacyIndex_updated,\\\n",
    "                       government_regulation.GovernmentResponseIndex_updated,\\\n",
    "                       government_regulation.percentage_change_GovernmentResponse,\\\n",
    "                       government_regulation.ContainmentHealthIndex_updated,\\\n",
    "                       government_regulation.percentage_change_ContainmentHealth,\\\n",
    "                       government_regulation.EconomicSupportIndex_updated,\\\n",
    "                       government_regulation.percentage_change_EconomicSupport)\\\n",
    "        .join(government_regulation,government_regulation.primary_key_response == covid_stats.primary_key_reaction)\n",
    "\n",
    "# save the query results as a Pandas DataFrame and set the index\n",
    "df = pd.DataFrame(joined, columns=['primary_key_reaction',\n",
    "                                             'date_updated',\n",
    "                                             'iso_code',\n",
    "                                             'continent',\n",
    "                                             'location',\n",
    "                                             'population',\n",
    "                                             'population_density',\n",
    "                                             'median_age',\n",
    "                                             'new_cases',\n",
    "                                             'percentage_of_Pop_New_Cases',\n",
    "                                             'new_deaths',\n",
    "                                             'percentage_of_Pop_New_Deaths',\n",
    "                                             'new_tests',\n",
    "                                             'percentage_of_Pop_New_Tests',\n",
    "                                             'total_cases_updated',\n",
    "                                             'percentage_of_Pop_Total_Cases',\n",
    "                                             'total_deaths_updated',\n",
    "                                             'percentage_of_Pop_Total_Deaths',\n",
    "                                             'total_tests_updated',\n",
    "                                             'percentage_of_Pop_Total_Tests',\n",
    "                                             'primary_key_response',\n",
    "                                             'StringencyIndex_updated',\n",
    "                                             'percentage_change_stringency',\n",
    "                                             'StringencyLegacyIndex_updated',\n",
    "                                             'GovernmentResponseIndex_updated',\n",
    "                                             'percentage_change_GovernmentResponse',\n",
    "                                             'ContainmentHealthIndex_updated',\n",
    "                                             'percentage_change_ContainmentHealth',\n",
    "                                             'EconomicSupportIndex_updated',\n",
    "                                             'percentage_change_EconomicSupport'\n",
    "                                             ])"
   ]
  },
  {
   "cell_type": "code",
   "execution_count": 11,
   "metadata": {},
   "outputs": [
    {
     "output_type": "execute_result",
     "data": {
      "text/plain": "      primary_key_reaction date_updated iso_code      continent  location  \\\n0            ABW2020-03-13   2020-03-13      ABW  North America     Aruba   \n1            ABW2020-03-19   2020-03-19      ABW  North America     Aruba   \n2            ABW2020-03-20   2020-03-20      ABW  North America     Aruba   \n3            ABW2020-03-21   2020-03-21      ABW  North America     Aruba   \n4            ABW2020-03-22   2020-03-22      ABW  North America     Aruba   \n...                    ...          ...      ...            ...       ...   \n32272        ZWE2020-08-27   2020-08-27      ZWE         Africa  Zimbabwe   \n32273        ZWE2020-08-28   2020-08-28      ZWE         Africa  Zimbabwe   \n32274        ZWE2020-08-29   2020-08-29      ZWE         Africa  Zimbabwe   \n32275        ZWE2020-08-30   2020-08-30      ZWE         Africa  Zimbabwe   \n32276        ZWE2020-08-31   2020-08-31      ZWE         Africa  Zimbabwe   \n\n       population  population_density  median_age  new_cases  \\\n0          106766             584.800        41.2          2   \n1          106766             584.800        41.2          0   \n2          106766             584.800        41.2          2   \n3          106766             584.800        41.2          0   \n4          106766             584.800        41.2          0   \n...           ...                 ...         ...        ...   \n32272    14862927              42.729        19.6         55   \n32273    14862927              42.729        19.6         41   \n32274    14862927              42.729        19.6         96   \n32275    14862927              42.729        19.6         18   \n32276    14862927              42.729        19.6          6   \n\n       percentage_of_Pop_New_Cases  ...  primary_key_response  \\\n0                         0.001873  ...         ABW2020-03-13   \n1                         0.000000  ...         ABW2020-03-19   \n2                         0.001873  ...         ABW2020-03-20   \n3                         0.000000  ...         ABW2020-03-21   \n4                         0.000000  ...         ABW2020-03-22   \n...                            ...  ...                   ...   \n32272                     0.000370  ...         ZWE2020-08-27   \n32273                     0.000276  ...         ZWE2020-08-28   \n32274                     0.000646  ...         ZWE2020-08-29   \n32275                     0.000121  ...         ZWE2020-08-30   \n32276                     0.000040  ...         ZWE2020-08-31   \n\n       StringencyIndex_updated  percentage_change_stringency  \\\n0                         0.00                      0.000000   \n1                        33.33                      0.000000   \n2                        33.33                      0.000000   \n3                        44.44                     33.333333   \n4                        44.44                      0.000000   \n...                        ...                           ...   \n32272                    80.56                      0.000000   \n32273                    80.56                      0.000000   \n32274                    80.56                      0.000000   \n32275                    80.56                      0.000000   \n32276                    80.56                      0.000000   \n\n       StringencyLegacyIndex_updated  GovernmentResponseIndex_updated  \\\n0                               0.00                             2.56   \n1                              42.86                            29.49   \n2                              42.86                            29.49   \n3                              60.71                            37.18   \n4                              60.71                            37.18   \n...                              ...                              ...   \n32272                          88.10                            66.03   \n32273                          88.10                            66.03   \n32274                          88.10                            66.03   \n32275                          88.10                            66.03   \n32276                          88.10                            66.03   \n\n       percentage_change_GovernmentResponse  ContainmentHealthIndex_updated  \\\n0                                  0.000000                            3.03   \n1                                 15.015601                           34.85   \n2                                  0.000000                           34.85   \n3                                 26.076636                           43.94   \n4                                  0.000000                           43.94   \n...                                     ...                             ...   \n32272                              0.000000                           73.48   \n32273                              0.000000                           73.48   \n32274                              0.000000                           73.48   \n32275                              0.000000                           73.48   \n32276                              0.000000                           73.48   \n\n       percentage_change_ContainmentHealth  EconomicSupportIndex_updated  \\\n0                                 0.000000                           0.0   \n1                                15.016502                           0.0   \n2                                 0.000000                           0.0   \n3                                26.083214                           0.0   \n4                                 0.000000                           0.0   \n...                                    ...                           ...   \n32272                             0.000000                          25.0   \n32273                             0.000000                          25.0   \n32274                             0.000000                          25.0   \n32275                             0.000000                          25.0   \n32276                             0.000000                          25.0   \n\n       percentage_change_EconomicSupport  \n0                                    0.0  \n1                                    0.0  \n2                                    0.0  \n3                                    0.0  \n4                                    0.0  \n...                                  ...  \n32272                                0.0  \n32273                                0.0  \n32274                                0.0  \n32275                                0.0  \n32276                                0.0  \n\n[32277 rows x 30 columns]",
      "text/html": "<div>\n<style scoped>\n    .dataframe tbody tr th:only-of-type {\n        vertical-align: middle;\n    }\n\n    .dataframe tbody tr th {\n        vertical-align: top;\n    }\n\n    .dataframe thead th {\n        text-align: right;\n    }\n</style>\n<table border=\"1\" class=\"dataframe\">\n  <thead>\n    <tr style=\"text-align: right;\">\n      <th></th>\n      <th>primary_key_reaction</th>\n      <th>date_updated</th>\n      <th>iso_code</th>\n      <th>continent</th>\n      <th>location</th>\n      <th>population</th>\n      <th>population_density</th>\n      <th>median_age</th>\n      <th>new_cases</th>\n      <th>percentage_of_Pop_New_Cases</th>\n      <th>...</th>\n      <th>primary_key_response</th>\n      <th>StringencyIndex_updated</th>\n      <th>percentage_change_stringency</th>\n      <th>StringencyLegacyIndex_updated</th>\n      <th>GovernmentResponseIndex_updated</th>\n      <th>percentage_change_GovernmentResponse</th>\n      <th>ContainmentHealthIndex_updated</th>\n      <th>percentage_change_ContainmentHealth</th>\n      <th>EconomicSupportIndex_updated</th>\n      <th>percentage_change_EconomicSupport</th>\n    </tr>\n  </thead>\n  <tbody>\n    <tr>\n      <th>0</th>\n      <td>ABW2020-03-13</td>\n      <td>2020-03-13</td>\n      <td>ABW</td>\n      <td>North America</td>\n      <td>Aruba</td>\n      <td>106766</td>\n      <td>584.800</td>\n      <td>41.2</td>\n      <td>2</td>\n      <td>0.001873</td>\n      <td>...</td>\n      <td>ABW2020-03-13</td>\n      <td>0.00</td>\n      <td>0.000000</td>\n      <td>0.00</td>\n      <td>2.56</td>\n      <td>0.000000</td>\n      <td>3.03</td>\n      <td>0.000000</td>\n      <td>0.0</td>\n      <td>0.0</td>\n    </tr>\n    <tr>\n      <th>1</th>\n      <td>ABW2020-03-19</td>\n      <td>2020-03-19</td>\n      <td>ABW</td>\n      <td>North America</td>\n      <td>Aruba</td>\n      <td>106766</td>\n      <td>584.800</td>\n      <td>41.2</td>\n      <td>0</td>\n      <td>0.000000</td>\n      <td>...</td>\n      <td>ABW2020-03-19</td>\n      <td>33.33</td>\n      <td>0.000000</td>\n      <td>42.86</td>\n      <td>29.49</td>\n      <td>15.015601</td>\n      <td>34.85</td>\n      <td>15.016502</td>\n      <td>0.0</td>\n      <td>0.0</td>\n    </tr>\n    <tr>\n      <th>2</th>\n      <td>ABW2020-03-20</td>\n      <td>2020-03-20</td>\n      <td>ABW</td>\n      <td>North America</td>\n      <td>Aruba</td>\n      <td>106766</td>\n      <td>584.800</td>\n      <td>41.2</td>\n      <td>2</td>\n      <td>0.001873</td>\n      <td>...</td>\n      <td>ABW2020-03-20</td>\n      <td>33.33</td>\n      <td>0.000000</td>\n      <td>42.86</td>\n      <td>29.49</td>\n      <td>0.000000</td>\n      <td>34.85</td>\n      <td>0.000000</td>\n      <td>0.0</td>\n      <td>0.0</td>\n    </tr>\n    <tr>\n      <th>3</th>\n      <td>ABW2020-03-21</td>\n      <td>2020-03-21</td>\n      <td>ABW</td>\n      <td>North America</td>\n      <td>Aruba</td>\n      <td>106766</td>\n      <td>584.800</td>\n      <td>41.2</td>\n      <td>0</td>\n      <td>0.000000</td>\n      <td>...</td>\n      <td>ABW2020-03-21</td>\n      <td>44.44</td>\n      <td>33.333333</td>\n      <td>60.71</td>\n      <td>37.18</td>\n      <td>26.076636</td>\n      <td>43.94</td>\n      <td>26.083214</td>\n      <td>0.0</td>\n      <td>0.0</td>\n    </tr>\n    <tr>\n      <th>4</th>\n      <td>ABW2020-03-22</td>\n      <td>2020-03-22</td>\n      <td>ABW</td>\n      <td>North America</td>\n      <td>Aruba</td>\n      <td>106766</td>\n      <td>584.800</td>\n      <td>41.2</td>\n      <td>0</td>\n      <td>0.000000</td>\n      <td>...</td>\n      <td>ABW2020-03-22</td>\n      <td>44.44</td>\n      <td>0.000000</td>\n      <td>60.71</td>\n      <td>37.18</td>\n      <td>0.000000</td>\n      <td>43.94</td>\n      <td>0.000000</td>\n      <td>0.0</td>\n      <td>0.0</td>\n    </tr>\n    <tr>\n      <th>...</th>\n      <td>...</td>\n      <td>...</td>\n      <td>...</td>\n      <td>...</td>\n      <td>...</td>\n      <td>...</td>\n      <td>...</td>\n      <td>...</td>\n      <td>...</td>\n      <td>...</td>\n      <td>...</td>\n      <td>...</td>\n      <td>...</td>\n      <td>...</td>\n      <td>...</td>\n      <td>...</td>\n      <td>...</td>\n      <td>...</td>\n      <td>...</td>\n      <td>...</td>\n      <td>...</td>\n    </tr>\n    <tr>\n      <th>32272</th>\n      <td>ZWE2020-08-27</td>\n      <td>2020-08-27</td>\n      <td>ZWE</td>\n      <td>Africa</td>\n      <td>Zimbabwe</td>\n      <td>14862927</td>\n      <td>42.729</td>\n      <td>19.6</td>\n      <td>55</td>\n      <td>0.000370</td>\n      <td>...</td>\n      <td>ZWE2020-08-27</td>\n      <td>80.56</td>\n      <td>0.000000</td>\n      <td>88.10</td>\n      <td>66.03</td>\n      <td>0.000000</td>\n      <td>73.48</td>\n      <td>0.000000</td>\n      <td>25.0</td>\n      <td>0.0</td>\n    </tr>\n    <tr>\n      <th>32273</th>\n      <td>ZWE2020-08-28</td>\n      <td>2020-08-28</td>\n      <td>ZWE</td>\n      <td>Africa</td>\n      <td>Zimbabwe</td>\n      <td>14862927</td>\n      <td>42.729</td>\n      <td>19.6</td>\n      <td>41</td>\n      <td>0.000276</td>\n      <td>...</td>\n      <td>ZWE2020-08-28</td>\n      <td>80.56</td>\n      <td>0.000000</td>\n      <td>88.10</td>\n      <td>66.03</td>\n      <td>0.000000</td>\n      <td>73.48</td>\n      <td>0.000000</td>\n      <td>25.0</td>\n      <td>0.0</td>\n    </tr>\n    <tr>\n      <th>32274</th>\n      <td>ZWE2020-08-29</td>\n      <td>2020-08-29</td>\n      <td>ZWE</td>\n      <td>Africa</td>\n      <td>Zimbabwe</td>\n      <td>14862927</td>\n      <td>42.729</td>\n      <td>19.6</td>\n      <td>96</td>\n      <td>0.000646</td>\n      <td>...</td>\n      <td>ZWE2020-08-29</td>\n      <td>80.56</td>\n      <td>0.000000</td>\n      <td>88.10</td>\n      <td>66.03</td>\n      <td>0.000000</td>\n      <td>73.48</td>\n      <td>0.000000</td>\n      <td>25.0</td>\n      <td>0.0</td>\n    </tr>\n    <tr>\n      <th>32275</th>\n      <td>ZWE2020-08-30</td>\n      <td>2020-08-30</td>\n      <td>ZWE</td>\n      <td>Africa</td>\n      <td>Zimbabwe</td>\n      <td>14862927</td>\n      <td>42.729</td>\n      <td>19.6</td>\n      <td>18</td>\n      <td>0.000121</td>\n      <td>...</td>\n      <td>ZWE2020-08-30</td>\n      <td>80.56</td>\n      <td>0.000000</td>\n      <td>88.10</td>\n      <td>66.03</td>\n      <td>0.000000</td>\n      <td>73.48</td>\n      <td>0.000000</td>\n      <td>25.0</td>\n      <td>0.0</td>\n    </tr>\n    <tr>\n      <th>32276</th>\n      <td>ZWE2020-08-31</td>\n      <td>2020-08-31</td>\n      <td>ZWE</td>\n      <td>Africa</td>\n      <td>Zimbabwe</td>\n      <td>14862927</td>\n      <td>42.729</td>\n      <td>19.6</td>\n      <td>6</td>\n      <td>0.000040</td>\n      <td>...</td>\n      <td>ZWE2020-08-31</td>\n      <td>80.56</td>\n      <td>0.000000</td>\n      <td>88.10</td>\n      <td>66.03</td>\n      <td>0.000000</td>\n      <td>73.48</td>\n      <td>0.000000</td>\n      <td>25.0</td>\n      <td>0.0</td>\n    </tr>\n  </tbody>\n</table>\n<p>32277 rows × 30 columns</p>\n</div>"
     },
     "metadata": {},
     "execution_count": 11
    }
   ],
   "source": [
    "# preview \n",
    "df"
   ]
  },
  {
   "cell_type": "code",
   "execution_count": 12,
   "metadata": {
    "tags": []
   },
   "outputs": [
    {
     "output_type": "stream",
     "name": "stdout",
     "text": "primary_key_reaction                     object\ndate_updated                             object\niso_code                                 object\ncontinent                                object\nlocation                                 object\npopulation                                int64\npopulation_density                      float64\nmedian_age                              float64\nnew_cases                                 int64\npercentage_of_Pop_New_Cases             float64\nnew_deaths                                int64\npercentage_of_Pop_New_Deaths            float64\nnew_tests                                 int64\npercentage_of_Pop_New_Tests             float64\ntotal_cases_updated                       int64\npercentage_of_Pop_Total_Cases           float64\ntotal_deaths_updated                      int64\npercentage_of_Pop_Total_Deaths          float64\ntotal_tests_updated                       int64\npercentage_of_Pop_Total_Tests           float64\nprimary_key_response                     object\nStringencyIndex_updated                 float64\npercentage_change_stringency            float64\nStringencyLegacyIndex_updated           float64\nGovernmentResponseIndex_updated         float64\npercentage_change_GovernmentResponse    float64\nContainmentHealthIndex_updated          float64\npercentage_change_ContainmentHealth     float64\nEconomicSupportIndex_updated            float64\npercentage_change_EconomicSupport       float64\ndtype: object\n(32277, 30)\n"
    },
    {
     "output_type": "execute_result",
     "data": {
      "text/plain": "  primary_key_reaction date_updated iso_code      continent location  \\\n0        ABW2020-03-13   2020-03-13      ABW  North America    Aruba   \n1        ABW2020-03-19   2020-03-19      ABW  North America    Aruba   \n2        ABW2020-03-20   2020-03-20      ABW  North America    Aruba   \n3        ABW2020-03-21   2020-03-21      ABW  North America    Aruba   \n4        ABW2020-03-22   2020-03-22      ABW  North America    Aruba   \n\n   population  population_density  median_age  new_cases  \\\n0      106766               584.8        41.2          2   \n1      106766               584.8        41.2          0   \n2      106766               584.8        41.2          2   \n3      106766               584.8        41.2          0   \n4      106766               584.8        41.2          0   \n\n   percentage_of_Pop_New_Cases  ...  primary_key_response  \\\n0                     0.001873  ...         ABW2020-03-13   \n1                     0.000000  ...         ABW2020-03-19   \n2                     0.001873  ...         ABW2020-03-20   \n3                     0.000000  ...         ABW2020-03-21   \n4                     0.000000  ...         ABW2020-03-22   \n\n   StringencyIndex_updated  percentage_change_stringency  \\\n0                     0.00                      0.000000   \n1                    33.33                      0.000000   \n2                    33.33                      0.000000   \n3                    44.44                     33.333333   \n4                    44.44                      0.000000   \n\n   StringencyLegacyIndex_updated  GovernmentResponseIndex_updated  \\\n0                           0.00                             2.56   \n1                          42.86                            29.49   \n2                          42.86                            29.49   \n3                          60.71                            37.18   \n4                          60.71                            37.18   \n\n   percentage_change_GovernmentResponse  ContainmentHealthIndex_updated  \\\n0                              0.000000                            3.03   \n1                             15.015601                           34.85   \n2                              0.000000                           34.85   \n3                             26.076636                           43.94   \n4                              0.000000                           43.94   \n\n   percentage_change_ContainmentHealth  EconomicSupportIndex_updated  \\\n0                             0.000000                           0.0   \n1                            15.016502                           0.0   \n2                             0.000000                           0.0   \n3                            26.083214                           0.0   \n4                             0.000000                           0.0   \n\n   percentage_change_EconomicSupport  \n0                                0.0  \n1                                0.0  \n2                                0.0  \n3                                0.0  \n4                                0.0  \n\n[5 rows x 30 columns]",
      "text/html": "<div>\n<style scoped>\n    .dataframe tbody tr th:only-of-type {\n        vertical-align: middle;\n    }\n\n    .dataframe tbody tr th {\n        vertical-align: top;\n    }\n\n    .dataframe thead th {\n        text-align: right;\n    }\n</style>\n<table border=\"1\" class=\"dataframe\">\n  <thead>\n    <tr style=\"text-align: right;\">\n      <th></th>\n      <th>primary_key_reaction</th>\n      <th>date_updated</th>\n      <th>iso_code</th>\n      <th>continent</th>\n      <th>location</th>\n      <th>population</th>\n      <th>population_density</th>\n      <th>median_age</th>\n      <th>new_cases</th>\n      <th>percentage_of_Pop_New_Cases</th>\n      <th>...</th>\n      <th>primary_key_response</th>\n      <th>StringencyIndex_updated</th>\n      <th>percentage_change_stringency</th>\n      <th>StringencyLegacyIndex_updated</th>\n      <th>GovernmentResponseIndex_updated</th>\n      <th>percentage_change_GovernmentResponse</th>\n      <th>ContainmentHealthIndex_updated</th>\n      <th>percentage_change_ContainmentHealth</th>\n      <th>EconomicSupportIndex_updated</th>\n      <th>percentage_change_EconomicSupport</th>\n    </tr>\n  </thead>\n  <tbody>\n    <tr>\n      <th>0</th>\n      <td>ABW2020-03-13</td>\n      <td>2020-03-13</td>\n      <td>ABW</td>\n      <td>North America</td>\n      <td>Aruba</td>\n      <td>106766</td>\n      <td>584.8</td>\n      <td>41.2</td>\n      <td>2</td>\n      <td>0.001873</td>\n      <td>...</td>\n      <td>ABW2020-03-13</td>\n      <td>0.00</td>\n      <td>0.000000</td>\n      <td>0.00</td>\n      <td>2.56</td>\n      <td>0.000000</td>\n      <td>3.03</td>\n      <td>0.000000</td>\n      <td>0.0</td>\n      <td>0.0</td>\n    </tr>\n    <tr>\n      <th>1</th>\n      <td>ABW2020-03-19</td>\n      <td>2020-03-19</td>\n      <td>ABW</td>\n      <td>North America</td>\n      <td>Aruba</td>\n      <td>106766</td>\n      <td>584.8</td>\n      <td>41.2</td>\n      <td>0</td>\n      <td>0.000000</td>\n      <td>...</td>\n      <td>ABW2020-03-19</td>\n      <td>33.33</td>\n      <td>0.000000</td>\n      <td>42.86</td>\n      <td>29.49</td>\n      <td>15.015601</td>\n      <td>34.85</td>\n      <td>15.016502</td>\n      <td>0.0</td>\n      <td>0.0</td>\n    </tr>\n    <tr>\n      <th>2</th>\n      <td>ABW2020-03-20</td>\n      <td>2020-03-20</td>\n      <td>ABW</td>\n      <td>North America</td>\n      <td>Aruba</td>\n      <td>106766</td>\n      <td>584.8</td>\n      <td>41.2</td>\n      <td>2</td>\n      <td>0.001873</td>\n      <td>...</td>\n      <td>ABW2020-03-20</td>\n      <td>33.33</td>\n      <td>0.000000</td>\n      <td>42.86</td>\n      <td>29.49</td>\n      <td>0.000000</td>\n      <td>34.85</td>\n      <td>0.000000</td>\n      <td>0.0</td>\n      <td>0.0</td>\n    </tr>\n    <tr>\n      <th>3</th>\n      <td>ABW2020-03-21</td>\n      <td>2020-03-21</td>\n      <td>ABW</td>\n      <td>North America</td>\n      <td>Aruba</td>\n      <td>106766</td>\n      <td>584.8</td>\n      <td>41.2</td>\n      <td>0</td>\n      <td>0.000000</td>\n      <td>...</td>\n      <td>ABW2020-03-21</td>\n      <td>44.44</td>\n      <td>33.333333</td>\n      <td>60.71</td>\n      <td>37.18</td>\n      <td>26.076636</td>\n      <td>43.94</td>\n      <td>26.083214</td>\n      <td>0.0</td>\n      <td>0.0</td>\n    </tr>\n    <tr>\n      <th>4</th>\n      <td>ABW2020-03-22</td>\n      <td>2020-03-22</td>\n      <td>ABW</td>\n      <td>North America</td>\n      <td>Aruba</td>\n      <td>106766</td>\n      <td>584.8</td>\n      <td>41.2</td>\n      <td>0</td>\n      <td>0.000000</td>\n      <td>...</td>\n      <td>ABW2020-03-22</td>\n      <td>44.44</td>\n      <td>0.000000</td>\n      <td>60.71</td>\n      <td>37.18</td>\n      <td>0.000000</td>\n      <td>43.94</td>\n      <td>0.000000</td>\n      <td>0.0</td>\n      <td>0.0</td>\n    </tr>\n  </tbody>\n</table>\n<p>5 rows × 30 columns</p>\n</div>"
     },
     "metadata": {},
     "execution_count": 12
    }
   ],
   "source": [
    "# Check merged_covid.csv\n",
    "print(df.dtypes)\n",
    "print(df.shape)\n",
    "\n",
    "# Display df\n",
    "df.head()"
   ]
  },
  {
   "cell_type": "code",
   "execution_count": 13,
   "metadata": {},
   "outputs": [
    {
     "output_type": "execute_result",
     "data": {
      "text/plain": "         population  population_density    median_age     new_cases  \\\ncount  3.227700e+04        32277.000000  32277.000000  32277.000000   \nmean   5.400962e+07          214.197672     31.332131    778.920656   \nstd    1.764115e+08          728.593605      9.175007   4360.424882   \nmin    9.834000e+04            1.980000     15.100000  -2461.000000   \n25%    4.822233e+06           32.333000     23.500000      0.000000   \n50%    1.132662e+07           82.805000     31.100000     18.000000   \n75%    3.892834e+07          204.430000     39.800000    221.000000   \nmax    1.439324e+09         7915.731000     48.200000  78761.000000   \n\n       percentage_of_Pop_New_Cases    new_deaths  \\\ncount                 32277.000000  32277.000000   \nmean                      0.001991     26.154042   \nstd                       0.005546    138.626066   \nmin                      -0.221254  -1918.000000   \n25%                       0.000000      0.000000   \n50%                       0.000182      0.000000   \n75%                       0.001469      4.000000   \nmax                       0.189258   4928.000000   \n\n       percentage_of_Pop_New_Deaths     new_tests  \\\ncount                  3.227700e+04  3.227700e+04   \nmean                   5.072572e-07  8.487867e+03   \nstd                    2.001007e-06  5.284508e+04   \nmin                   -6.790114e-05 -3.743000e+03   \n25%                    0.000000e+00  0.000000e+00   \n50%                    0.000000e+00  0.000000e+00   \n75%                    2.433856e-07  1.911000e+03   \nmax                    1.193442e-04  1.194086e+06   \n\n       percentage_of_Pop_New_Tests  total_cases_updated  ...  \\\ncount                 32277.000000         3.227700e+04  ...   \nmean                      0.024842         4.745188e+04  ...   \nstd                       0.074306         2.709722e+05  ...   \nmin                      -0.039824         0.000000e+00  ...   \n25%                       0.000000         7.200000e+01  ...   \n50%                       0.000000         1.331000e+03  ...   \n75%                       0.013440         1.297400e+04  ...   \nmax                       1.657412         5.997163e+06  ...   \n\n       percentage_of_Pop_Total_Tests  StringencyIndex_updated  \\\ncount                   32277.000000             32277.000000   \nmean                        1.928935                58.044062   \nstd                         5.493011                28.321004   \nmin                         0.000000                 0.000000   \n25%                         0.000000                39.810000   \n50%                         0.000000                65.740000   \n75%                         0.968671                80.560000   \nmax                        70.895970               100.000000   \n\n       percentage_change_stringency  StringencyLegacyIndex_updated  \\\ncount                  32277.000000                   32277.000000   \nmean                       1.308332                      64.012734   \nstd                       19.904059                      28.648400   \nmin                     -100.000000                       0.000000   \n25%                        0.000000                      50.000000   \n50%                        0.000000                      72.620000   \n75%                        0.000000                      85.710000   \nmax                     1965.107914                     100.000000   \n\n       GovernmentResponseIndex_updated  percentage_change_GovernmentResponse  \\\ncount                     32277.000000                          32277.000000   \nmean                         55.398830                              1.274466   \nstd                          24.321508                             13.818227   \nmin                           0.000000                            -59.979210   \n25%                          44.870000                              0.000000   \n50%                          62.180000                              0.000000   \n75%                          73.720000                              0.000000   \nmax                          96.150000                            655.459272   \n\n       ContainmentHealthIndex_updated  percentage_change_ContainmentHealth  \\\ncount                    32277.000000                         32277.000000   \nmean                        58.043087                             1.226407   \nstd                         25.638560                            14.416320   \nmin                          0.000000                           -59.947183   \n25%                         44.700000                             0.000000   \n50%                         65.150000                             0.000000   \n75%                         77.270000                             0.000000   \nmax                        100.000000                           655.425220   \n\n       EconomicSupportIndex_updated  percentage_change_EconomicSupport  \ncount                  32277.000000                       32277.000000  \nmean                      40.854943                           0.337230  \nstd                       32.776192                           7.614218  \nmin                        0.000000                        -100.000000  \n25%                        0.000000                           0.000000  \n50%                       50.000000                           0.000000  \n75%                       75.000000                           0.000000  \nmax                      100.000000                         400.000000  \n\n[8 rows x 24 columns]",
      "text/html": "<div>\n<style scoped>\n    .dataframe tbody tr th:only-of-type {\n        vertical-align: middle;\n    }\n\n    .dataframe tbody tr th {\n        vertical-align: top;\n    }\n\n    .dataframe thead th {\n        text-align: right;\n    }\n</style>\n<table border=\"1\" class=\"dataframe\">\n  <thead>\n    <tr style=\"text-align: right;\">\n      <th></th>\n      <th>population</th>\n      <th>population_density</th>\n      <th>median_age</th>\n      <th>new_cases</th>\n      <th>percentage_of_Pop_New_Cases</th>\n      <th>new_deaths</th>\n      <th>percentage_of_Pop_New_Deaths</th>\n      <th>new_tests</th>\n      <th>percentage_of_Pop_New_Tests</th>\n      <th>total_cases_updated</th>\n      <th>...</th>\n      <th>percentage_of_Pop_Total_Tests</th>\n      <th>StringencyIndex_updated</th>\n      <th>percentage_change_stringency</th>\n      <th>StringencyLegacyIndex_updated</th>\n      <th>GovernmentResponseIndex_updated</th>\n      <th>percentage_change_GovernmentResponse</th>\n      <th>ContainmentHealthIndex_updated</th>\n      <th>percentage_change_ContainmentHealth</th>\n      <th>EconomicSupportIndex_updated</th>\n      <th>percentage_change_EconomicSupport</th>\n    </tr>\n  </thead>\n  <tbody>\n    <tr>\n      <th>count</th>\n      <td>3.227700e+04</td>\n      <td>32277.000000</td>\n      <td>32277.000000</td>\n      <td>32277.000000</td>\n      <td>32277.000000</td>\n      <td>32277.000000</td>\n      <td>3.227700e+04</td>\n      <td>3.227700e+04</td>\n      <td>32277.000000</td>\n      <td>3.227700e+04</td>\n      <td>...</td>\n      <td>32277.000000</td>\n      <td>32277.000000</td>\n      <td>32277.000000</td>\n      <td>32277.000000</td>\n      <td>32277.000000</td>\n      <td>32277.000000</td>\n      <td>32277.000000</td>\n      <td>32277.000000</td>\n      <td>32277.000000</td>\n      <td>32277.000000</td>\n    </tr>\n    <tr>\n      <th>mean</th>\n      <td>5.400962e+07</td>\n      <td>214.197672</td>\n      <td>31.332131</td>\n      <td>778.920656</td>\n      <td>0.001991</td>\n      <td>26.154042</td>\n      <td>5.072572e-07</td>\n      <td>8.487867e+03</td>\n      <td>0.024842</td>\n      <td>4.745188e+04</td>\n      <td>...</td>\n      <td>1.928935</td>\n      <td>58.044062</td>\n      <td>1.308332</td>\n      <td>64.012734</td>\n      <td>55.398830</td>\n      <td>1.274466</td>\n      <td>58.043087</td>\n      <td>1.226407</td>\n      <td>40.854943</td>\n      <td>0.337230</td>\n    </tr>\n    <tr>\n      <th>std</th>\n      <td>1.764115e+08</td>\n      <td>728.593605</td>\n      <td>9.175007</td>\n      <td>4360.424882</td>\n      <td>0.005546</td>\n      <td>138.626066</td>\n      <td>2.001007e-06</td>\n      <td>5.284508e+04</td>\n      <td>0.074306</td>\n      <td>2.709722e+05</td>\n      <td>...</td>\n      <td>5.493011</td>\n      <td>28.321004</td>\n      <td>19.904059</td>\n      <td>28.648400</td>\n      <td>24.321508</td>\n      <td>13.818227</td>\n      <td>25.638560</td>\n      <td>14.416320</td>\n      <td>32.776192</td>\n      <td>7.614218</td>\n    </tr>\n    <tr>\n      <th>min</th>\n      <td>9.834000e+04</td>\n      <td>1.980000</td>\n      <td>15.100000</td>\n      <td>-2461.000000</td>\n      <td>-0.221254</td>\n      <td>-1918.000000</td>\n      <td>-6.790114e-05</td>\n      <td>-3.743000e+03</td>\n      <td>-0.039824</td>\n      <td>0.000000e+00</td>\n      <td>...</td>\n      <td>0.000000</td>\n      <td>0.000000</td>\n      <td>-100.000000</td>\n      <td>0.000000</td>\n      <td>0.000000</td>\n      <td>-59.979210</td>\n      <td>0.000000</td>\n      <td>-59.947183</td>\n      <td>0.000000</td>\n      <td>-100.000000</td>\n    </tr>\n    <tr>\n      <th>25%</th>\n      <td>4.822233e+06</td>\n      <td>32.333000</td>\n      <td>23.500000</td>\n      <td>0.000000</td>\n      <td>0.000000</td>\n      <td>0.000000</td>\n      <td>0.000000e+00</td>\n      <td>0.000000e+00</td>\n      <td>0.000000</td>\n      <td>7.200000e+01</td>\n      <td>...</td>\n      <td>0.000000</td>\n      <td>39.810000</td>\n      <td>0.000000</td>\n      <td>50.000000</td>\n      <td>44.870000</td>\n      <td>0.000000</td>\n      <td>44.700000</td>\n      <td>0.000000</td>\n      <td>0.000000</td>\n      <td>0.000000</td>\n    </tr>\n    <tr>\n      <th>50%</th>\n      <td>1.132662e+07</td>\n      <td>82.805000</td>\n      <td>31.100000</td>\n      <td>18.000000</td>\n      <td>0.000182</td>\n      <td>0.000000</td>\n      <td>0.000000e+00</td>\n      <td>0.000000e+00</td>\n      <td>0.000000</td>\n      <td>1.331000e+03</td>\n      <td>...</td>\n      <td>0.000000</td>\n      <td>65.740000</td>\n      <td>0.000000</td>\n      <td>72.620000</td>\n      <td>62.180000</td>\n      <td>0.000000</td>\n      <td>65.150000</td>\n      <td>0.000000</td>\n      <td>50.000000</td>\n      <td>0.000000</td>\n    </tr>\n    <tr>\n      <th>75%</th>\n      <td>3.892834e+07</td>\n      <td>204.430000</td>\n      <td>39.800000</td>\n      <td>221.000000</td>\n      <td>0.001469</td>\n      <td>4.000000</td>\n      <td>2.433856e-07</td>\n      <td>1.911000e+03</td>\n      <td>0.013440</td>\n      <td>1.297400e+04</td>\n      <td>...</td>\n      <td>0.968671</td>\n      <td>80.560000</td>\n      <td>0.000000</td>\n      <td>85.710000</td>\n      <td>73.720000</td>\n      <td>0.000000</td>\n      <td>77.270000</td>\n      <td>0.000000</td>\n      <td>75.000000</td>\n      <td>0.000000</td>\n    </tr>\n    <tr>\n      <th>max</th>\n      <td>1.439324e+09</td>\n      <td>7915.731000</td>\n      <td>48.200000</td>\n      <td>78761.000000</td>\n      <td>0.189258</td>\n      <td>4928.000000</td>\n      <td>1.193442e-04</td>\n      <td>1.194086e+06</td>\n      <td>1.657412</td>\n      <td>5.997163e+06</td>\n      <td>...</td>\n      <td>70.895970</td>\n      <td>100.000000</td>\n      <td>1965.107914</td>\n      <td>100.000000</td>\n      <td>96.150000</td>\n      <td>655.459272</td>\n      <td>100.000000</td>\n      <td>655.425220</td>\n      <td>100.000000</td>\n      <td>400.000000</td>\n    </tr>\n  </tbody>\n</table>\n<p>8 rows × 24 columns</p>\n</div>"
     },
     "metadata": {},
     "execution_count": 13
    }
   ],
   "source": [
    "# check merged df for null values.\n",
    "df.describe()"
   ]
  },
  {
   "cell_type": "code",
   "execution_count": 14,
   "metadata": {},
   "outputs": [
    {
     "output_type": "execute_result",
     "data": {
      "text/plain": "Index(['primary_key_reaction', 'date_updated', 'iso_code', 'continent',\n       'location', 'population', 'population_density', 'median_age',\n       'new_cases', 'percentage_of_Pop_New_Cases', 'new_deaths',\n       'percentage_of_Pop_New_Deaths', 'new_tests',\n       'percentage_of_Pop_New_Tests', 'total_cases_updated',\n       'percentage_of_Pop_Total_Cases', 'total_deaths_updated',\n       'percentage_of_Pop_Total_Deaths', 'total_tests_updated',\n       'percentage_of_Pop_Total_Tests', 'primary_key_response',\n       'StringencyIndex_updated', 'percentage_change_stringency',\n       'StringencyLegacyIndex_updated', 'GovernmentResponseIndex_updated',\n       'percentage_change_GovernmentResponse',\n       'ContainmentHealthIndex_updated', 'percentage_change_ContainmentHealth',\n       'EconomicSupportIndex_updated', 'percentage_change_EconomicSupport'],\n      dtype='object')"
     },
     "metadata": {},
     "execution_count": 14
    }
   ],
   "source": [
    "df.columns"
   ]
  },
  {
   "cell_type": "markdown",
   "metadata": {},
   "source": [
    "## DF Total Deaths"
   ]
  },
  {
   "cell_type": "code",
   "execution_count": 15,
   "metadata": {
    "scrolled": false
   },
   "outputs": [
    {
     "output_type": "execute_result",
     "data": {
      "text/plain": "       population  population_density  median_age  total_cases_updated  \\\n0          106766             584.800        41.2                    2   \n1          106766             584.800        41.2                    2   \n2          106766             584.800        41.2                    4   \n3          106766             584.800        41.2                    4   \n4          106766             584.800        41.2                    4   \n...           ...                 ...         ...                  ...   \n32272    14862927              42.729        19.6                 6251   \n32273    14862927              42.729        19.6                 6292   \n32274    14862927              42.729        19.6                 6388   \n32275    14862927              42.729        19.6                 6406   \n32276    14862927              42.729        19.6                 6412   \n\n       StringencyIndex_updated  total_deaths_updated  \n0                         0.00                     0  \n1                        33.33                     0  \n2                        33.33                     0  \n3                        44.44                     0  \n4                        44.44                     0  \n...                        ...                   ...  \n32272                    80.56                   179  \n32273                    80.56                   189  \n32274                    80.56                   195  \n32275                    80.56                   196  \n32276                    80.56                   196  \n\n[32277 rows x 6 columns]",
      "text/html": "<div>\n<style scoped>\n    .dataframe tbody tr th:only-of-type {\n        vertical-align: middle;\n    }\n\n    .dataframe tbody tr th {\n        vertical-align: top;\n    }\n\n    .dataframe thead th {\n        text-align: right;\n    }\n</style>\n<table border=\"1\" class=\"dataframe\">\n  <thead>\n    <tr style=\"text-align: right;\">\n      <th></th>\n      <th>population</th>\n      <th>population_density</th>\n      <th>median_age</th>\n      <th>total_cases_updated</th>\n      <th>StringencyIndex_updated</th>\n      <th>total_deaths_updated</th>\n    </tr>\n  </thead>\n  <tbody>\n    <tr>\n      <th>0</th>\n      <td>106766</td>\n      <td>584.800</td>\n      <td>41.2</td>\n      <td>2</td>\n      <td>0.00</td>\n      <td>0</td>\n    </tr>\n    <tr>\n      <th>1</th>\n      <td>106766</td>\n      <td>584.800</td>\n      <td>41.2</td>\n      <td>2</td>\n      <td>33.33</td>\n      <td>0</td>\n    </tr>\n    <tr>\n      <th>2</th>\n      <td>106766</td>\n      <td>584.800</td>\n      <td>41.2</td>\n      <td>4</td>\n      <td>33.33</td>\n      <td>0</td>\n    </tr>\n    <tr>\n      <th>3</th>\n      <td>106766</td>\n      <td>584.800</td>\n      <td>41.2</td>\n      <td>4</td>\n      <td>44.44</td>\n      <td>0</td>\n    </tr>\n    <tr>\n      <th>4</th>\n      <td>106766</td>\n      <td>584.800</td>\n      <td>41.2</td>\n      <td>4</td>\n      <td>44.44</td>\n      <td>0</td>\n    </tr>\n    <tr>\n      <th>...</th>\n      <td>...</td>\n      <td>...</td>\n      <td>...</td>\n      <td>...</td>\n      <td>...</td>\n      <td>...</td>\n    </tr>\n    <tr>\n      <th>32272</th>\n      <td>14862927</td>\n      <td>42.729</td>\n      <td>19.6</td>\n      <td>6251</td>\n      <td>80.56</td>\n      <td>179</td>\n    </tr>\n    <tr>\n      <th>32273</th>\n      <td>14862927</td>\n      <td>42.729</td>\n      <td>19.6</td>\n      <td>6292</td>\n      <td>80.56</td>\n      <td>189</td>\n    </tr>\n    <tr>\n      <th>32274</th>\n      <td>14862927</td>\n      <td>42.729</td>\n      <td>19.6</td>\n      <td>6388</td>\n      <td>80.56</td>\n      <td>195</td>\n    </tr>\n    <tr>\n      <th>32275</th>\n      <td>14862927</td>\n      <td>42.729</td>\n      <td>19.6</td>\n      <td>6406</td>\n      <td>80.56</td>\n      <td>196</td>\n    </tr>\n    <tr>\n      <th>32276</th>\n      <td>14862927</td>\n      <td>42.729</td>\n      <td>19.6</td>\n      <td>6412</td>\n      <td>80.56</td>\n      <td>196</td>\n    </tr>\n  </tbody>\n</table>\n<p>32277 rows × 6 columns</p>\n</div>"
     },
     "metadata": {},
     "execution_count": 15
    }
   ],
   "source": [
    "# Create a df to test impact of some features on 'total deaths'\n",
    "df_death_ml=df[['population','population_density','median_age','total_cases_updated','StringencyIndex_updated','total_deaths_updated']]\n",
    "df_death_ml"
   ]
  },
  {
   "cell_type": "code",
   "execution_count": 16,
   "metadata": {},
   "outputs": [
    {
     "output_type": "execute_result",
     "data": {
      "text/plain": "         population  population_density    median_age  total_cases_updated  \\\ncount  3.227700e+04        32277.000000  32277.000000         3.227700e+04   \nmean   5.400962e+07          214.197672     31.332131         4.745188e+04   \nstd    1.764115e+08          728.593605      9.175007         2.709722e+05   \nmin    9.834000e+04            1.980000     15.100000         0.000000e+00   \n25%    4.822233e+06           32.333000     23.500000         7.200000e+01   \n50%    1.132662e+07           82.805000     31.100000         1.331000e+03   \n75%    3.892834e+07          204.430000     39.800000         1.297400e+04   \nmax    1.439324e+09         7915.731000     48.200000         5.997163e+06   \n\n       StringencyIndex_updated  total_deaths_updated  \ncount             32277.000000          32277.000000  \nmean                 58.044062           2121.634662  \nstd                  28.321004          10533.562293  \nmin                   0.000000              0.000000  \n25%                  39.810000              1.000000  \n50%                  65.740000             26.000000  \n75%                  80.560000            279.000000  \nmax                 100.000000         183069.000000  ",
      "text/html": "<div>\n<style scoped>\n    .dataframe tbody tr th:only-of-type {\n        vertical-align: middle;\n    }\n\n    .dataframe tbody tr th {\n        vertical-align: top;\n    }\n\n    .dataframe thead th {\n        text-align: right;\n    }\n</style>\n<table border=\"1\" class=\"dataframe\">\n  <thead>\n    <tr style=\"text-align: right;\">\n      <th></th>\n      <th>population</th>\n      <th>population_density</th>\n      <th>median_age</th>\n      <th>total_cases_updated</th>\n      <th>StringencyIndex_updated</th>\n      <th>total_deaths_updated</th>\n    </tr>\n  </thead>\n  <tbody>\n    <tr>\n      <th>count</th>\n      <td>3.227700e+04</td>\n      <td>32277.000000</td>\n      <td>32277.000000</td>\n      <td>3.227700e+04</td>\n      <td>32277.000000</td>\n      <td>32277.000000</td>\n    </tr>\n    <tr>\n      <th>mean</th>\n      <td>5.400962e+07</td>\n      <td>214.197672</td>\n      <td>31.332131</td>\n      <td>4.745188e+04</td>\n      <td>58.044062</td>\n      <td>2121.634662</td>\n    </tr>\n    <tr>\n      <th>std</th>\n      <td>1.764115e+08</td>\n      <td>728.593605</td>\n      <td>9.175007</td>\n      <td>2.709722e+05</td>\n      <td>28.321004</td>\n      <td>10533.562293</td>\n    </tr>\n    <tr>\n      <th>min</th>\n      <td>9.834000e+04</td>\n      <td>1.980000</td>\n      <td>15.100000</td>\n      <td>0.000000e+00</td>\n      <td>0.000000</td>\n      <td>0.000000</td>\n    </tr>\n    <tr>\n      <th>25%</th>\n      <td>4.822233e+06</td>\n      <td>32.333000</td>\n      <td>23.500000</td>\n      <td>7.200000e+01</td>\n      <td>39.810000</td>\n      <td>1.000000</td>\n    </tr>\n    <tr>\n      <th>50%</th>\n      <td>1.132662e+07</td>\n      <td>82.805000</td>\n      <td>31.100000</td>\n      <td>1.331000e+03</td>\n      <td>65.740000</td>\n      <td>26.000000</td>\n    </tr>\n    <tr>\n      <th>75%</th>\n      <td>3.892834e+07</td>\n      <td>204.430000</td>\n      <td>39.800000</td>\n      <td>1.297400e+04</td>\n      <td>80.560000</td>\n      <td>279.000000</td>\n    </tr>\n    <tr>\n      <th>max</th>\n      <td>1.439324e+09</td>\n      <td>7915.731000</td>\n      <td>48.200000</td>\n      <td>5.997163e+06</td>\n      <td>100.000000</td>\n      <td>183069.000000</td>\n    </tr>\n  </tbody>\n</table>\n</div>"
     },
     "metadata": {},
     "execution_count": 16
    }
   ],
   "source": [
    "# Check stats\n",
    "df_death_ml.describe()"
   ]
  },
  {
   "cell_type": "code",
   "execution_count": 17,
   "metadata": {},
   "outputs": [
    {
     "output_type": "execute_result",
     "data": {
      "text/plain": "population                   int64\npopulation_density         float64\nmedian_age                 float64\ntotal_cases_updated          int64\nStringencyIndex_updated    float64\ntotal_deaths_updated         int64\ndtype: object"
     },
     "metadata": {},
     "execution_count": 17
    }
   ],
   "source": [
    "# Check to make sure dtypes are appropriate .\n",
    "df_death_ml.dtypes"
   ]
  },
  {
   "cell_type": "code",
   "execution_count": 18,
   "metadata": {},
   "outputs": [
    {
     "output_type": "execute_result",
     "data": {
      "text/plain": "(32277, 6)"
     },
     "metadata": {},
     "execution_count": 18
    }
   ],
   "source": [
    "# Check shape before dropping na\n",
    "df_death_ml.shape"
   ]
  },
  {
   "cell_type": "code",
   "execution_count": 19,
   "metadata": {},
   "outputs": [
    {
     "output_type": "execute_result",
     "data": {
      "text/plain": "(32277, 6)"
     },
     "metadata": {},
     "execution_count": 19
    }
   ],
   "source": [
    "# Drop rows with null values\n",
    "df_death_ml=df_death_ml.dropna(how='any')\n",
    "df_death_ml.shape"
   ]
  },
  {
   "cell_type": "markdown",
   "metadata": {},
   "source": [
    "## Predicting Number of Deaths- with NN Model"
   ]
  },
  {
   "cell_type": "code",
   "execution_count": 20,
   "metadata": {},
   "outputs": [],
   "source": [
    "# create features(X) and target(y) sets\n",
    "X = df_death_ml.drop(['total_deaths_updated'],axis=1).values\n",
    "\n",
    "y = df_death_ml['total_deaths_updated'].values\n",
    "y = y.reshape(-1,1)"
   ]
  },
  {
   "cell_type": "code",
   "execution_count": 21,
   "metadata": {},
   "outputs": [
    {
     "output_type": "execute_result",
     "data": {
      "text/plain": "(32277, 5)"
     },
     "metadata": {},
     "execution_count": 21
    }
   ],
   "source": [
    "# Check shape for num of features\n",
    "X.shape"
   ]
  },
  {
   "cell_type": "code",
   "execution_count": 22,
   "metadata": {},
   "outputs": [],
   "source": [
    "# Split dataset into training and testing\n",
    "# train 95% of data, test 5%\n",
    "X_train, X_test, y_train, y_test = train_test_split(X, y, test_size=0.05)\n",
    "\n",
    "# scale data\n",
    "X_scaler = StandardScaler()\n",
    "X_scaler.fit(X_train)\n",
    "\n",
    "y_scaler= StandardScaler()\n",
    "y_scaler.fit(y_train)\n",
    "\n",
    "y_train_scaled=y_scaler.transform(y_train)\n",
    "y_test_scaled=y_scaler.transform(y_test)\n",
    "\n",
    "X_train_scaled = X_scaler.transform(X_train)\n",
    "X_test_scaled = X_scaler.transform(X_test)"
   ]
  }
 ],
 "metadata": {
  "kernelspec": {
   "display_name": "mlenv2",
   "language": "python",
   "name": "mlenv2"
  },
  "language_info": {
   "codemirror_mode": {
    "name": "ipython",
    "version": 3
   },
   "file_extension": ".py",
   "mimetype": "text/x-python",
   "name": "python",
   "nbconvert_exporter": "python",
   "pygments_lexer": "ipython3",
   "version": "3.7.7-final"
  }
 },
 "nbformat": 4,
 "nbformat_minor": 4
}