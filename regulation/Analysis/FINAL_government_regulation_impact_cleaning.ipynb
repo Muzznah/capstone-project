{
 "cells": [
  {
   "cell_type": "code",
   "execution_count": 67,
   "metadata": {},
   "outputs": [],
   "source": [
    "# Import the dependencies\n",
    "import pandas as pd\n",
    "import numpy as np"
   ]
  },
  {
   "cell_type": "code",
   "execution_count": 68,
   "metadata": {},
   "outputs": [],
   "source": [
    "# Store the CSVs in dataFrames\n",
    "government_regulation_df = pd.read_csv(\"../Resources/raw/OxCGRT_latest(Aug31,2020).csv\")\n",
    "covid_stats_df = pd.read_csv(\"../Resources/raw/owid-covid-data(Aug31,2020).csv\")"
   ]
  },
  {
   "cell_type": "markdown",
   "metadata": {},
   "source": [
    "### Inspect and Clean: government_regulation_df"
   ]
  },
  {
   "cell_type": "code",
   "execution_count": 69,
   "metadata": {},
   "outputs": [
    {
     "output_type": "execute_result",
     "data": {
      "text/plain": "  CountryName CountryCode RegionName RegionCode      Date  C1_School closing  \\\n0       Aruba         ABW        NaN        NaN  20200101                0.0   \n1       Aruba         ABW        NaN        NaN  20200102                0.0   \n2       Aruba         ABW        NaN        NaN  20200103                0.0   \n3       Aruba         ABW        NaN        NaN  20200104                0.0   \n4       Aruba         ABW        NaN        NaN  20200105                0.0   \n\n   C1_Flag  C2_Workplace closing  C2_Flag  C3_Cancel public events  ...  \\\n0      NaN                   0.0      NaN                      0.0  ...   \n1      NaN                   0.0      NaN                      0.0  ...   \n2      NaN                   0.0      NaN                      0.0  ...   \n3      NaN                   0.0      NaN                      0.0  ...   \n4      NaN                   0.0      NaN                      0.0  ...   \n\n   StringencyIndex  StringencyIndexForDisplay  StringencyLegacyIndex  \\\n0              0.0                        0.0                    0.0   \n1              0.0                        0.0                    0.0   \n2              0.0                        0.0                    0.0   \n3              0.0                        0.0                    0.0   \n4              0.0                        0.0                    0.0   \n\n   StringencyLegacyIndexForDisplay  GovernmentResponseIndex  \\\n0                              0.0                      0.0   \n1                              0.0                      0.0   \n2                              0.0                      0.0   \n3                              0.0                      0.0   \n4                              0.0                      0.0   \n\n   GovernmentResponseIndexForDisplay  ContainmentHealthIndex  \\\n0                                0.0                     0.0   \n1                                0.0                     0.0   \n2                                0.0                     0.0   \n3                                0.0                     0.0   \n4                                0.0                     0.0   \n\n   ContainmentHealthIndexForDisplay  EconomicSupportIndex  \\\n0                               0.0                   0.0   \n1                               0.0                   0.0   \n2                               0.0                   0.0   \n3                               0.0                   0.0   \n4                               0.0                   0.0   \n\n   EconomicSupportIndexForDisplay  \n0                             0.0  \n1                             0.0  \n2                             0.0  \n3                             0.0  \n4                             0.0  \n\n[5 rows x 44 columns]",
      "text/html": "<div>\n<style scoped>\n    .dataframe tbody tr th:only-of-type {\n        vertical-align: middle;\n    }\n\n    .dataframe tbody tr th {\n        vertical-align: top;\n    }\n\n    .dataframe thead th {\n        text-align: right;\n    }\n</style>\n<table border=\"1\" class=\"dataframe\">\n  <thead>\n    <tr style=\"text-align: right;\">\n      <th></th>\n      <th>CountryName</th>\n      <th>CountryCode</th>\n      <th>RegionName</th>\n      <th>RegionCode</th>\n      <th>Date</th>\n      <th>C1_School closing</th>\n      <th>C1_Flag</th>\n      <th>C2_Workplace closing</th>\n      <th>C2_Flag</th>\n      <th>C3_Cancel public events</th>\n      <th>...</th>\n      <th>StringencyIndex</th>\n      <th>StringencyIndexForDisplay</th>\n      <th>StringencyLegacyIndex</th>\n      <th>StringencyLegacyIndexForDisplay</th>\n      <th>GovernmentResponseIndex</th>\n      <th>GovernmentResponseIndexForDisplay</th>\n      <th>ContainmentHealthIndex</th>\n      <th>ContainmentHealthIndexForDisplay</th>\n      <th>EconomicSupportIndex</th>\n      <th>EconomicSupportIndexForDisplay</th>\n    </tr>\n  </thead>\n  <tbody>\n    <tr>\n      <th>0</th>\n      <td>Aruba</td>\n      <td>ABW</td>\n      <td>NaN</td>\n      <td>NaN</td>\n      <td>20200101</td>\n      <td>0.0</td>\n      <td>NaN</td>\n      <td>0.0</td>\n      <td>NaN</td>\n      <td>0.0</td>\n      <td>...</td>\n      <td>0.0</td>\n      <td>0.0</td>\n      <td>0.0</td>\n      <td>0.0</td>\n      <td>0.0</td>\n      <td>0.0</td>\n      <td>0.0</td>\n      <td>0.0</td>\n      <td>0.0</td>\n      <td>0.0</td>\n    </tr>\n    <tr>\n      <th>1</th>\n      <td>Aruba</td>\n      <td>ABW</td>\n      <td>NaN</td>\n      <td>NaN</td>\n      <td>20200102</td>\n      <td>0.0</td>\n      <td>NaN</td>\n      <td>0.0</td>\n      <td>NaN</td>\n      <td>0.0</td>\n      <td>...</td>\n      <td>0.0</td>\n      <td>0.0</td>\n      <td>0.0</td>\n      <td>0.0</td>\n      <td>0.0</td>\n      <td>0.0</td>\n      <td>0.0</td>\n      <td>0.0</td>\n      <td>0.0</td>\n      <td>0.0</td>\n    </tr>\n    <tr>\n      <th>2</th>\n      <td>Aruba</td>\n      <td>ABW</td>\n      <td>NaN</td>\n      <td>NaN</td>\n      <td>20200103</td>\n      <td>0.0</td>\n      <td>NaN</td>\n      <td>0.0</td>\n      <td>NaN</td>\n      <td>0.0</td>\n      <td>...</td>\n      <td>0.0</td>\n      <td>0.0</td>\n      <td>0.0</td>\n      <td>0.0</td>\n      <td>0.0</td>\n      <td>0.0</td>\n      <td>0.0</td>\n      <td>0.0</td>\n      <td>0.0</td>\n      <td>0.0</td>\n    </tr>\n    <tr>\n      <th>3</th>\n      <td>Aruba</td>\n      <td>ABW</td>\n      <td>NaN</td>\n      <td>NaN</td>\n      <td>20200104</td>\n      <td>0.0</td>\n      <td>NaN</td>\n      <td>0.0</td>\n      <td>NaN</td>\n      <td>0.0</td>\n      <td>...</td>\n      <td>0.0</td>\n      <td>0.0</td>\n      <td>0.0</td>\n      <td>0.0</td>\n      <td>0.0</td>\n      <td>0.0</td>\n      <td>0.0</td>\n      <td>0.0</td>\n      <td>0.0</td>\n      <td>0.0</td>\n    </tr>\n    <tr>\n      <th>4</th>\n      <td>Aruba</td>\n      <td>ABW</td>\n      <td>NaN</td>\n      <td>NaN</td>\n      <td>20200105</td>\n      <td>0.0</td>\n      <td>NaN</td>\n      <td>0.0</td>\n      <td>NaN</td>\n      <td>0.0</td>\n      <td>...</td>\n      <td>0.0</td>\n      <td>0.0</td>\n      <td>0.0</td>\n      <td>0.0</td>\n      <td>0.0</td>\n      <td>0.0</td>\n      <td>0.0</td>\n      <td>0.0</td>\n      <td>0.0</td>\n      <td>0.0</td>\n    </tr>\n  </tbody>\n</table>\n<p>5 rows × 44 columns</p>\n</div>"
     },
     "metadata": {},
     "execution_count": 69
    }
   ],
   "source": [
    "# Review initial DataFrame\n",
    "government_regulation_df.head()"
   ]
  },
  {
   "cell_type": "code",
   "execution_count": 70,
   "metadata": {},
   "outputs": [
    {
     "output_type": "execute_result",
     "data": {
      "text/plain": "CountryName                               object\nCountryCode                               object\nRegionName                                object\nRegionCode                                object\nDate                                       int64\nC1_School closing                        float64\nC1_Flag                                  float64\nC2_Workplace closing                     float64\nC2_Flag                                  float64\nC3_Cancel public events                  float64\nC3_Flag                                  float64\nC4_Restrictions on gatherings            float64\nC4_Flag                                  float64\nC5_Close public transport                float64\nC5_Flag                                  float64\nC6_Stay at home requirements             float64\nC6_Flag                                  float64\nC7_Restrictions on internal movement     float64\nC7_Flag                                  float64\nC8_International travel controls         float64\nE1_Income support                        float64\nE1_Flag                                  float64\nE2_Debt/contract relief                  float64\nE3_Fiscal measures                       float64\nE4_International support                 float64\nH1_Public information campaigns          float64\nH1_Flag                                  float64\nH2_Testing policy                        float64\nH3_Contact tracing                       float64\nH4_Emergency investment in healthcare    float64\nH5_Investment in vaccines                float64\nM1_Wildcard                              float64\nConfirmedCases                           float64\nConfirmedDeaths                          float64\nStringencyIndex                          float64\nStringencyIndexForDisplay                float64\nStringencyLegacyIndex                    float64\nStringencyLegacyIndexForDisplay          float64\nGovernmentResponseIndex                  float64\nGovernmentResponseIndexForDisplay        float64\nContainmentHealthIndex                   float64\nContainmentHealthIndexForDisplay         float64\nEconomicSupportIndex                     float64\nEconomicSupportIndexForDisplay           float64\ndtype: object"
     },
     "metadata": {},
     "execution_count": 70
    }
   ],
   "source": [
    "# Review data types to ensure appropriateness\n",
    "government_regulation_df.dtypes"
   ]
  },
  {
   "cell_type": "code",
   "execution_count": 71,
   "metadata": {},
   "outputs": [
    {
     "output_type": "execute_result",
     "data": {
      "text/plain": "  CountryName CountryCode RegionName RegionCode  C1_School closing  C1_Flag  \\\n0       Aruba         ABW        NaN        NaN                0.0      NaN   \n1       Aruba         ABW        NaN        NaN                0.0      NaN   \n2       Aruba         ABW        NaN        NaN                0.0      NaN   \n3       Aruba         ABW        NaN        NaN                0.0      NaN   \n4       Aruba         ABW        NaN        NaN                0.0      NaN   \n\n   C2_Workplace closing  C2_Flag  C3_Cancel public events  C3_Flag  ...  \\\n0                   0.0      NaN                      0.0      NaN  ...   \n1                   0.0      NaN                      0.0      NaN  ...   \n2                   0.0      NaN                      0.0      NaN  ...   \n3                   0.0      NaN                      0.0      NaN  ...   \n4                   0.0      NaN                      0.0      NaN  ...   \n\n   StringencyIndexForDisplay  StringencyLegacyIndex  \\\n0                        0.0                    0.0   \n1                        0.0                    0.0   \n2                        0.0                    0.0   \n3                        0.0                    0.0   \n4                        0.0                    0.0   \n\n   StringencyLegacyIndexForDisplay  GovernmentResponseIndex  \\\n0                              0.0                      0.0   \n1                              0.0                      0.0   \n2                              0.0                      0.0   \n3                              0.0                      0.0   \n4                              0.0                      0.0   \n\n   GovernmentResponseIndexForDisplay  ContainmentHealthIndex  \\\n0                                0.0                     0.0   \n1                                0.0                     0.0   \n2                                0.0                     0.0   \n3                                0.0                     0.0   \n4                                0.0                     0.0   \n\n   ContainmentHealthIndexForDisplay  EconomicSupportIndex  \\\n0                               0.0                   0.0   \n1                               0.0                   0.0   \n2                               0.0                   0.0   \n3                               0.0                   0.0   \n4                               0.0                   0.0   \n\n   EconomicSupportIndexForDisplay  Date_updated  \n0                             0.0    2020-01-01  \n1                             0.0    2020-01-02  \n2                             0.0    2020-01-03  \n3                             0.0    2020-01-04  \n4                             0.0    2020-01-05  \n\n[5 rows x 44 columns]",
      "text/html": "<div>\n<style scoped>\n    .dataframe tbody tr th:only-of-type {\n        vertical-align: middle;\n    }\n\n    .dataframe tbody tr th {\n        vertical-align: top;\n    }\n\n    .dataframe thead th {\n        text-align: right;\n    }\n</style>\n<table border=\"1\" class=\"dataframe\">\n  <thead>\n    <tr style=\"text-align: right;\">\n      <th></th>\n      <th>CountryName</th>\n      <th>CountryCode</th>\n      <th>RegionName</th>\n      <th>RegionCode</th>\n      <th>C1_School closing</th>\n      <th>C1_Flag</th>\n      <th>C2_Workplace closing</th>\n      <th>C2_Flag</th>\n      <th>C3_Cancel public events</th>\n      <th>C3_Flag</th>\n      <th>...</th>\n      <th>StringencyIndexForDisplay</th>\n      <th>StringencyLegacyIndex</th>\n      <th>StringencyLegacyIndexForDisplay</th>\n      <th>GovernmentResponseIndex</th>\n      <th>GovernmentResponseIndexForDisplay</th>\n      <th>ContainmentHealthIndex</th>\n      <th>ContainmentHealthIndexForDisplay</th>\n      <th>EconomicSupportIndex</th>\n      <th>EconomicSupportIndexForDisplay</th>\n      <th>Date_updated</th>\n    </tr>\n  </thead>\n  <tbody>\n    <tr>\n      <th>0</th>\n      <td>Aruba</td>\n      <td>ABW</td>\n      <td>NaN</td>\n      <td>NaN</td>\n      <td>0.0</td>\n      <td>NaN</td>\n      <td>0.0</td>\n      <td>NaN</td>\n      <td>0.0</td>\n      <td>NaN</td>\n      <td>...</td>\n      <td>0.0</td>\n      <td>0.0</td>\n      <td>0.0</td>\n      <td>0.0</td>\n      <td>0.0</td>\n      <td>0.0</td>\n      <td>0.0</td>\n      <td>0.0</td>\n      <td>0.0</td>\n      <td>2020-01-01</td>\n    </tr>\n    <tr>\n      <th>1</th>\n      <td>Aruba</td>\n      <td>ABW</td>\n      <td>NaN</td>\n      <td>NaN</td>\n      <td>0.0</td>\n      <td>NaN</td>\n      <td>0.0</td>\n      <td>NaN</td>\n      <td>0.0</td>\n      <td>NaN</td>\n      <td>...</td>\n      <td>0.0</td>\n      <td>0.0</td>\n      <td>0.0</td>\n      <td>0.0</td>\n      <td>0.0</td>\n      <td>0.0</td>\n      <td>0.0</td>\n      <td>0.0</td>\n      <td>0.0</td>\n      <td>2020-01-02</td>\n    </tr>\n    <tr>\n      <th>2</th>\n      <td>Aruba</td>\n      <td>ABW</td>\n      <td>NaN</td>\n      <td>NaN</td>\n      <td>0.0</td>\n      <td>NaN</td>\n      <td>0.0</td>\n      <td>NaN</td>\n      <td>0.0</td>\n      <td>NaN</td>\n      <td>...</td>\n      <td>0.0</td>\n      <td>0.0</td>\n      <td>0.0</td>\n      <td>0.0</td>\n      <td>0.0</td>\n      <td>0.0</td>\n      <td>0.0</td>\n      <td>0.0</td>\n      <td>0.0</td>\n      <td>2020-01-03</td>\n    </tr>\n    <tr>\n      <th>3</th>\n      <td>Aruba</td>\n      <td>ABW</td>\n      <td>NaN</td>\n      <td>NaN</td>\n      <td>0.0</td>\n      <td>NaN</td>\n      <td>0.0</td>\n      <td>NaN</td>\n      <td>0.0</td>\n      <td>NaN</td>\n      <td>...</td>\n      <td>0.0</td>\n      <td>0.0</td>\n      <td>0.0</td>\n      <td>0.0</td>\n      <td>0.0</td>\n      <td>0.0</td>\n      <td>0.0</td>\n      <td>0.0</td>\n      <td>0.0</td>\n      <td>2020-01-04</td>\n    </tr>\n    <tr>\n      <th>4</th>\n      <td>Aruba</td>\n      <td>ABW</td>\n      <td>NaN</td>\n      <td>NaN</td>\n      <td>0.0</td>\n      <td>NaN</td>\n      <td>0.0</td>\n      <td>NaN</td>\n      <td>0.0</td>\n      <td>NaN</td>\n      <td>...</td>\n      <td>0.0</td>\n      <td>0.0</td>\n      <td>0.0</td>\n      <td>0.0</td>\n      <td>0.0</td>\n      <td>0.0</td>\n      <td>0.0</td>\n      <td>0.0</td>\n      <td>0.0</td>\n      <td>2020-01-05</td>\n    </tr>\n  </tbody>\n</table>\n<p>5 rows × 44 columns</p>\n</div>"
     },
     "metadata": {},
     "execution_count": 71
    }
   ],
   "source": [
    "# Convert \"Date\" column to format datetime\n",
    "government_regulation_df['Date_updated'] = pd.to_datetime(government_regulation_df['Date'].astype(str), format='%Y%m%d')\n",
    "\n",
    "# Drop old \"Date\" column\n",
    "government_regulation_df = government_regulation_df.drop([\"Date\"], axis=1)\n",
    "\n",
    "government_regulation_df.head()"
   ]
  },
  {
   "cell_type": "code",
   "execution_count": 72,
   "metadata": {
    "scrolled": true
   },
   "outputs": [
    {
     "output_type": "execute_result",
     "data": {
      "text/plain": "CountryName                                      object\nCountryCode                                      object\nRegionName                                       object\nRegionCode                                       object\nC1_School closing                               float64\nC1_Flag                                         float64\nC2_Workplace closing                            float64\nC2_Flag                                         float64\nC3_Cancel public events                         float64\nC3_Flag                                         float64\nC4_Restrictions on gatherings                   float64\nC4_Flag                                         float64\nC5_Close public transport                       float64\nC5_Flag                                         float64\nC6_Stay at home requirements                    float64\nC6_Flag                                         float64\nC7_Restrictions on internal movement            float64\nC7_Flag                                         float64\nC8_International travel controls                float64\nE1_Income support                               float64\nE1_Flag                                         float64\nE2_Debt/contract relief                         float64\nE3_Fiscal measures                              float64\nE4_International support                        float64\nH1_Public information campaigns                 float64\nH1_Flag                                         float64\nH2_Testing policy                               float64\nH3_Contact tracing                              float64\nH4_Emergency investment in healthcare           float64\nH5_Investment in vaccines                       float64\nM1_Wildcard                                     float64\nConfirmedCases                                  float64\nConfirmedDeaths                                 float64\nStringencyIndex                                 float64\nStringencyIndexForDisplay                       float64\nStringencyLegacyIndex                           float64\nStringencyLegacyIndexForDisplay                 float64\nGovernmentResponseIndex                         float64\nGovernmentResponseIndexForDisplay               float64\nContainmentHealthIndex                          float64\nContainmentHealthIndexForDisplay                float64\nEconomicSupportIndex                            float64\nEconomicSupportIndexForDisplay                  float64\nDate_updated                             datetime64[ns]\ndtype: object"
     },
     "metadata": {},
     "execution_count": 72
    }
   ],
   "source": [
    "# Re-review data types to ensure appropriateness\n",
    "government_regulation_df.dtypes"
   ]
  },
  {
   "cell_type": "code",
   "execution_count": 73,
   "metadata": {},
   "outputs": [
    {
     "output_type": "execute_result",
     "data": {
      "text/plain": "Date_updated\n2020-01-01    185\n2020-01-02    185\n2020-01-03    185\n2020-01-04    185\n2020-01-05    185\n             ... \n2020-08-27    185\n2020-08-28    185\n2020-08-29    185\n2020-08-30    185\n2020-08-31    185\nName: CountryCode, Length: 244, dtype: int64"
     },
     "metadata": {},
     "execution_count": 73
    }
   ],
   "source": [
    "# Verify date range - ensure only 2020 dates for analysis\n",
    "government_regulation_df.groupby(\"Date_updated\")[\"CountryCode\"].nunique()"
   ]
  },
  {
   "cell_type": "code",
   "execution_count": 74,
   "metadata": {},
   "outputs": [
    {
     "output_type": "execute_result",
     "data": {
      "text/plain": "CountryName                              58804\nCountryCode                              58804\nRegionName                               13664\nRegionCode                               13664\nC1_School closing                        57041\nC1_Flag                                  36138\nC2_Workplace closing                     56917\nC2_Flag                                  33858\nC3_Cancel public events                  56984\nC3_Flag                                  36934\nC4_Restrictions on gatherings            56951\nC4_Flag                                  33946\nC5_Close public transport                57109\nC5_Flag                                  21731\nC6_Stay at home requirements             56951\nC6_Flag                                  30450\nC7_Restrictions on internal movement     57063\nC7_Flag                                  29989\nC8_International travel controls         56963\nE1_Income support                        56011\nE1_Flag                                  28012\nE2_Debt/contract relief                  55582\nE3_Fiscal measures                       46405\nE4_International support                 46599\nH1_Public information campaigns          56505\nH1_Flag                                  45744\nH2_Testing policy                        56161\nH3_Contact tracing                       56133\nH4_Emergency investment in healthcare    45914\nH5_Investment in vaccines                46317\nM1_Wildcard                                  0\nConfirmedCases                           46187\nConfirmedDeaths                          46187\nStringencyIndex                          56848\nStringencyIndexForDisplay                57702\nStringencyLegacyIndex                    56888\nStringencyLegacyIndexForDisplay          57742\nGovernmentResponseIndex                  55872\nGovernmentResponseIndexForDisplay        56725\nContainmentHealthIndex                   56109\nContainmentHealthIndexForDisplay         56962\nEconomicSupportIndex                     55470\nEconomicSupportIndexForDisplay           56275\nDate_updated                             58804\ndtype: int64"
     },
     "metadata": {},
     "execution_count": 74
    }
   ],
   "source": [
    "# Ensure completeness\n",
    "government_regulation_df.count()"
   ]
  },
  {
   "cell_type": "code",
   "execution_count": 75,
   "metadata": {},
   "outputs": [
    {
     "output_type": "execute_result",
     "data": {
      "text/plain": "CountryName                              58804\nCountryCode                              58804\nRegionName                               13664\nRegionCode                               13664\nC1_School closing                        57041\nC1_Flag                                  36138\nC2_Workplace closing                     56917\nC2_Flag                                  33858\nC3_Cancel public events                  56984\nC3_Flag                                  36934\nC4_Restrictions on gatherings            56951\nC4_Flag                                  33946\nC5_Close public transport                57109\nC5_Flag                                  21731\nC6_Stay at home requirements             56951\nC6_Flag                                  30450\nC7_Restrictions on internal movement     57063\nC7_Flag                                  29989\nC8_International travel controls         56963\nE1_Income support                        56011\nE1_Flag                                  28012\nE2_Debt/contract relief                  55582\nE3_Fiscal measures                       46405\nE4_International support                 46599\nH1_Public information campaigns          56505\nH1_Flag                                  45744\nH2_Testing policy                        56161\nH3_Contact tracing                       56133\nH4_Emergency investment in healthcare    45914\nH5_Investment in vaccines                46317\nConfirmedCases                           46187\nConfirmedDeaths                          46187\nStringencyIndex                          56848\nStringencyIndexForDisplay                57702\nStringencyLegacyIndex                    56888\nStringencyLegacyIndexForDisplay          57742\nGovernmentResponseIndex                  55872\nGovernmentResponseIndexForDisplay        56725\nContainmentHealthIndex                   56109\nContainmentHealthIndexForDisplay         56962\nEconomicSupportIndex                     55470\nEconomicSupportIndexForDisplay           56275\nDate_updated                             58804\ndtype: int64"
     },
     "metadata": {},
     "execution_count": 75
    }
   ],
   "source": [
    "# Drop \"M1_Wildcard\" column as there is no useable data\n",
    "government_regulation_df = government_regulation_df.drop([\"M1_Wildcard\"], axis=1)\n",
    "\n",
    "government_regulation_df.count()"
   ]
  },
  {
   "cell_type": "code",
   "execution_count": 76,
   "metadata": {},
   "outputs": [
    {
     "output_type": "execute_result",
     "data": {
      "text/plain": "      CountryName CountryCode RegionName RegionCode  C1_School closing  \\\n0           Aruba         ABW        NaN        NaN                0.0   \n1           Aruba         ABW        NaN        NaN                0.0   \n2           Aruba         ABW        NaN        NaN                0.0   \n3           Aruba         ABW        NaN        NaN                0.0   \n4           Aruba         ABW        NaN        NaN                0.0   \n...           ...         ...        ...        ...                ...   \n58799    Zimbabwe         ZWE        NaN        NaN                NaN   \n58800    Zimbabwe         ZWE        NaN        NaN                NaN   \n58801    Zimbabwe         ZWE        NaN        NaN                NaN   \n58802    Zimbabwe         ZWE        NaN        NaN                NaN   \n58803    Zimbabwe         ZWE        NaN        NaN                NaN   \n\n       C1_Flag  C2_Workplace closing  C2_Flag  C3_Cancel public events  \\\n0          NaN                   0.0      NaN                      0.0   \n1          NaN                   0.0      NaN                      0.0   \n2          NaN                   0.0      NaN                      0.0   \n3          NaN                   0.0      NaN                      0.0   \n4          NaN                   0.0      NaN                      0.0   \n...        ...                   ...      ...                      ...   \n58799      NaN                   NaN      NaN                      NaN   \n58800      NaN                   NaN      NaN                      NaN   \n58801      NaN                   NaN      NaN                      NaN   \n58802      NaN                   NaN      NaN                      NaN   \n58803      NaN                   NaN      NaN                      NaN   \n\n       C3_Flag  ...  StringencyIndexForDisplay  StringencyLegacyIndex  \\\n0          NaN  ...                       0.00                    0.0   \n1          NaN  ...                       0.00                    0.0   \n2          NaN  ...                       0.00                    0.0   \n3          NaN  ...                       0.00                    0.0   \n4          NaN  ...                       0.00                    0.0   \n...        ...  ...                        ...                    ...   \n58799      NaN  ...                      80.56                    NaN   \n58800      NaN  ...                      80.56                    NaN   \n58801      NaN  ...                      80.56                    NaN   \n58802      NaN  ...                      80.56                    NaN   \n58803      NaN  ...                      80.56                    NaN   \n\n       StringencyLegacyIndexForDisplay  GovernmentResponseIndex  \\\n0                                  0.0                      0.0   \n1                                  0.0                      0.0   \n2                                  0.0                      0.0   \n3                                  0.0                      0.0   \n4                                  0.0                      0.0   \n...                                ...                      ...   \n58799                             88.1                      NaN   \n58800                             88.1                      NaN   \n58801                             88.1                      NaN   \n58802                             88.1                      NaN   \n58803                             88.1                      NaN   \n\n       GovernmentResponseIndexForDisplay  ContainmentHealthIndex  \\\n0                                   0.00                     0.0   \n1                                   0.00                     0.0   \n2                                   0.00                     0.0   \n3                                   0.00                     0.0   \n4                                   0.00                     0.0   \n...                                  ...                     ...   \n58799                              66.03                     NaN   \n58800                              66.03                     NaN   \n58801                              66.03                     NaN   \n58802                              66.03                     NaN   \n58803                              66.03                     NaN   \n\n       ContainmentHealthIndexForDisplay  EconomicSupportIndex  \\\n0                                  0.00                   0.0   \n1                                  0.00                   0.0   \n2                                  0.00                   0.0   \n3                                  0.00                   0.0   \n4                                  0.00                   0.0   \n...                                 ...                   ...   \n58799                             73.48                   NaN   \n58800                             73.48                   NaN   \n58801                             73.48                   NaN   \n58802                             73.48                   NaN   \n58803                             73.48                   NaN   \n\n       EconomicSupportIndexForDisplay  Date_updated  \n0                                 0.0    2020-01-01  \n1                                 0.0    2020-01-02  \n2                                 0.0    2020-01-03  \n3                                 0.0    2020-01-04  \n4                                 0.0    2020-01-05  \n...                               ...           ...  \n58799                            25.0    2020-08-27  \n58800                            25.0    2020-08-28  \n58801                            25.0    2020-08-29  \n58802                            25.0    2020-08-30  \n58803                            25.0    2020-08-31  \n\n[45140 rows x 43 columns]",
      "text/html": "<div>\n<style scoped>\n    .dataframe tbody tr th:only-of-type {\n        vertical-align: middle;\n    }\n\n    .dataframe tbody tr th {\n        vertical-align: top;\n    }\n\n    .dataframe thead th {\n        text-align: right;\n    }\n</style>\n<table border=\"1\" class=\"dataframe\">\n  <thead>\n    <tr style=\"text-align: right;\">\n      <th></th>\n      <th>CountryName</th>\n      <th>CountryCode</th>\n      <th>RegionName</th>\n      <th>RegionCode</th>\n      <th>C1_School closing</th>\n      <th>C1_Flag</th>\n      <th>C2_Workplace closing</th>\n      <th>C2_Flag</th>\n      <th>C3_Cancel public events</th>\n      <th>C3_Flag</th>\n      <th>...</th>\n      <th>StringencyIndexForDisplay</th>\n      <th>StringencyLegacyIndex</th>\n      <th>StringencyLegacyIndexForDisplay</th>\n      <th>GovernmentResponseIndex</th>\n      <th>GovernmentResponseIndexForDisplay</th>\n      <th>ContainmentHealthIndex</th>\n      <th>ContainmentHealthIndexForDisplay</th>\n      <th>EconomicSupportIndex</th>\n      <th>EconomicSupportIndexForDisplay</th>\n      <th>Date_updated</th>\n    </tr>\n  </thead>\n  <tbody>\n    <tr>\n      <th>0</th>\n      <td>Aruba</td>\n      <td>ABW</td>\n      <td>NaN</td>\n      <td>NaN</td>\n      <td>0.0</td>\n      <td>NaN</td>\n      <td>0.0</td>\n      <td>NaN</td>\n      <td>0.0</td>\n      <td>NaN</td>\n      <td>...</td>\n      <td>0.00</td>\n      <td>0.0</td>\n      <td>0.0</td>\n      <td>0.0</td>\n      <td>0.00</td>\n      <td>0.0</td>\n      <td>0.00</td>\n      <td>0.0</td>\n      <td>0.0</td>\n      <td>2020-01-01</td>\n    </tr>\n    <tr>\n      <th>1</th>\n      <td>Aruba</td>\n      <td>ABW</td>\n      <td>NaN</td>\n      <td>NaN</td>\n      <td>0.0</td>\n      <td>NaN</td>\n      <td>0.0</td>\n      <td>NaN</td>\n      <td>0.0</td>\n      <td>NaN</td>\n      <td>...</td>\n      <td>0.00</td>\n      <td>0.0</td>\n      <td>0.0</td>\n      <td>0.0</td>\n      <td>0.00</td>\n      <td>0.0</td>\n      <td>0.00</td>\n      <td>0.0</td>\n      <td>0.0</td>\n      <td>2020-01-02</td>\n    </tr>\n    <tr>\n      <th>2</th>\n      <td>Aruba</td>\n      <td>ABW</td>\n      <td>NaN</td>\n      <td>NaN</td>\n      <td>0.0</td>\n      <td>NaN</td>\n      <td>0.0</td>\n      <td>NaN</td>\n      <td>0.0</td>\n      <td>NaN</td>\n      <td>...</td>\n      <td>0.00</td>\n      <td>0.0</td>\n      <td>0.0</td>\n      <td>0.0</td>\n      <td>0.00</td>\n      <td>0.0</td>\n      <td>0.00</td>\n      <td>0.0</td>\n      <td>0.0</td>\n      <td>2020-01-03</td>\n    </tr>\n    <tr>\n      <th>3</th>\n      <td>Aruba</td>\n      <td>ABW</td>\n      <td>NaN</td>\n      <td>NaN</td>\n      <td>0.0</td>\n      <td>NaN</td>\n      <td>0.0</td>\n      <td>NaN</td>\n      <td>0.0</td>\n      <td>NaN</td>\n      <td>...</td>\n      <td>0.00</td>\n      <td>0.0</td>\n      <td>0.0</td>\n      <td>0.0</td>\n      <td>0.00</td>\n      <td>0.0</td>\n      <td>0.00</td>\n      <td>0.0</td>\n      <td>0.0</td>\n      <td>2020-01-04</td>\n    </tr>\n    <tr>\n      <th>4</th>\n      <td>Aruba</td>\n      <td>ABW</td>\n      <td>NaN</td>\n      <td>NaN</td>\n      <td>0.0</td>\n      <td>NaN</td>\n      <td>0.0</td>\n      <td>NaN</td>\n      <td>0.0</td>\n      <td>NaN</td>\n      <td>...</td>\n      <td>0.00</td>\n      <td>0.0</td>\n      <td>0.0</td>\n      <td>0.0</td>\n      <td>0.00</td>\n      <td>0.0</td>\n      <td>0.00</td>\n      <td>0.0</td>\n      <td>0.0</td>\n      <td>2020-01-05</td>\n    </tr>\n    <tr>\n      <th>...</th>\n      <td>...</td>\n      <td>...</td>\n      <td>...</td>\n      <td>...</td>\n      <td>...</td>\n      <td>...</td>\n      <td>...</td>\n      <td>...</td>\n      <td>...</td>\n      <td>...</td>\n      <td>...</td>\n      <td>...</td>\n      <td>...</td>\n      <td>...</td>\n      <td>...</td>\n      <td>...</td>\n      <td>...</td>\n      <td>...</td>\n      <td>...</td>\n      <td>...</td>\n      <td>...</td>\n    </tr>\n    <tr>\n      <th>58799</th>\n      <td>Zimbabwe</td>\n      <td>ZWE</td>\n      <td>NaN</td>\n      <td>NaN</td>\n      <td>NaN</td>\n      <td>NaN</td>\n      <td>NaN</td>\n      <td>NaN</td>\n      <td>NaN</td>\n      <td>NaN</td>\n      <td>...</td>\n      <td>80.56</td>\n      <td>NaN</td>\n      <td>88.1</td>\n      <td>NaN</td>\n      <td>66.03</td>\n      <td>NaN</td>\n      <td>73.48</td>\n      <td>NaN</td>\n      <td>25.0</td>\n      <td>2020-08-27</td>\n    </tr>\n    <tr>\n      <th>58800</th>\n      <td>Zimbabwe</td>\n      <td>ZWE</td>\n      <td>NaN</td>\n      <td>NaN</td>\n      <td>NaN</td>\n      <td>NaN</td>\n      <td>NaN</td>\n      <td>NaN</td>\n      <td>NaN</td>\n      <td>NaN</td>\n      <td>...</td>\n      <td>80.56</td>\n      <td>NaN</td>\n      <td>88.1</td>\n      <td>NaN</td>\n      <td>66.03</td>\n      <td>NaN</td>\n      <td>73.48</td>\n      <td>NaN</td>\n      <td>25.0</td>\n      <td>2020-08-28</td>\n    </tr>\n    <tr>\n      <th>58801</th>\n      <td>Zimbabwe</td>\n      <td>ZWE</td>\n      <td>NaN</td>\n      <td>NaN</td>\n      <td>NaN</td>\n      <td>NaN</td>\n      <td>NaN</td>\n      <td>NaN</td>\n      <td>NaN</td>\n      <td>NaN</td>\n      <td>...</td>\n      <td>80.56</td>\n      <td>NaN</td>\n      <td>88.1</td>\n      <td>NaN</td>\n      <td>66.03</td>\n      <td>NaN</td>\n      <td>73.48</td>\n      <td>NaN</td>\n      <td>25.0</td>\n      <td>2020-08-29</td>\n    </tr>\n    <tr>\n      <th>58802</th>\n      <td>Zimbabwe</td>\n      <td>ZWE</td>\n      <td>NaN</td>\n      <td>NaN</td>\n      <td>NaN</td>\n      <td>NaN</td>\n      <td>NaN</td>\n      <td>NaN</td>\n      <td>NaN</td>\n      <td>NaN</td>\n      <td>...</td>\n      <td>80.56</td>\n      <td>NaN</td>\n      <td>88.1</td>\n      <td>NaN</td>\n      <td>66.03</td>\n      <td>NaN</td>\n      <td>73.48</td>\n      <td>NaN</td>\n      <td>25.0</td>\n      <td>2020-08-30</td>\n    </tr>\n    <tr>\n      <th>58803</th>\n      <td>Zimbabwe</td>\n      <td>ZWE</td>\n      <td>NaN</td>\n      <td>NaN</td>\n      <td>NaN</td>\n      <td>NaN</td>\n      <td>NaN</td>\n      <td>NaN</td>\n      <td>NaN</td>\n      <td>NaN</td>\n      <td>...</td>\n      <td>80.56</td>\n      <td>NaN</td>\n      <td>88.1</td>\n      <td>NaN</td>\n      <td>66.03</td>\n      <td>NaN</td>\n      <td>73.48</td>\n      <td>NaN</td>\n      <td>25.0</td>\n      <td>2020-08-31</td>\n    </tr>\n  </tbody>\n</table>\n<p>45140 rows × 43 columns</p>\n</div>"
     },
     "metadata": {},
     "execution_count": 76
    }
   ],
   "source": [
    "# Remove all region data\n",
    "government_regulation_df['RegionName'].replace('',np.nan,inplace=True)\n",
    "government_regulation_df = government_regulation_df.loc[government_regulation_df['RegionName'].isnull()]\n",
    "government_regulation_df"
   ]
  },
  {
   "cell_type": "code",
   "execution_count": 77,
   "metadata": {},
   "outputs": [
    {
     "output_type": "execute_result",
     "data": {
      "text/plain": "      CountryName CountryCode  StringencyIndex  StringencyLegacyIndex  \\\n0           Aruba         ABW              0.0                    0.0   \n1           Aruba         ABW              0.0                    0.0   \n2           Aruba         ABW              0.0                    0.0   \n3           Aruba         ABW              0.0                    0.0   \n4           Aruba         ABW              0.0                    0.0   \n...           ...         ...              ...                    ...   \n58799    Zimbabwe         ZWE              NaN                    NaN   \n58800    Zimbabwe         ZWE              NaN                    NaN   \n58801    Zimbabwe         ZWE              NaN                    NaN   \n58802    Zimbabwe         ZWE              NaN                    NaN   \n58803    Zimbabwe         ZWE              NaN                    NaN   \n\n       GovernmentResponseIndex  ContainmentHealthIndex  EconomicSupportIndex  \\\n0                          0.0                     0.0                   0.0   \n1                          0.0                     0.0                   0.0   \n2                          0.0                     0.0                   0.0   \n3                          0.0                     0.0                   0.0   \n4                          0.0                     0.0                   0.0   \n...                        ...                     ...                   ...   \n58799                      NaN                     NaN                   NaN   \n58800                      NaN                     NaN                   NaN   \n58801                      NaN                     NaN                   NaN   \n58802                      NaN                     NaN                   NaN   \n58803                      NaN                     NaN                   NaN   \n\n      Date_updated  \n0       2020-01-01  \n1       2020-01-02  \n2       2020-01-03  \n3       2020-01-04  \n4       2020-01-05  \n...            ...  \n58799   2020-08-27  \n58800   2020-08-28  \n58801   2020-08-29  \n58802   2020-08-30  \n58803   2020-08-31  \n\n[45140 rows x 8 columns]",
      "text/html": "<div>\n<style scoped>\n    .dataframe tbody tr th:only-of-type {\n        vertical-align: middle;\n    }\n\n    .dataframe tbody tr th {\n        vertical-align: top;\n    }\n\n    .dataframe thead th {\n        text-align: right;\n    }\n</style>\n<table border=\"1\" class=\"dataframe\">\n  <thead>\n    <tr style=\"text-align: right;\">\n      <th></th>\n      <th>CountryName</th>\n      <th>CountryCode</th>\n      <th>StringencyIndex</th>\n      <th>StringencyLegacyIndex</th>\n      <th>GovernmentResponseIndex</th>\n      <th>ContainmentHealthIndex</th>\n      <th>EconomicSupportIndex</th>\n      <th>Date_updated</th>\n    </tr>\n  </thead>\n  <tbody>\n    <tr>\n      <th>0</th>\n      <td>Aruba</td>\n      <td>ABW</td>\n      <td>0.0</td>\n      <td>0.0</td>\n      <td>0.0</td>\n      <td>0.0</td>\n      <td>0.0</td>\n      <td>2020-01-01</td>\n    </tr>\n    <tr>\n      <th>1</th>\n      <td>Aruba</td>\n      <td>ABW</td>\n      <td>0.0</td>\n      <td>0.0</td>\n      <td>0.0</td>\n      <td>0.0</td>\n      <td>0.0</td>\n      <td>2020-01-02</td>\n    </tr>\n    <tr>\n      <th>2</th>\n      <td>Aruba</td>\n      <td>ABW</td>\n      <td>0.0</td>\n      <td>0.0</td>\n      <td>0.0</td>\n      <td>0.0</td>\n      <td>0.0</td>\n      <td>2020-01-03</td>\n    </tr>\n    <tr>\n      <th>3</th>\n      <td>Aruba</td>\n      <td>ABW</td>\n      <td>0.0</td>\n      <td>0.0</td>\n      <td>0.0</td>\n      <td>0.0</td>\n      <td>0.0</td>\n      <td>2020-01-04</td>\n    </tr>\n    <tr>\n      <th>4</th>\n      <td>Aruba</td>\n      <td>ABW</td>\n      <td>0.0</td>\n      <td>0.0</td>\n      <td>0.0</td>\n      <td>0.0</td>\n      <td>0.0</td>\n      <td>2020-01-05</td>\n    </tr>\n    <tr>\n      <th>...</th>\n      <td>...</td>\n      <td>...</td>\n      <td>...</td>\n      <td>...</td>\n      <td>...</td>\n      <td>...</td>\n      <td>...</td>\n      <td>...</td>\n    </tr>\n    <tr>\n      <th>58799</th>\n      <td>Zimbabwe</td>\n      <td>ZWE</td>\n      <td>NaN</td>\n      <td>NaN</td>\n      <td>NaN</td>\n      <td>NaN</td>\n      <td>NaN</td>\n      <td>2020-08-27</td>\n    </tr>\n    <tr>\n      <th>58800</th>\n      <td>Zimbabwe</td>\n      <td>ZWE</td>\n      <td>NaN</td>\n      <td>NaN</td>\n      <td>NaN</td>\n      <td>NaN</td>\n      <td>NaN</td>\n      <td>2020-08-28</td>\n    </tr>\n    <tr>\n      <th>58801</th>\n      <td>Zimbabwe</td>\n      <td>ZWE</td>\n      <td>NaN</td>\n      <td>NaN</td>\n      <td>NaN</td>\n      <td>NaN</td>\n      <td>NaN</td>\n      <td>2020-08-29</td>\n    </tr>\n    <tr>\n      <th>58802</th>\n      <td>Zimbabwe</td>\n      <td>ZWE</td>\n      <td>NaN</td>\n      <td>NaN</td>\n      <td>NaN</td>\n      <td>NaN</td>\n      <td>NaN</td>\n      <td>2020-08-30</td>\n    </tr>\n    <tr>\n      <th>58803</th>\n      <td>Zimbabwe</td>\n      <td>ZWE</td>\n      <td>NaN</td>\n      <td>NaN</td>\n      <td>NaN</td>\n      <td>NaN</td>\n      <td>NaN</td>\n      <td>2020-08-31</td>\n    </tr>\n  </tbody>\n</table>\n<p>45140 rows × 8 columns</p>\n</div>"
     },
     "metadata": {},
     "execution_count": 77
    }
   ],
   "source": [
    "# Drop columns deemed redundant/not useful \n",
    "government_regulation_df = government_regulation_df.drop(['C1_School closing', \n",
    "                                                          'C1_Flag', \n",
    "                                                          'C2_Workplace closing',\n",
    "                                                          'C2_Flag', \n",
    "                                                          'C3_Cancel public events', \n",
    "                                                          'C3_Flag', \n",
    "                                                          'C4_Restrictions on gatherings', \n",
    "                                                          'C4_Flag', \n",
    "                                                          'C5_Close public transport',\n",
    "                                                          'C5_Flag', \n",
    "                                                          'C6_Stay at home requirements', \n",
    "                                                          'C6_Flag', \n",
    "                                                          'C7_Restrictions on internal movement', \n",
    "                                                          'C7_Flag', \n",
    "                                                          'C8_International travel controls',\n",
    "                                                          'E1_Income support',\n",
    "                                                          'E1_Flag',\n",
    "                                                          'E2_Debt/contract relief',\n",
    "                                                          'E3_Fiscal measures',\n",
    "                                                          'E4_International support',\n",
    "                                                          'H1_Public information campaigns',\n",
    "                                                          'H1_Flag', \n",
    "                                                          'H2_Testing policy', \n",
    "                                                          'H3_Contact tracing', \n",
    "                                                          'H4_Emergency investment in healthcare', \n",
    "                                                          'H5_Investment in vaccines', \n",
    "                                                          'ConfirmedCases', \n",
    "                                                          'ConfirmedDeaths', \n",
    "                                                          'StringencyIndexForDisplay', \n",
    "                                                          'StringencyLegacyIndexForDisplay', \n",
    "                                                          'GovernmentResponseIndexForDisplay',\n",
    "                                                          'ContainmentHealthIndexForDisplay',\n",
    "                                                          'EconomicSupportIndexForDisplay',\n",
    "                                                          'RegionName',\n",
    "                                                          'RegionCode'\n",
    "                                                         ], axis=1)\n",
    "\n",
    "government_regulation_df"
   ]
  },
  {
   "cell_type": "code",
   "execution_count": 78,
   "metadata": {},
   "outputs": [
    {
     "output_type": "execute_result",
     "data": {
      "text/plain": "  CountryName CountryCode  StringencyIndex  StringencyLegacyIndex  \\\n0       Aruba         ABW              0.0                    0.0   \n1       Aruba         ABW              0.0                    0.0   \n2       Aruba         ABW              0.0                    0.0   \n3       Aruba         ABW              0.0                    0.0   \n4       Aruba         ABW              0.0                    0.0   \n5       Aruba         ABW              0.0                    0.0   \n6       Aruba         ABW              0.0                    0.0   \n7       Aruba         ABW              0.0                    0.0   \n8       Aruba         ABW              0.0                    0.0   \n9       Aruba         ABW              0.0                    0.0   \n\n   GovernmentResponseIndex  ContainmentHealthIndex  EconomicSupportIndex  \\\n0                      0.0                     0.0                   0.0   \n1                      0.0                     0.0                   0.0   \n2                      0.0                     0.0                   0.0   \n3                      0.0                     0.0                   0.0   \n4                      0.0                     0.0                   0.0   \n5                      0.0                     0.0                   0.0   \n6                      0.0                     0.0                   0.0   \n7                      0.0                     0.0                   0.0   \n8                      0.0                     0.0                   0.0   \n9                      0.0                     0.0                   0.0   \n\n  Date_updated  \n0   2020-01-01  \n1   2020-01-02  \n2   2020-01-03  \n3   2020-01-04  \n4   2020-01-05  \n5   2020-01-06  \n6   2020-01-07  \n7   2020-01-08  \n8   2020-01-09  \n9   2020-01-10  ",
      "text/html": "<div>\n<style scoped>\n    .dataframe tbody tr th:only-of-type {\n        vertical-align: middle;\n    }\n\n    .dataframe tbody tr th {\n        vertical-align: top;\n    }\n\n    .dataframe thead th {\n        text-align: right;\n    }\n</style>\n<table border=\"1\" class=\"dataframe\">\n  <thead>\n    <tr style=\"text-align: right;\">\n      <th></th>\n      <th>CountryName</th>\n      <th>CountryCode</th>\n      <th>StringencyIndex</th>\n      <th>StringencyLegacyIndex</th>\n      <th>GovernmentResponseIndex</th>\n      <th>ContainmentHealthIndex</th>\n      <th>EconomicSupportIndex</th>\n      <th>Date_updated</th>\n    </tr>\n  </thead>\n  <tbody>\n    <tr>\n      <th>0</th>\n      <td>Aruba</td>\n      <td>ABW</td>\n      <td>0.0</td>\n      <td>0.0</td>\n      <td>0.0</td>\n      <td>0.0</td>\n      <td>0.0</td>\n      <td>2020-01-01</td>\n    </tr>\n    <tr>\n      <th>1</th>\n      <td>Aruba</td>\n      <td>ABW</td>\n      <td>0.0</td>\n      <td>0.0</td>\n      <td>0.0</td>\n      <td>0.0</td>\n      <td>0.0</td>\n      <td>2020-01-02</td>\n    </tr>\n    <tr>\n      <th>2</th>\n      <td>Aruba</td>\n      <td>ABW</td>\n      <td>0.0</td>\n      <td>0.0</td>\n      <td>0.0</td>\n      <td>0.0</td>\n      <td>0.0</td>\n      <td>2020-01-03</td>\n    </tr>\n    <tr>\n      <th>3</th>\n      <td>Aruba</td>\n      <td>ABW</td>\n      <td>0.0</td>\n      <td>0.0</td>\n      <td>0.0</td>\n      <td>0.0</td>\n      <td>0.0</td>\n      <td>2020-01-04</td>\n    </tr>\n    <tr>\n      <th>4</th>\n      <td>Aruba</td>\n      <td>ABW</td>\n      <td>0.0</td>\n      <td>0.0</td>\n      <td>0.0</td>\n      <td>0.0</td>\n      <td>0.0</td>\n      <td>2020-01-05</td>\n    </tr>\n    <tr>\n      <th>5</th>\n      <td>Aruba</td>\n      <td>ABW</td>\n      <td>0.0</td>\n      <td>0.0</td>\n      <td>0.0</td>\n      <td>0.0</td>\n      <td>0.0</td>\n      <td>2020-01-06</td>\n    </tr>\n    <tr>\n      <th>6</th>\n      <td>Aruba</td>\n      <td>ABW</td>\n      <td>0.0</td>\n      <td>0.0</td>\n      <td>0.0</td>\n      <td>0.0</td>\n      <td>0.0</td>\n      <td>2020-01-07</td>\n    </tr>\n    <tr>\n      <th>7</th>\n      <td>Aruba</td>\n      <td>ABW</td>\n      <td>0.0</td>\n      <td>0.0</td>\n      <td>0.0</td>\n      <td>0.0</td>\n      <td>0.0</td>\n      <td>2020-01-08</td>\n    </tr>\n    <tr>\n      <th>8</th>\n      <td>Aruba</td>\n      <td>ABW</td>\n      <td>0.0</td>\n      <td>0.0</td>\n      <td>0.0</td>\n      <td>0.0</td>\n      <td>0.0</td>\n      <td>2020-01-09</td>\n    </tr>\n    <tr>\n      <th>9</th>\n      <td>Aruba</td>\n      <td>ABW</td>\n      <td>0.0</td>\n      <td>0.0</td>\n      <td>0.0</td>\n      <td>0.0</td>\n      <td>0.0</td>\n      <td>2020-01-10</td>\n    </tr>\n  </tbody>\n</table>\n</div>"
     },
     "metadata": {},
     "execution_count": 78
    }
   ],
   "source": [
    "# Drop rows based on countries not included in \"covid_stats_df\"\n",
    "index_drop_codes = government_regulation_df[(government_regulation_df[\"CountryCode\"] == \"MAC\") |\n",
    "                                            (government_regulation_df[\"CountryCode\"] == \"PCN\") |\n",
    "                                            (government_regulation_df[\"CountryCode\"] == \"RKS\") |\n",
    "                                            (government_regulation_df[\"CountryCode\"] == \"SLB\") |\n",
    "                                            (government_regulation_df[\"CountryCode\"] == \"TKM\") |\n",
    "                                            (government_regulation_df[\"CountryCode\"] == \"VUT\")                                      \n",
    "                                           ].index\n",
    "\n",
    "government_regulation_df.drop(index_drop_codes, inplace=True)\n",
    "\n",
    "government_regulation_df.head(10)"
   ]
  },
  {
   "cell_type": "code",
   "execution_count": 79,
   "metadata": {},
   "outputs": [
    {
     "output_type": "execute_result",
     "data": {
      "text/plain": "CountryName                   0\nCountryCode                   0\nStringencyIndex            1297\nStringencyLegacyIndex      1257\nGovernmentResponseIndex    2033\nContainmentHealthIndex     1796\nEconomicSupportIndex       2431\nDate_updated                  0\ndtype: int64"
     },
     "metadata": {},
     "execution_count": 79
    }
   ],
   "source": [
    "# Show the number of nulls in each column of government_regulations_df\n",
    "\n",
    "government_regulation_df.isnull().sum()"
   ]
  },
  {
   "cell_type": "code",
   "execution_count": 80,
   "metadata": {},
   "outputs": [
    {
     "output_type": "execute_result",
     "data": {
      "text/plain": "array(['ABW', 'AFG', 'AGO', 'AIA', 'ALB', 'AND', 'ARE', 'ARG', 'AUS',\n       'AUT', 'AZE', 'BDI', 'BEL', 'BEN', 'BFA', 'BGD', 'BGR', 'BHR',\n       'BIH', 'BLR', 'BLZ', 'BMU', 'BOL', 'BRA', 'BRB', 'BRN', 'BTN',\n       'BWA', 'CAF', 'CAN', 'CHE', 'CHL', 'CHN', 'CIV', 'CMR', 'COD',\n       'COG', 'COL', 'CPV', 'CRI', 'CUB', 'CYM', 'CYP', 'CZE', 'DEU',\n       'DJI', 'DMA', 'DNK', 'DOM', 'DZA', 'ECU', 'EGY', 'ERI', 'ESP',\n       'EST', 'ETH', 'FIN', 'FJI', 'FLK', 'FRA', 'GAB', 'GBR', 'GEO',\n       'GHA', 'GIB', 'GIN', 'GMB', 'GRC', 'GRL', 'GTM', 'GUM', 'GUY',\n       'HKG', 'HND', 'HRV', 'HTI', 'HUN', 'IDN', 'IND', 'IRL', 'IRN',\n       'IRQ', 'ISL', 'ISR', 'ITA', 'JAM', 'JOR', 'JPN', 'KAZ', 'KEN',\n       'KGZ', 'KHM', 'KOR', 'KWT', 'LAO', 'LBN', 'LBR', 'LBY', 'LKA',\n       'LSO', 'LTU', 'LUX', 'LVA', 'MAR', 'MDA', 'MDG', 'MEX', 'MLI',\n       'MMR', 'MNG', 'MOZ', 'MRT', 'MSR', 'MUS', 'MWI', 'MYS', 'NAM',\n       'NER', 'NGA', 'NIC', 'NLD', 'NOR', 'NPL', 'NZL', 'OMN', 'PAK',\n       'PAN', 'PER', 'PHL', 'PNG', 'POL', 'PRI', 'PRT', 'PRY', 'PSE',\n       'QAT', 'ROU', 'RUS', 'RWA', 'SAU', 'SDN', 'SEN', 'SGP', 'SLE',\n       'SLV', 'SMR', 'SOM', 'SRB', 'SSD', 'SUR', 'SVK', 'SVN', 'SWE',\n       'SWZ', 'SYC', 'SYR', 'TCA', 'TCD', 'TGO', 'THA', 'TJK', 'TLS',\n       'TTO', 'TUN', 'TUR', 'TWN', 'TZA', 'UGA', 'UKR', 'URY', 'USA',\n       'UZB', 'VEN', 'VGB', 'VNM', 'YEM', 'ZAF', 'ZMB', 'ZWE'],\n      dtype=object)"
     },
     "metadata": {},
     "execution_count": 80
    }
   ],
   "source": [
    "# Impute total_cases_updated and total_deaths_updated\n",
    "CountryCodes = government_regulation_df[\"CountryCode\"].unique()\n",
    "CountryCodes"
   ]
  },
  {
   "cell_type": "code",
   "execution_count": 81,
   "metadata": {},
   "outputs": [],
   "source": [
    "# This function returns the index of column colname of dataframe df \n",
    "\n",
    "def get_col_index(df,colname):\n",
    "    for i,col in enumerate(df.columns):\n",
    "        if col == colname:\n",
    "            return i"
   ]
  },
  {
   "cell_type": "code",
   "execution_count": 82,
   "metadata": {},
   "outputs": [],
   "source": [
    "# get StringencyIndex_updated column index\n",
    "si_col = get_col_index(government_regulation_df,\"StringencyIndex\")\n",
    "\n",
    "# get StringencyLegacyIndex_updated column index\n",
    "sli_col = get_col_index(government_regulation_df,\"StringencyLegacyIndex\")\n",
    "\n",
    "# get GovernmentResponseIndex_updated column index\n",
    "gri_col = get_col_index(government_regulation_df,\"GovernmentResponseIndex\")\n",
    "\n",
    "# get StringencyIndex_updated column index\n",
    "chi_col = get_col_index(government_regulation_df,\"ContainmentHealthIndex\")\n",
    "\n",
    "# get StringencyIndex_updated column index\n",
    "esi_col = get_col_index(government_regulation_df,\"EconomicSupportIndex\")"
   ]
  },
  {
   "cell_type": "code",
   "execution_count": 83,
   "metadata": {},
   "outputs": [
    {
     "output_type": "execute_result",
     "data": {
      "text/plain": "CountryName                0\nCountryCode                0\nStringencyIndex            0\nStringencyLegacyIndex      0\nGovernmentResponseIndex    0\nContainmentHealthIndex     0\nEconomicSupportIndex       0\nDate_updated               0\ndtype: int64"
     },
     "metadata": {},
     "execution_count": 83
    }
   ],
   "source": [
    "# Impute total_cases_updated and total_deaths_updated\n",
    "iso_codes = government_regulation_df[\"CountryCode\"].unique()\n",
    "\n",
    "# List or processed iso dataframes\n",
    "df_list = []\n",
    "\n",
    "for code in iso_codes:\n",
    "\n",
    "    iso_df = government_regulation_df[government_regulation_df[\"CountryCode\"]==code].copy()\n",
    "    \n",
    "    # print(iso_df)\n",
    "    if np.isnan(iso_df.iloc[0,si_col]):\n",
    "        iso_df.iloc[0,si_col] = 0\n",
    "    iso_df[\"StringencyIndex\"] = iso_df[\"StringencyIndex\"].ffill()\n",
    "\n",
    "    if np.isnan(iso_df.iloc[0,sli_col]):\n",
    "        iso_df.iloc[0,sli_col] = 0\n",
    "    iso_df[\"StringencyLegacyIndex\"] = iso_df[\"StringencyLegacyIndex\"].ffill()\n",
    "\n",
    "    if np.isnan(iso_df.iloc[0,gri_col]):\n",
    "        iso_df.iloc[0,gri_col] = 0\n",
    "    iso_df[\"GovernmentResponseIndex\"] = iso_df[\"GovernmentResponseIndex\"].ffill()\n",
    "\n",
    "    if np.isnan(iso_df.iloc[0,chi_col]):\n",
    "        iso_df.iloc[0,chi_col] = 0\n",
    "    iso_df[\"ContainmentHealthIndex\"] = iso_df[\"ContainmentHealthIndex\"].ffill()\n",
    "    \n",
    "    if np.isnan(iso_df.iloc[0,esi_col]):\n",
    "        iso_df.iloc[0,esi_col] = 0\n",
    "    iso_df[\"EconomicSupportIndex\"] = iso_df[\"EconomicSupportIndex\"].ffill()\n",
    "\n",
    "    df_list.append(iso_df)\n",
    "\n",
    "new_df = pd.DataFrame()\n",
    "for df in df_list:\n",
    "    new_df = new_df.append(df)\n",
    "\n",
    "government_regulation_df = new_df.copy()\n",
    "\n",
    "government_regulation_df.isnull().sum()"
   ]
  },
  {
   "cell_type": "code",
   "execution_count": 84,
   "metadata": {},
   "outputs": [],
   "source": [
    "government_regulation_df.rename(columns={\"StringencyIndex\":\"StringencyIndex_updated\",\\\n",
    "    \"StringencyLegacyIndex\":\"StringencyLegacyIndex_updated\",\\\n",
    "        \"GovernmentResponseIndex\":\"GovernmentResponseIndex_updated\",\\\n",
    "        \"ContainmentHealthIndex\":\"ContainmentHealthIndex_updated\",\\\n",
    "        \"EconomicSupportIndex\":\"EconomicSupportIndex_updated\"\\\n",
    "        },inplace=True)"
   ]
  },
  {
   "cell_type": "code",
   "execution_count": 85,
   "metadata": {},
   "outputs": [],
   "source": [
    "# Create new column - primary_key\n",
    "government_regulation_df[\"primary_key_response\"] = government_regulation_df[\"CountryCode\"] + government_regulation_df[\"Date_updated\"].astype(str)"
   ]
  },
  {
   "cell_type": "code",
   "execution_count": 86,
   "metadata": {},
   "outputs": [
    {
     "output_type": "execute_result",
     "data": {
      "text/plain": "      primary_key_response Date_updated CountryName CountryCode  \\\n0            ABW2020-01-01   2020-01-01       Aruba         ABW   \n1            ABW2020-01-02   2020-01-02       Aruba         ABW   \n2            ABW2020-01-03   2020-01-03       Aruba         ABW   \n3            ABW2020-01-04   2020-01-04       Aruba         ABW   \n4            ABW2020-01-05   2020-01-05       Aruba         ABW   \n...                    ...          ...         ...         ...   \n58799        ZWE2020-08-27   2020-08-27    Zimbabwe         ZWE   \n58800        ZWE2020-08-28   2020-08-28    Zimbabwe         ZWE   \n58801        ZWE2020-08-29   2020-08-29    Zimbabwe         ZWE   \n58802        ZWE2020-08-30   2020-08-30    Zimbabwe         ZWE   \n58803        ZWE2020-08-31   2020-08-31    Zimbabwe         ZWE   \n\n       StringencyIndex_updated  percentage_change_stringency  \\\n0                         0.00                           0.0   \n1                         0.00                           0.0   \n2                         0.00                           0.0   \n3                         0.00                           0.0   \n4                         0.00                           0.0   \n...                        ...                           ...   \n58799                    80.56                           0.0   \n58800                    80.56                           0.0   \n58801                    80.56                           0.0   \n58802                    80.56                           0.0   \n58803                    80.56                           0.0   \n\n       StringencyLegacyIndex_updated  GovernmentResponseIndex_updated  \\\n0                                0.0                             0.00   \n1                                0.0                             0.00   \n2                                0.0                             0.00   \n3                                0.0                             0.00   \n4                                0.0                             0.00   \n...                              ...                              ...   \n58799                           88.1                            66.03   \n58800                           88.1                            66.03   \n58801                           88.1                            66.03   \n58802                           88.1                            66.03   \n58803                           88.1                            66.03   \n\n       percentage_change_GovernmentResponse  ContainmentHealthIndex_updated  \\\n0                                       0.0                            0.00   \n1                                       0.0                            0.00   \n2                                       0.0                            0.00   \n3                                       0.0                            0.00   \n4                                       0.0                            0.00   \n...                                     ...                             ...   \n58799                                   0.0                           73.48   \n58800                                   0.0                           73.48   \n58801                                   0.0                           73.48   \n58802                                   0.0                           73.48   \n58803                                   0.0                           73.48   \n\n       percentage_change_ContainmentHealth  EconomicSupportIndex_updated  \\\n0                                      0.0                           0.0   \n1                                      0.0                           0.0   \n2                                      0.0                           0.0   \n3                                      0.0                           0.0   \n4                                      0.0                           0.0   \n...                                    ...                           ...   \n58799                                  0.0                          25.0   \n58800                                  0.0                          25.0   \n58801                                  0.0                          25.0   \n58802                                  0.0                          25.0   \n58803                                  0.0                          25.0   \n\n       percentage_change_EconomicSupport  \n0                                    0.0  \n1                                    0.0  \n2                                    0.0  \n3                                    0.0  \n4                                    0.0  \n...                                  ...  \n58799                                0.0  \n58800                                0.0  \n58801                                0.0  \n58802                                0.0  \n58803                                0.0  \n\n[43676 rows x 13 columns]",
      "text/html": "<div>\n<style scoped>\n    .dataframe tbody tr th:only-of-type {\n        vertical-align: middle;\n    }\n\n    .dataframe tbody tr th {\n        vertical-align: top;\n    }\n\n    .dataframe thead th {\n        text-align: right;\n    }\n</style>\n<table border=\"1\" class=\"dataframe\">\n  <thead>\n    <tr style=\"text-align: right;\">\n      <th></th>\n      <th>primary_key_response</th>\n      <th>Date_updated</th>\n      <th>CountryName</th>\n      <th>CountryCode</th>\n      <th>StringencyIndex_updated</th>\n      <th>percentage_change_stringency</th>\n      <th>StringencyLegacyIndex_updated</th>\n      <th>GovernmentResponseIndex_updated</th>\n      <th>percentage_change_GovernmentResponse</th>\n      <th>ContainmentHealthIndex_updated</th>\n      <th>percentage_change_ContainmentHealth</th>\n      <th>EconomicSupportIndex_updated</th>\n      <th>percentage_change_EconomicSupport</th>\n    </tr>\n  </thead>\n  <tbody>\n    <tr>\n      <th>0</th>\n      <td>ABW2020-01-01</td>\n      <td>2020-01-01</td>\n      <td>Aruba</td>\n      <td>ABW</td>\n      <td>0.00</td>\n      <td>0.0</td>\n      <td>0.0</td>\n      <td>0.00</td>\n      <td>0.0</td>\n      <td>0.00</td>\n      <td>0.0</td>\n      <td>0.0</td>\n      <td>0.0</td>\n    </tr>\n    <tr>\n      <th>1</th>\n      <td>ABW2020-01-02</td>\n      <td>2020-01-02</td>\n      <td>Aruba</td>\n      <td>ABW</td>\n      <td>0.00</td>\n      <td>0.0</td>\n      <td>0.0</td>\n      <td>0.00</td>\n      <td>0.0</td>\n      <td>0.00</td>\n      <td>0.0</td>\n      <td>0.0</td>\n      <td>0.0</td>\n    </tr>\n    <tr>\n      <th>2</th>\n      <td>ABW2020-01-03</td>\n      <td>2020-01-03</td>\n      <td>Aruba</td>\n      <td>ABW</td>\n      <td>0.00</td>\n      <td>0.0</td>\n      <td>0.0</td>\n      <td>0.00</td>\n      <td>0.0</td>\n      <td>0.00</td>\n      <td>0.0</td>\n      <td>0.0</td>\n      <td>0.0</td>\n    </tr>\n    <tr>\n      <th>3</th>\n      <td>ABW2020-01-04</td>\n      <td>2020-01-04</td>\n      <td>Aruba</td>\n      <td>ABW</td>\n      <td>0.00</td>\n      <td>0.0</td>\n      <td>0.0</td>\n      <td>0.00</td>\n      <td>0.0</td>\n      <td>0.00</td>\n      <td>0.0</td>\n      <td>0.0</td>\n      <td>0.0</td>\n    </tr>\n    <tr>\n      <th>4</th>\n      <td>ABW2020-01-05</td>\n      <td>2020-01-05</td>\n      <td>Aruba</td>\n      <td>ABW</td>\n      <td>0.00</td>\n      <td>0.0</td>\n      <td>0.0</td>\n      <td>0.00</td>\n      <td>0.0</td>\n      <td>0.00</td>\n      <td>0.0</td>\n      <td>0.0</td>\n      <td>0.0</td>\n    </tr>\n    <tr>\n      <th>...</th>\n      <td>...</td>\n      <td>...</td>\n      <td>...</td>\n      <td>...</td>\n      <td>...</td>\n      <td>...</td>\n      <td>...</td>\n      <td>...</td>\n      <td>...</td>\n      <td>...</td>\n      <td>...</td>\n      <td>...</td>\n      <td>...</td>\n    </tr>\n    <tr>\n      <th>58799</th>\n      <td>ZWE2020-08-27</td>\n      <td>2020-08-27</td>\n      <td>Zimbabwe</td>\n      <td>ZWE</td>\n      <td>80.56</td>\n      <td>0.0</td>\n      <td>88.1</td>\n      <td>66.03</td>\n      <td>0.0</td>\n      <td>73.48</td>\n      <td>0.0</td>\n      <td>25.0</td>\n      <td>0.0</td>\n    </tr>\n    <tr>\n      <th>58800</th>\n      <td>ZWE2020-08-28</td>\n      <td>2020-08-28</td>\n      <td>Zimbabwe</td>\n      <td>ZWE</td>\n      <td>80.56</td>\n      <td>0.0</td>\n      <td>88.1</td>\n      <td>66.03</td>\n      <td>0.0</td>\n      <td>73.48</td>\n      <td>0.0</td>\n      <td>25.0</td>\n      <td>0.0</td>\n    </tr>\n    <tr>\n      <th>58801</th>\n      <td>ZWE2020-08-29</td>\n      <td>2020-08-29</td>\n      <td>Zimbabwe</td>\n      <td>ZWE</td>\n      <td>80.56</td>\n      <td>0.0</td>\n      <td>88.1</td>\n      <td>66.03</td>\n      <td>0.0</td>\n      <td>73.48</td>\n      <td>0.0</td>\n      <td>25.0</td>\n      <td>0.0</td>\n    </tr>\n    <tr>\n      <th>58802</th>\n      <td>ZWE2020-08-30</td>\n      <td>2020-08-30</td>\n      <td>Zimbabwe</td>\n      <td>ZWE</td>\n      <td>80.56</td>\n      <td>0.0</td>\n      <td>88.1</td>\n      <td>66.03</td>\n      <td>0.0</td>\n      <td>73.48</td>\n      <td>0.0</td>\n      <td>25.0</td>\n      <td>0.0</td>\n    </tr>\n    <tr>\n      <th>58803</th>\n      <td>ZWE2020-08-31</td>\n      <td>2020-08-31</td>\n      <td>Zimbabwe</td>\n      <td>ZWE</td>\n      <td>80.56</td>\n      <td>0.0</td>\n      <td>88.1</td>\n      <td>66.03</td>\n      <td>0.0</td>\n      <td>73.48</td>\n      <td>0.0</td>\n      <td>25.0</td>\n      <td>0.0</td>\n    </tr>\n  </tbody>\n</table>\n<p>43676 rows × 13 columns</p>\n</div>"
     },
     "metadata": {},
     "execution_count": 86
    }
   ],
   "source": [
    "# SAMI HERE\n",
    "# Create new column - percentage change\n",
    "government_regulation_df[\"percentage_change_stringency\"] = government_regulation_df[\"StringencyIndex_updated\"].pct_change()*100\n",
    "government_regulation_df['percentage_change_stringency'].fillna(0, inplace=True)\n",
    "\n",
    "government_regulation_df[\"percentage_change_GovernmentResponse\"] = government_regulation_df[\"GovernmentResponseIndex_updated\"].pct_change()*100\n",
    "government_regulation_df['percentage_change_GovernmentResponse'].fillna(0, inplace=True)\n",
    "\n",
    "government_regulation_df[\"percentage_change_ContainmentHealth\"] = government_regulation_df[\"ContainmentHealthIndex_updated\"].pct_change()*100\n",
    "government_regulation_df['percentage_change_ContainmentHealth'].fillna(0, inplace=True)\n",
    "\n",
    "government_regulation_df[\"percentage_change_EconomicSupport\"] = government_regulation_df[\"EconomicSupportIndex_updated\"].pct_change()*100\n",
    "government_regulation_df['percentage_change_EconomicSupport'].fillna(0, inplace=True)\n",
    "\n",
    "government_regulation_df = government_regulation_df[['primary_key_response',\n",
    "                                                           'Date_updated',\n",
    "                                                           'CountryName',\n",
    "                                                           'CountryCode',\n",
    "                                                           'StringencyIndex_updated',\n",
    "                                                           'percentage_change_stringency',\n",
    "                                                           'StringencyLegacyIndex_updated',\n",
    "                                                           'GovernmentResponseIndex_updated',\n",
    "                                                           'percentage_change_GovernmentResponse',\n",
    "                                                           'ContainmentHealthIndex_updated',\n",
    "                                                           'percentage_change_ContainmentHealth',\n",
    "                                                           'EconomicSupportIndex_updated',\n",
    "                                                           'percentage_change_EconomicSupport'\n",
    "                                                          ]]\n",
    "\n",
    "\n",
    "# Replace inf with 0 \n",
    "government_regulation_df.replace(np.inf, 0, inplace=True)\n",
    "\n",
    "government_regulation_df"
   ]
  },
  {
   "cell_type": "markdown",
   "metadata": {},
   "source": [
    "## Set the percent change columns to zero for the first row of every country"
   ]
  },
  {
   "cell_type": "code",
   "execution_count": 87,
   "metadata": {},
   "outputs": [],
   "source": [
    "# get percentage_change_stringency column index\n",
    "pcs_col = get_col_index(government_regulation_df,\"percentage_change_stringency\")\n",
    "\n",
    "# get percentage_change_GovernmentResponse column index\n",
    "pcgr_col = get_col_index(government_regulation_df,\"percentage_change_GovernmentResponse\")\n",
    "\n",
    "# get percentage_change_ContainmentHealth column index\n",
    "pcch_col = get_col_index(government_regulation_df,\"percentage_change_ContainmentHealth\")\n",
    "\n",
    "# get percentage_change_EconomicSupport column index\n",
    "pces_col = get_col_index(government_regulation_df,\"percentage_change_EconomicSupport\")"
   ]
  },
  {
   "cell_type": "code",
   "execution_count": 88,
   "metadata": {},
   "outputs": [],
   "source": [
    "# List or processed iso dataframes\n",
    "df_list = []\n",
    "\n",
    "for code in iso_codes:\n",
    "\n",
    "    iso_df = government_regulation_df[government_regulation_df[\"CountryCode\"]==code].copy()\n",
    "    \n",
    "    iso_df.iloc[0,pcs_col] = 0\n",
    "    iso_df.iloc[0,pcgr_col] = 0\n",
    "    iso_df.iloc[0,pcch_col] = 0\n",
    "    iso_df.iloc[0,pces_col] = 0\n",
    "    \n",
    "    df_list.append(iso_df)\n",
    "\n",
    "new_df = pd.DataFrame()\n",
    "for df in df_list:\n",
    "    new_df = new_df.append(df)\n",
    "\n",
    "government_regulation_df = new_df.copy()"
   ]
  },
  {
   "cell_type": "markdown",
   "metadata": {},
   "source": [
    "### Inspect and Clean: covid_stats_df"
   ]
  },
  {
   "cell_type": "code",
   "execution_count": 89,
   "metadata": {},
   "outputs": [
    {
     "output_type": "execute_result",
     "data": {
      "text/plain": "  iso_code      continent location        date  total_cases  new_cases  \\\n0      ABW  North America    Aruba  2020-03-13          2.0        2.0   \n1      ABW  North America    Aruba  2020-03-19          NaN        NaN   \n2      ABW  North America    Aruba  2020-03-20          4.0        2.0   \n3      ABW  North America    Aruba  2020-03-21          NaN        NaN   \n4      ABW  North America    Aruba  2020-03-22          NaN        NaN   \n\n   new_cases_smoothed  total_deaths  new_deaths  new_deaths_smoothed  ...  \\\n0                 NaN           0.0         0.0                  NaN  ...   \n1               0.286           NaN         NaN                  0.0  ...   \n2               0.286           0.0         0.0                  0.0  ...   \n3               0.286           NaN         NaN                  0.0  ...   \n4               0.286           NaN         NaN                  0.0  ...   \n\n   aged_70_older  gdp_per_capita  extreme_poverty  cardiovasc_death_rate  \\\n0          7.452       35973.781              NaN                    NaN   \n1          7.452       35973.781              NaN                    NaN   \n2          7.452       35973.781              NaN                    NaN   \n3          7.452       35973.781              NaN                    NaN   \n4          7.452       35973.781              NaN                    NaN   \n\n   diabetes_prevalence  female_smokers  male_smokers  handwashing_facilities  \\\n0                11.62             NaN           NaN                     NaN   \n1                11.62             NaN           NaN                     NaN   \n2                11.62             NaN           NaN                     NaN   \n3                11.62             NaN           NaN                     NaN   \n4                11.62             NaN           NaN                     NaN   \n\n   hospital_beds_per_thousand  life_expectancy  \n0                         NaN            76.29  \n1                         NaN            76.29  \n2                         NaN            76.29  \n3                         NaN            76.29  \n4                         NaN            76.29  \n\n[5 rows x 40 columns]",
      "text/html": "<div>\n<style scoped>\n    .dataframe tbody tr th:only-of-type {\n        vertical-align: middle;\n    }\n\n    .dataframe tbody tr th {\n        vertical-align: top;\n    }\n\n    .dataframe thead th {\n        text-align: right;\n    }\n</style>\n<table border=\"1\" class=\"dataframe\">\n  <thead>\n    <tr style=\"text-align: right;\">\n      <th></th>\n      <th>iso_code</th>\n      <th>continent</th>\n      <th>location</th>\n      <th>date</th>\n      <th>total_cases</th>\n      <th>new_cases</th>\n      <th>new_cases_smoothed</th>\n      <th>total_deaths</th>\n      <th>new_deaths</th>\n      <th>new_deaths_smoothed</th>\n      <th>...</th>\n      <th>aged_70_older</th>\n      <th>gdp_per_capita</th>\n      <th>extreme_poverty</th>\n      <th>cardiovasc_death_rate</th>\n      <th>diabetes_prevalence</th>\n      <th>female_smokers</th>\n      <th>male_smokers</th>\n      <th>handwashing_facilities</th>\n      <th>hospital_beds_per_thousand</th>\n      <th>life_expectancy</th>\n    </tr>\n  </thead>\n  <tbody>\n    <tr>\n      <th>0</th>\n      <td>ABW</td>\n      <td>North America</td>\n      <td>Aruba</td>\n      <td>2020-03-13</td>\n      <td>2.0</td>\n      <td>2.0</td>\n      <td>NaN</td>\n      <td>0.0</td>\n      <td>0.0</td>\n      <td>NaN</td>\n      <td>...</td>\n      <td>7.452</td>\n      <td>35973.781</td>\n      <td>NaN</td>\n      <td>NaN</td>\n      <td>11.62</td>\n      <td>NaN</td>\n      <td>NaN</td>\n      <td>NaN</td>\n      <td>NaN</td>\n      <td>76.29</td>\n    </tr>\n    <tr>\n      <th>1</th>\n      <td>ABW</td>\n      <td>North America</td>\n      <td>Aruba</td>\n      <td>2020-03-19</td>\n      <td>NaN</td>\n      <td>NaN</td>\n      <td>0.286</td>\n      <td>NaN</td>\n      <td>NaN</td>\n      <td>0.0</td>\n      <td>...</td>\n      <td>7.452</td>\n      <td>35973.781</td>\n      <td>NaN</td>\n      <td>NaN</td>\n      <td>11.62</td>\n      <td>NaN</td>\n      <td>NaN</td>\n      <td>NaN</td>\n      <td>NaN</td>\n      <td>76.29</td>\n    </tr>\n    <tr>\n      <th>2</th>\n      <td>ABW</td>\n      <td>North America</td>\n      <td>Aruba</td>\n      <td>2020-03-20</td>\n      <td>4.0</td>\n      <td>2.0</td>\n      <td>0.286</td>\n      <td>0.0</td>\n      <td>0.0</td>\n      <td>0.0</td>\n      <td>...</td>\n      <td>7.452</td>\n      <td>35973.781</td>\n      <td>NaN</td>\n      <td>NaN</td>\n      <td>11.62</td>\n      <td>NaN</td>\n      <td>NaN</td>\n      <td>NaN</td>\n      <td>NaN</td>\n      <td>76.29</td>\n    </tr>\n    <tr>\n      <th>3</th>\n      <td>ABW</td>\n      <td>North America</td>\n      <td>Aruba</td>\n      <td>2020-03-21</td>\n      <td>NaN</td>\n      <td>NaN</td>\n      <td>0.286</td>\n      <td>NaN</td>\n      <td>NaN</td>\n      <td>0.0</td>\n      <td>...</td>\n      <td>7.452</td>\n      <td>35973.781</td>\n      <td>NaN</td>\n      <td>NaN</td>\n      <td>11.62</td>\n      <td>NaN</td>\n      <td>NaN</td>\n      <td>NaN</td>\n      <td>NaN</td>\n      <td>76.29</td>\n    </tr>\n    <tr>\n      <th>4</th>\n      <td>ABW</td>\n      <td>North America</td>\n      <td>Aruba</td>\n      <td>2020-03-22</td>\n      <td>NaN</td>\n      <td>NaN</td>\n      <td>0.286</td>\n      <td>NaN</td>\n      <td>NaN</td>\n      <td>0.0</td>\n      <td>...</td>\n      <td>7.452</td>\n      <td>35973.781</td>\n      <td>NaN</td>\n      <td>NaN</td>\n      <td>11.62</td>\n      <td>NaN</td>\n      <td>NaN</td>\n      <td>NaN</td>\n      <td>NaN</td>\n      <td>76.29</td>\n    </tr>\n  </tbody>\n</table>\n<p>5 rows × 40 columns</p>\n</div>"
     },
     "metadata": {},
     "execution_count": 89
    }
   ],
   "source": [
    "# Review initial DataFrame\n",
    "covid_stats_df.head()"
   ]
  },
  {
   "cell_type": "code",
   "execution_count": 90,
   "metadata": {},
   "outputs": [
    {
     "output_type": "execute_result",
     "data": {
      "text/plain": "iso_code                            object\ncontinent                           object\nlocation                            object\ndate                                object\ntotal_cases                        float64\nnew_cases                          float64\nnew_cases_smoothed                 float64\ntotal_deaths                       float64\nnew_deaths                         float64\nnew_deaths_smoothed                float64\ntotal_cases_per_million            float64\nnew_cases_per_million              float64\nnew_cases_smoothed_per_million     float64\ntotal_deaths_per_million           float64\nnew_deaths_per_million             float64\nnew_deaths_smoothed_per_million    float64\nnew_tests                          float64\ntotal_tests                        float64\ntotal_tests_per_thousand           float64\nnew_tests_per_thousand             float64\nnew_tests_smoothed                 float64\nnew_tests_smoothed_per_thousand    float64\ntests_per_case                     float64\npositive_rate                      float64\ntests_units                         object\nstringency_index                   float64\npopulation                         float64\npopulation_density                 float64\nmedian_age                         float64\naged_65_older                      float64\naged_70_older                      float64\ngdp_per_capita                     float64\nextreme_poverty                    float64\ncardiovasc_death_rate              float64\ndiabetes_prevalence                float64\nfemale_smokers                     float64\nmale_smokers                       float64\nhandwashing_facilities             float64\nhospital_beds_per_thousand         float64\nlife_expectancy                    float64\ndtype: object"
     },
     "metadata": {},
     "execution_count": 90
    }
   ],
   "source": [
    "# Review data types to ensure appropriateness\n",
    "covid_stats_df.dtypes"
   ]
  },
  {
   "cell_type": "code",
   "execution_count": 91,
   "metadata": {},
   "outputs": [
    {
     "output_type": "execute_result",
     "data": {
      "text/plain": "  iso_code      continent location  total_cases  new_cases  \\\n0      ABW  North America    Aruba          2.0        2.0   \n1      ABW  North America    Aruba          NaN        NaN   \n2      ABW  North America    Aruba          4.0        2.0   \n3      ABW  North America    Aruba          NaN        NaN   \n4      ABW  North America    Aruba          NaN        NaN   \n\n   new_cases_smoothed  total_deaths  new_deaths  new_deaths_smoothed  \\\n0                 NaN           0.0         0.0                  NaN   \n1               0.286           NaN         NaN                  0.0   \n2               0.286           0.0         0.0                  0.0   \n3               0.286           NaN         NaN                  0.0   \n4               0.286           NaN         NaN                  0.0   \n\n   total_cases_per_million  ...  gdp_per_capita  extreme_poverty  \\\n0                   18.733  ...       35973.781              NaN   \n1                      NaN  ...       35973.781              NaN   \n2                   37.465  ...       35973.781              NaN   \n3                      NaN  ...       35973.781              NaN   \n4                      NaN  ...       35973.781              NaN   \n\n   cardiovasc_death_rate  diabetes_prevalence  female_smokers  male_smokers  \\\n0                    NaN                11.62             NaN           NaN   \n1                    NaN                11.62             NaN           NaN   \n2                    NaN                11.62             NaN           NaN   \n3                    NaN                11.62             NaN           NaN   \n4                    NaN                11.62             NaN           NaN   \n\n   handwashing_facilities  hospital_beds_per_thousand  life_expectancy  \\\n0                     NaN                         NaN            76.29   \n1                     NaN                         NaN            76.29   \n2                     NaN                         NaN            76.29   \n3                     NaN                         NaN            76.29   \n4                     NaN                         NaN            76.29   \n\n   date_updated  \n0    2020-03-13  \n1    2020-03-19  \n2    2020-03-20  \n3    2020-03-21  \n4    2020-03-22  \n\n[5 rows x 40 columns]",
      "text/html": "<div>\n<style scoped>\n    .dataframe tbody tr th:only-of-type {\n        vertical-align: middle;\n    }\n\n    .dataframe tbody tr th {\n        vertical-align: top;\n    }\n\n    .dataframe thead th {\n        text-align: right;\n    }\n</style>\n<table border=\"1\" class=\"dataframe\">\n  <thead>\n    <tr style=\"text-align: right;\">\n      <th></th>\n      <th>iso_code</th>\n      <th>continent</th>\n      <th>location</th>\n      <th>total_cases</th>\n      <th>new_cases</th>\n      <th>new_cases_smoothed</th>\n      <th>total_deaths</th>\n      <th>new_deaths</th>\n      <th>new_deaths_smoothed</th>\n      <th>total_cases_per_million</th>\n      <th>...</th>\n      <th>gdp_per_capita</th>\n      <th>extreme_poverty</th>\n      <th>cardiovasc_death_rate</th>\n      <th>diabetes_prevalence</th>\n      <th>female_smokers</th>\n      <th>male_smokers</th>\n      <th>handwashing_facilities</th>\n      <th>hospital_beds_per_thousand</th>\n      <th>life_expectancy</th>\n      <th>date_updated</th>\n    </tr>\n  </thead>\n  <tbody>\n    <tr>\n      <th>0</th>\n      <td>ABW</td>\n      <td>North America</td>\n      <td>Aruba</td>\n      <td>2.0</td>\n      <td>2.0</td>\n      <td>NaN</td>\n      <td>0.0</td>\n      <td>0.0</td>\n      <td>NaN</td>\n      <td>18.733</td>\n      <td>...</td>\n      <td>35973.781</td>\n      <td>NaN</td>\n      <td>NaN</td>\n      <td>11.62</td>\n      <td>NaN</td>\n      <td>NaN</td>\n      <td>NaN</td>\n      <td>NaN</td>\n      <td>76.29</td>\n      <td>2020-03-13</td>\n    </tr>\n    <tr>\n      <th>1</th>\n      <td>ABW</td>\n      <td>North America</td>\n      <td>Aruba</td>\n      <td>NaN</td>\n      <td>NaN</td>\n      <td>0.286</td>\n      <td>NaN</td>\n      <td>NaN</td>\n      <td>0.0</td>\n      <td>NaN</td>\n      <td>...</td>\n      <td>35973.781</td>\n      <td>NaN</td>\n      <td>NaN</td>\n      <td>11.62</td>\n      <td>NaN</td>\n      <td>NaN</td>\n      <td>NaN</td>\n      <td>NaN</td>\n      <td>76.29</td>\n      <td>2020-03-19</td>\n    </tr>\n    <tr>\n      <th>2</th>\n      <td>ABW</td>\n      <td>North America</td>\n      <td>Aruba</td>\n      <td>4.0</td>\n      <td>2.0</td>\n      <td>0.286</td>\n      <td>0.0</td>\n      <td>0.0</td>\n      <td>0.0</td>\n      <td>37.465</td>\n      <td>...</td>\n      <td>35973.781</td>\n      <td>NaN</td>\n      <td>NaN</td>\n      <td>11.62</td>\n      <td>NaN</td>\n      <td>NaN</td>\n      <td>NaN</td>\n      <td>NaN</td>\n      <td>76.29</td>\n      <td>2020-03-20</td>\n    </tr>\n    <tr>\n      <th>3</th>\n      <td>ABW</td>\n      <td>North America</td>\n      <td>Aruba</td>\n      <td>NaN</td>\n      <td>NaN</td>\n      <td>0.286</td>\n      <td>NaN</td>\n      <td>NaN</td>\n      <td>0.0</td>\n      <td>NaN</td>\n      <td>...</td>\n      <td>35973.781</td>\n      <td>NaN</td>\n      <td>NaN</td>\n      <td>11.62</td>\n      <td>NaN</td>\n      <td>NaN</td>\n      <td>NaN</td>\n      <td>NaN</td>\n      <td>76.29</td>\n      <td>2020-03-21</td>\n    </tr>\n    <tr>\n      <th>4</th>\n      <td>ABW</td>\n      <td>North America</td>\n      <td>Aruba</td>\n      <td>NaN</td>\n      <td>NaN</td>\n      <td>0.286</td>\n      <td>NaN</td>\n      <td>NaN</td>\n      <td>0.0</td>\n      <td>NaN</td>\n      <td>...</td>\n      <td>35973.781</td>\n      <td>NaN</td>\n      <td>NaN</td>\n      <td>11.62</td>\n      <td>NaN</td>\n      <td>NaN</td>\n      <td>NaN</td>\n      <td>NaN</td>\n      <td>76.29</td>\n      <td>2020-03-22</td>\n    </tr>\n  </tbody>\n</table>\n<p>5 rows × 40 columns</p>\n</div>"
     },
     "metadata": {},
     "execution_count": 91
    }
   ],
   "source": [
    "# Change \"date\" format by removing \"-\"\n",
    "covid_stats_df['date'] = covid_stats_df['date'].str.replace('-','')\n",
    "\n",
    "# Convert \"date\" column to format datetime\n",
    "covid_stats_df['date_updated'] = pd.to_datetime(covid_stats_df['date'].astype(str), format='%Y%m%d')\n",
    "\n",
    "# Drop old \"date\" column\n",
    "covid_stats_df = covid_stats_df.drop([\"date\"], axis=1)\n",
    "\n",
    "covid_stats_df.head()"
   ]
  },
  {
   "cell_type": "code",
   "execution_count": 92,
   "metadata": {},
   "outputs": [
    {
     "output_type": "execute_result",
     "data": {
      "text/plain": "iso_code                                   object\ncontinent                                  object\nlocation                                   object\ntotal_cases                               float64\nnew_cases                                 float64\nnew_cases_smoothed                        float64\ntotal_deaths                              float64\nnew_deaths                                float64\nnew_deaths_smoothed                       float64\ntotal_cases_per_million                   float64\nnew_cases_per_million                     float64\nnew_cases_smoothed_per_million            float64\ntotal_deaths_per_million                  float64\nnew_deaths_per_million                    float64\nnew_deaths_smoothed_per_million           float64\nnew_tests                                 float64\ntotal_tests                               float64\ntotal_tests_per_thousand                  float64\nnew_tests_per_thousand                    float64\nnew_tests_smoothed                        float64\nnew_tests_smoothed_per_thousand           float64\ntests_per_case                            float64\npositive_rate                             float64\ntests_units                                object\nstringency_index                          float64\npopulation                                float64\npopulation_density                        float64\nmedian_age                                float64\naged_65_older                             float64\naged_70_older                             float64\ngdp_per_capita                            float64\nextreme_poverty                           float64\ncardiovasc_death_rate                     float64\ndiabetes_prevalence                       float64\nfemale_smokers                            float64\nmale_smokers                              float64\nhandwashing_facilities                    float64\nhospital_beds_per_thousand                float64\nlife_expectancy                           float64\ndate_updated                       datetime64[ns]\ndtype: object"
     },
     "metadata": {},
     "execution_count": 92
    }
   ],
   "source": [
    "# Re-review data types to ensure appropriateness\n",
    "covid_stats_df.dtypes"
   ]
  },
  {
   "cell_type": "code",
   "execution_count": 93,
   "metadata": {},
   "outputs": [
    {
     "output_type": "execute_result",
     "data": {
      "text/plain": "date_updated\n2019-12-31     67\n2020-01-01     67\n2020-01-02     67\n2020-01-03     67\n2020-01-04     67\n             ... \n2020-08-27    210\n2020-08-28    210\n2020-08-29    210\n2020-08-30    210\n2020-08-31    209\nName: iso_code, Length: 245, dtype: int64"
     },
     "metadata": {},
     "execution_count": 93
    }
   ],
   "source": [
    "# Verify date range - ensure only 2020 dates for analysis\n",
    "covid_stats_df.groupby(\"date_updated\")[\"iso_code\"].nunique()"
   ]
  },
  {
   "cell_type": "code",
   "execution_count": 94,
   "metadata": {},
   "outputs": [],
   "source": [
    "# Remove Dec 31, 2019 dates - not applicable within analysis of 2020 data\n",
    "covid_stats_df.drop(covid_stats_df[covid_stats_df['date_updated'] == \"2019-12-31\"].index, inplace = True) "
   ]
  },
  {
   "cell_type": "code",
   "execution_count": 95,
   "metadata": {},
   "outputs": [
    {
     "output_type": "execute_result",
     "data": {
      "text/plain": "date_updated\n2020-01-01     67\n2020-01-02     67\n2020-01-03     67\n2020-01-04     67\n2020-01-05     67\n             ... \n2020-08-27    210\n2020-08-28    210\n2020-08-29    210\n2020-08-30    210\n2020-08-31    209\nName: iso_code, Length: 244, dtype: int64"
     },
     "metadata": {},
     "execution_count": 95
    }
   ],
   "source": [
    "# Confirm Dec 31, 2019 date dropped\n",
    "covid_stats_df.groupby(\"date_updated\")[\"iso_code\"].nunique()"
   ]
  },
  {
   "cell_type": "code",
   "execution_count": 96,
   "metadata": {},
   "outputs": [
    {
     "output_type": "execute_result",
     "data": {
      "text/plain": "iso_code                           40436\ncontinent                          40192\nlocation                           40680\ntotal_cases                        40105\nnew_cases                          39924\nnew_cases_smoothed                 39210\ntotal_deaths                       40105\nnew_deaths                         39924\nnew_deaths_smoothed                39210\ntotal_cases_per_million            39861\nnew_cases_per_million              39861\nnew_cases_smoothed_per_million     39145\ntotal_deaths_per_million           39861\nnew_deaths_per_million             39861\nnew_deaths_smoothed_per_million    39145\nnew_tests                          13112\ntotal_tests                        13443\ntotal_tests_per_thousand           13443\nnew_tests_per_thousand             13112\nnew_tests_smoothed                 14742\nnew_tests_smoothed_per_thousand    14742\ntests_per_case                     13630\npositive_rate                      13986\ntests_units                        15497\nstringency_index                   33598\npopulation                         40436\npopulation_density                 38627\nmedian_age                         36325\naged_65_older                      35791\naged_70_older                      36137\ngdp_per_capita                     35872\nextreme_poverty                    23956\ncardiovasc_death_rate              36338\ndiabetes_prevalence                37605\nfemale_smokers                     28609\nmale_smokers                       28252\nhandwashing_facilities             16885\nhospital_beds_per_thousand         32909\nlife_expectancy                    39935\ndate_updated                       40680\ndtype: int64"
     },
     "metadata": {},
     "execution_count": 96
    }
   ],
   "source": [
    "# Ensure completeness\n",
    "covid_stats_df.count()"
   ]
  },
  {
   "cell_type": "code",
   "execution_count": 97,
   "metadata": {},
   "outputs": [
    {
     "output_type": "execute_result",
     "data": {
      "text/plain": "      iso_code      continent       location  total_cases  new_cases  \\\n0          ABW  North America          Aruba          2.0        2.0   \n1          ABW  North America          Aruba          NaN        NaN   \n2          ABW  North America          Aruba          4.0        2.0   \n3          ABW  North America          Aruba          NaN        NaN   \n4          ABW  North America          Aruba          NaN        NaN   \n...        ...            ...            ...          ...        ...   \n40743      NaN            NaN  International        696.0        NaN   \n40744      NaN            NaN  International        696.0        NaN   \n40745      NaN            NaN  International        696.0        NaN   \n40746      NaN            NaN  International        696.0        NaN   \n40747      NaN            NaN  International        696.0        NaN   \n\n       total_deaths  new_deaths  new_tests  total_tests  population  \\\n0               0.0         0.0        NaN          NaN    106766.0   \n1               NaN         NaN        NaN          NaN    106766.0   \n2               0.0         0.0        NaN          NaN    106766.0   \n3               NaN         NaN        NaN          NaN    106766.0   \n4               NaN         NaN        NaN          NaN    106766.0   \n...             ...         ...        ...          ...         ...   \n40743           7.0         NaN        NaN          NaN         NaN   \n40744           7.0         NaN        NaN          NaN         NaN   \n40745           7.0         NaN        NaN          NaN         NaN   \n40746           7.0         NaN        NaN          NaN         NaN   \n40747           7.0         NaN        NaN          NaN         NaN   \n\n       population_density  median_age date_updated  \n0                   584.8        41.2   2020-03-13  \n1                   584.8        41.2   2020-03-19  \n2                   584.8        41.2   2020-03-20  \n3                   584.8        41.2   2020-03-21  \n4                   584.8        41.2   2020-03-22  \n...                   ...         ...          ...  \n40743                 NaN         NaN   2020-08-27  \n40744                 NaN         NaN   2020-08-28  \n40745                 NaN         NaN   2020-08-29  \n40746                 NaN         NaN   2020-08-30  \n40747                 NaN         NaN   2020-08-31  \n\n[40680 rows x 13 columns]",
      "text/html": "<div>\n<style scoped>\n    .dataframe tbody tr th:only-of-type {\n        vertical-align: middle;\n    }\n\n    .dataframe tbody tr th {\n        vertical-align: top;\n    }\n\n    .dataframe thead th {\n        text-align: right;\n    }\n</style>\n<table border=\"1\" class=\"dataframe\">\n  <thead>\n    <tr style=\"text-align: right;\">\n      <th></th>\n      <th>iso_code</th>\n      <th>continent</th>\n      <th>location</th>\n      <th>total_cases</th>\n      <th>new_cases</th>\n      <th>total_deaths</th>\n      <th>new_deaths</th>\n      <th>new_tests</th>\n      <th>total_tests</th>\n      <th>population</th>\n      <th>population_density</th>\n      <th>median_age</th>\n      <th>date_updated</th>\n    </tr>\n  </thead>\n  <tbody>\n    <tr>\n      <th>0</th>\n      <td>ABW</td>\n      <td>North America</td>\n      <td>Aruba</td>\n      <td>2.0</td>\n      <td>2.0</td>\n      <td>0.0</td>\n      <td>0.0</td>\n      <td>NaN</td>\n      <td>NaN</td>\n      <td>106766.0</td>\n      <td>584.8</td>\n      <td>41.2</td>\n      <td>2020-03-13</td>\n    </tr>\n    <tr>\n      <th>1</th>\n      <td>ABW</td>\n      <td>North America</td>\n      <td>Aruba</td>\n      <td>NaN</td>\n      <td>NaN</td>\n      <td>NaN</td>\n      <td>NaN</td>\n      <td>NaN</td>\n      <td>NaN</td>\n      <td>106766.0</td>\n      <td>584.8</td>\n      <td>41.2</td>\n      <td>2020-03-19</td>\n    </tr>\n    <tr>\n      <th>2</th>\n      <td>ABW</td>\n      <td>North America</td>\n      <td>Aruba</td>\n      <td>4.0</td>\n      <td>2.0</td>\n      <td>0.0</td>\n      <td>0.0</td>\n      <td>NaN</td>\n      <td>NaN</td>\n      <td>106766.0</td>\n      <td>584.8</td>\n      <td>41.2</td>\n      <td>2020-03-20</td>\n    </tr>\n    <tr>\n      <th>3</th>\n      <td>ABW</td>\n      <td>North America</td>\n      <td>Aruba</td>\n      <td>NaN</td>\n      <td>NaN</td>\n      <td>NaN</td>\n      <td>NaN</td>\n      <td>NaN</td>\n      <td>NaN</td>\n      <td>106766.0</td>\n      <td>584.8</td>\n      <td>41.2</td>\n      <td>2020-03-21</td>\n    </tr>\n    <tr>\n      <th>4</th>\n      <td>ABW</td>\n      <td>North America</td>\n      <td>Aruba</td>\n      <td>NaN</td>\n      <td>NaN</td>\n      <td>NaN</td>\n      <td>NaN</td>\n      <td>NaN</td>\n      <td>NaN</td>\n      <td>106766.0</td>\n      <td>584.8</td>\n      <td>41.2</td>\n      <td>2020-03-22</td>\n    </tr>\n    <tr>\n      <th>...</th>\n      <td>...</td>\n      <td>...</td>\n      <td>...</td>\n      <td>...</td>\n      <td>...</td>\n      <td>...</td>\n      <td>...</td>\n      <td>...</td>\n      <td>...</td>\n      <td>...</td>\n      <td>...</td>\n      <td>...</td>\n      <td>...</td>\n    </tr>\n    <tr>\n      <th>40743</th>\n      <td>NaN</td>\n      <td>NaN</td>\n      <td>International</td>\n      <td>696.0</td>\n      <td>NaN</td>\n      <td>7.0</td>\n      <td>NaN</td>\n      <td>NaN</td>\n      <td>NaN</td>\n      <td>NaN</td>\n      <td>NaN</td>\n      <td>NaN</td>\n      <td>2020-08-27</td>\n    </tr>\n    <tr>\n      <th>40744</th>\n      <td>NaN</td>\n      <td>NaN</td>\n      <td>International</td>\n      <td>696.0</td>\n      <td>NaN</td>\n      <td>7.0</td>\n      <td>NaN</td>\n      <td>NaN</td>\n      <td>NaN</td>\n      <td>NaN</td>\n      <td>NaN</td>\n      <td>NaN</td>\n      <td>2020-08-28</td>\n    </tr>\n    <tr>\n      <th>40745</th>\n      <td>NaN</td>\n      <td>NaN</td>\n      <td>International</td>\n      <td>696.0</td>\n      <td>NaN</td>\n      <td>7.0</td>\n      <td>NaN</td>\n      <td>NaN</td>\n      <td>NaN</td>\n      <td>NaN</td>\n      <td>NaN</td>\n      <td>NaN</td>\n      <td>2020-08-29</td>\n    </tr>\n    <tr>\n      <th>40746</th>\n      <td>NaN</td>\n      <td>NaN</td>\n      <td>International</td>\n      <td>696.0</td>\n      <td>NaN</td>\n      <td>7.0</td>\n      <td>NaN</td>\n      <td>NaN</td>\n      <td>NaN</td>\n      <td>NaN</td>\n      <td>NaN</td>\n      <td>NaN</td>\n      <td>2020-08-30</td>\n    </tr>\n    <tr>\n      <th>40747</th>\n      <td>NaN</td>\n      <td>NaN</td>\n      <td>International</td>\n      <td>696.0</td>\n      <td>NaN</td>\n      <td>7.0</td>\n      <td>NaN</td>\n      <td>NaN</td>\n      <td>NaN</td>\n      <td>NaN</td>\n      <td>NaN</td>\n      <td>NaN</td>\n      <td>2020-08-31</td>\n    </tr>\n  </tbody>\n</table>\n<p>40680 rows × 13 columns</p>\n</div>"
     },
     "metadata": {},
     "execution_count": 97
    }
   ],
   "source": [
    "# Drop columns deemed redundant/not useful \n",
    "covid_stats_df = covid_stats_df.drop(['new_cases_smoothed', \n",
    "                                      'new_deaths_smoothed',\n",
    "                                      'total_cases_per_million',\n",
    "                                      'new_cases_per_million',\n",
    "                                      'new_cases_smoothed_per_million',\n",
    "                                      'total_deaths_per_million',\n",
    "                                      'new_deaths_per_million',\n",
    "                                      'new_deaths_smoothed_per_million',\n",
    "                                      'total_tests_per_thousand',\n",
    "                                      'new_tests_per_thousand',\n",
    "                                      'new_tests_smoothed',\n",
    "                                      'new_tests_smoothed_per_thousand',\n",
    "                                      'stringency_index',\n",
    "                                      'aged_65_older',\n",
    "                                      'aged_70_older',\n",
    "                                      'gdp_per_capita',\n",
    "                                      'extreme_poverty',\n",
    "                                      'cardiovasc_death_rate',\n",
    "                                      'diabetes_prevalence',\n",
    "                                      'female_smokers',\n",
    "                                      'male_smokers',\n",
    "                                      'handwashing_facilities',\n",
    "                                      'hospital_beds_per_thousand',\n",
    "                                      'life_expectancy',\n",
    "                                      'tests_per_case',\n",
    "                                      'positive_rate',\n",
    "                                      'tests_units'\n",
    "                                     ], axis=1)\n",
    "\n",
    "covid_stats_df"
   ]
  },
  {
   "cell_type": "code",
   "execution_count": 98,
   "metadata": {},
   "outputs": [
    {
     "output_type": "execute_result",
     "data": {
      "text/plain": "      iso_code      continent  location  total_cases  new_cases  total_deaths  \\\n0          ABW  North America     Aruba          2.0        2.0           0.0   \n1          ABW  North America     Aruba          NaN        NaN           NaN   \n2          ABW  North America     Aruba          4.0        2.0           0.0   \n3          ABW  North America     Aruba          NaN        NaN           NaN   \n4          ABW  North America     Aruba          NaN        NaN           NaN   \n...        ...            ...       ...          ...        ...           ...   \n40253      ZWE         Africa  Zimbabwe       6251.0       55.0         179.0   \n40254      ZWE         Africa  Zimbabwe       6292.0       41.0         189.0   \n40255      ZWE         Africa  Zimbabwe       6388.0       96.0         195.0   \n40256      ZWE         Africa  Zimbabwe       6406.0       18.0         196.0   \n40257      ZWE         Africa  Zimbabwe       6412.0        6.0         196.0   \n\n       new_deaths  new_tests  total_tests  population  population_density  \\\n0             0.0        NaN          NaN    106766.0             584.800   \n1             NaN        NaN          NaN    106766.0             584.800   \n2             0.0        NaN          NaN    106766.0             584.800   \n3             NaN        NaN          NaN    106766.0             584.800   \n4             NaN        NaN          NaN    106766.0             584.800   \n...           ...        ...          ...         ...                 ...   \n40253        13.0      951.0      95721.0  14862927.0              42.729   \n40254        10.0     1551.0      97272.0  14862927.0              42.729   \n40255         6.0        NaN          NaN  14862927.0              42.729   \n40256         1.0        NaN          NaN  14862927.0              42.729   \n40257         0.0        NaN          NaN  14862927.0              42.729   \n\n       median_age date_updated  \n0            41.2   2020-03-13  \n1            41.2   2020-03-19  \n2            41.2   2020-03-20  \n3            41.2   2020-03-21  \n4            41.2   2020-03-22  \n...           ...          ...  \n40253        19.6   2020-08-27  \n40254        19.6   2020-08-28  \n40255        19.6   2020-08-29  \n40256        19.6   2020-08-30  \n40257        19.6   2020-08-31  \n\n[34864 rows x 13 columns]",
      "text/html": "<div>\n<style scoped>\n    .dataframe tbody tr th:only-of-type {\n        vertical-align: middle;\n    }\n\n    .dataframe tbody tr th {\n        vertical-align: top;\n    }\n\n    .dataframe thead th {\n        text-align: right;\n    }\n</style>\n<table border=\"1\" class=\"dataframe\">\n  <thead>\n    <tr style=\"text-align: right;\">\n      <th></th>\n      <th>iso_code</th>\n      <th>continent</th>\n      <th>location</th>\n      <th>total_cases</th>\n      <th>new_cases</th>\n      <th>total_deaths</th>\n      <th>new_deaths</th>\n      <th>new_tests</th>\n      <th>total_tests</th>\n      <th>population</th>\n      <th>population_density</th>\n      <th>median_age</th>\n      <th>date_updated</th>\n    </tr>\n  </thead>\n  <tbody>\n    <tr>\n      <th>0</th>\n      <td>ABW</td>\n      <td>North America</td>\n      <td>Aruba</td>\n      <td>2.0</td>\n      <td>2.0</td>\n      <td>0.0</td>\n      <td>0.0</td>\n      <td>NaN</td>\n      <td>NaN</td>\n      <td>106766.0</td>\n      <td>584.800</td>\n      <td>41.2</td>\n      <td>2020-03-13</td>\n    </tr>\n    <tr>\n      <th>1</th>\n      <td>ABW</td>\n      <td>North America</td>\n      <td>Aruba</td>\n      <td>NaN</td>\n      <td>NaN</td>\n      <td>NaN</td>\n      <td>NaN</td>\n      <td>NaN</td>\n      <td>NaN</td>\n      <td>106766.0</td>\n      <td>584.800</td>\n      <td>41.2</td>\n      <td>2020-03-19</td>\n    </tr>\n    <tr>\n      <th>2</th>\n      <td>ABW</td>\n      <td>North America</td>\n      <td>Aruba</td>\n      <td>4.0</td>\n      <td>2.0</td>\n      <td>0.0</td>\n      <td>0.0</td>\n      <td>NaN</td>\n      <td>NaN</td>\n      <td>106766.0</td>\n      <td>584.800</td>\n      <td>41.2</td>\n      <td>2020-03-20</td>\n    </tr>\n    <tr>\n      <th>3</th>\n      <td>ABW</td>\n      <td>North America</td>\n      <td>Aruba</td>\n      <td>NaN</td>\n      <td>NaN</td>\n      <td>NaN</td>\n      <td>NaN</td>\n      <td>NaN</td>\n      <td>NaN</td>\n      <td>106766.0</td>\n      <td>584.800</td>\n      <td>41.2</td>\n      <td>2020-03-21</td>\n    </tr>\n    <tr>\n      <th>4</th>\n      <td>ABW</td>\n      <td>North America</td>\n      <td>Aruba</td>\n      <td>NaN</td>\n      <td>NaN</td>\n      <td>NaN</td>\n      <td>NaN</td>\n      <td>NaN</td>\n      <td>NaN</td>\n      <td>106766.0</td>\n      <td>584.800</td>\n      <td>41.2</td>\n      <td>2020-03-22</td>\n    </tr>\n    <tr>\n      <th>...</th>\n      <td>...</td>\n      <td>...</td>\n      <td>...</td>\n      <td>...</td>\n      <td>...</td>\n      <td>...</td>\n      <td>...</td>\n      <td>...</td>\n      <td>...</td>\n      <td>...</td>\n      <td>...</td>\n      <td>...</td>\n      <td>...</td>\n    </tr>\n    <tr>\n      <th>40253</th>\n      <td>ZWE</td>\n      <td>Africa</td>\n      <td>Zimbabwe</td>\n      <td>6251.0</td>\n      <td>55.0</td>\n      <td>179.0</td>\n      <td>13.0</td>\n      <td>951.0</td>\n      <td>95721.0</td>\n      <td>14862927.0</td>\n      <td>42.729</td>\n      <td>19.6</td>\n      <td>2020-08-27</td>\n    </tr>\n    <tr>\n      <th>40254</th>\n      <td>ZWE</td>\n      <td>Africa</td>\n      <td>Zimbabwe</td>\n      <td>6292.0</td>\n      <td>41.0</td>\n      <td>189.0</td>\n      <td>10.0</td>\n      <td>1551.0</td>\n      <td>97272.0</td>\n      <td>14862927.0</td>\n      <td>42.729</td>\n      <td>19.6</td>\n      <td>2020-08-28</td>\n    </tr>\n    <tr>\n      <th>40255</th>\n      <td>ZWE</td>\n      <td>Africa</td>\n      <td>Zimbabwe</td>\n      <td>6388.0</td>\n      <td>96.0</td>\n      <td>195.0</td>\n      <td>6.0</td>\n      <td>NaN</td>\n      <td>NaN</td>\n      <td>14862927.0</td>\n      <td>42.729</td>\n      <td>19.6</td>\n      <td>2020-08-29</td>\n    </tr>\n    <tr>\n      <th>40256</th>\n      <td>ZWE</td>\n      <td>Africa</td>\n      <td>Zimbabwe</td>\n      <td>6406.0</td>\n      <td>18.0</td>\n      <td>196.0</td>\n      <td>1.0</td>\n      <td>NaN</td>\n      <td>NaN</td>\n      <td>14862927.0</td>\n      <td>42.729</td>\n      <td>19.6</td>\n      <td>2020-08-30</td>\n    </tr>\n    <tr>\n      <th>40257</th>\n      <td>ZWE</td>\n      <td>Africa</td>\n      <td>Zimbabwe</td>\n      <td>6412.0</td>\n      <td>6.0</td>\n      <td>196.0</td>\n      <td>0.0</td>\n      <td>NaN</td>\n      <td>NaN</td>\n      <td>14862927.0</td>\n      <td>42.729</td>\n      <td>19.6</td>\n      <td>2020-08-31</td>\n    </tr>\n  </tbody>\n</table>\n<p>34864 rows × 13 columns</p>\n</div>"
     },
     "metadata": {},
     "execution_count": 98
    }
   ],
   "source": [
    "# Drop rows based on countries not included in \"government_regulation_df\"\n",
    "index_drop_codes = covid_stats_df[(covid_stats_df['iso_code'] == 'ARM') |\n",
    "                                  (covid_stats_df['iso_code'] == 'ATG') |\n",
    "                                  (covid_stats_df['iso_code'] == 'BES') |\n",
    "                                  (covid_stats_df['iso_code'] == 'BHS') |\n",
    "                                  (covid_stats_df['iso_code'] == 'COM') |\n",
    "                                  (covid_stats_df['iso_code'] == 'CUW') |\n",
    "                                  (covid_stats_df['iso_code'] == 'ESH') |\n",
    "                                  (covid_stats_df['iso_code'] == 'FRO') | \n",
    "                                  (covid_stats_df['iso_code'] == 'GGY') |\n",
    "                                  (covid_stats_df['iso_code'] == 'GNB') |\n",
    "                                  (covid_stats_df['iso_code'] == 'GNQ') |\n",
    "                                  (covid_stats_df['iso_code'] == 'GRD') |\n",
    "                                  (covid_stats_df['iso_code'] == 'IMN') |\n",
    "                                  (covid_stats_df['iso_code'] == 'JEY') |\n",
    "                                  (covid_stats_df['iso_code'] == 'KNA') |\n",
    "                                  (covid_stats_df['iso_code'] == 'LCA') |\n",
    "                                  (covid_stats_df['iso_code'] == 'LIE') |\n",
    "                                  (covid_stats_df['iso_code'] == 'MCO') |\n",
    "                                  (covid_stats_df['iso_code'] == 'MDV') |\n",
    "                                  (covid_stats_df['iso_code'] == 'MKD') |\n",
    "                                  (covid_stats_df['iso_code'] == 'MLT') |\n",
    "                                  (covid_stats_df['iso_code'] == 'MNE') |\n",
    "                                  (covid_stats_df['iso_code'] == 'MNP') |\n",
    "                                  (covid_stats_df['iso_code'] == 'NCL') |\n",
    "                                  (covid_stats_df['iso_code'] == 'OWID_KOS') |\n",
    "                                  (covid_stats_df['iso_code'] == 'OWID_WRL') |\n",
    "                                  (covid_stats_df['iso_code'] == 'PYF') |\n",
    "                                  (covid_stats_df['iso_code'] == 'STP') |\n",
    "                                  (covid_stats_df['iso_code'] == 'SXM') |\n",
    "                                  (covid_stats_df['iso_code'] == 'VAT') |\n",
    "                                  (covid_stats_df['iso_code'] == 'VCT') |\n",
    "                                  (covid_stats_df['iso_code'] == 'VIR') |\n",
    "                                  (covid_stats_df['location'] == 'International')\n",
    "                                 ].index\n",
    "\n",
    "covid_stats_df.drop(index_drop_codes, inplace=True)\n",
    "\n",
    "covid_stats_df"
   ]
  },
  {
   "cell_type": "code",
   "execution_count": 99,
   "metadata": {},
   "outputs": [
    {
     "output_type": "execute_result",
     "data": {
      "text/plain": "      iso_code      continent  location  total_cases  new_cases  total_deaths  \\\n0          ABW  North America     Aruba          2.0        2.0           0.0   \n1          ABW  North America     Aruba          NaN        0.0           NaN   \n2          ABW  North America     Aruba          4.0        2.0           0.0   \n3          ABW  North America     Aruba          NaN        0.0           NaN   \n4          ABW  North America     Aruba          NaN        0.0           NaN   \n...        ...            ...       ...          ...        ...           ...   \n40253      ZWE         Africa  Zimbabwe       6251.0       55.0         179.0   \n40254      ZWE         Africa  Zimbabwe       6292.0       41.0         189.0   \n40255      ZWE         Africa  Zimbabwe       6388.0       96.0         195.0   \n40256      ZWE         Africa  Zimbabwe       6406.0       18.0         196.0   \n40257      ZWE         Africa  Zimbabwe       6412.0        6.0         196.0   \n\n       new_deaths  new_tests  total_tests  population  population_density  \\\n0             0.0        0.0          NaN    106766.0             584.800   \n1             0.0        0.0          NaN    106766.0             584.800   \n2             0.0        0.0          NaN    106766.0             584.800   \n3             0.0        0.0          NaN    106766.0             584.800   \n4             0.0        0.0          NaN    106766.0             584.800   \n...           ...        ...          ...         ...                 ...   \n40253        13.0      951.0      95721.0  14862927.0              42.729   \n40254        10.0     1551.0      97272.0  14862927.0              42.729   \n40255         6.0        0.0          NaN  14862927.0              42.729   \n40256         1.0        0.0          NaN  14862927.0              42.729   \n40257         0.0        0.0          NaN  14862927.0              42.729   \n\n       median_age date_updated  \n0            41.2   2020-03-13  \n1            41.2   2020-03-19  \n2            41.2   2020-03-20  \n3            41.2   2020-03-21  \n4            41.2   2020-03-22  \n...           ...          ...  \n40253        19.6   2020-08-27  \n40254        19.6   2020-08-28  \n40255        19.6   2020-08-29  \n40256        19.6   2020-08-30  \n40257        19.6   2020-08-31  \n\n[34864 rows x 13 columns]",
      "text/html": "<div>\n<style scoped>\n    .dataframe tbody tr th:only-of-type {\n        vertical-align: middle;\n    }\n\n    .dataframe tbody tr th {\n        vertical-align: top;\n    }\n\n    .dataframe thead th {\n        text-align: right;\n    }\n</style>\n<table border=\"1\" class=\"dataframe\">\n  <thead>\n    <tr style=\"text-align: right;\">\n      <th></th>\n      <th>iso_code</th>\n      <th>continent</th>\n      <th>location</th>\n      <th>total_cases</th>\n      <th>new_cases</th>\n      <th>total_deaths</th>\n      <th>new_deaths</th>\n      <th>new_tests</th>\n      <th>total_tests</th>\n      <th>population</th>\n      <th>population_density</th>\n      <th>median_age</th>\n      <th>date_updated</th>\n    </tr>\n  </thead>\n  <tbody>\n    <tr>\n      <th>0</th>\n      <td>ABW</td>\n      <td>North America</td>\n      <td>Aruba</td>\n      <td>2.0</td>\n      <td>2.0</td>\n      <td>0.0</td>\n      <td>0.0</td>\n      <td>0.0</td>\n      <td>NaN</td>\n      <td>106766.0</td>\n      <td>584.800</td>\n      <td>41.2</td>\n      <td>2020-03-13</td>\n    </tr>\n    <tr>\n      <th>1</th>\n      <td>ABW</td>\n      <td>North America</td>\n      <td>Aruba</td>\n      <td>NaN</td>\n      <td>0.0</td>\n      <td>NaN</td>\n      <td>0.0</td>\n      <td>0.0</td>\n      <td>NaN</td>\n      <td>106766.0</td>\n      <td>584.800</td>\n      <td>41.2</td>\n      <td>2020-03-19</td>\n    </tr>\n    <tr>\n      <th>2</th>\n      <td>ABW</td>\n      <td>North America</td>\n      <td>Aruba</td>\n      <td>4.0</td>\n      <td>2.0</td>\n      <td>0.0</td>\n      <td>0.0</td>\n      <td>0.0</td>\n      <td>NaN</td>\n      <td>106766.0</td>\n      <td>584.800</td>\n      <td>41.2</td>\n      <td>2020-03-20</td>\n    </tr>\n    <tr>\n      <th>3</th>\n      <td>ABW</td>\n      <td>North America</td>\n      <td>Aruba</td>\n      <td>NaN</td>\n      <td>0.0</td>\n      <td>NaN</td>\n      <td>0.0</td>\n      <td>0.0</td>\n      <td>NaN</td>\n      <td>106766.0</td>\n      <td>584.800</td>\n      <td>41.2</td>\n      <td>2020-03-21</td>\n    </tr>\n    <tr>\n      <th>4</th>\n      <td>ABW</td>\n      <td>North America</td>\n      <td>Aruba</td>\n      <td>NaN</td>\n      <td>0.0</td>\n      <td>NaN</td>\n      <td>0.0</td>\n      <td>0.0</td>\n      <td>NaN</td>\n      <td>106766.0</td>\n      <td>584.800</td>\n      <td>41.2</td>\n      <td>2020-03-22</td>\n    </tr>\n    <tr>\n      <th>...</th>\n      <td>...</td>\n      <td>...</td>\n      <td>...</td>\n      <td>...</td>\n      <td>...</td>\n      <td>...</td>\n      <td>...</td>\n      <td>...</td>\n      <td>...</td>\n      <td>...</td>\n      <td>...</td>\n      <td>...</td>\n      <td>...</td>\n    </tr>\n    <tr>\n      <th>40253</th>\n      <td>ZWE</td>\n      <td>Africa</td>\n      <td>Zimbabwe</td>\n      <td>6251.0</td>\n      <td>55.0</td>\n      <td>179.0</td>\n      <td>13.0</td>\n      <td>951.0</td>\n      <td>95721.0</td>\n      <td>14862927.0</td>\n      <td>42.729</td>\n      <td>19.6</td>\n      <td>2020-08-27</td>\n    </tr>\n    <tr>\n      <th>40254</th>\n      <td>ZWE</td>\n      <td>Africa</td>\n      <td>Zimbabwe</td>\n      <td>6292.0</td>\n      <td>41.0</td>\n      <td>189.0</td>\n      <td>10.0</td>\n      <td>1551.0</td>\n      <td>97272.0</td>\n      <td>14862927.0</td>\n      <td>42.729</td>\n      <td>19.6</td>\n      <td>2020-08-28</td>\n    </tr>\n    <tr>\n      <th>40255</th>\n      <td>ZWE</td>\n      <td>Africa</td>\n      <td>Zimbabwe</td>\n      <td>6388.0</td>\n      <td>96.0</td>\n      <td>195.0</td>\n      <td>6.0</td>\n      <td>0.0</td>\n      <td>NaN</td>\n      <td>14862927.0</td>\n      <td>42.729</td>\n      <td>19.6</td>\n      <td>2020-08-29</td>\n    </tr>\n    <tr>\n      <th>40256</th>\n      <td>ZWE</td>\n      <td>Africa</td>\n      <td>Zimbabwe</td>\n      <td>6406.0</td>\n      <td>18.0</td>\n      <td>196.0</td>\n      <td>1.0</td>\n      <td>0.0</td>\n      <td>NaN</td>\n      <td>14862927.0</td>\n      <td>42.729</td>\n      <td>19.6</td>\n      <td>2020-08-30</td>\n    </tr>\n    <tr>\n      <th>40257</th>\n      <td>ZWE</td>\n      <td>Africa</td>\n      <td>Zimbabwe</td>\n      <td>6412.0</td>\n      <td>6.0</td>\n      <td>196.0</td>\n      <td>0.0</td>\n      <td>0.0</td>\n      <td>NaN</td>\n      <td>14862927.0</td>\n      <td>42.729</td>\n      <td>19.6</td>\n      <td>2020-08-31</td>\n    </tr>\n  </tbody>\n</table>\n<p>34864 rows × 13 columns</p>\n</div>"
     },
     "metadata": {},
     "execution_count": 99
    }
   ],
   "source": [
    "# In all \"new\" columns, replace NaN with 0 \n",
    "covid_stats_df['new_cases'].fillna(0, inplace=True)\n",
    "covid_stats_df['new_deaths'].fillna(0, inplace=True)\n",
    "covid_stats_df['new_tests'].fillna(0, inplace=True)\n",
    "covid_stats_df"
   ]
  },
  {
   "cell_type": "markdown",
   "metadata": {},
   "source": [
    "## Handle nulls in total_cases,total_deaths, and total_tests"
   ]
  },
  {
   "cell_type": "code",
   "execution_count": 100,
   "metadata": {},
   "outputs": [],
   "source": [
    "# Impute total_cases_updated and total_deaths_updated\n",
    "iso_codes = covid_stats_df[\"iso_code\"].unique()\n",
    "\n",
    "# get total_cases_updated column index\n",
    "tc_col = get_col_index(covid_stats_df,\"total_cases\")\n",
    "\n",
    "# get total_deaths_updated column index\n",
    "td_col = get_col_index(covid_stats_df,\"total_deaths\")\n",
    "\n",
    "# get new_cases column index\n",
    "nc_col = get_col_index(covid_stats_df,\"new_cases\")\n",
    "\n",
    "# get new_deaths column index\n",
    "nd_col = get_col_index(covid_stats_df,\"new_deaths\")\n",
    "\n",
    "# get new_tests column index\n",
    "nt_col = get_col_index(covid_stats_df,\"new_tests\")\n",
    "\n",
    "# get total_tests column index\n",
    "tt_col = get_col_index(covid_stats_df,\"total_tests\")"
   ]
  },
  {
   "cell_type": "code",
   "execution_count": 101,
   "metadata": {},
   "outputs": [
    {
     "output_type": "execute_result",
     "data": {
      "text/plain": "iso_code                 0\ncontinent                0\nlocation                 0\ntotal_cases              0\nnew_cases                0\ntotal_deaths             0\nnew_deaths               0\nnew_tests                0\ntotal_tests              0\npopulation               0\npopulation_density    1026\nmedian_age            2033\ndate_updated             0\ndtype: int64"
     },
     "metadata": {},
     "execution_count": 101
    }
   ],
   "source": [
    "# Impute total_cases_updated and total_deaths_updated\n",
    "iso_codes = covid_stats_df[\"iso_code\"].unique()\n",
    "\n",
    "# List or processed iso dataframes\n",
    "df_list = []\n",
    "\n",
    "for code in iso_codes:\n",
    "\n",
    "    iso_df = covid_stats_df[covid_stats_df[\"iso_code\"]==code].copy()\n",
    "    if np.isnan(iso_df.iloc[0,tc_col]):\n",
    "        iso_df.iloc[0,tc_col] = iso_df.iloc[0,nc_col]\n",
    "    iso_df[\"total_cases\"] = iso_df[\"total_cases\"].ffill()\n",
    "\n",
    "    if np.isnan(iso_df.iloc[0,td_col]):\n",
    "        iso_df.iloc[0,td_col] = iso_df.iloc[0,nd_col]\n",
    "    iso_df[\"total_deaths\"] = iso_df[\"total_deaths\"].ffill()\n",
    "\n",
    "    if np.isnan(iso_df.iloc[0,tt_col]):\n",
    "        iso_df.iloc[0,tt_col] = iso_df.iloc[0,nt_col]\n",
    "    iso_df[\"total_tests\"] = iso_df[\"total_tests\"].ffill()\n",
    "\n",
    "    df_list.append(iso_df)\n",
    "\n",
    "new_df = pd.DataFrame()\n",
    "for df in df_list:\n",
    "    new_df = new_df.append(df)\n",
    "\n",
    "covid_stats_df = new_df.copy()\n",
    "\n",
    "covid_stats_df.isnull().sum()"
   ]
  },
  {
   "cell_type": "code",
   "execution_count": 102,
   "metadata": {},
   "outputs": [
    {
     "output_type": "execute_result",
     "data": {
      "text/plain": "Index(['iso_code', 'continent', 'location', 'total_cases_updated', 'new_cases',\n       'total_deaths_updated', 'new_deaths', 'new_tests',\n       'total_tests_updated', 'population', 'population_density', 'median_age',\n       'date_updated'],\n      dtype='object')"
     },
     "metadata": {},
     "execution_count": 102
    }
   ],
   "source": [
    "# Add _updated suffix to new and total column names\n",
    "\n",
    "cols = [\"total_cases\",\"total_deaths\",\"total_tests\"]\n",
    "dct = {col:\"_\".join([col,\"updated\"]) for col in cols}\n",
    "covid_stats_df.rename(columns=dct,inplace=True)\n",
    "covid_stats_df.columns"
   ]
  },
  {
   "cell_type": "markdown",
   "metadata": {},
   "source": [
    "## Handle nulls in population_density"
   ]
  },
  {
   "cell_type": "code",
   "execution_count": 103,
   "metadata": {
    "tags": []
   },
   "outputs": [
    {
     "output_type": "stream",
     "name": "stdout",
     "text": "AIA: rows = 158, rows_null_population_density: 158\nFLK: rows = 150, rows_null_population_density: 150\nMSR: rows = 164, rows_null_population_density: 164\nSSD: rows = 148, rows_null_population_density: 148\nSYR: rows = 162, rows_null_population_density: 162\nTWN: rows = 244, rows_null_population_density: 244\n"
    }
   ],
   "source": [
    "# Find Countries with null population_density\n",
    "\n",
    "population_density_nulls_iso = covid_stats_df[covid_stats_df[\"population_density\"].isnull()][\"iso_code\"].unique()\n",
    "\n",
    "for iso_code in population_density_nulls_iso:\n",
    "    iso_df = covid_stats_df[covid_stats_df[\"iso_code\"]==iso_code]\n",
    "    print(f\"{iso_code}: rows = {iso_df.shape[0]}, rows_null_population_density: {iso_df['population_density'].isnull().sum()}\")"
   ]
  },
  {
   "cell_type": "code",
   "execution_count": 104,
   "metadata": {},
   "outputs": [
    {
     "output_type": "execute_result",
     "data": {
      "text/plain": "iso_code                   0\ncontinent                  0\nlocation                   0\ntotal_cases_updated        0\nnew_cases                  0\ntotal_deaths_updated       0\nnew_deaths                 0\nnew_tests                  0\ntotal_tests_updated        0\npopulation                 0\npopulation_density         0\nmedian_age              1561\ndate_updated               0\ndtype: int64"
     },
     "metadata": {},
     "execution_count": 104
    }
   ],
   "source": [
    "# Drop all countries with missing population_density\n",
    "\n",
    "null_population_density_index = covid_stats_df[covid_stats_df[\"iso_code\"].isin(population_density_nulls_iso)].index\n",
    "covid_stats_df.drop(null_population_density_index, inplace=True)\n",
    "\n",
    "covid_stats_df.isnull().sum()"
   ]
  },
  {
   "cell_type": "markdown",
   "metadata": {},
   "source": [
    "## Handle nulls in median_age"
   ]
  },
  {
   "cell_type": "code",
   "execution_count": 105,
   "metadata": {
    "tags": []
   },
   "outputs": [
    {
     "output_type": "stream",
     "name": "stdout",
     "text": "AND: rows = 177, rows_null_median_age: 177\nBMU: rows = 165, rows_null_median_age: 165\nCYM: rows = 165, rows_null_median_age: 165\nDMA: rows = 162, rows_null_median_age: 162\nGIB: rows = 165, rows_null_median_age: 165\nGRL: rows = 165, rows_null_median_age: 165\nSMR: rows = 244, rows_null_median_age: 244\nTCA: rows = 160, rows_null_median_age: 160\nVGB: rows = 158, rows_null_median_age: 158\n"
    }
   ],
   "source": [
    "# Find Countries with null median_age\n",
    "null_median_age_index = covid_stats_df[covid_stats_df[\"median_age\"].isnull()].index\n",
    "\n",
    "median_age_nulls_iso = covid_stats_df[covid_stats_df[\"median_age\"].isnull()][\"iso_code\"].unique()\n",
    "\n",
    "for iso_code in median_age_nulls_iso:\n",
    "    iso_df = covid_stats_df[covid_stats_df[\"iso_code\"]==iso_code]\n",
    "    print(f\"{iso_code}: rows = {iso_df.shape[0]}, rows_null_median_age: {iso_df['median_age'].isnull().sum()}\")"
   ]
  },
  {
   "cell_type": "code",
   "execution_count": 106,
   "metadata": {},
   "outputs": [
    {
     "output_type": "execute_result",
     "data": {
      "text/plain": "iso_code                0\ncontinent               0\nlocation                0\ntotal_cases_updated     0\nnew_cases               0\ntotal_deaths_updated    0\nnew_deaths              0\nnew_tests               0\ntotal_tests_updated     0\npopulation              0\npopulation_density      0\nmedian_age              0\ndate_updated            0\ndtype: int64"
     },
     "metadata": {},
     "execution_count": 106
    }
   ],
   "source": [
    "# Drop all countries with missing median_age\n",
    "\n",
    "null_median_age_index = covid_stats_df[covid_stats_df[\"iso_code\"].isin(median_age_nulls_iso)].index\n",
    "covid_stats_df.drop(null_median_age_index, inplace=True)\n",
    "\n",
    "covid_stats_df.isnull().sum()"
   ]
  },
  {
   "cell_type": "code",
   "execution_count": 107,
   "metadata": {},
   "outputs": [
    {
     "output_type": "execute_result",
     "data": {
      "text/plain": "      iso_code      continent  location  total_cases_updated  new_cases  \\\n0          ABW  North America     Aruba                  2.0        2.0   \n1          ABW  North America     Aruba                  2.0        0.0   \n2          ABW  North America     Aruba                  4.0        2.0   \n3          ABW  North America     Aruba                  4.0        0.0   \n4          ABW  North America     Aruba                  4.0        0.0   \n...        ...            ...       ...                  ...        ...   \n40253      ZWE         Africa  Zimbabwe               6251.0       55.0   \n40254      ZWE         Africa  Zimbabwe               6292.0       41.0   \n40255      ZWE         Africa  Zimbabwe               6388.0       96.0   \n40256      ZWE         Africa  Zimbabwe               6406.0       18.0   \n40257      ZWE         Africa  Zimbabwe               6412.0        6.0   \n\n       total_deaths_updated  new_deaths  new_tests  total_tests_updated  \\\n0                       0.0         0.0        0.0                  0.0   \n1                       0.0         0.0        0.0                  0.0   \n2                       0.0         0.0        0.0                  0.0   \n3                       0.0         0.0        0.0                  0.0   \n4                       0.0         0.0        0.0                  0.0   \n...                     ...         ...        ...                  ...   \n40253                 179.0        13.0      951.0              95721.0   \n40254                 189.0        10.0     1551.0              97272.0   \n40255                 195.0         6.0        0.0              97272.0   \n40256                 196.0         1.0        0.0              97272.0   \n40257                 196.0         0.0        0.0              97272.0   \n\n       population  population_density  median_age date_updated  \n0        106766.0             584.800        41.2   2020-03-13  \n1        106766.0             584.800        41.2   2020-03-19  \n2        106766.0             584.800        41.2   2020-03-20  \n3        106766.0             584.800        41.2   2020-03-21  \n4        106766.0             584.800        41.2   2020-03-22  \n...           ...                 ...         ...          ...  \n40253  14862927.0              42.729        19.6   2020-08-27  \n40254  14862927.0              42.729        19.6   2020-08-28  \n40255  14862927.0              42.729        19.6   2020-08-29  \n40256  14862927.0              42.729        19.6   2020-08-30  \n40257  14862927.0              42.729        19.6   2020-08-31  \n\n[32277 rows x 13 columns]",
      "text/html": "<div>\n<style scoped>\n    .dataframe tbody tr th:only-of-type {\n        vertical-align: middle;\n    }\n\n    .dataframe tbody tr th {\n        vertical-align: top;\n    }\n\n    .dataframe thead th {\n        text-align: right;\n    }\n</style>\n<table border=\"1\" class=\"dataframe\">\n  <thead>\n    <tr style=\"text-align: right;\">\n      <th></th>\n      <th>iso_code</th>\n      <th>continent</th>\n      <th>location</th>\n      <th>total_cases_updated</th>\n      <th>new_cases</th>\n      <th>total_deaths_updated</th>\n      <th>new_deaths</th>\n      <th>new_tests</th>\n      <th>total_tests_updated</th>\n      <th>population</th>\n      <th>population_density</th>\n      <th>median_age</th>\n      <th>date_updated</th>\n    </tr>\n  </thead>\n  <tbody>\n    <tr>\n      <th>0</th>\n      <td>ABW</td>\n      <td>North America</td>\n      <td>Aruba</td>\n      <td>2.0</td>\n      <td>2.0</td>\n      <td>0.0</td>\n      <td>0.0</td>\n      <td>0.0</td>\n      <td>0.0</td>\n      <td>106766.0</td>\n      <td>584.800</td>\n      <td>41.2</td>\n      <td>2020-03-13</td>\n    </tr>\n    <tr>\n      <th>1</th>\n      <td>ABW</td>\n      <td>North America</td>\n      <td>Aruba</td>\n      <td>2.0</td>\n      <td>0.0</td>\n      <td>0.0</td>\n      <td>0.0</td>\n      <td>0.0</td>\n      <td>0.0</td>\n      <td>106766.0</td>\n      <td>584.800</td>\n      <td>41.2</td>\n      <td>2020-03-19</td>\n    </tr>\n    <tr>\n      <th>2</th>\n      <td>ABW</td>\n      <td>North America</td>\n      <td>Aruba</td>\n      <td>4.0</td>\n      <td>2.0</td>\n      <td>0.0</td>\n      <td>0.0</td>\n      <td>0.0</td>\n      <td>0.0</td>\n      <td>106766.0</td>\n      <td>584.800</td>\n      <td>41.2</td>\n      <td>2020-03-20</td>\n    </tr>\n    <tr>\n      <th>3</th>\n      <td>ABW</td>\n      <td>North America</td>\n      <td>Aruba</td>\n      <td>4.0</td>\n      <td>0.0</td>\n      <td>0.0</td>\n      <td>0.0</td>\n      <td>0.0</td>\n      <td>0.0</td>\n      <td>106766.0</td>\n      <td>584.800</td>\n      <td>41.2</td>\n      <td>2020-03-21</td>\n    </tr>\n    <tr>\n      <th>4</th>\n      <td>ABW</td>\n      <td>North America</td>\n      <td>Aruba</td>\n      <td>4.0</td>\n      <td>0.0</td>\n      <td>0.0</td>\n      <td>0.0</td>\n      <td>0.0</td>\n      <td>0.0</td>\n      <td>106766.0</td>\n      <td>584.800</td>\n      <td>41.2</td>\n      <td>2020-03-22</td>\n    </tr>\n    <tr>\n      <th>...</th>\n      <td>...</td>\n      <td>...</td>\n      <td>...</td>\n      <td>...</td>\n      <td>...</td>\n      <td>...</td>\n      <td>...</td>\n      <td>...</td>\n      <td>...</td>\n      <td>...</td>\n      <td>...</td>\n      <td>...</td>\n      <td>...</td>\n    </tr>\n    <tr>\n      <th>40253</th>\n      <td>ZWE</td>\n      <td>Africa</td>\n      <td>Zimbabwe</td>\n      <td>6251.0</td>\n      <td>55.0</td>\n      <td>179.0</td>\n      <td>13.0</td>\n      <td>951.0</td>\n      <td>95721.0</td>\n      <td>14862927.0</td>\n      <td>42.729</td>\n      <td>19.6</td>\n      <td>2020-08-27</td>\n    </tr>\n    <tr>\n      <th>40254</th>\n      <td>ZWE</td>\n      <td>Africa</td>\n      <td>Zimbabwe</td>\n      <td>6292.0</td>\n      <td>41.0</td>\n      <td>189.0</td>\n      <td>10.0</td>\n      <td>1551.0</td>\n      <td>97272.0</td>\n      <td>14862927.0</td>\n      <td>42.729</td>\n      <td>19.6</td>\n      <td>2020-08-28</td>\n    </tr>\n    <tr>\n      <th>40255</th>\n      <td>ZWE</td>\n      <td>Africa</td>\n      <td>Zimbabwe</td>\n      <td>6388.0</td>\n      <td>96.0</td>\n      <td>195.0</td>\n      <td>6.0</td>\n      <td>0.0</td>\n      <td>97272.0</td>\n      <td>14862927.0</td>\n      <td>42.729</td>\n      <td>19.6</td>\n      <td>2020-08-29</td>\n    </tr>\n    <tr>\n      <th>40256</th>\n      <td>ZWE</td>\n      <td>Africa</td>\n      <td>Zimbabwe</td>\n      <td>6406.0</td>\n      <td>18.0</td>\n      <td>196.0</td>\n      <td>1.0</td>\n      <td>0.0</td>\n      <td>97272.0</td>\n      <td>14862927.0</td>\n      <td>42.729</td>\n      <td>19.6</td>\n      <td>2020-08-30</td>\n    </tr>\n    <tr>\n      <th>40257</th>\n      <td>ZWE</td>\n      <td>Africa</td>\n      <td>Zimbabwe</td>\n      <td>6412.0</td>\n      <td>6.0</td>\n      <td>196.0</td>\n      <td>0.0</td>\n      <td>0.0</td>\n      <td>97272.0</td>\n      <td>14862927.0</td>\n      <td>42.729</td>\n      <td>19.6</td>\n      <td>2020-08-31</td>\n    </tr>\n  </tbody>\n</table>\n<p>32277 rows × 13 columns</p>\n</div>"
     },
     "metadata": {},
     "execution_count": 107
    }
   ],
   "source": [
    "# It was discovered that for some countries there are is not any data on testing, will replace NaN with 0\n",
    "covid_stats_df['total_tests_updated'].fillna(0, inplace=True)\n",
    "covid_stats_df"
   ]
  },
  {
   "cell_type": "code",
   "execution_count": 108,
   "metadata": {},
   "outputs": [
    {
     "output_type": "execute_result",
     "data": {
      "text/plain": "      primary_key_reaction date_updated iso_code continent  location  \\\n40253        ZWE2020-08-27   2020-08-27      ZWE    Africa  Zimbabwe   \n40254        ZWE2020-08-28   2020-08-28      ZWE    Africa  Zimbabwe   \n40255        ZWE2020-08-29   2020-08-29      ZWE    Africa  Zimbabwe   \n40256        ZWE2020-08-30   2020-08-30      ZWE    Africa  Zimbabwe   \n40257        ZWE2020-08-31   2020-08-31      ZWE    Africa  Zimbabwe   \n\n       population  population_density  median_age  new_cases  \\\n40253  14862927.0              42.729        19.6       55.0   \n40254  14862927.0              42.729        19.6       41.0   \n40255  14862927.0              42.729        19.6       96.0   \n40256  14862927.0              42.729        19.6       18.0   \n40257  14862927.0              42.729        19.6        6.0   \n\n       percentage_of_Pop_New_Cases  new_deaths  percentage_of_Pop_New_Deaths  \\\n40253                     0.000370        13.0                  8.746595e-07   \n40254                     0.000276        10.0                  6.728150e-07   \n40255                     0.000646         6.0                  4.036890e-07   \n40256                     0.000121         1.0                  6.728150e-08   \n40257                     0.000040         0.0                  0.000000e+00   \n\n       new_tests  percentage_of_Pop_New_Tests  total_cases_updated  \\\n40253      951.0                     0.006398               6251.0   \n40254     1551.0                     0.010435               6292.0   \n40255        0.0                     0.000000               6388.0   \n40256        0.0                     0.000000               6406.0   \n40257        0.0                     0.000000               6412.0   \n\n       percentage_of_Pop_Total_Cases  total_deaths_updated  \\\n40253                       0.042058                 179.0   \n40254                       0.042334                 189.0   \n40255                       0.042979                 195.0   \n40256                       0.043101                 196.0   \n40257                       0.043141                 196.0   \n\n       percentage_of_Pop_Total_Deaths  total_tests_updated  \\\n40253                        0.001204              95721.0   \n40254                        0.001272              97272.0   \n40255                        0.001312              97272.0   \n40256                        0.001319              97272.0   \n40257                        0.001319              97272.0   \n\n       percentage_of_Pop_Total_Tests  \n40253                       0.644025  \n40254                       0.654461  \n40255                       0.654461  \n40256                       0.654461  \n40257                       0.654461  ",
      "text/html": "<div>\n<style scoped>\n    .dataframe tbody tr th:only-of-type {\n        vertical-align: middle;\n    }\n\n    .dataframe tbody tr th {\n        vertical-align: top;\n    }\n\n    .dataframe thead th {\n        text-align: right;\n    }\n</style>\n<table border=\"1\" class=\"dataframe\">\n  <thead>\n    <tr style=\"text-align: right;\">\n      <th></th>\n      <th>primary_key_reaction</th>\n      <th>date_updated</th>\n      <th>iso_code</th>\n      <th>continent</th>\n      <th>location</th>\n      <th>population</th>\n      <th>population_density</th>\n      <th>median_age</th>\n      <th>new_cases</th>\n      <th>percentage_of_Pop_New_Cases</th>\n      <th>new_deaths</th>\n      <th>percentage_of_Pop_New_Deaths</th>\n      <th>new_tests</th>\n      <th>percentage_of_Pop_New_Tests</th>\n      <th>total_cases_updated</th>\n      <th>percentage_of_Pop_Total_Cases</th>\n      <th>total_deaths_updated</th>\n      <th>percentage_of_Pop_Total_Deaths</th>\n      <th>total_tests_updated</th>\n      <th>percentage_of_Pop_Total_Tests</th>\n    </tr>\n  </thead>\n  <tbody>\n    <tr>\n      <th>40253</th>\n      <td>ZWE2020-08-27</td>\n      <td>2020-08-27</td>\n      <td>ZWE</td>\n      <td>Africa</td>\n      <td>Zimbabwe</td>\n      <td>14862927.0</td>\n      <td>42.729</td>\n      <td>19.6</td>\n      <td>55.0</td>\n      <td>0.000370</td>\n      <td>13.0</td>\n      <td>8.746595e-07</td>\n      <td>951.0</td>\n      <td>0.006398</td>\n      <td>6251.0</td>\n      <td>0.042058</td>\n      <td>179.0</td>\n      <td>0.001204</td>\n      <td>95721.0</td>\n      <td>0.644025</td>\n    </tr>\n    <tr>\n      <th>40254</th>\n      <td>ZWE2020-08-28</td>\n      <td>2020-08-28</td>\n      <td>ZWE</td>\n      <td>Africa</td>\n      <td>Zimbabwe</td>\n      <td>14862927.0</td>\n      <td>42.729</td>\n      <td>19.6</td>\n      <td>41.0</td>\n      <td>0.000276</td>\n      <td>10.0</td>\n      <td>6.728150e-07</td>\n      <td>1551.0</td>\n      <td>0.010435</td>\n      <td>6292.0</td>\n      <td>0.042334</td>\n      <td>189.0</td>\n      <td>0.001272</td>\n      <td>97272.0</td>\n      <td>0.654461</td>\n    </tr>\n    <tr>\n      <th>40255</th>\n      <td>ZWE2020-08-29</td>\n      <td>2020-08-29</td>\n      <td>ZWE</td>\n      <td>Africa</td>\n      <td>Zimbabwe</td>\n      <td>14862927.0</td>\n      <td>42.729</td>\n      <td>19.6</td>\n      <td>96.0</td>\n      <td>0.000646</td>\n      <td>6.0</td>\n      <td>4.036890e-07</td>\n      <td>0.0</td>\n      <td>0.000000</td>\n      <td>6388.0</td>\n      <td>0.042979</td>\n      <td>195.0</td>\n      <td>0.001312</td>\n      <td>97272.0</td>\n      <td>0.654461</td>\n    </tr>\n    <tr>\n      <th>40256</th>\n      <td>ZWE2020-08-30</td>\n      <td>2020-08-30</td>\n      <td>ZWE</td>\n      <td>Africa</td>\n      <td>Zimbabwe</td>\n      <td>14862927.0</td>\n      <td>42.729</td>\n      <td>19.6</td>\n      <td>18.0</td>\n      <td>0.000121</td>\n      <td>1.0</td>\n      <td>6.728150e-08</td>\n      <td>0.0</td>\n      <td>0.000000</td>\n      <td>6406.0</td>\n      <td>0.043101</td>\n      <td>196.0</td>\n      <td>0.001319</td>\n      <td>97272.0</td>\n      <td>0.654461</td>\n    </tr>\n    <tr>\n      <th>40257</th>\n      <td>ZWE2020-08-31</td>\n      <td>2020-08-31</td>\n      <td>ZWE</td>\n      <td>Africa</td>\n      <td>Zimbabwe</td>\n      <td>14862927.0</td>\n      <td>42.729</td>\n      <td>19.6</td>\n      <td>6.0</td>\n      <td>0.000040</td>\n      <td>0.0</td>\n      <td>0.000000e+00</td>\n      <td>0.0</td>\n      <td>0.000000</td>\n      <td>6412.0</td>\n      <td>0.043141</td>\n      <td>196.0</td>\n      <td>0.001319</td>\n      <td>97272.0</td>\n      <td>0.654461</td>\n    </tr>\n  </tbody>\n</table>\n</div>"
     },
     "metadata": {},
     "execution_count": 108
    }
   ],
   "source": [
    "# For all new and total columns\n",
    "covid_stats_df['percentage_of_Pop_New_Tests'] = (covid_stats_df['new_tests']/covid_stats_df['population'])*100\n",
    "covid_stats_df['percentage_of_Pop_Total_Tests'] = (covid_stats_df['total_tests_updated']/covid_stats_df['population'])*100\n",
    "\n",
    "covid_stats_df['percentage_of_Pop_New_Cases'] = (covid_stats_df['new_cases']/covid_stats_df['population'])*100\n",
    "covid_stats_df['percentage_of_Pop_Total_Cases'] = (covid_stats_df['total_cases_updated']/covid_stats_df['population'])*100\n",
    "\n",
    "covid_stats_df['percentage_of_Pop_New_Deaths'] = (covid_stats_df['new_deaths']/covid_stats_df['population'])\n",
    "covid_stats_df['percentage_of_Pop_Total_Deaths'] = (covid_stats_df['total_deaths_updated']/covid_stats_df['population'])*100\n",
    "\n",
    "covid_stats_df[\"primary_key_reaction\"] = covid_stats_df[\"iso_code\"] + covid_stats_df[\"date_updated\"].astype(str)\n",
    "\n",
    "covid_stats_df = covid_stats_df[['primary_key_reaction',\n",
    "                                       'date_updated',\n",
    "                                       'iso_code',\n",
    "                                       'continent',\n",
    "                                       'location',\n",
    "                                       'population',\n",
    "                                       'population_density',\n",
    "                                       'median_age',\n",
    "                                       'new_cases',\n",
    "                                       'percentage_of_Pop_New_Cases',\n",
    "                                       'new_deaths',\n",
    "                                       'percentage_of_Pop_New_Deaths',\n",
    "                                       'new_tests',\n",
    "                                       'percentage_of_Pop_New_Tests',\n",
    "                                       'total_cases_updated',\n",
    "                                       'percentage_of_Pop_Total_Cases',\n",
    "                                       'total_deaths_updated',\n",
    "                                       'percentage_of_Pop_Total_Deaths',\n",
    "                                       'total_tests_updated',\n",
    "                                       'percentage_of_Pop_Total_Tests'\n",
    "                                       ]]\n",
    "\n",
    "# Replace inf with 0 \n",
    "covid_stats_df.replace(np.inf, 0, inplace=True)\n",
    "\n",
    "covid_stats_df.tail()"
   ]
  },
  {
   "cell_type": "markdown",
   "metadata": {},
   "source": [
    "### Merge and Export"
   ]
  },
  {
   "cell_type": "code",
   "execution_count": 109,
   "metadata": {},
   "outputs": [
    {
     "output_type": "execute_result",
     "data": {
      "text/plain": "      primary_key_reaction date_updated iso_code      continent  location  \\\n0            ABW2020-03-13   2020-03-13      ABW  North America     Aruba   \n1            ABW2020-03-19   2020-03-19      ABW  North America     Aruba   \n2            ABW2020-03-20   2020-03-20      ABW  North America     Aruba   \n3            ABW2020-03-21   2020-03-21      ABW  North America     Aruba   \n4            ABW2020-03-22   2020-03-22      ABW  North America     Aruba   \n...                    ...          ...      ...            ...       ...   \n32272        ZWE2020-08-27   2020-08-27      ZWE         Africa  Zimbabwe   \n32273        ZWE2020-08-28   2020-08-28      ZWE         Africa  Zimbabwe   \n32274        ZWE2020-08-29   2020-08-29      ZWE         Africa  Zimbabwe   \n32275        ZWE2020-08-30   2020-08-30      ZWE         Africa  Zimbabwe   \n32276        ZWE2020-08-31   2020-08-31      ZWE         Africa  Zimbabwe   \n\n       population  population_density  median_age  new_cases  \\\n0        106766.0             584.800        41.2        2.0   \n1        106766.0             584.800        41.2        0.0   \n2        106766.0             584.800        41.2        2.0   \n3        106766.0             584.800        41.2        0.0   \n4        106766.0             584.800        41.2        0.0   \n...           ...                 ...         ...        ...   \n32272  14862927.0              42.729        19.6       55.0   \n32273  14862927.0              42.729        19.6       41.0   \n32274  14862927.0              42.729        19.6       96.0   \n32275  14862927.0              42.729        19.6       18.0   \n32276  14862927.0              42.729        19.6        6.0   \n\n       percentage_of_Pop_New_Cases  ...  primary_key_response  \\\n0                         0.001873  ...         ABW2020-03-13   \n1                         0.000000  ...         ABW2020-03-19   \n2                         0.001873  ...         ABW2020-03-20   \n3                         0.000000  ...         ABW2020-03-21   \n4                         0.000000  ...         ABW2020-03-22   \n...                            ...  ...                   ...   \n32272                     0.000370  ...         ZWE2020-08-27   \n32273                     0.000276  ...         ZWE2020-08-28   \n32274                     0.000646  ...         ZWE2020-08-29   \n32275                     0.000121  ...         ZWE2020-08-30   \n32276                     0.000040  ...         ZWE2020-08-31   \n\n       StringencyIndex_updated  percentage_change_stringency  \\\n0                         0.00                      0.000000   \n1                        33.33                      0.000000   \n2                        33.33                      0.000000   \n3                        44.44                     33.333333   \n4                        44.44                      0.000000   \n...                        ...                           ...   \n32272                    80.56                      0.000000   \n32273                    80.56                      0.000000   \n32274                    80.56                      0.000000   \n32275                    80.56                      0.000000   \n32276                    80.56                      0.000000   \n\n       StringencyLegacyIndex_updated  GovernmentResponseIndex_updated  \\\n0                               0.00                             2.56   \n1                              42.86                            29.49   \n2                              42.86                            29.49   \n3                              60.71                            37.18   \n4                              60.71                            37.18   \n...                              ...                              ...   \n32272                          88.10                            66.03   \n32273                          88.10                            66.03   \n32274                          88.10                            66.03   \n32275                          88.10                            66.03   \n32276                          88.10                            66.03   \n\n       percentage_change_GovernmentResponse  ContainmentHealthIndex_updated  \\\n0                                  0.000000                            3.03   \n1                                 15.015601                           34.85   \n2                                  0.000000                           34.85   \n3                                 26.076636                           43.94   \n4                                  0.000000                           43.94   \n...                                     ...                             ...   \n32272                              0.000000                           73.48   \n32273                              0.000000                           73.48   \n32274                              0.000000                           73.48   \n32275                              0.000000                           73.48   \n32276                              0.000000                           73.48   \n\n       percentage_change_ContainmentHealth  EconomicSupportIndex_updated  \\\n0                                 0.000000                           0.0   \n1                                15.016502                           0.0   \n2                                 0.000000                           0.0   \n3                                26.083214                           0.0   \n4                                 0.000000                           0.0   \n...                                    ...                           ...   \n32272                             0.000000                          25.0   \n32273                             0.000000                          25.0   \n32274                             0.000000                          25.0   \n32275                             0.000000                          25.0   \n32276                             0.000000                          25.0   \n\n       percentage_change_EconomicSupport  \n0                                    0.0  \n1                                    0.0  \n2                                    0.0  \n3                                    0.0  \n4                                    0.0  \n...                                  ...  \n32272                                0.0  \n32273                                0.0  \n32274                                0.0  \n32275                                0.0  \n32276                                0.0  \n\n[32277 rows x 30 columns]",
      "text/html": "<div>\n<style scoped>\n    .dataframe tbody tr th:only-of-type {\n        vertical-align: middle;\n    }\n\n    .dataframe tbody tr th {\n        vertical-align: top;\n    }\n\n    .dataframe thead th {\n        text-align: right;\n    }\n</style>\n<table border=\"1\" class=\"dataframe\">\n  <thead>\n    <tr style=\"text-align: right;\">\n      <th></th>\n      <th>primary_key_reaction</th>\n      <th>date_updated</th>\n      <th>iso_code</th>\n      <th>continent</th>\n      <th>location</th>\n      <th>population</th>\n      <th>population_density</th>\n      <th>median_age</th>\n      <th>new_cases</th>\n      <th>percentage_of_Pop_New_Cases</th>\n      <th>...</th>\n      <th>primary_key_response</th>\n      <th>StringencyIndex_updated</th>\n      <th>percentage_change_stringency</th>\n      <th>StringencyLegacyIndex_updated</th>\n      <th>GovernmentResponseIndex_updated</th>\n      <th>percentage_change_GovernmentResponse</th>\n      <th>ContainmentHealthIndex_updated</th>\n      <th>percentage_change_ContainmentHealth</th>\n      <th>EconomicSupportIndex_updated</th>\n      <th>percentage_change_EconomicSupport</th>\n    </tr>\n  </thead>\n  <tbody>\n    <tr>\n      <th>0</th>\n      <td>ABW2020-03-13</td>\n      <td>2020-03-13</td>\n      <td>ABW</td>\n      <td>North America</td>\n      <td>Aruba</td>\n      <td>106766.0</td>\n      <td>584.800</td>\n      <td>41.2</td>\n      <td>2.0</td>\n      <td>0.001873</td>\n      <td>...</td>\n      <td>ABW2020-03-13</td>\n      <td>0.00</td>\n      <td>0.000000</td>\n      <td>0.00</td>\n      <td>2.56</td>\n      <td>0.000000</td>\n      <td>3.03</td>\n      <td>0.000000</td>\n      <td>0.0</td>\n      <td>0.0</td>\n    </tr>\n    <tr>\n      <th>1</th>\n      <td>ABW2020-03-19</td>\n      <td>2020-03-19</td>\n      <td>ABW</td>\n      <td>North America</td>\n      <td>Aruba</td>\n      <td>106766.0</td>\n      <td>584.800</td>\n      <td>41.2</td>\n      <td>0.0</td>\n      <td>0.000000</td>\n      <td>...</td>\n      <td>ABW2020-03-19</td>\n      <td>33.33</td>\n      <td>0.000000</td>\n      <td>42.86</td>\n      <td>29.49</td>\n      <td>15.015601</td>\n      <td>34.85</td>\n      <td>15.016502</td>\n      <td>0.0</td>\n      <td>0.0</td>\n    </tr>\n    <tr>\n      <th>2</th>\n      <td>ABW2020-03-20</td>\n      <td>2020-03-20</td>\n      <td>ABW</td>\n      <td>North America</td>\n      <td>Aruba</td>\n      <td>106766.0</td>\n      <td>584.800</td>\n      <td>41.2</td>\n      <td>2.0</td>\n      <td>0.001873</td>\n      <td>...</td>\n      <td>ABW2020-03-20</td>\n      <td>33.33</td>\n      <td>0.000000</td>\n      <td>42.86</td>\n      <td>29.49</td>\n      <td>0.000000</td>\n      <td>34.85</td>\n      <td>0.000000</td>\n      <td>0.0</td>\n      <td>0.0</td>\n    </tr>\n    <tr>\n      <th>3</th>\n      <td>ABW2020-03-21</td>\n      <td>2020-03-21</td>\n      <td>ABW</td>\n      <td>North America</td>\n      <td>Aruba</td>\n      <td>106766.0</td>\n      <td>584.800</td>\n      <td>41.2</td>\n      <td>0.0</td>\n      <td>0.000000</td>\n      <td>...</td>\n      <td>ABW2020-03-21</td>\n      <td>44.44</td>\n      <td>33.333333</td>\n      <td>60.71</td>\n      <td>37.18</td>\n      <td>26.076636</td>\n      <td>43.94</td>\n      <td>26.083214</td>\n      <td>0.0</td>\n      <td>0.0</td>\n    </tr>\n    <tr>\n      <th>4</th>\n      <td>ABW2020-03-22</td>\n      <td>2020-03-22</td>\n      <td>ABW</td>\n      <td>North America</td>\n      <td>Aruba</td>\n      <td>106766.0</td>\n      <td>584.800</td>\n      <td>41.2</td>\n      <td>0.0</td>\n      <td>0.000000</td>\n      <td>...</td>\n      <td>ABW2020-03-22</td>\n      <td>44.44</td>\n      <td>0.000000</td>\n      <td>60.71</td>\n      <td>37.18</td>\n      <td>0.000000</td>\n      <td>43.94</td>\n      <td>0.000000</td>\n      <td>0.0</td>\n      <td>0.0</td>\n    </tr>\n    <tr>\n      <th>...</th>\n      <td>...</td>\n      <td>...</td>\n      <td>...</td>\n      <td>...</td>\n      <td>...</td>\n      <td>...</td>\n      <td>...</td>\n      <td>...</td>\n      <td>...</td>\n      <td>...</td>\n      <td>...</td>\n      <td>...</td>\n      <td>...</td>\n      <td>...</td>\n      <td>...</td>\n      <td>...</td>\n      <td>...</td>\n      <td>...</td>\n      <td>...</td>\n      <td>...</td>\n      <td>...</td>\n    </tr>\n    <tr>\n      <th>32272</th>\n      <td>ZWE2020-08-27</td>\n      <td>2020-08-27</td>\n      <td>ZWE</td>\n      <td>Africa</td>\n      <td>Zimbabwe</td>\n      <td>14862927.0</td>\n      <td>42.729</td>\n      <td>19.6</td>\n      <td>55.0</td>\n      <td>0.000370</td>\n      <td>...</td>\n      <td>ZWE2020-08-27</td>\n      <td>80.56</td>\n      <td>0.000000</td>\n      <td>88.10</td>\n      <td>66.03</td>\n      <td>0.000000</td>\n      <td>73.48</td>\n      <td>0.000000</td>\n      <td>25.0</td>\n      <td>0.0</td>\n    </tr>\n    <tr>\n      <th>32273</th>\n      <td>ZWE2020-08-28</td>\n      <td>2020-08-28</td>\n      <td>ZWE</td>\n      <td>Africa</td>\n      <td>Zimbabwe</td>\n      <td>14862927.0</td>\n      <td>42.729</td>\n      <td>19.6</td>\n      <td>41.0</td>\n      <td>0.000276</td>\n      <td>...</td>\n      <td>ZWE2020-08-28</td>\n      <td>80.56</td>\n      <td>0.000000</td>\n      <td>88.10</td>\n      <td>66.03</td>\n      <td>0.000000</td>\n      <td>73.48</td>\n      <td>0.000000</td>\n      <td>25.0</td>\n      <td>0.0</td>\n    </tr>\n    <tr>\n      <th>32274</th>\n      <td>ZWE2020-08-29</td>\n      <td>2020-08-29</td>\n      <td>ZWE</td>\n      <td>Africa</td>\n      <td>Zimbabwe</td>\n      <td>14862927.0</td>\n      <td>42.729</td>\n      <td>19.6</td>\n      <td>96.0</td>\n      <td>0.000646</td>\n      <td>...</td>\n      <td>ZWE2020-08-29</td>\n      <td>80.56</td>\n      <td>0.000000</td>\n      <td>88.10</td>\n      <td>66.03</td>\n      <td>0.000000</td>\n      <td>73.48</td>\n      <td>0.000000</td>\n      <td>25.0</td>\n      <td>0.0</td>\n    </tr>\n    <tr>\n      <th>32275</th>\n      <td>ZWE2020-08-30</td>\n      <td>2020-08-30</td>\n      <td>ZWE</td>\n      <td>Africa</td>\n      <td>Zimbabwe</td>\n      <td>14862927.0</td>\n      <td>42.729</td>\n      <td>19.6</td>\n      <td>18.0</td>\n      <td>0.000121</td>\n      <td>...</td>\n      <td>ZWE2020-08-30</td>\n      <td>80.56</td>\n      <td>0.000000</td>\n      <td>88.10</td>\n      <td>66.03</td>\n      <td>0.000000</td>\n      <td>73.48</td>\n      <td>0.000000</td>\n      <td>25.0</td>\n      <td>0.0</td>\n    </tr>\n    <tr>\n      <th>32276</th>\n      <td>ZWE2020-08-31</td>\n      <td>2020-08-31</td>\n      <td>ZWE</td>\n      <td>Africa</td>\n      <td>Zimbabwe</td>\n      <td>14862927.0</td>\n      <td>42.729</td>\n      <td>19.6</td>\n      <td>6.0</td>\n      <td>0.000040</td>\n      <td>...</td>\n      <td>ZWE2020-08-31</td>\n      <td>80.56</td>\n      <td>0.000000</td>\n      <td>88.10</td>\n      <td>66.03</td>\n      <td>0.000000</td>\n      <td>73.48</td>\n      <td>0.000000</td>\n      <td>25.0</td>\n      <td>0.0</td>\n    </tr>\n  </tbody>\n</table>\n<p>32277 rows × 30 columns</p>\n</div>"
     },
     "metadata": {},
     "execution_count": 109
    }
   ],
   "source": [
    "# Merge both DataFrames, drop redundant columns\n",
    "merged_covid_df = pd.merge(covid_stats_df,government_regulation_df, how=\"inner\", left_on=['primary_key_reaction'], right_on=['primary_key_response'])\n",
    "merged_covid_df.drop(['Date_updated','CountryName','CountryCode'],axis=1,inplace=True)\n",
    "merged_covid_df"
   ]
  },
  {
   "cell_type": "code",
   "execution_count": 110,
   "metadata": {},
   "outputs": [],
   "source": [
    "# Export all three DataFrames to .csv\n",
    "merged_covid_df.to_csv('../Resources/merged_covid_FINAL.csv', index=False)\n",
    "covid_stats_df.to_csv('../Resources/covid_stats_FINAL.csv', index=False)\n",
    "government_regulation_df.to_csv('../Resources/government_regulation_FINAL.csv', index=False)"
   ]
  },
  {
   "cell_type": "markdown",
   "metadata": {},
   "source": [
    "### the end :)"
   ]
  }
 ],
 "metadata": {
  "kernelspec": {
   "display_name": "mlenv2",
   "language": "python",
   "name": "mlenv2"
  },
  "language_info": {
   "codemirror_mode": {
    "name": "ipython",
    "version": 3
   },
   "file_extension": ".py",
   "mimetype": "text/x-python",
   "name": "python",
   "nbconvert_exporter": "python",
   "pygments_lexer": "ipython3",
   "version": "3.7.7-final"
  }
 },
 "nbformat": 4,
 "nbformat_minor": 4
}