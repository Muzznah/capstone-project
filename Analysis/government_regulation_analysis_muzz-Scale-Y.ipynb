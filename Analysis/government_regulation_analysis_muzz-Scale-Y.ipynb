{
 "cells": [
  {
   "cell_type": "code",
   "execution_count": 368,
   "metadata": {},
   "outputs": [],
   "source": [
    "# import dependencies\n",
    "from path import Path\n",
    "import pandas as pd\n",
    "import numpy as np\n",
    "from sklearn.model_selection import train_test_split\n",
    "from sklearn.preprocessing import StandardScaler,OneHotEncoder\n",
    "import pandas as pd\n",
    "from matplotlib import pyplot as plt\n",
    "from tensorflow.keras.models import Sequential\n",
    "from tensorflow.keras.layers import Dense\n",
    "from sklearn.metrics import r2_score\n",
    "import datetime\n",
    "\n",
    "%matplotlib inline"
   ]
  },
  {
   "cell_type": "code",
   "execution_count": 369,
   "metadata": {},
   "outputs": [],
   "source": [
    "# load in the files\n",
    "file = Path(\"../resources/merged_covid.csv\")\n",
    "file1= Path(\"../resources/government_regulation.csv\")\n",
    "file2= Path(\"../resources/covid_stats.csv\")\n",
    "file3= Path(\"../resources/merged_covid_stats_population.csv\")\n",
    "\n",
    "# read the files\n",
    "df= pd.read_csv(file)\n",
    "df_gov=pd.read_csv(file1)\n",
    "df_st=pd.read_csv(file2)\n",
    "df_pop=pd.read_csv(file3)\n"
   ]
  },
  {
   "cell_type": "code",
   "execution_count": 370,
   "metadata": {
    "tags": []
   },
   "outputs": [
    {
     "output_type": "stream",
     "name": "stdout",
     "text": "date_updated                        object\niso_code                            object\ncontinent                           object\nlocation                            object\nnew_cases                          float64\nnew_deaths                         float64\nnew_tests                          float64\ntotal_cases_updated                float64\ntotal_deaths_updated               float64\ntotal_tests_updated                float64\nStringencyIndex_updated            float64\nStringencyLegacyIndex_updated      float64\nGovernmentResponseIndex_updated    float64\nContainmentHealthIndex_updated     float64\nEconomicSupportIndex_updated       float64\ndtype: object\n(34927, 15)\n"
    },
    {
     "output_type": "execute_result",
     "data": {
      "text/plain": "  date_updated iso_code      continent location  new_cases  new_deaths  \\\n0   2020-03-13      ABW  North America    Aruba        2.0         0.0   \n1   2020-03-19      ABW  North America    Aruba        0.0         0.0   \n2   2020-03-20      ABW  North America    Aruba        2.0         0.0   \n3   2020-03-21      ABW  North America    Aruba        0.0         0.0   \n4   2020-03-22      ABW  North America    Aruba        0.0         0.0   \n\n   new_tests  total_cases_updated  total_deaths_updated  total_tests_updated  \\\n0        0.0                  2.0                   0.0                  0.0   \n1        0.0                  2.0                   0.0                  0.0   \n2        0.0                  4.0                   0.0                  0.0   \n3        0.0                  4.0                   0.0                  0.0   \n4        0.0                  4.0                   0.0                  0.0   \n\n   StringencyIndex_updated  StringencyLegacyIndex_updated  \\\n0                     0.00                           0.00   \n1                    33.33                          42.86   \n2                    33.33                          42.86   \n3                    44.44                          60.71   \n4                    44.44                          60.71   \n\n   GovernmentResponseIndex_updated  ContainmentHealthIndex_updated  \\\n0                             2.56                            3.03   \n1                            29.49                           34.85   \n2                            29.49                           34.85   \n3                            37.18                           43.94   \n4                            37.18                           43.94   \n\n   EconomicSupportIndex_updated  \n0                           0.0  \n1                           0.0  \n2                           0.0  \n3                           0.0  \n4                           0.0  ",
      "text/html": "<div>\n<style scoped>\n    .dataframe tbody tr th:only-of-type {\n        vertical-align: middle;\n    }\n\n    .dataframe tbody tr th {\n        vertical-align: top;\n    }\n\n    .dataframe thead th {\n        text-align: right;\n    }\n</style>\n<table border=\"1\" class=\"dataframe\">\n  <thead>\n    <tr style=\"text-align: right;\">\n      <th></th>\n      <th>date_updated</th>\n      <th>iso_code</th>\n      <th>continent</th>\n      <th>location</th>\n      <th>new_cases</th>\n      <th>new_deaths</th>\n      <th>new_tests</th>\n      <th>total_cases_updated</th>\n      <th>total_deaths_updated</th>\n      <th>total_tests_updated</th>\n      <th>StringencyIndex_updated</th>\n      <th>StringencyLegacyIndex_updated</th>\n      <th>GovernmentResponseIndex_updated</th>\n      <th>ContainmentHealthIndex_updated</th>\n      <th>EconomicSupportIndex_updated</th>\n    </tr>\n  </thead>\n  <tbody>\n    <tr>\n      <th>0</th>\n      <td>2020-03-13</td>\n      <td>ABW</td>\n      <td>North America</td>\n      <td>Aruba</td>\n      <td>2.0</td>\n      <td>0.0</td>\n      <td>0.0</td>\n      <td>2.0</td>\n      <td>0.0</td>\n      <td>0.0</td>\n      <td>0.00</td>\n      <td>0.00</td>\n      <td>2.56</td>\n      <td>3.03</td>\n      <td>0.0</td>\n    </tr>\n    <tr>\n      <th>1</th>\n      <td>2020-03-19</td>\n      <td>ABW</td>\n      <td>North America</td>\n      <td>Aruba</td>\n      <td>0.0</td>\n      <td>0.0</td>\n      <td>0.0</td>\n      <td>2.0</td>\n      <td>0.0</td>\n      <td>0.0</td>\n      <td>33.33</td>\n      <td>42.86</td>\n      <td>29.49</td>\n      <td>34.85</td>\n      <td>0.0</td>\n    </tr>\n    <tr>\n      <th>2</th>\n      <td>2020-03-20</td>\n      <td>ABW</td>\n      <td>North America</td>\n      <td>Aruba</td>\n      <td>2.0</td>\n      <td>0.0</td>\n      <td>0.0</td>\n      <td>4.0</td>\n      <td>0.0</td>\n      <td>0.0</td>\n      <td>33.33</td>\n      <td>42.86</td>\n      <td>29.49</td>\n      <td>34.85</td>\n      <td>0.0</td>\n    </tr>\n    <tr>\n      <th>3</th>\n      <td>2020-03-21</td>\n      <td>ABW</td>\n      <td>North America</td>\n      <td>Aruba</td>\n      <td>0.0</td>\n      <td>0.0</td>\n      <td>0.0</td>\n      <td>4.0</td>\n      <td>0.0</td>\n      <td>0.0</td>\n      <td>44.44</td>\n      <td>60.71</td>\n      <td>37.18</td>\n      <td>43.94</td>\n      <td>0.0</td>\n    </tr>\n    <tr>\n      <th>4</th>\n      <td>2020-03-22</td>\n      <td>ABW</td>\n      <td>North America</td>\n      <td>Aruba</td>\n      <td>0.0</td>\n      <td>0.0</td>\n      <td>0.0</td>\n      <td>4.0</td>\n      <td>0.0</td>\n      <td>0.0</td>\n      <td>44.44</td>\n      <td>60.71</td>\n      <td>37.18</td>\n      <td>43.94</td>\n      <td>0.0</td>\n    </tr>\n  </tbody>\n</table>\n</div>"
     },
     "metadata": {},
     "execution_count": 370
    }
   ],
   "source": [
    "# Check merged_covid.csv\n",
    "print(df.dtypes)\n",
    "print(df.shape)\n",
    "\n",
    "# Display df\n",
    "df.head()"
   ]
  },
  {
   "cell_type": "code",
   "execution_count": 371,
   "metadata": {
    "tags": []
   },
   "outputs": [
    {
     "output_type": "stream",
     "name": "stdout",
     "text": "(43676, 8)\nDate_updated                        object\nCountryName                         object\nCountryCode                         object\nStringencyIndex_updated            float64\nStringencyLegacyIndex_updated      float64\nGovernmentResponseIndex_updated    float64\nContainmentHealthIndex_updated     float64\nEconomicSupportIndex_updated       float64\ndtype: object\n"
    },
    {
     "output_type": "execute_result",
     "data": {
      "text/plain": "  Date_updated CountryName CountryCode  StringencyIndex_updated  \\\n0   2020-01-01       Aruba         ABW                      0.0   \n1   2020-01-02       Aruba         ABW                      0.0   \n2   2020-01-03       Aruba         ABW                      0.0   \n3   2020-01-04       Aruba         ABW                      0.0   \n4   2020-01-05       Aruba         ABW                      0.0   \n\n   StringencyLegacyIndex_updated  GovernmentResponseIndex_updated  \\\n0                            0.0                              0.0   \n1                            0.0                              0.0   \n2                            0.0                              0.0   \n3                            0.0                              0.0   \n4                            0.0                              0.0   \n\n   ContainmentHealthIndex_updated  EconomicSupportIndex_updated  \n0                             0.0                           0.0  \n1                             0.0                           0.0  \n2                             0.0                           0.0  \n3                             0.0                           0.0  \n4                             0.0                           0.0  ",
      "text/html": "<div>\n<style scoped>\n    .dataframe tbody tr th:only-of-type {\n        vertical-align: middle;\n    }\n\n    .dataframe tbody tr th {\n        vertical-align: top;\n    }\n\n    .dataframe thead th {\n        text-align: right;\n    }\n</style>\n<table border=\"1\" class=\"dataframe\">\n  <thead>\n    <tr style=\"text-align: right;\">\n      <th></th>\n      <th>Date_updated</th>\n      <th>CountryName</th>\n      <th>CountryCode</th>\n      <th>StringencyIndex_updated</th>\n      <th>StringencyLegacyIndex_updated</th>\n      <th>GovernmentResponseIndex_updated</th>\n      <th>ContainmentHealthIndex_updated</th>\n      <th>EconomicSupportIndex_updated</th>\n    </tr>\n  </thead>\n  <tbody>\n    <tr>\n      <th>0</th>\n      <td>2020-01-01</td>\n      <td>Aruba</td>\n      <td>ABW</td>\n      <td>0.0</td>\n      <td>0.0</td>\n      <td>0.0</td>\n      <td>0.0</td>\n      <td>0.0</td>\n    </tr>\n    <tr>\n      <th>1</th>\n      <td>2020-01-02</td>\n      <td>Aruba</td>\n      <td>ABW</td>\n      <td>0.0</td>\n      <td>0.0</td>\n      <td>0.0</td>\n      <td>0.0</td>\n      <td>0.0</td>\n    </tr>\n    <tr>\n      <th>2</th>\n      <td>2020-01-03</td>\n      <td>Aruba</td>\n      <td>ABW</td>\n      <td>0.0</td>\n      <td>0.0</td>\n      <td>0.0</td>\n      <td>0.0</td>\n      <td>0.0</td>\n    </tr>\n    <tr>\n      <th>3</th>\n      <td>2020-01-04</td>\n      <td>Aruba</td>\n      <td>ABW</td>\n      <td>0.0</td>\n      <td>0.0</td>\n      <td>0.0</td>\n      <td>0.0</td>\n      <td>0.0</td>\n    </tr>\n    <tr>\n      <th>4</th>\n      <td>2020-01-05</td>\n      <td>Aruba</td>\n      <td>ABW</td>\n      <td>0.0</td>\n      <td>0.0</td>\n      <td>0.0</td>\n      <td>0.0</td>\n      <td>0.0</td>\n    </tr>\n  </tbody>\n</table>\n</div>"
     },
     "metadata": {},
     "execution_count": 371
    }
   ],
   "source": [
    "# Check df_gov\n",
    "print(df_gov.shape)\n",
    "print(df_gov.dtypes)\n",
    "\n",
    "# Display df\n",
    "df_gov.head()\n",
    "\n"
   ]
  },
  {
   "cell_type": "code",
   "execution_count": 372,
   "metadata": {
    "tags": []
   },
   "outputs": [
    {
     "output_type": "stream",
     "name": "stdout",
     "text": "(34927, 10)\ndate_updated             object\niso_code                 object\ncontinent                object\nlocation                 object\nnew_cases               float64\nnew_deaths              float64\nnew_tests               float64\ntotal_cases_updated     float64\ntotal_deaths_updated    float64\ntotal_tests_updated     float64\ndtype: object\n"
    },
    {
     "output_type": "execute_result",
     "data": {
      "text/plain": "  date_updated iso_code      continent location  new_cases  new_deaths  \\\n0   2020-03-13      ABW  North America    Aruba        2.0         0.0   \n1   2020-03-19      ABW  North America    Aruba        0.0         0.0   \n2   2020-03-20      ABW  North America    Aruba        2.0         0.0   \n3   2020-03-21      ABW  North America    Aruba        0.0         0.0   \n4   2020-03-22      ABW  North America    Aruba        0.0         0.0   \n\n   new_tests  total_cases_updated  total_deaths_updated  total_tests_updated  \n0        0.0                  2.0                   0.0                  0.0  \n1        0.0                  2.0                   0.0                  0.0  \n2        0.0                  4.0                   0.0                  0.0  \n3        0.0                  4.0                   0.0                  0.0  \n4        0.0                  4.0                   0.0                  0.0  ",
      "text/html": "<div>\n<style scoped>\n    .dataframe tbody tr th:only-of-type {\n        vertical-align: middle;\n    }\n\n    .dataframe tbody tr th {\n        vertical-align: top;\n    }\n\n    .dataframe thead th {\n        text-align: right;\n    }\n</style>\n<table border=\"1\" class=\"dataframe\">\n  <thead>\n    <tr style=\"text-align: right;\">\n      <th></th>\n      <th>date_updated</th>\n      <th>iso_code</th>\n      <th>continent</th>\n      <th>location</th>\n      <th>new_cases</th>\n      <th>new_deaths</th>\n      <th>new_tests</th>\n      <th>total_cases_updated</th>\n      <th>total_deaths_updated</th>\n      <th>total_tests_updated</th>\n    </tr>\n  </thead>\n  <tbody>\n    <tr>\n      <th>0</th>\n      <td>2020-03-13</td>\n      <td>ABW</td>\n      <td>North America</td>\n      <td>Aruba</td>\n      <td>2.0</td>\n      <td>0.0</td>\n      <td>0.0</td>\n      <td>2.0</td>\n      <td>0.0</td>\n      <td>0.0</td>\n    </tr>\n    <tr>\n      <th>1</th>\n      <td>2020-03-19</td>\n      <td>ABW</td>\n      <td>North America</td>\n      <td>Aruba</td>\n      <td>0.0</td>\n      <td>0.0</td>\n      <td>0.0</td>\n      <td>2.0</td>\n      <td>0.0</td>\n      <td>0.0</td>\n    </tr>\n    <tr>\n      <th>2</th>\n      <td>2020-03-20</td>\n      <td>ABW</td>\n      <td>North America</td>\n      <td>Aruba</td>\n      <td>2.0</td>\n      <td>0.0</td>\n      <td>0.0</td>\n      <td>4.0</td>\n      <td>0.0</td>\n      <td>0.0</td>\n    </tr>\n    <tr>\n      <th>3</th>\n      <td>2020-03-21</td>\n      <td>ABW</td>\n      <td>North America</td>\n      <td>Aruba</td>\n      <td>0.0</td>\n      <td>0.0</td>\n      <td>0.0</td>\n      <td>4.0</td>\n      <td>0.0</td>\n      <td>0.0</td>\n    </tr>\n    <tr>\n      <th>4</th>\n      <td>2020-03-22</td>\n      <td>ABW</td>\n      <td>North America</td>\n      <td>Aruba</td>\n      <td>0.0</td>\n      <td>0.0</td>\n      <td>0.0</td>\n      <td>4.0</td>\n      <td>0.0</td>\n      <td>0.0</td>\n    </tr>\n  </tbody>\n</table>\n</div>"
     },
     "metadata": {},
     "execution_count": 372
    }
   ],
   "source": [
    "# Check df_gov\n",
    "print(df_st.shape)\n",
    "print(df_st.dtypes)\n",
    "\n",
    "# Display df\n",
    "df_st.head()"
   ]
  },
  {
   "cell_type": "code",
   "execution_count": 373,
   "metadata": {},
   "outputs": [
    {
     "output_type": "execute_result",
     "data": {
      "text/plain": "          new_cases    new_deaths     new_tests  total_cases_updated  \\\ncount  34927.000000  34927.000000  3.492700e+04         3.473700e+04   \nmean     720.074985     24.177484  7.846371e+03         4.411066e+04   \nstd     4196.769148    133.441729  5.085007e+04         2.614812e+05   \nmin    -2461.000000  -1918.000000 -3.743000e+03         0.000000e+00   \n25%        0.000000      0.000000  0.000000e+00         4.600000e+01   \n50%       12.000000      0.000000  0.000000e+00         1.060000e+03   \n75%      178.500000      3.000000  1.463500e+03         1.065300e+04   \nmax    78761.000000   4928.000000  1.194086e+06         5.997163e+06   \n\n       total_deaths_updated  total_tests_updated  StringencyIndex_updated  \\\ncount          34737.000000         3.492700e+04             34188.000000   \nmean            1972.060829         5.356132e+05                57.641774   \nstd            10168.166866         3.373260e+06                28.011408   \nmin                0.000000         0.000000e+00                 0.000000   \n25%                0.000000         0.000000e+00                38.890000   \n50%               21.000000         0.000000e+00                64.350000   \n75%              233.000000         1.312215e+05                79.630000   \nmax           183069.000000         8.389842e+07               100.000000   \n\n       StringencyLegacyIndex_updated  GovernmentResponseIndex_updated  \\\ncount                   34188.000000                     34067.000000   \nmean                       63.675131                        55.159871   \nstd                        28.357922                        23.983890   \nmin                         0.000000                         0.000000   \n25%                        48.810000                        44.870000   \n50%                        71.430000                        61.540000   \n75%                        84.520000                        72.760000   \nmax                       100.000000                        96.150000   \n\n       ContainmentHealthIndex_updated  EconomicSupportIndex_updated  \ncount                    34188.000000                  33247.000000  \nmean                        57.948158                     40.388982  \nstd                         25.328905                     32.512515  \nmin                          0.000000                      0.000000  \n25%                         44.700000                      0.000000  \n50%                         64.390000                     50.000000  \n75%                         77.270000                     75.000000  \nmax                        100.000000                    100.000000  ",
      "text/html": "<div>\n<style scoped>\n    .dataframe tbody tr th:only-of-type {\n        vertical-align: middle;\n    }\n\n    .dataframe tbody tr th {\n        vertical-align: top;\n    }\n\n    .dataframe thead th {\n        text-align: right;\n    }\n</style>\n<table border=\"1\" class=\"dataframe\">\n  <thead>\n    <tr style=\"text-align: right;\">\n      <th></th>\n      <th>new_cases</th>\n      <th>new_deaths</th>\n      <th>new_tests</th>\n      <th>total_cases_updated</th>\n      <th>total_deaths_updated</th>\n      <th>total_tests_updated</th>\n      <th>StringencyIndex_updated</th>\n      <th>StringencyLegacyIndex_updated</th>\n      <th>GovernmentResponseIndex_updated</th>\n      <th>ContainmentHealthIndex_updated</th>\n      <th>EconomicSupportIndex_updated</th>\n    </tr>\n  </thead>\n  <tbody>\n    <tr>\n      <th>count</th>\n      <td>34927.000000</td>\n      <td>34927.000000</td>\n      <td>3.492700e+04</td>\n      <td>3.473700e+04</td>\n      <td>34737.000000</td>\n      <td>3.492700e+04</td>\n      <td>34188.000000</td>\n      <td>34188.000000</td>\n      <td>34067.000000</td>\n      <td>34188.000000</td>\n      <td>33247.000000</td>\n    </tr>\n    <tr>\n      <th>mean</th>\n      <td>720.074985</td>\n      <td>24.177484</td>\n      <td>7.846371e+03</td>\n      <td>4.411066e+04</td>\n      <td>1972.060829</td>\n      <td>5.356132e+05</td>\n      <td>57.641774</td>\n      <td>63.675131</td>\n      <td>55.159871</td>\n      <td>57.948158</td>\n      <td>40.388982</td>\n    </tr>\n    <tr>\n      <th>std</th>\n      <td>4196.769148</td>\n      <td>133.441729</td>\n      <td>5.085007e+04</td>\n      <td>2.614812e+05</td>\n      <td>10168.166866</td>\n      <td>3.373260e+06</td>\n      <td>28.011408</td>\n      <td>28.357922</td>\n      <td>23.983890</td>\n      <td>25.328905</td>\n      <td>32.512515</td>\n    </tr>\n    <tr>\n      <th>min</th>\n      <td>-2461.000000</td>\n      <td>-1918.000000</td>\n      <td>-3.743000e+03</td>\n      <td>0.000000e+00</td>\n      <td>0.000000</td>\n      <td>0.000000e+00</td>\n      <td>0.000000</td>\n      <td>0.000000</td>\n      <td>0.000000</td>\n      <td>0.000000</td>\n      <td>0.000000</td>\n    </tr>\n    <tr>\n      <th>25%</th>\n      <td>0.000000</td>\n      <td>0.000000</td>\n      <td>0.000000e+00</td>\n      <td>4.600000e+01</td>\n      <td>0.000000</td>\n      <td>0.000000e+00</td>\n      <td>38.890000</td>\n      <td>48.810000</td>\n      <td>44.870000</td>\n      <td>44.700000</td>\n      <td>0.000000</td>\n    </tr>\n    <tr>\n      <th>50%</th>\n      <td>12.000000</td>\n      <td>0.000000</td>\n      <td>0.000000e+00</td>\n      <td>1.060000e+03</td>\n      <td>21.000000</td>\n      <td>0.000000e+00</td>\n      <td>64.350000</td>\n      <td>71.430000</td>\n      <td>61.540000</td>\n      <td>64.390000</td>\n      <td>50.000000</td>\n    </tr>\n    <tr>\n      <th>75%</th>\n      <td>178.500000</td>\n      <td>3.000000</td>\n      <td>1.463500e+03</td>\n      <td>1.065300e+04</td>\n      <td>233.000000</td>\n      <td>1.312215e+05</td>\n      <td>79.630000</td>\n      <td>84.520000</td>\n      <td>72.760000</td>\n      <td>77.270000</td>\n      <td>75.000000</td>\n    </tr>\n    <tr>\n      <th>max</th>\n      <td>78761.000000</td>\n      <td>4928.000000</td>\n      <td>1.194086e+06</td>\n      <td>5.997163e+06</td>\n      <td>183069.000000</td>\n      <td>8.389842e+07</td>\n      <td>100.000000</td>\n      <td>100.000000</td>\n      <td>96.150000</td>\n      <td>100.000000</td>\n      <td>100.000000</td>\n    </tr>\n  </tbody>\n</table>\n</div>"
     },
     "metadata": {},
     "execution_count": 373
    }
   ],
   "source": [
    "# check merged df for null values.\n",
    "df.describe()"
   ]
  },
  {
   "cell_type": "code",
   "execution_count": 374,
   "metadata": {},
   "outputs": [],
   "source": [
    "# drop all rows where new_cases and new_deaths is a negative number\n",
    "df = df[~((df[\"new_cases\"] < 0) | (df[\"new_deaths\"]<0) | (df[\"new_tests\"]<0))]"
   ]
  },
  {
   "cell_type": "code",
   "execution_count": 375,
   "metadata": {},
   "outputs": [
    {
     "output_type": "execute_result",
     "data": {
      "text/plain": "          new_cases    new_deaths     new_tests  total_cases_updated  \\\ncount  34902.000000  34902.000000  3.490200e+04         3.471200e+04   \nmean     720.646725     24.230388  7.848588e+03         4.409459e+04   \nstd     4198.138534    133.026431  5.086732e+04         2.615616e+05   \nmin        0.000000      0.000000  0.000000e+00         0.000000e+00   \n25%        0.000000      0.000000  0.000000e+00         4.500000e+01   \n50%       12.000000      0.000000  0.000000e+00         1.058500e+03   \n75%      178.750000      3.000000  1.461000e+03         1.063025e+04   \nmax    78761.000000   4928.000000  1.194086e+06         5.997163e+06   \n\n       total_deaths_updated  total_tests_updated  StringencyIndex_updated  \\\ncount          34712.000000         3.490200e+04             34164.000000   \nmean            1968.086281         5.355082e+05                57.633590   \nstd            10165.357927         3.374299e+06                28.015091   \nmin                0.000000         0.000000e+00                 0.000000   \n25%                0.000000         0.000000e+00                38.890000   \n50%               21.000000         0.000000e+00                64.350000   \n75%              232.000000         1.312210e+05                79.630000   \nmax           183069.000000         8.389842e+07               100.000000   \n\n       StringencyLegacyIndex_updated  GovernmentResponseIndex_updated  \\\ncount                   34164.000000                     34043.000000   \nmean                       63.666714                        55.149782   \nstd                        28.362819                        23.987100   \nmin                         0.000000                         0.000000   \n25%                        48.810000                        44.870000   \n50%                        71.430000                        61.540000   \n75%                        84.520000                        72.760000   \nmax                       100.000000                        96.150000   \n\n       ContainmentHealthIndex_updated  EconomicSupportIndex_updated  \ncount                    34164.000000                  33223.000000  \nmean                        57.939638                     40.370376  \nstd                         25.333127                     32.511172  \nmin                          0.000000                      0.000000  \n25%                         44.700000                      0.000000  \n50%                         64.390000                     50.000000  \n75%                         77.270000                     75.000000  \nmax                        100.000000                    100.000000  ",
      "text/html": "<div>\n<style scoped>\n    .dataframe tbody tr th:only-of-type {\n        vertical-align: middle;\n    }\n\n    .dataframe tbody tr th {\n        vertical-align: top;\n    }\n\n    .dataframe thead th {\n        text-align: right;\n    }\n</style>\n<table border=\"1\" class=\"dataframe\">\n  <thead>\n    <tr style=\"text-align: right;\">\n      <th></th>\n      <th>new_cases</th>\n      <th>new_deaths</th>\n      <th>new_tests</th>\n      <th>total_cases_updated</th>\n      <th>total_deaths_updated</th>\n      <th>total_tests_updated</th>\n      <th>StringencyIndex_updated</th>\n      <th>StringencyLegacyIndex_updated</th>\n      <th>GovernmentResponseIndex_updated</th>\n      <th>ContainmentHealthIndex_updated</th>\n      <th>EconomicSupportIndex_updated</th>\n    </tr>\n  </thead>\n  <tbody>\n    <tr>\n      <th>count</th>\n      <td>34902.000000</td>\n      <td>34902.000000</td>\n      <td>3.490200e+04</td>\n      <td>3.471200e+04</td>\n      <td>34712.000000</td>\n      <td>3.490200e+04</td>\n      <td>34164.000000</td>\n      <td>34164.000000</td>\n      <td>34043.000000</td>\n      <td>34164.000000</td>\n      <td>33223.000000</td>\n    </tr>\n    <tr>\n      <th>mean</th>\n      <td>720.646725</td>\n      <td>24.230388</td>\n      <td>7.848588e+03</td>\n      <td>4.409459e+04</td>\n      <td>1968.086281</td>\n      <td>5.355082e+05</td>\n      <td>57.633590</td>\n      <td>63.666714</td>\n      <td>55.149782</td>\n      <td>57.939638</td>\n      <td>40.370376</td>\n    </tr>\n    <tr>\n      <th>std</th>\n      <td>4198.138534</td>\n      <td>133.026431</td>\n      <td>5.086732e+04</td>\n      <td>2.615616e+05</td>\n      <td>10165.357927</td>\n      <td>3.374299e+06</td>\n      <td>28.015091</td>\n      <td>28.362819</td>\n      <td>23.987100</td>\n      <td>25.333127</td>\n      <td>32.511172</td>\n    </tr>\n    <tr>\n      <th>min</th>\n      <td>0.000000</td>\n      <td>0.000000</td>\n      <td>0.000000e+00</td>\n      <td>0.000000e+00</td>\n      <td>0.000000</td>\n      <td>0.000000e+00</td>\n      <td>0.000000</td>\n      <td>0.000000</td>\n      <td>0.000000</td>\n      <td>0.000000</td>\n      <td>0.000000</td>\n    </tr>\n    <tr>\n      <th>25%</th>\n      <td>0.000000</td>\n      <td>0.000000</td>\n      <td>0.000000e+00</td>\n      <td>4.500000e+01</td>\n      <td>0.000000</td>\n      <td>0.000000e+00</td>\n      <td>38.890000</td>\n      <td>48.810000</td>\n      <td>44.870000</td>\n      <td>44.700000</td>\n      <td>0.000000</td>\n    </tr>\n    <tr>\n      <th>50%</th>\n      <td>12.000000</td>\n      <td>0.000000</td>\n      <td>0.000000e+00</td>\n      <td>1.058500e+03</td>\n      <td>21.000000</td>\n      <td>0.000000e+00</td>\n      <td>64.350000</td>\n      <td>71.430000</td>\n      <td>61.540000</td>\n      <td>64.390000</td>\n      <td>50.000000</td>\n    </tr>\n    <tr>\n      <th>75%</th>\n      <td>178.750000</td>\n      <td>3.000000</td>\n      <td>1.461000e+03</td>\n      <td>1.063025e+04</td>\n      <td>232.000000</td>\n      <td>1.312210e+05</td>\n      <td>79.630000</td>\n      <td>84.520000</td>\n      <td>72.760000</td>\n      <td>77.270000</td>\n      <td>75.000000</td>\n    </tr>\n    <tr>\n      <th>max</th>\n      <td>78761.000000</td>\n      <td>4928.000000</td>\n      <td>1.194086e+06</td>\n      <td>5.997163e+06</td>\n      <td>183069.000000</td>\n      <td>8.389842e+07</td>\n      <td>100.000000</td>\n      <td>100.000000</td>\n      <td>96.150000</td>\n      <td>100.000000</td>\n      <td>100.000000</td>\n    </tr>\n  </tbody>\n</table>\n</div>"
     },
     "metadata": {},
     "execution_count": 375
    }
   ],
   "source": [
    "# check merged df for null values.\n",
    "df.describe()"
   ]
  },
  {
   "cell_type": "code",
   "execution_count": 376,
   "metadata": {
    "tags": []
   },
   "outputs": [
    {
     "output_type": "stream",
     "name": "stdout",
     "text": "(34927, 18)\ndate_updated                        object\niso_code                            object\ncontinent                           object\nlocation                            object\nnew_cases                          float64\nnew_deaths                         float64\nnew_tests                          float64\npopulation                         float64\npopulation_density                 float64\nmedian_age                         float64\ntotal_cases_updated                float64\ntotal_deaths_updated               float64\ntotal_tests_updated                float64\nStringencyIndex_updated            float64\nStringencyLegacyIndex_updated      float64\nGovernmentResponseIndex_updated    float64\nContainmentHealthIndex_updated     float64\nEconomicSupportIndex_updated       float64\ndtype: object\n"
    },
    {
     "output_type": "execute_result",
     "data": {
      "text/plain": "  date_updated iso_code      continent location  new_cases  new_deaths  \\\n0   2020-03-13      ABW  North America    Aruba        2.0         0.0   \n1   2020-03-19      ABW  North America    Aruba        0.0         0.0   \n2   2020-03-20      ABW  North America    Aruba        2.0         0.0   \n3   2020-03-21      ABW  North America    Aruba        0.0         0.0   \n4   2020-03-22      ABW  North America    Aruba        0.0         0.0   \n\n   new_tests  population  population_density  median_age  total_cases_updated  \\\n0        0.0    106766.0               584.8        41.2                  2.0   \n1        0.0    106766.0               584.8        41.2                  2.0   \n2        0.0    106766.0               584.8        41.2                  4.0   \n3        0.0    106766.0               584.8        41.2                  4.0   \n4        0.0    106766.0               584.8        41.2                  4.0   \n\n   total_deaths_updated  total_tests_updated  StringencyIndex_updated  \\\n0                   0.0                  0.0                     0.00   \n1                   0.0                  0.0                    33.33   \n2                   0.0                  0.0                    33.33   \n3                   0.0                  0.0                    44.44   \n4                   0.0                  0.0                    44.44   \n\n   StringencyLegacyIndex_updated  GovernmentResponseIndex_updated  \\\n0                           0.00                             2.56   \n1                          42.86                            29.49   \n2                          42.86                            29.49   \n3                          60.71                            37.18   \n4                          60.71                            37.18   \n\n   ContainmentHealthIndex_updated  EconomicSupportIndex_updated  \n0                            3.03                           0.0  \n1                           34.85                           0.0  \n2                           34.85                           0.0  \n3                           43.94                           0.0  \n4                           43.94                           0.0  ",
      "text/html": "<div>\n<style scoped>\n    .dataframe tbody tr th:only-of-type {\n        vertical-align: middle;\n    }\n\n    .dataframe tbody tr th {\n        vertical-align: top;\n    }\n\n    .dataframe thead th {\n        text-align: right;\n    }\n</style>\n<table border=\"1\" class=\"dataframe\">\n  <thead>\n    <tr style=\"text-align: right;\">\n      <th></th>\n      <th>date_updated</th>\n      <th>iso_code</th>\n      <th>continent</th>\n      <th>location</th>\n      <th>new_cases</th>\n      <th>new_deaths</th>\n      <th>new_tests</th>\n      <th>population</th>\n      <th>population_density</th>\n      <th>median_age</th>\n      <th>total_cases_updated</th>\n      <th>total_deaths_updated</th>\n      <th>total_tests_updated</th>\n      <th>StringencyIndex_updated</th>\n      <th>StringencyLegacyIndex_updated</th>\n      <th>GovernmentResponseIndex_updated</th>\n      <th>ContainmentHealthIndex_updated</th>\n      <th>EconomicSupportIndex_updated</th>\n    </tr>\n  </thead>\n  <tbody>\n    <tr>\n      <th>0</th>\n      <td>2020-03-13</td>\n      <td>ABW</td>\n      <td>North America</td>\n      <td>Aruba</td>\n      <td>2.0</td>\n      <td>0.0</td>\n      <td>0.0</td>\n      <td>106766.0</td>\n      <td>584.8</td>\n      <td>41.2</td>\n      <td>2.0</td>\n      <td>0.0</td>\n      <td>0.0</td>\n      <td>0.00</td>\n      <td>0.00</td>\n      <td>2.56</td>\n      <td>3.03</td>\n      <td>0.0</td>\n    </tr>\n    <tr>\n      <th>1</th>\n      <td>2020-03-19</td>\n      <td>ABW</td>\n      <td>North America</td>\n      <td>Aruba</td>\n      <td>0.0</td>\n      <td>0.0</td>\n      <td>0.0</td>\n      <td>106766.0</td>\n      <td>584.8</td>\n      <td>41.2</td>\n      <td>2.0</td>\n      <td>0.0</td>\n      <td>0.0</td>\n      <td>33.33</td>\n      <td>42.86</td>\n      <td>29.49</td>\n      <td>34.85</td>\n      <td>0.0</td>\n    </tr>\n    <tr>\n      <th>2</th>\n      <td>2020-03-20</td>\n      <td>ABW</td>\n      <td>North America</td>\n      <td>Aruba</td>\n      <td>2.0</td>\n      <td>0.0</td>\n      <td>0.0</td>\n      <td>106766.0</td>\n      <td>584.8</td>\n      <td>41.2</td>\n      <td>4.0</td>\n      <td>0.0</td>\n      <td>0.0</td>\n      <td>33.33</td>\n      <td>42.86</td>\n      <td>29.49</td>\n      <td>34.85</td>\n      <td>0.0</td>\n    </tr>\n    <tr>\n      <th>3</th>\n      <td>2020-03-21</td>\n      <td>ABW</td>\n      <td>North America</td>\n      <td>Aruba</td>\n      <td>0.0</td>\n      <td>0.0</td>\n      <td>0.0</td>\n      <td>106766.0</td>\n      <td>584.8</td>\n      <td>41.2</td>\n      <td>4.0</td>\n      <td>0.0</td>\n      <td>0.0</td>\n      <td>44.44</td>\n      <td>60.71</td>\n      <td>37.18</td>\n      <td>43.94</td>\n      <td>0.0</td>\n    </tr>\n    <tr>\n      <th>4</th>\n      <td>2020-03-22</td>\n      <td>ABW</td>\n      <td>North America</td>\n      <td>Aruba</td>\n      <td>0.0</td>\n      <td>0.0</td>\n      <td>0.0</td>\n      <td>106766.0</td>\n      <td>584.8</td>\n      <td>41.2</td>\n      <td>4.0</td>\n      <td>0.0</td>\n      <td>0.0</td>\n      <td>44.44</td>\n      <td>60.71</td>\n      <td>37.18</td>\n      <td>43.94</td>\n      <td>0.0</td>\n    </tr>\n  </tbody>\n</table>\n</div>"
     },
     "metadata": {},
     "execution_count": 376
    }
   ],
   "source": [
    "# Check merged df with pop df.\n",
    "print(df_pop.shape)\n",
    "print(df_pop.dtypes)\n",
    "df_pop.head()"
   ]
  },
  {
   "cell_type": "markdown",
   "metadata": {},
   "source": [
    "## DF New Deaths"
   ]
  },
  {
   "cell_type": "code",
   "execution_count": 377,
   "metadata": {},
   "outputs": [
    {
     "output_type": "execute_result",
     "data": {
      "text/plain": "(34927, 9)"
     },
     "metadata": {},
     "execution_count": 377
    }
   ],
   "source": [
    "# Create a df to test impact of some features on 'new deaths'\n",
    "df_features = pd.DataFrame(df_pop[['date_updated','iso_code','population','population_density','median_age','StringencyIndex_updated']],index=df_pop.index)\n",
    "df_targets = pd.DataFrame(df_pop[['date_updated','iso_code','new_cases','new_deaths']],index=df_pop.index)\n",
    "\n",
    "#df_features df['actualDateTime'])\n",
    "df_features[\"date30days\"] = pd.to_datetime(df_features[\"date_updated\"]) + datetime.timedelta(days=30)\n",
    "df_features[\"date45days\"] = pd.to_datetime(df_features[\"date_updated\"]) + datetime.timedelta(days=45)\n",
    "df_features[\"date60days\"] = pd.to_datetime(df_features[\"date_updated\"]) + datetime.timedelta(days=60)\n",
    "\n",
    "df_features.shape"
   ]
  },
  {
   "cell_type": "code",
   "execution_count": 378,
   "metadata": {},
   "outputs": [],
   "source": [
    "df_features[\"date30days\"] = df_features[\"date30days\"].apply(lambda x: x.strftime(\"%Y-%m-%d\"))\n",
    "df_features[\"date45days\"] = df_features[\"date45days\"].apply(lambda x: x.strftime(\"%Y-%m-%d\"))\n",
    "df_features[\"date60days\"] = df_features[\"date60days\"].apply(lambda x: x.strftime(\"%Y-%m-%d\"))"
   ]
  },
  {
   "cell_type": "code",
   "execution_count": 379,
   "metadata": {},
   "outputs": [
    {
     "output_type": "execute_result",
     "data": {
      "text/plain": "(34927, 9)"
     },
     "metadata": {},
     "execution_count": 379
    }
   ],
   "source": [
    "df_features.shape"
   ]
  },
  {
   "cell_type": "code",
   "execution_count": 380,
   "metadata": {},
   "outputs": [
    {
     "output_type": "execute_result",
     "data": {
      "text/plain": "          new_cases    new_deaths\ncount  34927.000000  34927.000000\nmean     720.074985     24.177484\nstd     4196.769148    133.441729\nmin    -2461.000000  -1918.000000\n25%        0.000000      0.000000\n50%       12.000000      0.000000\n75%      178.500000      3.000000\nmax    78761.000000   4928.000000",
      "text/html": "<div>\n<style scoped>\n    .dataframe tbody tr th:only-of-type {\n        vertical-align: middle;\n    }\n\n    .dataframe tbody tr th {\n        vertical-align: top;\n    }\n\n    .dataframe thead th {\n        text-align: right;\n    }\n</style>\n<table border=\"1\" class=\"dataframe\">\n  <thead>\n    <tr style=\"text-align: right;\">\n      <th></th>\n      <th>new_cases</th>\n      <th>new_deaths</th>\n    </tr>\n  </thead>\n  <tbody>\n    <tr>\n      <th>count</th>\n      <td>34927.000000</td>\n      <td>34927.000000</td>\n    </tr>\n    <tr>\n      <th>mean</th>\n      <td>720.074985</td>\n      <td>24.177484</td>\n    </tr>\n    <tr>\n      <th>std</th>\n      <td>4196.769148</td>\n      <td>133.441729</td>\n    </tr>\n    <tr>\n      <th>min</th>\n      <td>-2461.000000</td>\n      <td>-1918.000000</td>\n    </tr>\n    <tr>\n      <th>25%</th>\n      <td>0.000000</td>\n      <td>0.000000</td>\n    </tr>\n    <tr>\n      <th>50%</th>\n      <td>12.000000</td>\n      <td>0.000000</td>\n    </tr>\n    <tr>\n      <th>75%</th>\n      <td>178.500000</td>\n      <td>3.000000</td>\n    </tr>\n    <tr>\n      <th>max</th>\n      <td>78761.000000</td>\n      <td>4928.000000</td>\n    </tr>\n  </tbody>\n</table>\n</div>"
     },
     "metadata": {},
     "execution_count": 380
    }
   ],
   "source": [
    "df_targets.describe()"
   ]
  },
  {
   "cell_type": "code",
   "execution_count": 381,
   "metadata": {},
   "outputs": [
    {
     "output_type": "execute_result",
     "data": {
      "text/plain": "(34927, 4)"
     },
     "metadata": {},
     "execution_count": 381
    }
   ],
   "source": [
    "df_targets.shape"
   ]
  },
  {
   "cell_type": "code",
   "execution_count": 382,
   "metadata": {},
   "outputs": [
    {
     "output_type": "execute_result",
     "data": {
      "text/plain": "      date_updated iso_code  new_cases  new_deaths\n0       2020-03-13      ABW        2.0         0.0\n1       2020-03-19      ABW        0.0         0.0\n2       2020-03-20      ABW        2.0         0.0\n3       2020-03-21      ABW        0.0         0.0\n4       2020-03-22      ABW        0.0         0.0\n...            ...      ...        ...         ...\n34922   2020-08-27      ZWE       55.0        13.0\n34923   2020-08-28      ZWE       41.0        10.0\n34924   2020-08-29      ZWE       96.0         6.0\n34925   2020-08-30      ZWE       18.0         1.0\n34926   2020-08-31      ZWE        6.0         0.0\n\n[34927 rows x 4 columns]",
      "text/html": "<div>\n<style scoped>\n    .dataframe tbody tr th:only-of-type {\n        vertical-align: middle;\n    }\n\n    .dataframe tbody tr th {\n        vertical-align: top;\n    }\n\n    .dataframe thead th {\n        text-align: right;\n    }\n</style>\n<table border=\"1\" class=\"dataframe\">\n  <thead>\n    <tr style=\"text-align: right;\">\n      <th></th>\n      <th>date_updated</th>\n      <th>iso_code</th>\n      <th>new_cases</th>\n      <th>new_deaths</th>\n    </tr>\n  </thead>\n  <tbody>\n    <tr>\n      <th>0</th>\n      <td>2020-03-13</td>\n      <td>ABW</td>\n      <td>2.0</td>\n      <td>0.0</td>\n    </tr>\n    <tr>\n      <th>1</th>\n      <td>2020-03-19</td>\n      <td>ABW</td>\n      <td>0.0</td>\n      <td>0.0</td>\n    </tr>\n    <tr>\n      <th>2</th>\n      <td>2020-03-20</td>\n      <td>ABW</td>\n      <td>2.0</td>\n      <td>0.0</td>\n    </tr>\n    <tr>\n      <th>3</th>\n      <td>2020-03-21</td>\n      <td>ABW</td>\n      <td>0.0</td>\n      <td>0.0</td>\n    </tr>\n    <tr>\n      <th>4</th>\n      <td>2020-03-22</td>\n      <td>ABW</td>\n      <td>0.0</td>\n      <td>0.0</td>\n    </tr>\n    <tr>\n      <th>...</th>\n      <td>...</td>\n      <td>...</td>\n      <td>...</td>\n      <td>...</td>\n    </tr>\n    <tr>\n      <th>34922</th>\n      <td>2020-08-27</td>\n      <td>ZWE</td>\n      <td>55.0</td>\n      <td>13.0</td>\n    </tr>\n    <tr>\n      <th>34923</th>\n      <td>2020-08-28</td>\n      <td>ZWE</td>\n      <td>41.0</td>\n      <td>10.0</td>\n    </tr>\n    <tr>\n      <th>34924</th>\n      <td>2020-08-29</td>\n      <td>ZWE</td>\n      <td>96.0</td>\n      <td>6.0</td>\n    </tr>\n    <tr>\n      <th>34925</th>\n      <td>2020-08-30</td>\n      <td>ZWE</td>\n      <td>18.0</td>\n      <td>1.0</td>\n    </tr>\n    <tr>\n      <th>34926</th>\n      <td>2020-08-31</td>\n      <td>ZWE</td>\n      <td>6.0</td>\n      <td>0.0</td>\n    </tr>\n  </tbody>\n</table>\n<p>34927 rows × 4 columns</p>\n</div>"
     },
     "metadata": {},
     "execution_count": 382
    }
   ],
   "source": [
    "df_targets"
   ]
  },
  {
   "cell_type": "code",
   "execution_count": 383,
   "metadata": {},
   "outputs": [
    {
     "output_type": "execute_result",
     "data": {
      "text/plain": "      date_updated iso_code  population  population_density  median_age  \\\n0       2020-03-13      ABW    106766.0             584.800        41.2   \n1       2020-03-19      ABW    106766.0             584.800        41.2   \n2       2020-03-20      ABW    106766.0             584.800        41.2   \n3       2020-03-21      ABW    106766.0             584.800        41.2   \n4       2020-03-22      ABW    106766.0             584.800        41.2   \n...            ...      ...         ...                 ...         ...   \n34922   2020-08-27      ZWE  14862927.0              42.729        19.6   \n34923   2020-08-28      ZWE  14862927.0              42.729        19.6   \n34924   2020-08-29      ZWE  14862927.0              42.729        19.6   \n34925   2020-08-30      ZWE  14862927.0              42.729        19.6   \n34926   2020-08-31      ZWE  14862927.0              42.729        19.6   \n\n       StringencyIndex_updated  date30days  date45days  date60days  \n0                         0.00  2020-04-12  2020-04-27  2020-05-12  \n1                        33.33  2020-04-18  2020-05-03  2020-05-18  \n2                        33.33  2020-04-19  2020-05-04  2020-05-19  \n3                        44.44  2020-04-20  2020-05-05  2020-05-20  \n4                        44.44  2020-04-21  2020-05-06  2020-05-21  \n...                        ...         ...         ...         ...  \n34922                    80.56  2020-09-26  2020-10-11  2020-10-26  \n34923                    80.56  2020-09-27  2020-10-12  2020-10-27  \n34924                    80.56  2020-09-28  2020-10-13  2020-10-28  \n34925                    80.56  2020-09-29  2020-10-14  2020-10-29  \n34926                    80.56  2020-09-30  2020-10-15  2020-10-30  \n\n[34927 rows x 9 columns]",
      "text/html": "<div>\n<style scoped>\n    .dataframe tbody tr th:only-of-type {\n        vertical-align: middle;\n    }\n\n    .dataframe tbody tr th {\n        vertical-align: top;\n    }\n\n    .dataframe thead th {\n        text-align: right;\n    }\n</style>\n<table border=\"1\" class=\"dataframe\">\n  <thead>\n    <tr style=\"text-align: right;\">\n      <th></th>\n      <th>date_updated</th>\n      <th>iso_code</th>\n      <th>population</th>\n      <th>population_density</th>\n      <th>median_age</th>\n      <th>StringencyIndex_updated</th>\n      <th>date30days</th>\n      <th>date45days</th>\n      <th>date60days</th>\n    </tr>\n  </thead>\n  <tbody>\n    <tr>\n      <th>0</th>\n      <td>2020-03-13</td>\n      <td>ABW</td>\n      <td>106766.0</td>\n      <td>584.800</td>\n      <td>41.2</td>\n      <td>0.00</td>\n      <td>2020-04-12</td>\n      <td>2020-04-27</td>\n      <td>2020-05-12</td>\n    </tr>\n    <tr>\n      <th>1</th>\n      <td>2020-03-19</td>\n      <td>ABW</td>\n      <td>106766.0</td>\n      <td>584.800</td>\n      <td>41.2</td>\n      <td>33.33</td>\n      <td>2020-04-18</td>\n      <td>2020-05-03</td>\n      <td>2020-05-18</td>\n    </tr>\n    <tr>\n      <th>2</th>\n      <td>2020-03-20</td>\n      <td>ABW</td>\n      <td>106766.0</td>\n      <td>584.800</td>\n      <td>41.2</td>\n      <td>33.33</td>\n      <td>2020-04-19</td>\n      <td>2020-05-04</td>\n      <td>2020-05-19</td>\n    </tr>\n    <tr>\n      <th>3</th>\n      <td>2020-03-21</td>\n      <td>ABW</td>\n      <td>106766.0</td>\n      <td>584.800</td>\n      <td>41.2</td>\n      <td>44.44</td>\n      <td>2020-04-20</td>\n      <td>2020-05-05</td>\n      <td>2020-05-20</td>\n    </tr>\n    <tr>\n      <th>4</th>\n      <td>2020-03-22</td>\n      <td>ABW</td>\n      <td>106766.0</td>\n      <td>584.800</td>\n      <td>41.2</td>\n      <td>44.44</td>\n      <td>2020-04-21</td>\n      <td>2020-05-06</td>\n      <td>2020-05-21</td>\n    </tr>\n    <tr>\n      <th>...</th>\n      <td>...</td>\n      <td>...</td>\n      <td>...</td>\n      <td>...</td>\n      <td>...</td>\n      <td>...</td>\n      <td>...</td>\n      <td>...</td>\n      <td>...</td>\n    </tr>\n    <tr>\n      <th>34922</th>\n      <td>2020-08-27</td>\n      <td>ZWE</td>\n      <td>14862927.0</td>\n      <td>42.729</td>\n      <td>19.6</td>\n      <td>80.56</td>\n      <td>2020-09-26</td>\n      <td>2020-10-11</td>\n      <td>2020-10-26</td>\n    </tr>\n    <tr>\n      <th>34923</th>\n      <td>2020-08-28</td>\n      <td>ZWE</td>\n      <td>14862927.0</td>\n      <td>42.729</td>\n      <td>19.6</td>\n      <td>80.56</td>\n      <td>2020-09-27</td>\n      <td>2020-10-12</td>\n      <td>2020-10-27</td>\n    </tr>\n    <tr>\n      <th>34924</th>\n      <td>2020-08-29</td>\n      <td>ZWE</td>\n      <td>14862927.0</td>\n      <td>42.729</td>\n      <td>19.6</td>\n      <td>80.56</td>\n      <td>2020-09-28</td>\n      <td>2020-10-13</td>\n      <td>2020-10-28</td>\n    </tr>\n    <tr>\n      <th>34925</th>\n      <td>2020-08-30</td>\n      <td>ZWE</td>\n      <td>14862927.0</td>\n      <td>42.729</td>\n      <td>19.6</td>\n      <td>80.56</td>\n      <td>2020-09-29</td>\n      <td>2020-10-14</td>\n      <td>2020-10-29</td>\n    </tr>\n    <tr>\n      <th>34926</th>\n      <td>2020-08-31</td>\n      <td>ZWE</td>\n      <td>14862927.0</td>\n      <td>42.729</td>\n      <td>19.6</td>\n      <td>80.56</td>\n      <td>2020-09-30</td>\n      <td>2020-10-15</td>\n      <td>2020-10-30</td>\n    </tr>\n  </tbody>\n</table>\n<p>34927 rows × 9 columns</p>\n</div>"
     },
     "metadata": {},
     "execution_count": 383
    }
   ],
   "source": [
    "df_features"
   ]
  },
  {
   "cell_type": "code",
   "execution_count": 384,
   "metadata": {},
   "outputs": [
    {
     "output_type": "execute_result",
     "data": {
      "text/plain": "(29571, 12)"
     },
     "metadata": {},
     "execution_count": 384
    }
   ],
   "source": [
    "df_cases_deaths = pd.merge(df_features, df_targets, how=\"inner\", left_on=[\"date30days\",\"iso_code\"],right_on=[\"date_updated\",\"iso_code\"],suffixes=(\"\",\"_30days\"))\n",
    "\n",
    "df_cases_deaths.shape"
   ]
  },
  {
   "cell_type": "code",
   "execution_count": 385,
   "metadata": {},
   "outputs": [
    {
     "output_type": "execute_result",
     "data": {
      "text/plain": "      date_updated iso_code  population  population_density  median_age  \\\n0       2020-03-13      ABW    106766.0             584.800        41.2   \n1       2020-03-19      ABW    106766.0             584.800        41.2   \n2       2020-03-20      ABW    106766.0             584.800        41.2   \n3       2020-03-21      ABW    106766.0             584.800        41.2   \n4       2020-03-22      ABW    106766.0             584.800        41.2   \n...            ...      ...         ...                 ...         ...   \n29566   2020-07-28      ZWE  14862927.0              42.729        19.6   \n29567   2020-07-29      ZWE  14862927.0              42.729        19.6   \n29568   2020-07-30      ZWE  14862927.0              42.729        19.6   \n29569   2020-07-31      ZWE  14862927.0              42.729        19.6   \n29570   2020-08-01      ZWE  14862927.0              42.729        19.6   \n\n       StringencyIndex_updated  date30days  date45days  date60days  \\\n0                         0.00  2020-04-12  2020-04-27  2020-05-12   \n1                        33.33  2020-04-18  2020-05-03  2020-05-18   \n2                        33.33  2020-04-19  2020-05-04  2020-05-19   \n3                        44.44  2020-04-20  2020-05-05  2020-05-20   \n4                        44.44  2020-04-21  2020-05-06  2020-05-21   \n...                        ...         ...         ...         ...   \n29566                    80.56  2020-08-27  2020-09-11  2020-09-26   \n29567                    80.56  2020-08-28  2020-09-12  2020-09-27   \n29568                    80.56  2020-08-29  2020-09-13  2020-09-28   \n29569                    80.56  2020-08-30  2020-09-14  2020-09-29   \n29570                    80.56  2020-08-31  2020-09-15  2020-09-30   \n\n      date_updated_30days  new_cases  new_deaths  \n0              2020-04-12        6.0         0.0  \n1              2020-04-18        1.0         1.0  \n2              2020-04-19        0.0         0.0  \n3              2020-04-20        1.0         0.0  \n4              2020-04-21        0.0         0.0  \n...                   ...        ...         ...  \n29566          2020-08-27       55.0        13.0  \n29567          2020-08-28       41.0        10.0  \n29568          2020-08-29       96.0         6.0  \n29569          2020-08-30       18.0         1.0  \n29570          2020-08-31        6.0         0.0  \n\n[29571 rows x 12 columns]",
      "text/html": "<div>\n<style scoped>\n    .dataframe tbody tr th:only-of-type {\n        vertical-align: middle;\n    }\n\n    .dataframe tbody tr th {\n        vertical-align: top;\n    }\n\n    .dataframe thead th {\n        text-align: right;\n    }\n</style>\n<table border=\"1\" class=\"dataframe\">\n  <thead>\n    <tr style=\"text-align: right;\">\n      <th></th>\n      <th>date_updated</th>\n      <th>iso_code</th>\n      <th>population</th>\n      <th>population_density</th>\n      <th>median_age</th>\n      <th>StringencyIndex_updated</th>\n      <th>date30days</th>\n      <th>date45days</th>\n      <th>date60days</th>\n      <th>date_updated_30days</th>\n      <th>new_cases</th>\n      <th>new_deaths</th>\n    </tr>\n  </thead>\n  <tbody>\n    <tr>\n      <th>0</th>\n      <td>2020-03-13</td>\n      <td>ABW</td>\n      <td>106766.0</td>\n      <td>584.800</td>\n      <td>41.2</td>\n      <td>0.00</td>\n      <td>2020-04-12</td>\n      <td>2020-04-27</td>\n      <td>2020-05-12</td>\n      <td>2020-04-12</td>\n      <td>6.0</td>\n      <td>0.0</td>\n    </tr>\n    <tr>\n      <th>1</th>\n      <td>2020-03-19</td>\n      <td>ABW</td>\n      <td>106766.0</td>\n      <td>584.800</td>\n      <td>41.2</td>\n      <td>33.33</td>\n      <td>2020-04-18</td>\n      <td>2020-05-03</td>\n      <td>2020-05-18</td>\n      <td>2020-04-18</td>\n      <td>1.0</td>\n      <td>1.0</td>\n    </tr>\n    <tr>\n      <th>2</th>\n      <td>2020-03-20</td>\n      <td>ABW</td>\n      <td>106766.0</td>\n      <td>584.800</td>\n      <td>41.2</td>\n      <td>33.33</td>\n      <td>2020-04-19</td>\n      <td>2020-05-04</td>\n      <td>2020-05-19</td>\n      <td>2020-04-19</td>\n      <td>0.0</td>\n      <td>0.0</td>\n    </tr>\n    <tr>\n      <th>3</th>\n      <td>2020-03-21</td>\n      <td>ABW</td>\n      <td>106766.0</td>\n      <td>584.800</td>\n      <td>41.2</td>\n      <td>44.44</td>\n      <td>2020-04-20</td>\n      <td>2020-05-05</td>\n      <td>2020-05-20</td>\n      <td>2020-04-20</td>\n      <td>1.0</td>\n      <td>0.0</td>\n    </tr>\n    <tr>\n      <th>4</th>\n      <td>2020-03-22</td>\n      <td>ABW</td>\n      <td>106766.0</td>\n      <td>584.800</td>\n      <td>41.2</td>\n      <td>44.44</td>\n      <td>2020-04-21</td>\n      <td>2020-05-06</td>\n      <td>2020-05-21</td>\n      <td>2020-04-21</td>\n      <td>0.0</td>\n      <td>0.0</td>\n    </tr>\n    <tr>\n      <th>...</th>\n      <td>...</td>\n      <td>...</td>\n      <td>...</td>\n      <td>...</td>\n      <td>...</td>\n      <td>...</td>\n      <td>...</td>\n      <td>...</td>\n      <td>...</td>\n      <td>...</td>\n      <td>...</td>\n      <td>...</td>\n    </tr>\n    <tr>\n      <th>29566</th>\n      <td>2020-07-28</td>\n      <td>ZWE</td>\n      <td>14862927.0</td>\n      <td>42.729</td>\n      <td>19.6</td>\n      <td>80.56</td>\n      <td>2020-08-27</td>\n      <td>2020-09-11</td>\n      <td>2020-09-26</td>\n      <td>2020-08-27</td>\n      <td>55.0</td>\n      <td>13.0</td>\n    </tr>\n    <tr>\n      <th>29567</th>\n      <td>2020-07-29</td>\n      <td>ZWE</td>\n      <td>14862927.0</td>\n      <td>42.729</td>\n      <td>19.6</td>\n      <td>80.56</td>\n      <td>2020-08-28</td>\n      <td>2020-09-12</td>\n      <td>2020-09-27</td>\n      <td>2020-08-28</td>\n      <td>41.0</td>\n      <td>10.0</td>\n    </tr>\n    <tr>\n      <th>29568</th>\n      <td>2020-07-30</td>\n      <td>ZWE</td>\n      <td>14862927.0</td>\n      <td>42.729</td>\n      <td>19.6</td>\n      <td>80.56</td>\n      <td>2020-08-29</td>\n      <td>2020-09-13</td>\n      <td>2020-09-28</td>\n      <td>2020-08-29</td>\n      <td>96.0</td>\n      <td>6.0</td>\n    </tr>\n    <tr>\n      <th>29569</th>\n      <td>2020-07-31</td>\n      <td>ZWE</td>\n      <td>14862927.0</td>\n      <td>42.729</td>\n      <td>19.6</td>\n      <td>80.56</td>\n      <td>2020-08-30</td>\n      <td>2020-09-14</td>\n      <td>2020-09-29</td>\n      <td>2020-08-30</td>\n      <td>18.0</td>\n      <td>1.0</td>\n    </tr>\n    <tr>\n      <th>29570</th>\n      <td>2020-08-01</td>\n      <td>ZWE</td>\n      <td>14862927.0</td>\n      <td>42.729</td>\n      <td>19.6</td>\n      <td>80.56</td>\n      <td>2020-08-31</td>\n      <td>2020-09-15</td>\n      <td>2020-09-30</td>\n      <td>2020-08-31</td>\n      <td>6.0</td>\n      <td>0.0</td>\n    </tr>\n  </tbody>\n</table>\n<p>29571 rows × 12 columns</p>\n</div>"
     },
     "metadata": {},
     "execution_count": 385
    }
   ],
   "source": [
    "df_cases_deaths"
   ]
  },
  {
   "cell_type": "code",
   "execution_count": 386,
   "metadata": {},
   "outputs": [
    {
     "output_type": "execute_result",
     "data": {
      "text/plain": "(26899, 15)"
     },
     "metadata": {},
     "execution_count": 386
    }
   ],
   "source": [
    "df_cases_deaths = pd.merge(df_cases_deaths, df_targets, how=\"inner\", left_on=[\"date45days\",\"iso_code\"],right_on=[\"date_updated\",\"iso_code\"],suffixes=(\"\",\"_45days\"))\n",
    "df_cases_deaths.shape"
   ]
  },
  {
   "cell_type": "code",
   "execution_count": 387,
   "metadata": {},
   "outputs": [
    {
     "output_type": "execute_result",
     "data": {
      "text/plain": "(24229, 18)"
     },
     "metadata": {},
     "execution_count": 387
    }
   ],
   "source": [
    "df_cases_deaths = pd.merge(df_cases_deaths, df_targets, how=\"inner\", left_on=[\"date60days\",\"iso_code\"],right_on=[\"date_updated\",\"iso_code\"],suffixes=(\"\",\"_60days\"))\n",
    "df_cases_deaths.shape"
   ]
  },
  {
   "cell_type": "code",
   "execution_count": 388,
   "metadata": {},
   "outputs": [],
   "source": [
    "df_cases_deaths.rename(columns={\"new_cases\":\"new_cases_30days\",\"new_deaths\":\"new_deaths_30days\"},inplace=True)"
   ]
  },
  {
   "cell_type": "code",
   "execution_count": 389,
   "metadata": {},
   "outputs": [
    {
     "output_type": "execute_result",
     "data": {
      "text/plain": "(24229, 22)"
     },
     "metadata": {},
     "execution_count": 389
    }
   ],
   "source": [
    "df_cases_deaths = pd.merge(df_cases_deaths, df_pop[[\"date_updated\",\"iso_code\",\"total_cases_updated\",\"StringencyIndex_updated\",\"total_deaths_updated\"]], how=\"inner\", left_on=[\"date30days\",\"iso_code\"],right_on=[\"date_updated\",\"iso_code\"],suffixes=(\"\",\"_30days\"))\n",
    "df_cases_deaths.shape"
   ]
  },
  {
   "cell_type": "code",
   "execution_count": 390,
   "metadata": {},
   "outputs": [
    {
     "output_type": "execute_result",
     "data": {
      "text/plain": "(24229, 26)"
     },
     "metadata": {},
     "execution_count": 390
    }
   ],
   "source": [
    "df_cases_deaths = pd.merge(df_cases_deaths, df_pop[[\"date_updated\",\"iso_code\",\"total_cases_updated\",\"StringencyIndex_updated\",\"total_deaths_updated\"]], how=\"inner\", left_on=[\"date45days\",\"iso_code\"],right_on=[\"date_updated\",\"iso_code\"],suffixes=(\"\",\"_45days\"))\n",
    "df_cases_deaths.shape"
   ]
  },
  {
   "cell_type": "code",
   "execution_count": 391,
   "metadata": {},
   "outputs": [
    {
     "output_type": "execute_result",
     "data": {
      "text/plain": "(24229, 30)"
     },
     "metadata": {},
     "execution_count": 391
    }
   ],
   "source": [
    "df_cases_deaths = pd.merge(df_cases_deaths, df_pop[[\"date_updated\",\"iso_code\",\"total_cases_updated\",\"StringencyIndex_updated\",\"total_deaths_updated\"]], how=\"inner\", left_on=[\"date60days\",\"iso_code\"],right_on=[\"date_updated\",\"iso_code\"],suffixes=(\"\",\"_60days\"))\n",
    "df_cases_deaths.shape"
   ]
  },
  {
   "cell_type": "code",
   "execution_count": 392,
   "metadata": {},
   "outputs": [],
   "source": [
    "df_cases_deaths.rename(columns={\"StringencyLegacyIndex_updated\":\"StringencyLegacyIndex_updated_30days\",\"GovernmentResponseIndex_updated\":\"GovernmentResponseIndex_updated_30days\",\\\n",
    "    \"ContainmentHealthIndex_updated\":\"ContainmentHealthIndex_updated_30days\",\"EconomicSupportIndex_updated\":\"EconomicSupportIndex_updated_30days\",\\\n",
    "        \"total_deaths_updated\":\"total_deaths_updated_30days\",\"total_cases_updated\":\"total_cases_updated_30days\"},inplace=True)"
   ]
  },
  {
   "cell_type": "code",
   "execution_count": 393,
   "metadata": {},
   "outputs": [],
   "source": [
    "#pd.DataFrame(df_cases_deaths.columns)"
   ]
  },
  {
   "cell_type": "code",
   "execution_count": 394,
   "metadata": {},
   "outputs": [
    {
     "output_type": "execute_result",
     "data": {
      "text/plain": "      date_updated iso_code  population  population_density  median_age  \\\n0       2020-03-13      ABW    106766.0             584.800        41.2   \n1       2020-03-19      ABW    106766.0             584.800        41.2   \n2       2020-03-20      ABW    106766.0             584.800        41.2   \n3       2020-03-21      ABW    106766.0             584.800        41.2   \n4       2020-03-22      ABW    106766.0             584.800        41.2   \n...            ...      ...         ...                 ...         ...   \n24224   2020-06-28      ZWE  14862927.0              42.729        19.6   \n24225   2020-06-29      ZWE  14862927.0              42.729        19.6   \n24226   2020-06-30      ZWE  14862927.0              42.729        19.6   \n24227   2020-07-01      ZWE  14862927.0              42.729        19.6   \n24228   2020-07-02      ZWE  14862927.0              42.729        19.6   \n\n       StringencyIndex_updated  new_cases_30days  new_deaths_30days  \\\n0                         0.00               6.0                0.0   \n1                        33.33               1.0                1.0   \n2                        33.33               0.0                0.0   \n3                        44.44               1.0                0.0   \n4                        44.44               0.0                0.0   \n...                        ...               ...                ...   \n24224                    70.37             192.0                2.0   \n24225                    70.37             113.0                4.0   \n24226                    70.37              62.0                1.0   \n24227                    70.37             213.0               12.0   \n24228                    70.37              77.0               14.0   \n\n       new_cases_45days  new_deaths_45days  ...  new_deaths_60days  \\\n0                   0.0                0.0  ...                0.0   \n1                   0.0                0.0  ...                0.0   \n2                   0.0                0.0  ...                0.0   \n3                   0.0                0.0  ...                0.0   \n4                   0.0                0.0  ...                0.0   \n...                 ...                ...  ...                ...   \n24224              70.0                0.0  ...               13.0   \n24225              75.0               18.0  ...               10.0   \n24226              97.0                6.0  ...                6.0   \n24227              82.0                0.0  ...                1.0   \n24228             104.0                2.0  ...                0.0   \n\n       total_cases_updated_30days  StringencyIndex_updated_30days  \\\n0                            92.0                           88.89   \n1                            96.0                           85.19   \n2                            96.0                           85.19   \n3                            97.0                           85.19   \n4                            97.0                           85.19   \n...                           ...                             ...   \n24224                      2704.0                           80.56   \n24225                      2817.0                           80.56   \n24226                      2879.0                           80.56   \n24227                      3092.0                           80.56   \n24228                      3169.0                           80.56   \n\n       total_deaths_updated_30days  total_cases_updated_45days  \\\n0                              0.0                       100.0   \n1                              2.0                       100.0   \n2                              2.0                       100.0   \n3                              2.0                       100.0   \n4                              2.0                       100.0   \n...                            ...                         ...   \n24224                         36.0                      4818.0   \n24225                         40.0                      4893.0   \n24226                         41.0                      4990.0   \n24227                         53.0                      5072.0   \n24228                         67.0                      5176.0   \n\n       StringencyIndex_updated_45days  total_deaths_updated_45days  \\\n0                               85.19                          2.0   \n1                               85.19                          2.0   \n2                               81.48                          2.0   \n3                               81.48                          2.0   \n4                               81.48                          2.0   \n...                               ...                          ...   \n24224                           80.56                        104.0   \n24225                           80.56                        122.0   \n24226                           80.56                        128.0   \n24227                           80.56                        128.0   \n24228                           80.56                        130.0   \n\n       total_cases_updated_60days  StringencyIndex_updated_60days  \\\n0                           101.0                           81.48   \n1                           101.0                           48.15   \n2                           101.0                           48.15   \n3                           101.0                           48.15   \n4                           101.0                           48.15   \n...                           ...                             ...   \n24224                      6251.0                           80.56   \n24225                      6292.0                           80.56   \n24226                      6388.0                           80.56   \n24227                      6406.0                           80.56   \n24228                      6412.0                           80.56   \n\n       total_deaths_updated_60days  \n0                              3.0  \n1                              3.0  \n2                              3.0  \n3                              3.0  \n4                              3.0  \n...                            ...  \n24224                        179.0  \n24225                        189.0  \n24226                        195.0  \n24227                        196.0  \n24228                        196.0  \n\n[24229 rows x 21 columns]",
      "text/html": "<div>\n<style scoped>\n    .dataframe tbody tr th:only-of-type {\n        vertical-align: middle;\n    }\n\n    .dataframe tbody tr th {\n        vertical-align: top;\n    }\n\n    .dataframe thead th {\n        text-align: right;\n    }\n</style>\n<table border=\"1\" class=\"dataframe\">\n  <thead>\n    <tr style=\"text-align: right;\">\n      <th></th>\n      <th>date_updated</th>\n      <th>iso_code</th>\n      <th>population</th>\n      <th>population_density</th>\n      <th>median_age</th>\n      <th>StringencyIndex_updated</th>\n      <th>new_cases_30days</th>\n      <th>new_deaths_30days</th>\n      <th>new_cases_45days</th>\n      <th>new_deaths_45days</th>\n      <th>...</th>\n      <th>new_deaths_60days</th>\n      <th>total_cases_updated_30days</th>\n      <th>StringencyIndex_updated_30days</th>\n      <th>total_deaths_updated_30days</th>\n      <th>total_cases_updated_45days</th>\n      <th>StringencyIndex_updated_45days</th>\n      <th>total_deaths_updated_45days</th>\n      <th>total_cases_updated_60days</th>\n      <th>StringencyIndex_updated_60days</th>\n      <th>total_deaths_updated_60days</th>\n    </tr>\n  </thead>\n  <tbody>\n    <tr>\n      <th>0</th>\n      <td>2020-03-13</td>\n      <td>ABW</td>\n      <td>106766.0</td>\n      <td>584.800</td>\n      <td>41.2</td>\n      <td>0.00</td>\n      <td>6.0</td>\n      <td>0.0</td>\n      <td>0.0</td>\n      <td>0.0</td>\n      <td>...</td>\n      <td>0.0</td>\n      <td>92.0</td>\n      <td>88.89</td>\n      <td>0.0</td>\n      <td>100.0</td>\n      <td>85.19</td>\n      <td>2.0</td>\n      <td>101.0</td>\n      <td>81.48</td>\n      <td>3.0</td>\n    </tr>\n    <tr>\n      <th>1</th>\n      <td>2020-03-19</td>\n      <td>ABW</td>\n      <td>106766.0</td>\n      <td>584.800</td>\n      <td>41.2</td>\n      <td>33.33</td>\n      <td>1.0</td>\n      <td>1.0</td>\n      <td>0.0</td>\n      <td>0.0</td>\n      <td>...</td>\n      <td>0.0</td>\n      <td>96.0</td>\n      <td>85.19</td>\n      <td>2.0</td>\n      <td>100.0</td>\n      <td>85.19</td>\n      <td>2.0</td>\n      <td>101.0</td>\n      <td>48.15</td>\n      <td>3.0</td>\n    </tr>\n    <tr>\n      <th>2</th>\n      <td>2020-03-20</td>\n      <td>ABW</td>\n      <td>106766.0</td>\n      <td>584.800</td>\n      <td>41.2</td>\n      <td>33.33</td>\n      <td>0.0</td>\n      <td>0.0</td>\n      <td>0.0</td>\n      <td>0.0</td>\n      <td>...</td>\n      <td>0.0</td>\n      <td>96.0</td>\n      <td>85.19</td>\n      <td>2.0</td>\n      <td>100.0</td>\n      <td>81.48</td>\n      <td>2.0</td>\n      <td>101.0</td>\n      <td>48.15</td>\n      <td>3.0</td>\n    </tr>\n    <tr>\n      <th>3</th>\n      <td>2020-03-21</td>\n      <td>ABW</td>\n      <td>106766.0</td>\n      <td>584.800</td>\n      <td>41.2</td>\n      <td>44.44</td>\n      <td>1.0</td>\n      <td>0.0</td>\n      <td>0.0</td>\n      <td>0.0</td>\n      <td>...</td>\n      <td>0.0</td>\n      <td>97.0</td>\n      <td>85.19</td>\n      <td>2.0</td>\n      <td>100.0</td>\n      <td>81.48</td>\n      <td>2.0</td>\n      <td>101.0</td>\n      <td>48.15</td>\n      <td>3.0</td>\n    </tr>\n    <tr>\n      <th>4</th>\n      <td>2020-03-22</td>\n      <td>ABW</td>\n      <td>106766.0</td>\n      <td>584.800</td>\n      <td>41.2</td>\n      <td>44.44</td>\n      <td>0.0</td>\n      <td>0.0</td>\n      <td>0.0</td>\n      <td>0.0</td>\n      <td>...</td>\n      <td>0.0</td>\n      <td>97.0</td>\n      <td>85.19</td>\n      <td>2.0</td>\n      <td>100.0</td>\n      <td>81.48</td>\n      <td>2.0</td>\n      <td>101.0</td>\n      <td>48.15</td>\n      <td>3.0</td>\n    </tr>\n    <tr>\n      <th>...</th>\n      <td>...</td>\n      <td>...</td>\n      <td>...</td>\n      <td>...</td>\n      <td>...</td>\n      <td>...</td>\n      <td>...</td>\n      <td>...</td>\n      <td>...</td>\n      <td>...</td>\n      <td>...</td>\n      <td>...</td>\n      <td>...</td>\n      <td>...</td>\n      <td>...</td>\n      <td>...</td>\n      <td>...</td>\n      <td>...</td>\n      <td>...</td>\n      <td>...</td>\n      <td>...</td>\n    </tr>\n    <tr>\n      <th>24224</th>\n      <td>2020-06-28</td>\n      <td>ZWE</td>\n      <td>14862927.0</td>\n      <td>42.729</td>\n      <td>19.6</td>\n      <td>70.37</td>\n      <td>192.0</td>\n      <td>2.0</td>\n      <td>70.0</td>\n      <td>0.0</td>\n      <td>...</td>\n      <td>13.0</td>\n      <td>2704.0</td>\n      <td>80.56</td>\n      <td>36.0</td>\n      <td>4818.0</td>\n      <td>80.56</td>\n      <td>104.0</td>\n      <td>6251.0</td>\n      <td>80.56</td>\n      <td>179.0</td>\n    </tr>\n    <tr>\n      <th>24225</th>\n      <td>2020-06-29</td>\n      <td>ZWE</td>\n      <td>14862927.0</td>\n      <td>42.729</td>\n      <td>19.6</td>\n      <td>70.37</td>\n      <td>113.0</td>\n      <td>4.0</td>\n      <td>75.0</td>\n      <td>18.0</td>\n      <td>...</td>\n      <td>10.0</td>\n      <td>2817.0</td>\n      <td>80.56</td>\n      <td>40.0</td>\n      <td>4893.0</td>\n      <td>80.56</td>\n      <td>122.0</td>\n      <td>6292.0</td>\n      <td>80.56</td>\n      <td>189.0</td>\n    </tr>\n    <tr>\n      <th>24226</th>\n      <td>2020-06-30</td>\n      <td>ZWE</td>\n      <td>14862927.0</td>\n      <td>42.729</td>\n      <td>19.6</td>\n      <td>70.37</td>\n      <td>62.0</td>\n      <td>1.0</td>\n      <td>97.0</td>\n      <td>6.0</td>\n      <td>...</td>\n      <td>6.0</td>\n      <td>2879.0</td>\n      <td>80.56</td>\n      <td>41.0</td>\n      <td>4990.0</td>\n      <td>80.56</td>\n      <td>128.0</td>\n      <td>6388.0</td>\n      <td>80.56</td>\n      <td>195.0</td>\n    </tr>\n    <tr>\n      <th>24227</th>\n      <td>2020-07-01</td>\n      <td>ZWE</td>\n      <td>14862927.0</td>\n      <td>42.729</td>\n      <td>19.6</td>\n      <td>70.37</td>\n      <td>213.0</td>\n      <td>12.0</td>\n      <td>82.0</td>\n      <td>0.0</td>\n      <td>...</td>\n      <td>1.0</td>\n      <td>3092.0</td>\n      <td>80.56</td>\n      <td>53.0</td>\n      <td>5072.0</td>\n      <td>80.56</td>\n      <td>128.0</td>\n      <td>6406.0</td>\n      <td>80.56</td>\n      <td>196.0</td>\n    </tr>\n    <tr>\n      <th>24228</th>\n      <td>2020-07-02</td>\n      <td>ZWE</td>\n      <td>14862927.0</td>\n      <td>42.729</td>\n      <td>19.6</td>\n      <td>70.37</td>\n      <td>77.0</td>\n      <td>14.0</td>\n      <td>104.0</td>\n      <td>2.0</td>\n      <td>...</td>\n      <td>0.0</td>\n      <td>3169.0</td>\n      <td>80.56</td>\n      <td>67.0</td>\n      <td>5176.0</td>\n      <td>80.56</td>\n      <td>130.0</td>\n      <td>6412.0</td>\n      <td>80.56</td>\n      <td>196.0</td>\n    </tr>\n  </tbody>\n</table>\n<p>24229 rows × 21 columns</p>\n</div>"
     },
     "metadata": {},
     "execution_count": 394
    }
   ],
   "source": [
    "df_cases_deaths.drop(columns=[\"date30days\",\"date45days\",\"date60days\",\"date_updated_30days\",\"date_updated_45days\",\"date_updated_60days\"],inplace=True)\n",
    "df_cases_deaths"
   ]
  },
  {
   "cell_type": "code",
   "execution_count": 184,
   "metadata": {},
   "outputs": [],
   "source": [
    "## DF Total Deaths"
   ]
  },
  {
   "cell_type": "code",
   "execution_count": 243,
   "metadata": {
    "scrolled": false
   },
   "outputs": [
    {
     "output_type": "execute_result",
     "data": {
      "text/plain": "       population  population_density  median_age  total_cases_updated  \\\n0        106766.0             584.800        41.2                  2.0   \n1        106766.0             584.800        41.2                  2.0   \n2        106766.0             584.800        41.2                  4.0   \n3        106766.0             584.800        41.2                  4.0   \n4        106766.0             584.800        41.2                  4.0   \n...           ...                 ...         ...                  ...   \n34922  14862927.0              42.729        19.6               6251.0   \n34923  14862927.0              42.729        19.6               6292.0   \n34924  14862927.0              42.729        19.6               6388.0   \n34925  14862927.0              42.729        19.6               6406.0   \n34926  14862927.0              42.729        19.6               6412.0   \n\n       StringencyIndex_updated  total_deaths_updated  \n0                         0.00                   0.0  \n1                        33.33                   0.0  \n2                        33.33                   0.0  \n3                        44.44                   0.0  \n4                        44.44                   0.0  \n...                        ...                   ...  \n34922                    80.56                 179.0  \n34923                    80.56                 189.0  \n34924                    80.56                 195.0  \n34925                    80.56                 196.0  \n34926                    80.56                 196.0  \n\n[34927 rows x 6 columns]",
      "text/html": "<div>\n<style scoped>\n    .dataframe tbody tr th:only-of-type {\n        vertical-align: middle;\n    }\n\n    .dataframe tbody tr th {\n        vertical-align: top;\n    }\n\n    .dataframe thead th {\n        text-align: right;\n    }\n</style>\n<table border=\"1\" class=\"dataframe\">\n  <thead>\n    <tr style=\"text-align: right;\">\n      <th></th>\n      <th>population</th>\n      <th>population_density</th>\n      <th>median_age</th>\n      <th>total_cases_updated</th>\n      <th>StringencyIndex_updated</th>\n      <th>total_deaths_updated</th>\n    </tr>\n  </thead>\n  <tbody>\n    <tr>\n      <th>0</th>\n      <td>106766.0</td>\n      <td>584.800</td>\n      <td>41.2</td>\n      <td>2.0</td>\n      <td>0.00</td>\n      <td>0.0</td>\n    </tr>\n    <tr>\n      <th>1</th>\n      <td>106766.0</td>\n      <td>584.800</td>\n      <td>41.2</td>\n      <td>2.0</td>\n      <td>33.33</td>\n      <td>0.0</td>\n    </tr>\n    <tr>\n      <th>2</th>\n      <td>106766.0</td>\n      <td>584.800</td>\n      <td>41.2</td>\n      <td>4.0</td>\n      <td>33.33</td>\n      <td>0.0</td>\n    </tr>\n    <tr>\n      <th>3</th>\n      <td>106766.0</td>\n      <td>584.800</td>\n      <td>41.2</td>\n      <td>4.0</td>\n      <td>44.44</td>\n      <td>0.0</td>\n    </tr>\n    <tr>\n      <th>4</th>\n      <td>106766.0</td>\n      <td>584.800</td>\n      <td>41.2</td>\n      <td>4.0</td>\n      <td>44.44</td>\n      <td>0.0</td>\n    </tr>\n    <tr>\n      <th>...</th>\n      <td>...</td>\n      <td>...</td>\n      <td>...</td>\n      <td>...</td>\n      <td>...</td>\n      <td>...</td>\n    </tr>\n    <tr>\n      <th>34922</th>\n      <td>14862927.0</td>\n      <td>42.729</td>\n      <td>19.6</td>\n      <td>6251.0</td>\n      <td>80.56</td>\n      <td>179.0</td>\n    </tr>\n    <tr>\n      <th>34923</th>\n      <td>14862927.0</td>\n      <td>42.729</td>\n      <td>19.6</td>\n      <td>6292.0</td>\n      <td>80.56</td>\n      <td>189.0</td>\n    </tr>\n    <tr>\n      <th>34924</th>\n      <td>14862927.0</td>\n      <td>42.729</td>\n      <td>19.6</td>\n      <td>6388.0</td>\n      <td>80.56</td>\n      <td>195.0</td>\n    </tr>\n    <tr>\n      <th>34925</th>\n      <td>14862927.0</td>\n      <td>42.729</td>\n      <td>19.6</td>\n      <td>6406.0</td>\n      <td>80.56</td>\n      <td>196.0</td>\n    </tr>\n    <tr>\n      <th>34926</th>\n      <td>14862927.0</td>\n      <td>42.729</td>\n      <td>19.6</td>\n      <td>6412.0</td>\n      <td>80.56</td>\n      <td>196.0</td>\n    </tr>\n  </tbody>\n</table>\n<p>34927 rows × 6 columns</p>\n</div>"
     },
     "metadata": {},
     "execution_count": 243
    }
   ],
   "source": [
    "# Create a df to test impact of some features on 'total deaths'\n",
    "df_death_ml=df_cases_deaths[['population','population_density','median_age','total_cases_updated','StringencyIndex_updated','total_deaths_updated']]\n",
    "df_death_ml"
   ]
  },
  {
   "cell_type": "code",
   "execution_count": 186,
   "metadata": {},
   "outputs": [
    {
     "output_type": "execute_result",
     "data": {
      "text/plain": "         population  population_density    median_age  total_cases_updated  \\\ncount  3.492700e+04        33900.000000  32893.000000         3.473700e+04   \nmean   5.037646e+07          235.447634     31.319761         4.411066e+04   \nstd    1.704420e+08          751.787427      9.205982         2.614812e+05   \nmin    3.483000e+03            0.137000     15.100000         0.000000e+00   \n25%    3.989175e+06           35.608000     23.300000         4.600000e+01   \n50%    1.042306e+07           85.129000     31.100000         1.060000e+03   \n75%    3.691056e+07          207.973000     40.100000         1.065300e+04   \nmax    1.439324e+09         7915.731000     48.200000         5.997163e+06   \n\n       StringencyIndex_updated  total_deaths_updated  \ncount             34188.000000          34737.000000  \nmean                 57.640284           1972.060829  \nstd                  28.010850          10168.166866  \nmin                   0.000000              0.000000  \n25%                  38.890000              0.000000  \n50%                  64.350000             21.000000  \n75%                  79.630000            233.000000  \nmax                 100.000000         183069.000000  ",
      "text/html": "<div>\n<style scoped>\n    .dataframe tbody tr th:only-of-type {\n        vertical-align: middle;\n    }\n\n    .dataframe tbody tr th {\n        vertical-align: top;\n    }\n\n    .dataframe thead th {\n        text-align: right;\n    }\n</style>\n<table border=\"1\" class=\"dataframe\">\n  <thead>\n    <tr style=\"text-align: right;\">\n      <th></th>\n      <th>population</th>\n      <th>population_density</th>\n      <th>median_age</th>\n      <th>total_cases_updated</th>\n      <th>StringencyIndex_updated</th>\n      <th>total_deaths_updated</th>\n    </tr>\n  </thead>\n  <tbody>\n    <tr>\n      <th>count</th>\n      <td>3.492700e+04</td>\n      <td>33900.000000</td>\n      <td>32893.000000</td>\n      <td>3.473700e+04</td>\n      <td>34188.000000</td>\n      <td>34737.000000</td>\n    </tr>\n    <tr>\n      <th>mean</th>\n      <td>5.037646e+07</td>\n      <td>235.447634</td>\n      <td>31.319761</td>\n      <td>4.411066e+04</td>\n      <td>57.640284</td>\n      <td>1972.060829</td>\n    </tr>\n    <tr>\n      <th>std</th>\n      <td>1.704420e+08</td>\n      <td>751.787427</td>\n      <td>9.205982</td>\n      <td>2.614812e+05</td>\n      <td>28.010850</td>\n      <td>10168.166866</td>\n    </tr>\n    <tr>\n      <th>min</th>\n      <td>3.483000e+03</td>\n      <td>0.137000</td>\n      <td>15.100000</td>\n      <td>0.000000e+00</td>\n      <td>0.000000</td>\n      <td>0.000000</td>\n    </tr>\n    <tr>\n      <th>25%</th>\n      <td>3.989175e+06</td>\n      <td>35.608000</td>\n      <td>23.300000</td>\n      <td>4.600000e+01</td>\n      <td>38.890000</td>\n      <td>0.000000</td>\n    </tr>\n    <tr>\n      <th>50%</th>\n      <td>1.042306e+07</td>\n      <td>85.129000</td>\n      <td>31.100000</td>\n      <td>1.060000e+03</td>\n      <td>64.350000</td>\n      <td>21.000000</td>\n    </tr>\n    <tr>\n      <th>75%</th>\n      <td>3.691056e+07</td>\n      <td>207.973000</td>\n      <td>40.100000</td>\n      <td>1.065300e+04</td>\n      <td>79.630000</td>\n      <td>233.000000</td>\n    </tr>\n    <tr>\n      <th>max</th>\n      <td>1.439324e+09</td>\n      <td>7915.731000</td>\n      <td>48.200000</td>\n      <td>5.997163e+06</td>\n      <td>100.000000</td>\n      <td>183069.000000</td>\n    </tr>\n  </tbody>\n</table>\n</div>"
     },
     "metadata": {},
     "execution_count": 186
    }
   ],
   "source": [
    "# Check stats\n",
    "df_death_ml.describe()"
   ]
  },
  {
   "cell_type": "code",
   "execution_count": 187,
   "metadata": {},
   "outputs": [
    {
     "output_type": "execute_result",
     "data": {
      "text/plain": "population                 float64\npopulation_density         float64\nmedian_age                 float64\ntotal_cases_updated        float64\nStringencyIndex_updated    float64\ntotal_deaths_updated       float64\ndtype: object"
     },
     "metadata": {},
     "execution_count": 187
    }
   ],
   "source": [
    "# Check to make sure dtypes are appropriate .\n",
    "df_death_ml.dtypes"
   ]
  },
  {
   "cell_type": "code",
   "execution_count": 188,
   "metadata": {},
   "outputs": [
    {
     "output_type": "execute_result",
     "data": {
      "text/plain": "(34927, 6)"
     },
     "metadata": {},
     "execution_count": 188
    }
   ],
   "source": [
    "# Check shape before dropping na\n",
    "df_death_ml.shape"
   ]
  },
  {
   "cell_type": "code",
   "execution_count": 189,
   "metadata": {},
   "outputs": [
    {
     "output_type": "execute_result",
     "data": {
      "text/plain": "(31411, 6)"
     },
     "metadata": {},
     "execution_count": 189
    }
   ],
   "source": [
    "# Drop rows with null values\n",
    "df_death_ml=df_death_ml.dropna(how='any')\n",
    "df_death_ml.shape"
   ]
  },
  {
   "cell_type": "markdown",
   "metadata": {},
   "source": [
    "## DF New Cases"
   ]
  },
  {
   "cell_type": "code",
   "execution_count": 190,
   "metadata": {},
   "outputs": [
    {
     "output_type": "execute_result",
     "data": {
      "text/plain": "   population  population_density  median_age  ContainmentHealthIndex_updated  \\\n0    106766.0               584.8        41.2                            3.03   \n1    106766.0               584.8        41.2                           34.85   \n2    106766.0               584.8        41.2                           34.85   \n3    106766.0               584.8        41.2                           43.94   \n4    106766.0               584.8        41.2                           43.94   \n\n   StringencyIndex_updated  new_cases  \n0                     0.00        2.0  \n1                    33.33        0.0  \n2                    33.33        2.0  \n3                    44.44        0.0  \n4                    44.44        0.0  ",
      "text/html": "<div>\n<style scoped>\n    .dataframe tbody tr th:only-of-type {\n        vertical-align: middle;\n    }\n\n    .dataframe tbody tr th {\n        vertical-align: top;\n    }\n\n    .dataframe thead th {\n        text-align: right;\n    }\n</style>\n<table border=\"1\" class=\"dataframe\">\n  <thead>\n    <tr style=\"text-align: right;\">\n      <th></th>\n      <th>population</th>\n      <th>population_density</th>\n      <th>median_age</th>\n      <th>ContainmentHealthIndex_updated</th>\n      <th>StringencyIndex_updated</th>\n      <th>new_cases</th>\n    </tr>\n  </thead>\n  <tbody>\n    <tr>\n      <th>0</th>\n      <td>106766.0</td>\n      <td>584.8</td>\n      <td>41.2</td>\n      <td>3.03</td>\n      <td>0.00</td>\n      <td>2.0</td>\n    </tr>\n    <tr>\n      <th>1</th>\n      <td>106766.0</td>\n      <td>584.8</td>\n      <td>41.2</td>\n      <td>34.85</td>\n      <td>33.33</td>\n      <td>0.0</td>\n    </tr>\n    <tr>\n      <th>2</th>\n      <td>106766.0</td>\n      <td>584.8</td>\n      <td>41.2</td>\n      <td>34.85</td>\n      <td>33.33</td>\n      <td>2.0</td>\n    </tr>\n    <tr>\n      <th>3</th>\n      <td>106766.0</td>\n      <td>584.8</td>\n      <td>41.2</td>\n      <td>43.94</td>\n      <td>44.44</td>\n      <td>0.0</td>\n    </tr>\n    <tr>\n      <th>4</th>\n      <td>106766.0</td>\n      <td>584.8</td>\n      <td>41.2</td>\n      <td>43.94</td>\n      <td>44.44</td>\n      <td>0.0</td>\n    </tr>\n  </tbody>\n</table>\n</div>"
     },
     "metadata": {},
     "execution_count": 190
    }
   ],
   "source": [
    "# Create a df to test impact of some features on 'new cases'\n",
    "df_new_cases=df_pop[['population','population_density','median_age','ContainmentHealthIndex_updated','StringencyIndex_updated','new_cases']]\n",
    "df_new_cases.head()"
   ]
  },
  {
   "cell_type": "code",
   "execution_count": 191,
   "metadata": {},
   "outputs": [
    {
     "output_type": "execute_result",
     "data": {
      "text/plain": "         population  population_density    median_age  \\\ncount  3.492700e+04        33900.000000  32893.000000   \nmean   5.037646e+07          235.447634     31.319761   \nstd    1.704420e+08          751.787427      9.205982   \nmin    3.483000e+03            0.137000     15.100000   \n25%    3.989175e+06           35.608000     23.300000   \n50%    1.042306e+07           85.129000     31.100000   \n75%    3.691056e+07          207.973000     40.100000   \nmax    1.439324e+09         7915.731000     48.200000   \n\n       ContainmentHealthIndex_updated  StringencyIndex_updated     new_cases  \ncount                    34188.000000             34188.000000  34927.000000  \nmean                        57.949858                57.640284    720.074985  \nstd                         25.329507                28.010850   4196.769148  \nmin                          0.000000                 0.000000  -2461.000000  \n25%                         44.700000                38.890000      0.000000  \n50%                         64.390000                64.350000     12.000000  \n75%                         77.270000                79.630000    178.500000  \nmax                        100.000000               100.000000  78761.000000  ",
      "text/html": "<div>\n<style scoped>\n    .dataframe tbody tr th:only-of-type {\n        vertical-align: middle;\n    }\n\n    .dataframe tbody tr th {\n        vertical-align: top;\n    }\n\n    .dataframe thead th {\n        text-align: right;\n    }\n</style>\n<table border=\"1\" class=\"dataframe\">\n  <thead>\n    <tr style=\"text-align: right;\">\n      <th></th>\n      <th>population</th>\n      <th>population_density</th>\n      <th>median_age</th>\n      <th>ContainmentHealthIndex_updated</th>\n      <th>StringencyIndex_updated</th>\n      <th>new_cases</th>\n    </tr>\n  </thead>\n  <tbody>\n    <tr>\n      <th>count</th>\n      <td>3.492700e+04</td>\n      <td>33900.000000</td>\n      <td>32893.000000</td>\n      <td>34188.000000</td>\n      <td>34188.000000</td>\n      <td>34927.000000</td>\n    </tr>\n    <tr>\n      <th>mean</th>\n      <td>5.037646e+07</td>\n      <td>235.447634</td>\n      <td>31.319761</td>\n      <td>57.949858</td>\n      <td>57.640284</td>\n      <td>720.074985</td>\n    </tr>\n    <tr>\n      <th>std</th>\n      <td>1.704420e+08</td>\n      <td>751.787427</td>\n      <td>9.205982</td>\n      <td>25.329507</td>\n      <td>28.010850</td>\n      <td>4196.769148</td>\n    </tr>\n    <tr>\n      <th>min</th>\n      <td>3.483000e+03</td>\n      <td>0.137000</td>\n      <td>15.100000</td>\n      <td>0.000000</td>\n      <td>0.000000</td>\n      <td>-2461.000000</td>\n    </tr>\n    <tr>\n      <th>25%</th>\n      <td>3.989175e+06</td>\n      <td>35.608000</td>\n      <td>23.300000</td>\n      <td>44.700000</td>\n      <td>38.890000</td>\n      <td>0.000000</td>\n    </tr>\n    <tr>\n      <th>50%</th>\n      <td>1.042306e+07</td>\n      <td>85.129000</td>\n      <td>31.100000</td>\n      <td>64.390000</td>\n      <td>64.350000</td>\n      <td>12.000000</td>\n    </tr>\n    <tr>\n      <th>75%</th>\n      <td>3.691056e+07</td>\n      <td>207.973000</td>\n      <td>40.100000</td>\n      <td>77.270000</td>\n      <td>79.630000</td>\n      <td>178.500000</td>\n    </tr>\n    <tr>\n      <th>max</th>\n      <td>1.439324e+09</td>\n      <td>7915.731000</td>\n      <td>48.200000</td>\n      <td>100.000000</td>\n      <td>100.000000</td>\n      <td>78761.000000</td>\n    </tr>\n  </tbody>\n</table>\n</div>"
     },
     "metadata": {},
     "execution_count": 191
    }
   ],
   "source": [
    "# Check stats\n",
    "df_new_cases.describe()"
   ]
  },
  {
   "cell_type": "code",
   "execution_count": 192,
   "metadata": {},
   "outputs": [
    {
     "output_type": "execute_result",
     "data": {
      "text/plain": "(31601, 6)"
     },
     "metadata": {},
     "execution_count": 192
    }
   ],
   "source": [
    "# Drop rows with null values\n",
    "df_new_cases=df_new_cases.dropna(how='any')\n",
    "df_new_cases.shape"
   ]
  },
  {
   "cell_type": "markdown",
   "metadata": {},
   "source": [
    "## DF Total Cases"
   ]
  },
  {
   "cell_type": "code",
   "execution_count": 193,
   "metadata": {},
   "outputs": [
    {
     "output_type": "execute_result",
     "data": {
      "text/plain": "   population  population_density  median_age  ContainmentHealthIndex_updated  \\\n0    106766.0               584.8        41.2                            3.03   \n1    106766.0               584.8        41.2                           34.85   \n2    106766.0               584.8        41.2                           34.85   \n3    106766.0               584.8        41.2                           43.94   \n4    106766.0               584.8        41.2                           43.94   \n\n   StringencyIndex_updated  total_cases_updated  \n0                     0.00                  2.0  \n1                    33.33                  2.0  \n2                    33.33                  4.0  \n3                    44.44                  4.0  \n4                    44.44                  4.0  ",
      "text/html": "<div>\n<style scoped>\n    .dataframe tbody tr th:only-of-type {\n        vertical-align: middle;\n    }\n\n    .dataframe tbody tr th {\n        vertical-align: top;\n    }\n\n    .dataframe thead th {\n        text-align: right;\n    }\n</style>\n<table border=\"1\" class=\"dataframe\">\n  <thead>\n    <tr style=\"text-align: right;\">\n      <th></th>\n      <th>population</th>\n      <th>population_density</th>\n      <th>median_age</th>\n      <th>ContainmentHealthIndex_updated</th>\n      <th>StringencyIndex_updated</th>\n      <th>total_cases_updated</th>\n    </tr>\n  </thead>\n  <tbody>\n    <tr>\n      <th>0</th>\n      <td>106766.0</td>\n      <td>584.8</td>\n      <td>41.2</td>\n      <td>3.03</td>\n      <td>0.00</td>\n      <td>2.0</td>\n    </tr>\n    <tr>\n      <th>1</th>\n      <td>106766.0</td>\n      <td>584.8</td>\n      <td>41.2</td>\n      <td>34.85</td>\n      <td>33.33</td>\n      <td>2.0</td>\n    </tr>\n    <tr>\n      <th>2</th>\n      <td>106766.0</td>\n      <td>584.8</td>\n      <td>41.2</td>\n      <td>34.85</td>\n      <td>33.33</td>\n      <td>4.0</td>\n    </tr>\n    <tr>\n      <th>3</th>\n      <td>106766.0</td>\n      <td>584.8</td>\n      <td>41.2</td>\n      <td>43.94</td>\n      <td>44.44</td>\n      <td>4.0</td>\n    </tr>\n    <tr>\n      <th>4</th>\n      <td>106766.0</td>\n      <td>584.8</td>\n      <td>41.2</td>\n      <td>43.94</td>\n      <td>44.44</td>\n      <td>4.0</td>\n    </tr>\n  </tbody>\n</table>\n</div>"
     },
     "metadata": {},
     "execution_count": 193
    }
   ],
   "source": [
    "# Create a df to test impact of some features on 'total cases'\n",
    "df_cases_ml=df_pop[['population','population_density','median_age','ContainmentHealthIndex_updated','StringencyIndex_updated','total_cases_updated']]\n",
    "df_cases_ml.head()"
   ]
  },
  {
   "cell_type": "markdown",
   "metadata": {},
   "source": [
    "## Predicting Number of Deaths- with NN Model"
   ]
  },
  {
   "cell_type": "code",
   "execution_count": 194,
   "metadata": {},
   "outputs": [],
   "source": [
    "# create features(X) and target(y) sets\n",
    "X = df_death_ml.drop(['total_deaths_updated'],axis=1).values\n",
    "\n",
    "y = df_death_ml['total_deaths_updated'].values\n",
    "y = y.reshape(-1,1)"
   ]
  },
  {
   "cell_type": "code",
   "execution_count": 195,
   "metadata": {},
   "outputs": [
    {
     "output_type": "execute_result",
     "data": {
      "text/plain": "(31411, 5)"
     },
     "metadata": {},
     "execution_count": 195
    }
   ],
   "source": [
    "# Check shape for num of features\n",
    "X.shape"
   ]
  },
  {
   "cell_type": "code",
   "execution_count": 196,
   "metadata": {},
   "outputs": [],
   "source": [
    "# Split dataset into training and testing\n",
    "# train 95% of data, test 5%\n",
    "X_train, X_test, y_train, y_test = train_test_split(X, y, test_size=0.05)\n",
    "\n",
    "# scale data\n",
    "X_scaler = StandardScaler()\n",
    "X_scaler.fit(X_train)\n",
    "\n",
    "y_scaler= StandardScaler()\n",
    "y_scaler.fit(y_train)\n",
    "\n",
    "y_train_scaled=y_scaler.transform(y_train)\n",
    "y_test_scaled=y_scaler.transform(y_test)\n",
    "\n",
    "X_train_scaled = X_scaler.transform(X_train)\n",
    "X_test_scaled = X_scaler.transform(X_test)"
   ]
  },
  {
   "cell_type": "code",
   "execution_count": 197,
   "metadata": {
    "scrolled": false,
    "tags": []
   },
   "outputs": [
    {
     "output_type": "error",
     "ename": "KeyboardInterrupt",
     "evalue": "",
     "traceback": [
      "\u001b[0;31m---------------------------------------------------------------------------\u001b[0m",
      "\u001b[0;31mKeyboardInterrupt\u001b[0m                         Traceback (most recent call last)",
      "\u001b[0;32m<ipython-input-197-0da8fceec063>\u001b[0m in \u001b[0;36m<module>\u001b[0;34m\u001b[0m\n\u001b[1;32m      4\u001b[0m \u001b[0;34m\u001b[0m\u001b[0m\n\u001b[1;32m      5\u001b[0m \u001b[0mnn\u001b[0m \u001b[0;34m=\u001b[0m \u001b[0mSequential\u001b[0m\u001b[0;34m(\u001b[0m\u001b[0;34m)\u001b[0m\u001b[0;34m\u001b[0m\u001b[0;34m\u001b[0m\u001b[0m\n\u001b[0;32m----> 6\u001b[0;31m \u001b[0mnn\u001b[0m\u001b[0;34m.\u001b[0m\u001b[0madd\u001b[0m\u001b[0;34m(\u001b[0m\u001b[0mDense\u001b[0m\u001b[0;34m(\u001b[0m\u001b[0munits\u001b[0m\u001b[0;34m=\u001b[0m\u001b[0mnumber_hidden_nodes\u001b[0m\u001b[0;34m,\u001b[0m \u001b[0minput_dim\u001b[0m\u001b[0;34m=\u001b[0m\u001b[0mnumber_input_features\u001b[0m\u001b[0;34m,\u001b[0m \u001b[0mactivation\u001b[0m\u001b[0;34m=\u001b[0m\u001b[0;34m\"relu\"\u001b[0m\u001b[0;34m)\u001b[0m\u001b[0;34m)\u001b[0m\u001b[0;34m\u001b[0m\u001b[0;34m\u001b[0m\u001b[0m\n\u001b[0m\u001b[1;32m      7\u001b[0m \u001b[0mnn\u001b[0m\u001b[0;34m.\u001b[0m\u001b[0madd\u001b[0m\u001b[0;34m(\u001b[0m\u001b[0mDense\u001b[0m\u001b[0;34m(\u001b[0m\u001b[0;36m1\u001b[0m\u001b[0;34m,\u001b[0m \u001b[0mactivation\u001b[0m\u001b[0;34m=\u001b[0m\u001b[0;34m\"linear\"\u001b[0m\u001b[0;34m)\u001b[0m\u001b[0;34m)\u001b[0m\u001b[0;34m\u001b[0m\u001b[0;34m\u001b[0m\u001b[0m\n\u001b[1;32m      8\u001b[0m \u001b[0;34m\u001b[0m\u001b[0m\n",
      "\u001b[0;32m~/anaconda3/envs/mlenv2/lib/python3.7/site-packages/tensorflow/python/training/tracking/base.py\u001b[0m in \u001b[0;36m_method_wrapper\u001b[0;34m(self, *args, **kwargs)\u001b[0m\n\u001b[1;32m    454\u001b[0m     \u001b[0mself\u001b[0m\u001b[0;34m.\u001b[0m\u001b[0m_self_setattr_tracking\u001b[0m \u001b[0;34m=\u001b[0m \u001b[0;32mFalse\u001b[0m  \u001b[0;31m# pylint: disable=protected-access\u001b[0m\u001b[0;34m\u001b[0m\u001b[0;34m\u001b[0m\u001b[0m\n\u001b[1;32m    455\u001b[0m     \u001b[0;32mtry\u001b[0m\u001b[0;34m:\u001b[0m\u001b[0;34m\u001b[0m\u001b[0;34m\u001b[0m\u001b[0m\n\u001b[0;32m--> 456\u001b[0;31m       \u001b[0mresult\u001b[0m \u001b[0;34m=\u001b[0m \u001b[0mmethod\u001b[0m\u001b[0;34m(\u001b[0m\u001b[0mself\u001b[0m\u001b[0;34m,\u001b[0m \u001b[0;34m*\u001b[0m\u001b[0margs\u001b[0m\u001b[0;34m,\u001b[0m \u001b[0;34m**\u001b[0m\u001b[0mkwargs\u001b[0m\u001b[0;34m)\u001b[0m\u001b[0;34m\u001b[0m\u001b[0;34m\u001b[0m\u001b[0m\n\u001b[0m\u001b[1;32m    457\u001b[0m     \u001b[0;32mfinally\u001b[0m\u001b[0;34m:\u001b[0m\u001b[0;34m\u001b[0m\u001b[0;34m\u001b[0m\u001b[0m\n\u001b[1;32m    458\u001b[0m       \u001b[0mself\u001b[0m\u001b[0;34m.\u001b[0m\u001b[0m_self_setattr_tracking\u001b[0m \u001b[0;34m=\u001b[0m \u001b[0mprevious_value\u001b[0m  \u001b[0;31m# pylint: disable=protected-access\u001b[0m\u001b[0;34m\u001b[0m\u001b[0;34m\u001b[0m\u001b[0m\n",
      "\u001b[0;32m~/anaconda3/envs/mlenv2/lib/python3.7/site-packages/tensorflow/python/keras/engine/sequential.py\u001b[0m in \u001b[0;36madd\u001b[0;34m(self, layer)\u001b[0m\n\u001b[1;32m    196\u001b[0m           \u001b[0;31m# and create the node connecting the current layer\u001b[0m\u001b[0;34m\u001b[0m\u001b[0;34m\u001b[0m\u001b[0;34m\u001b[0m\u001b[0m\n\u001b[1;32m    197\u001b[0m           \u001b[0;31m# to the input layer we just created.\u001b[0m\u001b[0;34m\u001b[0m\u001b[0;34m\u001b[0m\u001b[0;34m\u001b[0m\u001b[0m\n\u001b[0;32m--> 198\u001b[0;31m           \u001b[0mlayer\u001b[0m\u001b[0;34m(\u001b[0m\u001b[0mx\u001b[0m\u001b[0;34m)\u001b[0m\u001b[0;34m\u001b[0m\u001b[0;34m\u001b[0m\u001b[0m\n\u001b[0m\u001b[1;32m    199\u001b[0m           \u001b[0mset_inputs\u001b[0m \u001b[0;34m=\u001b[0m \u001b[0;32mTrue\u001b[0m\u001b[0;34m\u001b[0m\u001b[0;34m\u001b[0m\u001b[0m\n\u001b[1;32m    200\u001b[0m \u001b[0;34m\u001b[0m\u001b[0m\n",
      "\u001b[0;32m~/anaconda3/envs/mlenv2/lib/python3.7/site-packages/tensorflow/python/keras/engine/base_layer.py\u001b[0m in \u001b[0;36m__call__\u001b[0;34m(self, *args, **kwargs)\u001b[0m\n\u001b[1;32m    895\u001b[0m           \u001b[0;31m# Build layer if applicable (if the `build` method has been\u001b[0m\u001b[0;34m\u001b[0m\u001b[0;34m\u001b[0m\u001b[0;34m\u001b[0m\u001b[0m\n\u001b[1;32m    896\u001b[0m           \u001b[0;31m# overridden).\u001b[0m\u001b[0;34m\u001b[0m\u001b[0;34m\u001b[0m\u001b[0;34m\u001b[0m\u001b[0m\n\u001b[0;32m--> 897\u001b[0;31m           \u001b[0mself\u001b[0m\u001b[0;34m.\u001b[0m\u001b[0m_maybe_build\u001b[0m\u001b[0;34m(\u001b[0m\u001b[0minputs\u001b[0m\u001b[0;34m)\u001b[0m\u001b[0;34m\u001b[0m\u001b[0;34m\u001b[0m\u001b[0m\n\u001b[0m\u001b[1;32m    898\u001b[0m           \u001b[0mcast_inputs\u001b[0m \u001b[0;34m=\u001b[0m \u001b[0mself\u001b[0m\u001b[0;34m.\u001b[0m\u001b[0m_maybe_cast_inputs\u001b[0m\u001b[0;34m(\u001b[0m\u001b[0minputs\u001b[0m\u001b[0;34m)\u001b[0m\u001b[0;34m\u001b[0m\u001b[0;34m\u001b[0m\u001b[0m\n\u001b[1;32m    899\u001b[0m \u001b[0;34m\u001b[0m\u001b[0m\n",
      "\u001b[0;32m~/anaconda3/envs/mlenv2/lib/python3.7/site-packages/tensorflow/python/keras/engine/base_layer.py\u001b[0m in \u001b[0;36m_maybe_build\u001b[0;34m(self, inputs)\u001b[0m\n\u001b[1;32m   2414\u001b[0m         \u001b[0;31m# operations.\u001b[0m\u001b[0;34m\u001b[0m\u001b[0;34m\u001b[0m\u001b[0;34m\u001b[0m\u001b[0m\n\u001b[1;32m   2415\u001b[0m         \u001b[0;32mwith\u001b[0m \u001b[0mtf_utils\u001b[0m\u001b[0;34m.\u001b[0m\u001b[0mmaybe_init_scope\u001b[0m\u001b[0;34m(\u001b[0m\u001b[0mself\u001b[0m\u001b[0;34m)\u001b[0m\u001b[0;34m:\u001b[0m\u001b[0;34m\u001b[0m\u001b[0;34m\u001b[0m\u001b[0m\n\u001b[0;32m-> 2416\u001b[0;31m           \u001b[0mself\u001b[0m\u001b[0;34m.\u001b[0m\u001b[0mbuild\u001b[0m\u001b[0;34m(\u001b[0m\u001b[0minput_shapes\u001b[0m\u001b[0;34m)\u001b[0m  \u001b[0;31m# pylint:disable=not-callable\u001b[0m\u001b[0;34m\u001b[0m\u001b[0;34m\u001b[0m\u001b[0m\n\u001b[0m\u001b[1;32m   2417\u001b[0m       \u001b[0;31m# We must set also ensure that the layer is marked as built, and the build\u001b[0m\u001b[0;34m\u001b[0m\u001b[0;34m\u001b[0m\u001b[0;34m\u001b[0m\u001b[0m\n\u001b[1;32m   2418\u001b[0m       \u001b[0;31m# shape is stored since user defined build functions may not be calling\u001b[0m\u001b[0;34m\u001b[0m\u001b[0;34m\u001b[0m\u001b[0;34m\u001b[0m\u001b[0m\n",
      "\u001b[0;32m~/anaconda3/envs/mlenv2/lib/python3.7/site-packages/tensorflow/python/keras/layers/core.py\u001b[0m in \u001b[0;36mbuild\u001b[0;34m(self, input_shape)\u001b[0m\n\u001b[1;32m   1163\u001b[0m         \u001b[0mconstraint\u001b[0m\u001b[0;34m=\u001b[0m\u001b[0mself\u001b[0m\u001b[0;34m.\u001b[0m\u001b[0mkernel_constraint\u001b[0m\u001b[0;34m,\u001b[0m\u001b[0;34m\u001b[0m\u001b[0;34m\u001b[0m\u001b[0m\n\u001b[1;32m   1164\u001b[0m         \u001b[0mdtype\u001b[0m\u001b[0;34m=\u001b[0m\u001b[0mself\u001b[0m\u001b[0;34m.\u001b[0m\u001b[0mdtype\u001b[0m\u001b[0;34m,\u001b[0m\u001b[0;34m\u001b[0m\u001b[0;34m\u001b[0m\u001b[0m\n\u001b[0;32m-> 1165\u001b[0;31m         trainable=True)\n\u001b[0m\u001b[1;32m   1166\u001b[0m     \u001b[0;32mif\u001b[0m \u001b[0mself\u001b[0m\u001b[0;34m.\u001b[0m\u001b[0muse_bias\u001b[0m\u001b[0;34m:\u001b[0m\u001b[0;34m\u001b[0m\u001b[0;34m\u001b[0m\u001b[0m\n\u001b[1;32m   1167\u001b[0m       self.bias = self.add_weight(\n",
      "\u001b[0;32m~/anaconda3/envs/mlenv2/lib/python3.7/site-packages/tensorflow/python/keras/engine/base_layer.py\u001b[0m in \u001b[0;36madd_weight\u001b[0;34m(self, name, shape, dtype, initializer, regularizer, trainable, constraint, partitioner, use_resource, synchronization, aggregation, **kwargs)\u001b[0m\n\u001b[1;32m    575\u001b[0m         \u001b[0msynchronization\u001b[0m\u001b[0;34m=\u001b[0m\u001b[0msynchronization\u001b[0m\u001b[0;34m,\u001b[0m\u001b[0;34m\u001b[0m\u001b[0;34m\u001b[0m\u001b[0m\n\u001b[1;32m    576\u001b[0m         \u001b[0maggregation\u001b[0m\u001b[0;34m=\u001b[0m\u001b[0maggregation\u001b[0m\u001b[0;34m,\u001b[0m\u001b[0;34m\u001b[0m\u001b[0;34m\u001b[0m\u001b[0m\n\u001b[0;32m--> 577\u001b[0;31m         caching_device=caching_device)\n\u001b[0m\u001b[1;32m    578\u001b[0m     \u001b[0;32mif\u001b[0m \u001b[0mregularizer\u001b[0m \u001b[0;32mis\u001b[0m \u001b[0;32mnot\u001b[0m \u001b[0;32mNone\u001b[0m\u001b[0;34m:\u001b[0m\u001b[0;34m\u001b[0m\u001b[0;34m\u001b[0m\u001b[0m\n\u001b[1;32m    579\u001b[0m       \u001b[0;31m# TODO(fchollet): in the future, this should be handled at the\u001b[0m\u001b[0;34m\u001b[0m\u001b[0;34m\u001b[0m\u001b[0;34m\u001b[0m\u001b[0m\n",
      "\u001b[0;32m~/anaconda3/envs/mlenv2/lib/python3.7/site-packages/tensorflow/python/training/tracking/base.py\u001b[0m in \u001b[0;36m_add_variable_with_custom_getter\u001b[0;34m(self, name, shape, dtype, initializer, getter, overwrite, **kwargs_for_getter)\u001b[0m\n\u001b[1;32m    741\u001b[0m         \u001b[0mdtype\u001b[0m\u001b[0;34m=\u001b[0m\u001b[0mdtype\u001b[0m\u001b[0;34m,\u001b[0m\u001b[0;34m\u001b[0m\u001b[0;34m\u001b[0m\u001b[0m\n\u001b[1;32m    742\u001b[0m         \u001b[0minitializer\u001b[0m\u001b[0;34m=\u001b[0m\u001b[0minitializer\u001b[0m\u001b[0;34m,\u001b[0m\u001b[0;34m\u001b[0m\u001b[0;34m\u001b[0m\u001b[0m\n\u001b[0;32m--> 743\u001b[0;31m         **kwargs_for_getter)\n\u001b[0m\u001b[1;32m    744\u001b[0m \u001b[0;34m\u001b[0m\u001b[0m\n\u001b[1;32m    745\u001b[0m     \u001b[0;31m# If we set an initializer and the variable processed it, tracking will not\u001b[0m\u001b[0;34m\u001b[0m\u001b[0;34m\u001b[0m\u001b[0;34m\u001b[0m\u001b[0m\n",
      "\u001b[0;32m~/anaconda3/envs/mlenv2/lib/python3.7/site-packages/tensorflow/python/keras/engine/base_layer_utils.py\u001b[0m in \u001b[0;36mmake_variable\u001b[0;34m(name, shape, dtype, initializer, trainable, caching_device, validate_shape, constraint, use_resource, collections, synchronization, aggregation, partitioner)\u001b[0m\n\u001b[1;32m    139\u001b[0m       \u001b[0msynchronization\u001b[0m\u001b[0;34m=\u001b[0m\u001b[0msynchronization\u001b[0m\u001b[0;34m,\u001b[0m\u001b[0;34m\u001b[0m\u001b[0;34m\u001b[0m\u001b[0m\n\u001b[1;32m    140\u001b[0m       \u001b[0maggregation\u001b[0m\u001b[0;34m=\u001b[0m\u001b[0maggregation\u001b[0m\u001b[0;34m,\u001b[0m\u001b[0;34m\u001b[0m\u001b[0;34m\u001b[0m\u001b[0m\n\u001b[0;32m--> 141\u001b[0;31m       shape=variable_shape if variable_shape else None)\n\u001b[0m\u001b[1;32m    142\u001b[0m \u001b[0;34m\u001b[0m\u001b[0m\n\u001b[1;32m    143\u001b[0m \u001b[0;34m\u001b[0m\u001b[0m\n",
      "\u001b[0;32m~/anaconda3/envs/mlenv2/lib/python3.7/site-packages/tensorflow/python/ops/variables.py\u001b[0m in \u001b[0;36m__call__\u001b[0;34m(cls, *args, **kwargs)\u001b[0m\n\u001b[1;32m    257\u001b[0m   \u001b[0;32mdef\u001b[0m \u001b[0m__call__\u001b[0m\u001b[0;34m(\u001b[0m\u001b[0mcls\u001b[0m\u001b[0;34m,\u001b[0m \u001b[0;34m*\u001b[0m\u001b[0margs\u001b[0m\u001b[0;34m,\u001b[0m \u001b[0;34m**\u001b[0m\u001b[0mkwargs\u001b[0m\u001b[0;34m)\u001b[0m\u001b[0;34m:\u001b[0m\u001b[0;34m\u001b[0m\u001b[0;34m\u001b[0m\u001b[0m\n\u001b[1;32m    258\u001b[0m     \u001b[0;32mif\u001b[0m \u001b[0mcls\u001b[0m \u001b[0;32mis\u001b[0m \u001b[0mVariableV1\u001b[0m\u001b[0;34m:\u001b[0m\u001b[0;34m\u001b[0m\u001b[0;34m\u001b[0m\u001b[0m\n\u001b[0;32m--> 259\u001b[0;31m       \u001b[0;32mreturn\u001b[0m \u001b[0mcls\u001b[0m\u001b[0;34m.\u001b[0m\u001b[0m_variable_v1_call\u001b[0m\u001b[0;34m(\u001b[0m\u001b[0;34m*\u001b[0m\u001b[0margs\u001b[0m\u001b[0;34m,\u001b[0m \u001b[0;34m**\u001b[0m\u001b[0mkwargs\u001b[0m\u001b[0;34m)\u001b[0m\u001b[0;34m\u001b[0m\u001b[0;34m\u001b[0m\u001b[0m\n\u001b[0m\u001b[1;32m    260\u001b[0m     \u001b[0;32melif\u001b[0m \u001b[0mcls\u001b[0m \u001b[0;32mis\u001b[0m \u001b[0mVariable\u001b[0m\u001b[0;34m:\u001b[0m\u001b[0;34m\u001b[0m\u001b[0;34m\u001b[0m\u001b[0m\n\u001b[1;32m    261\u001b[0m       \u001b[0;32mreturn\u001b[0m \u001b[0mcls\u001b[0m\u001b[0;34m.\u001b[0m\u001b[0m_variable_v2_call\u001b[0m\u001b[0;34m(\u001b[0m\u001b[0;34m*\u001b[0m\u001b[0margs\u001b[0m\u001b[0;34m,\u001b[0m \u001b[0;34m**\u001b[0m\u001b[0mkwargs\u001b[0m\u001b[0;34m)\u001b[0m\u001b[0;34m\u001b[0m\u001b[0;34m\u001b[0m\u001b[0m\n",
      "\u001b[0;32m~/anaconda3/envs/mlenv2/lib/python3.7/site-packages/tensorflow/python/ops/variables.py\u001b[0m in \u001b[0;36m_variable_v1_call\u001b[0;34m(cls, initial_value, trainable, collections, validate_shape, caching_device, name, variable_def, dtype, expected_shape, import_scope, constraint, use_resource, synchronization, aggregation, shape)\u001b[0m\n\u001b[1;32m    218\u001b[0m         \u001b[0msynchronization\u001b[0m\u001b[0;34m=\u001b[0m\u001b[0msynchronization\u001b[0m\u001b[0;34m,\u001b[0m\u001b[0;34m\u001b[0m\u001b[0;34m\u001b[0m\u001b[0m\n\u001b[1;32m    219\u001b[0m         \u001b[0maggregation\u001b[0m\u001b[0;34m=\u001b[0m\u001b[0maggregation\u001b[0m\u001b[0;34m,\u001b[0m\u001b[0;34m\u001b[0m\u001b[0;34m\u001b[0m\u001b[0m\n\u001b[0;32m--> 220\u001b[0;31m         shape=shape)\n\u001b[0m\u001b[1;32m    221\u001b[0m \u001b[0;34m\u001b[0m\u001b[0m\n\u001b[1;32m    222\u001b[0m   def _variable_v2_call(cls,\n",
      "\u001b[0;32m~/anaconda3/envs/mlenv2/lib/python3.7/site-packages/tensorflow/python/ops/variables.py\u001b[0m in \u001b[0;36m<lambda>\u001b[0;34m(**kwargs)\u001b[0m\n\u001b[1;32m    196\u001b[0m                         shape=None):\n\u001b[1;32m    197\u001b[0m     \u001b[0;34m\"\"\"Call on Variable class. Useful to force the signature.\"\"\"\u001b[0m\u001b[0;34m\u001b[0m\u001b[0;34m\u001b[0m\u001b[0m\n\u001b[0;32m--> 198\u001b[0;31m     \u001b[0mprevious_getter\u001b[0m \u001b[0;34m=\u001b[0m \u001b[0;32mlambda\u001b[0m \u001b[0;34m**\u001b[0m\u001b[0mkwargs\u001b[0m\u001b[0;34m:\u001b[0m \u001b[0mdefault_variable_creator\u001b[0m\u001b[0;34m(\u001b[0m\u001b[0;32mNone\u001b[0m\u001b[0;34m,\u001b[0m \u001b[0;34m**\u001b[0m\u001b[0mkwargs\u001b[0m\u001b[0;34m)\u001b[0m\u001b[0;34m\u001b[0m\u001b[0;34m\u001b[0m\u001b[0m\n\u001b[0m\u001b[1;32m    199\u001b[0m     \u001b[0;32mfor\u001b[0m \u001b[0m_\u001b[0m\u001b[0;34m,\u001b[0m \u001b[0mgetter\u001b[0m \u001b[0;32min\u001b[0m \u001b[0mops\u001b[0m\u001b[0;34m.\u001b[0m\u001b[0mget_default_graph\u001b[0m\u001b[0;34m(\u001b[0m\u001b[0;34m)\u001b[0m\u001b[0;34m.\u001b[0m\u001b[0m_variable_creator_stack\u001b[0m\u001b[0;34m:\u001b[0m  \u001b[0;31m# pylint: disable=protected-access\u001b[0m\u001b[0;34m\u001b[0m\u001b[0;34m\u001b[0m\u001b[0m\n\u001b[1;32m    200\u001b[0m       \u001b[0mprevious_getter\u001b[0m \u001b[0;34m=\u001b[0m \u001b[0m_make_getter\u001b[0m\u001b[0;34m(\u001b[0m\u001b[0mgetter\u001b[0m\u001b[0;34m,\u001b[0m \u001b[0mprevious_getter\u001b[0m\u001b[0;34m)\u001b[0m\u001b[0;34m\u001b[0m\u001b[0;34m\u001b[0m\u001b[0m\n",
      "\u001b[0;32m~/anaconda3/envs/mlenv2/lib/python3.7/site-packages/tensorflow/python/ops/variable_scope.py\u001b[0m in \u001b[0;36mdefault_variable_creator\u001b[0;34m(next_creator, **kwargs)\u001b[0m\n\u001b[1;32m   2596\u001b[0m         \u001b[0msynchronization\u001b[0m\u001b[0;34m=\u001b[0m\u001b[0msynchronization\u001b[0m\u001b[0;34m,\u001b[0m\u001b[0;34m\u001b[0m\u001b[0;34m\u001b[0m\u001b[0m\n\u001b[1;32m   2597\u001b[0m         \u001b[0maggregation\u001b[0m\u001b[0;34m=\u001b[0m\u001b[0maggregation\u001b[0m\u001b[0;34m,\u001b[0m\u001b[0;34m\u001b[0m\u001b[0;34m\u001b[0m\u001b[0m\n\u001b[0;32m-> 2598\u001b[0;31m         shape=shape)\n\u001b[0m\u001b[1;32m   2599\u001b[0m   \u001b[0;32melse\u001b[0m\u001b[0;34m:\u001b[0m\u001b[0;34m\u001b[0m\u001b[0;34m\u001b[0m\u001b[0m\n\u001b[1;32m   2600\u001b[0m     return variables.RefVariable(\n",
      "\u001b[0;32m~/anaconda3/envs/mlenv2/lib/python3.7/site-packages/tensorflow/python/ops/variables.py\u001b[0m in \u001b[0;36m__call__\u001b[0;34m(cls, *args, **kwargs)\u001b[0m\n\u001b[1;32m    261\u001b[0m       \u001b[0;32mreturn\u001b[0m \u001b[0mcls\u001b[0m\u001b[0;34m.\u001b[0m\u001b[0m_variable_v2_call\u001b[0m\u001b[0;34m(\u001b[0m\u001b[0;34m*\u001b[0m\u001b[0margs\u001b[0m\u001b[0;34m,\u001b[0m \u001b[0;34m**\u001b[0m\u001b[0mkwargs\u001b[0m\u001b[0;34m)\u001b[0m\u001b[0;34m\u001b[0m\u001b[0;34m\u001b[0m\u001b[0m\n\u001b[1;32m    262\u001b[0m     \u001b[0;32melse\u001b[0m\u001b[0;34m:\u001b[0m\u001b[0;34m\u001b[0m\u001b[0;34m\u001b[0m\u001b[0m\n\u001b[0;32m--> 263\u001b[0;31m       \u001b[0;32mreturn\u001b[0m \u001b[0msuper\u001b[0m\u001b[0;34m(\u001b[0m\u001b[0mVariableMetaclass\u001b[0m\u001b[0;34m,\u001b[0m \u001b[0mcls\u001b[0m\u001b[0;34m)\u001b[0m\u001b[0;34m.\u001b[0m\u001b[0m__call__\u001b[0m\u001b[0;34m(\u001b[0m\u001b[0;34m*\u001b[0m\u001b[0margs\u001b[0m\u001b[0;34m,\u001b[0m \u001b[0;34m**\u001b[0m\u001b[0mkwargs\u001b[0m\u001b[0;34m)\u001b[0m\u001b[0;34m\u001b[0m\u001b[0;34m\u001b[0m\u001b[0m\n\u001b[0m\u001b[1;32m    264\u001b[0m \u001b[0;34m\u001b[0m\u001b[0m\n\u001b[1;32m    265\u001b[0m \u001b[0;34m\u001b[0m\u001b[0m\n",
      "\u001b[0;32m~/anaconda3/envs/mlenv2/lib/python3.7/site-packages/tensorflow/python/ops/resource_variable_ops.py\u001b[0m in \u001b[0;36m__init__\u001b[0;34m(self, initial_value, trainable, collections, validate_shape, caching_device, name, dtype, variable_def, import_scope, constraint, distribute_strategy, synchronization, aggregation, shape)\u001b[0m\n\u001b[1;32m   1432\u001b[0m           \u001b[0maggregation\u001b[0m\u001b[0;34m=\u001b[0m\u001b[0maggregation\u001b[0m\u001b[0;34m,\u001b[0m\u001b[0;34m\u001b[0m\u001b[0;34m\u001b[0m\u001b[0m\n\u001b[1;32m   1433\u001b[0m           \u001b[0mshape\u001b[0m\u001b[0;34m=\u001b[0m\u001b[0mshape\u001b[0m\u001b[0;34m,\u001b[0m\u001b[0;34m\u001b[0m\u001b[0;34m\u001b[0m\u001b[0m\n\u001b[0;32m-> 1434\u001b[0;31m           distribute_strategy=distribute_strategy)\n\u001b[0m\u001b[1;32m   1435\u001b[0m \u001b[0;34m\u001b[0m\u001b[0m\n\u001b[1;32m   1436\u001b[0m   def _init_from_args(self,\n",
      "\u001b[0;32m~/anaconda3/envs/mlenv2/lib/python3.7/site-packages/tensorflow/python/ops/resource_variable_ops.py\u001b[0m in \u001b[0;36m_init_from_args\u001b[0;34m(self, initial_value, trainable, collections, caching_device, name, dtype, constraint, synchronization, aggregation, distribute_strategy, shape)\u001b[0m\n\u001b[1;32m   1565\u001b[0m           \u001b[0;32mwith\u001b[0m \u001b[0mops\u001b[0m\u001b[0;34m.\u001b[0m\u001b[0mname_scope\u001b[0m\u001b[0;34m(\u001b[0m\u001b[0;34m\"Initializer\"\u001b[0m\u001b[0;34m)\u001b[0m\u001b[0;34m,\u001b[0m \u001b[0mdevice_context_manager\u001b[0m\u001b[0;34m(\u001b[0m\u001b[0;32mNone\u001b[0m\u001b[0;34m)\u001b[0m\u001b[0;34m:\u001b[0m\u001b[0;34m\u001b[0m\u001b[0;34m\u001b[0m\u001b[0m\n\u001b[1;32m   1566\u001b[0m             initial_value = ops.convert_to_tensor(\n\u001b[0;32m-> 1567\u001b[0;31m                 \u001b[0minitial_value\u001b[0m\u001b[0;34m(\u001b[0m\u001b[0;34m)\u001b[0m \u001b[0;32mif\u001b[0m \u001b[0minit_from_fn\u001b[0m \u001b[0;32melse\u001b[0m \u001b[0minitial_value\u001b[0m\u001b[0;34m,\u001b[0m\u001b[0;34m\u001b[0m\u001b[0;34m\u001b[0m\u001b[0m\n\u001b[0m\u001b[1;32m   1568\u001b[0m                 name=\"initial_value\", dtype=dtype)\n\u001b[1;32m   1569\u001b[0m           \u001b[0;32mif\u001b[0m \u001b[0mshape\u001b[0m \u001b[0;32mis\u001b[0m \u001b[0;32mnot\u001b[0m \u001b[0;32mNone\u001b[0m\u001b[0;34m:\u001b[0m\u001b[0;34m\u001b[0m\u001b[0;34m\u001b[0m\u001b[0m\n",
      "\u001b[0;32m~/anaconda3/envs/mlenv2/lib/python3.7/site-packages/tensorflow/python/keras/engine/base_layer_utils.py\u001b[0m in \u001b[0;36m<lambda>\u001b[0;34m()\u001b[0m\n\u001b[1;32m    119\u001b[0m         (type(init_ops.Initializer), type(init_ops_v2.Initializer))):\n\u001b[1;32m    120\u001b[0m       \u001b[0minitializer\u001b[0m \u001b[0;34m=\u001b[0m \u001b[0minitializer\u001b[0m\u001b[0;34m(\u001b[0m\u001b[0;34m)\u001b[0m\u001b[0;34m\u001b[0m\u001b[0;34m\u001b[0m\u001b[0m\n\u001b[0;32m--> 121\u001b[0;31m     \u001b[0minit_val\u001b[0m \u001b[0;34m=\u001b[0m \u001b[0;32mlambda\u001b[0m\u001b[0;34m:\u001b[0m \u001b[0minitializer\u001b[0m\u001b[0;34m(\u001b[0m\u001b[0mshape\u001b[0m\u001b[0;34m,\u001b[0m \u001b[0mdtype\u001b[0m\u001b[0;34m=\u001b[0m\u001b[0mdtype\u001b[0m\u001b[0;34m)\u001b[0m\u001b[0;34m\u001b[0m\u001b[0;34m\u001b[0m\u001b[0m\n\u001b[0m\u001b[1;32m    122\u001b[0m     \u001b[0mvariable_dtype\u001b[0m \u001b[0;34m=\u001b[0m \u001b[0mdtype\u001b[0m\u001b[0;34m.\u001b[0m\u001b[0mbase_dtype\u001b[0m\u001b[0;34m\u001b[0m\u001b[0;34m\u001b[0m\u001b[0m\n\u001b[1;32m    123\u001b[0m   \u001b[0;32mif\u001b[0m \u001b[0muse_resource\u001b[0m \u001b[0;32mis\u001b[0m \u001b[0;32mNone\u001b[0m\u001b[0;34m:\u001b[0m\u001b[0;34m\u001b[0m\u001b[0;34m\u001b[0m\u001b[0m\n",
      "\u001b[0;32m~/anaconda3/envs/mlenv2/lib/python3.7/site-packages/tensorflow/python/ops/init_ops_v2.py\u001b[0m in \u001b[0;36m__call__\u001b[0;34m(self, shape, dtype)\u001b[0m\n\u001b[1;32m    556\u001b[0m     \u001b[0;32melse\u001b[0m\u001b[0;34m:\u001b[0m\u001b[0;34m\u001b[0m\u001b[0;34m\u001b[0m\u001b[0m\n\u001b[1;32m    557\u001b[0m       \u001b[0mlimit\u001b[0m \u001b[0;34m=\u001b[0m \u001b[0mmath\u001b[0m\u001b[0;34m.\u001b[0m\u001b[0msqrt\u001b[0m\u001b[0;34m(\u001b[0m\u001b[0;36m3.0\u001b[0m \u001b[0;34m*\u001b[0m \u001b[0mscale\u001b[0m\u001b[0;34m)\u001b[0m\u001b[0;34m\u001b[0m\u001b[0;34m\u001b[0m\u001b[0m\n\u001b[0;32m--> 558\u001b[0;31m       \u001b[0;32mreturn\u001b[0m \u001b[0mself\u001b[0m\u001b[0;34m.\u001b[0m\u001b[0m_random_generator\u001b[0m\u001b[0;34m.\u001b[0m\u001b[0mrandom_uniform\u001b[0m\u001b[0;34m(\u001b[0m\u001b[0mshape\u001b[0m\u001b[0;34m,\u001b[0m \u001b[0;34m-\u001b[0m\u001b[0mlimit\u001b[0m\u001b[0;34m,\u001b[0m \u001b[0mlimit\u001b[0m\u001b[0;34m,\u001b[0m \u001b[0mdtype\u001b[0m\u001b[0;34m)\u001b[0m\u001b[0;34m\u001b[0m\u001b[0;34m\u001b[0m\u001b[0m\n\u001b[0m\u001b[1;32m    559\u001b[0m \u001b[0;34m\u001b[0m\u001b[0m\n\u001b[1;32m    560\u001b[0m   \u001b[0;32mdef\u001b[0m \u001b[0mget_config\u001b[0m\u001b[0;34m(\u001b[0m\u001b[0mself\u001b[0m\u001b[0;34m)\u001b[0m\u001b[0;34m:\u001b[0m\u001b[0;34m\u001b[0m\u001b[0;34m\u001b[0m\u001b[0m\n",
      "\u001b[0;32m~/anaconda3/envs/mlenv2/lib/python3.7/site-packages/tensorflow/python/ops/init_ops_v2.py\u001b[0m in \u001b[0;36mrandom_uniform\u001b[0;34m(self, shape, minval, maxval, dtype)\u001b[0m\n\u001b[1;32m   1066\u001b[0m       \u001b[0mop\u001b[0m \u001b[0;34m=\u001b[0m \u001b[0mrandom_ops\u001b[0m\u001b[0;34m.\u001b[0m\u001b[0mrandom_uniform\u001b[0m\u001b[0;34m\u001b[0m\u001b[0;34m\u001b[0m\u001b[0m\n\u001b[1;32m   1067\u001b[0m     return op(\n\u001b[0;32m-> 1068\u001b[0;31m         shape=shape, minval=minval, maxval=maxval, dtype=dtype, seed=self.seed)\n\u001b[0m\u001b[1;32m   1069\u001b[0m \u001b[0;34m\u001b[0m\u001b[0m\n\u001b[1;32m   1070\u001b[0m   \u001b[0;32mdef\u001b[0m \u001b[0mtruncated_normal\u001b[0m\u001b[0;34m(\u001b[0m\u001b[0mself\u001b[0m\u001b[0;34m,\u001b[0m \u001b[0mshape\u001b[0m\u001b[0;34m,\u001b[0m \u001b[0mmean\u001b[0m\u001b[0;34m,\u001b[0m \u001b[0mstddev\u001b[0m\u001b[0;34m,\u001b[0m \u001b[0mdtype\u001b[0m\u001b[0;34m)\u001b[0m\u001b[0;34m:\u001b[0m\u001b[0;34m\u001b[0m\u001b[0;34m\u001b[0m\u001b[0m\n",
      "\u001b[0;32m~/anaconda3/envs/mlenv2/lib/python3.7/site-packages/tensorflow/python/ops/random_ops.py\u001b[0m in \u001b[0;36mrandom_uniform\u001b[0;34m(shape, minval, maxval, dtype, seed, name)\u001b[0m\n\u001b[1;32m    280\u001b[0m     \u001b[0mmaxval\u001b[0m \u001b[0;34m=\u001b[0m \u001b[0;36m1\u001b[0m\u001b[0;34m\u001b[0m\u001b[0;34m\u001b[0m\u001b[0m\n\u001b[1;32m    281\u001b[0m   \u001b[0;32mwith\u001b[0m \u001b[0mops\u001b[0m\u001b[0;34m.\u001b[0m\u001b[0mname_scope\u001b[0m\u001b[0;34m(\u001b[0m\u001b[0mname\u001b[0m\u001b[0;34m,\u001b[0m \u001b[0;34m\"random_uniform\"\u001b[0m\u001b[0;34m,\u001b[0m \u001b[0;34m[\u001b[0m\u001b[0mshape\u001b[0m\u001b[0;34m,\u001b[0m \u001b[0mminval\u001b[0m\u001b[0;34m,\u001b[0m \u001b[0mmaxval\u001b[0m\u001b[0;34m]\u001b[0m\u001b[0;34m)\u001b[0m \u001b[0;32mas\u001b[0m \u001b[0mname\u001b[0m\u001b[0;34m:\u001b[0m\u001b[0;34m\u001b[0m\u001b[0;34m\u001b[0m\u001b[0m\n\u001b[0;32m--> 282\u001b[0;31m     \u001b[0mshape\u001b[0m \u001b[0;34m=\u001b[0m \u001b[0mtensor_util\u001b[0m\u001b[0;34m.\u001b[0m\u001b[0mshape_tensor\u001b[0m\u001b[0;34m(\u001b[0m\u001b[0mshape\u001b[0m\u001b[0;34m)\u001b[0m\u001b[0;34m\u001b[0m\u001b[0;34m\u001b[0m\u001b[0m\n\u001b[0m\u001b[1;32m    283\u001b[0m     \u001b[0;31m# In case of [0,1) floating results, minval and maxval is unused. We do an\u001b[0m\u001b[0;34m\u001b[0m\u001b[0;34m\u001b[0m\u001b[0;34m\u001b[0m\u001b[0m\n\u001b[1;32m    284\u001b[0m     \u001b[0;31m# `is` comparison here since this is cheaper than isinstance or  __eq__.\u001b[0m\u001b[0;34m\u001b[0m\u001b[0;34m\u001b[0m\u001b[0;34m\u001b[0m\u001b[0m\n",
      "\u001b[0;32m~/anaconda3/envs/mlenv2/lib/python3.7/site-packages/tensorflow/python/framework/tensor_util.py\u001b[0m in \u001b[0;36mshape_tensor\u001b[0;34m(shape)\u001b[0m\n\u001b[1;32m   1013\u001b[0m       \u001b[0;31m# not convertible to Tensors because of mixed content.\u001b[0m\u001b[0;34m\u001b[0m\u001b[0;34m\u001b[0m\u001b[0;34m\u001b[0m\u001b[0m\n\u001b[1;32m   1014\u001b[0m       \u001b[0mshape\u001b[0m \u001b[0;34m=\u001b[0m \u001b[0mtuple\u001b[0m\u001b[0;34m(\u001b[0m\u001b[0mmap\u001b[0m\u001b[0;34m(\u001b[0m\u001b[0mtensor_shape\u001b[0m\u001b[0;34m.\u001b[0m\u001b[0mdimension_value\u001b[0m\u001b[0;34m,\u001b[0m \u001b[0mshape\u001b[0m\u001b[0;34m)\u001b[0m\u001b[0;34m)\u001b[0m\u001b[0;34m\u001b[0m\u001b[0;34m\u001b[0m\u001b[0m\n\u001b[0;32m-> 1015\u001b[0;31m   \u001b[0;32mreturn\u001b[0m \u001b[0mops\u001b[0m\u001b[0;34m.\u001b[0m\u001b[0mconvert_to_tensor\u001b[0m\u001b[0;34m(\u001b[0m\u001b[0mshape\u001b[0m\u001b[0;34m,\u001b[0m \u001b[0mdtype\u001b[0m\u001b[0;34m=\u001b[0m\u001b[0mdtype\u001b[0m\u001b[0;34m,\u001b[0m \u001b[0mname\u001b[0m\u001b[0;34m=\u001b[0m\u001b[0;34m\"shape\"\u001b[0m\u001b[0;34m)\u001b[0m\u001b[0;34m\u001b[0m\u001b[0;34m\u001b[0m\u001b[0m\n\u001b[0m\u001b[1;32m   1016\u001b[0m \u001b[0;34m\u001b[0m\u001b[0m\n\u001b[1;32m   1017\u001b[0m \u001b[0;34m\u001b[0m\u001b[0m\n",
      "\u001b[0;32m~/anaconda3/envs/mlenv2/lib/python3.7/site-packages/tensorflow/python/framework/ops.py\u001b[0m in \u001b[0;36mconvert_to_tensor\u001b[0;34m(value, dtype, name, as_ref, preferred_dtype, dtype_hint, ctx, accepted_result_types)\u001b[0m\n\u001b[1;32m   1339\u001b[0m \u001b[0;34m\u001b[0m\u001b[0m\n\u001b[1;32m   1340\u001b[0m     \u001b[0;32mif\u001b[0m \u001b[0mret\u001b[0m \u001b[0;32mis\u001b[0m \u001b[0;32mNone\u001b[0m\u001b[0;34m:\u001b[0m\u001b[0;34m\u001b[0m\u001b[0;34m\u001b[0m\u001b[0m\n\u001b[0;32m-> 1341\u001b[0;31m       \u001b[0mret\u001b[0m \u001b[0;34m=\u001b[0m \u001b[0mconversion_func\u001b[0m\u001b[0;34m(\u001b[0m\u001b[0mvalue\u001b[0m\u001b[0;34m,\u001b[0m \u001b[0mdtype\u001b[0m\u001b[0;34m=\u001b[0m\u001b[0mdtype\u001b[0m\u001b[0;34m,\u001b[0m \u001b[0mname\u001b[0m\u001b[0;34m=\u001b[0m\u001b[0mname\u001b[0m\u001b[0;34m,\u001b[0m \u001b[0mas_ref\u001b[0m\u001b[0;34m=\u001b[0m\u001b[0mas_ref\u001b[0m\u001b[0;34m)\u001b[0m\u001b[0;34m\u001b[0m\u001b[0;34m\u001b[0m\u001b[0m\n\u001b[0m\u001b[1;32m   1342\u001b[0m \u001b[0;34m\u001b[0m\u001b[0m\n\u001b[1;32m   1343\u001b[0m     \u001b[0;32mif\u001b[0m \u001b[0mret\u001b[0m \u001b[0;32mis\u001b[0m \u001b[0mNotImplemented\u001b[0m\u001b[0;34m:\u001b[0m\u001b[0;34m\u001b[0m\u001b[0;34m\u001b[0m\u001b[0m\n",
      "\u001b[0;32m~/anaconda3/envs/mlenv2/lib/python3.7/site-packages/tensorflow/python/framework/constant_op.py\u001b[0m in \u001b[0;36m_constant_tensor_conversion_function\u001b[0;34m(v, dtype, name, as_ref)\u001b[0m\n\u001b[1;32m    319\u001b[0m                                          as_ref=False):\n\u001b[1;32m    320\u001b[0m   \u001b[0m_\u001b[0m \u001b[0;34m=\u001b[0m \u001b[0mas_ref\u001b[0m\u001b[0;34m\u001b[0m\u001b[0;34m\u001b[0m\u001b[0m\n\u001b[0;32m--> 321\u001b[0;31m   \u001b[0;32mreturn\u001b[0m \u001b[0mconstant\u001b[0m\u001b[0;34m(\u001b[0m\u001b[0mv\u001b[0m\u001b[0;34m,\u001b[0m \u001b[0mdtype\u001b[0m\u001b[0;34m=\u001b[0m\u001b[0mdtype\u001b[0m\u001b[0;34m,\u001b[0m \u001b[0mname\u001b[0m\u001b[0;34m=\u001b[0m\u001b[0mname\u001b[0m\u001b[0;34m)\u001b[0m\u001b[0;34m\u001b[0m\u001b[0;34m\u001b[0m\u001b[0m\n\u001b[0m\u001b[1;32m    322\u001b[0m \u001b[0;34m\u001b[0m\u001b[0m\n\u001b[1;32m    323\u001b[0m \u001b[0;34m\u001b[0m\u001b[0m\n",
      "\u001b[0;32m~/anaconda3/envs/mlenv2/lib/python3.7/site-packages/tensorflow/python/framework/constant_op.py\u001b[0m in \u001b[0;36mconstant\u001b[0;34m(value, dtype, shape, name)\u001b[0m\n\u001b[1;32m    260\u001b[0m   \"\"\"\n\u001b[1;32m    261\u001b[0m   return _constant_impl(value, dtype, shape, name, verify_shape=False,\n\u001b[0;32m--> 262\u001b[0;31m                         allow_broadcast=True)\n\u001b[0m\u001b[1;32m    263\u001b[0m \u001b[0;34m\u001b[0m\u001b[0m\n\u001b[1;32m    264\u001b[0m \u001b[0;34m\u001b[0m\u001b[0m\n",
      "\u001b[0;32m~/anaconda3/envs/mlenv2/lib/python3.7/site-packages/tensorflow/python/framework/constant_op.py\u001b[0m in \u001b[0;36m_constant_impl\u001b[0;34m(value, dtype, shape, name, verify_shape, allow_broadcast)\u001b[0m\n\u001b[1;32m    268\u001b[0m   \u001b[0mctx\u001b[0m \u001b[0;34m=\u001b[0m \u001b[0mcontext\u001b[0m\u001b[0;34m.\u001b[0m\u001b[0mcontext\u001b[0m\u001b[0;34m(\u001b[0m\u001b[0;34m)\u001b[0m\u001b[0;34m\u001b[0m\u001b[0;34m\u001b[0m\u001b[0m\n\u001b[1;32m    269\u001b[0m   \u001b[0;32mif\u001b[0m \u001b[0mctx\u001b[0m\u001b[0;34m.\u001b[0m\u001b[0mexecuting_eagerly\u001b[0m\u001b[0;34m(\u001b[0m\u001b[0;34m)\u001b[0m\u001b[0;34m:\u001b[0m\u001b[0;34m\u001b[0m\u001b[0;34m\u001b[0m\u001b[0m\n\u001b[0;32m--> 270\u001b[0;31m     \u001b[0mt\u001b[0m \u001b[0;34m=\u001b[0m \u001b[0mconvert_to_eager_tensor\u001b[0m\u001b[0;34m(\u001b[0m\u001b[0mvalue\u001b[0m\u001b[0;34m,\u001b[0m \u001b[0mctx\u001b[0m\u001b[0;34m,\u001b[0m \u001b[0mdtype\u001b[0m\u001b[0;34m)\u001b[0m\u001b[0;34m\u001b[0m\u001b[0;34m\u001b[0m\u001b[0m\n\u001b[0m\u001b[1;32m    271\u001b[0m     \u001b[0;32mif\u001b[0m \u001b[0mshape\u001b[0m \u001b[0;32mis\u001b[0m \u001b[0;32mNone\u001b[0m\u001b[0;34m:\u001b[0m\u001b[0;34m\u001b[0m\u001b[0;34m\u001b[0m\u001b[0m\n\u001b[1;32m    272\u001b[0m       \u001b[0;32mreturn\u001b[0m \u001b[0mt\u001b[0m\u001b[0;34m\u001b[0m\u001b[0;34m\u001b[0m\u001b[0m\n",
      "\u001b[0;32m~/anaconda3/envs/mlenv2/lib/python3.7/site-packages/tensorflow/python/framework/constant_op.py\u001b[0m in \u001b[0;36mconvert_to_eager_tensor\u001b[0;34m(value, ctx, dtype)\u001b[0m\n\u001b[1;32m     93\u001b[0m     \u001b[0;32mexcept\u001b[0m \u001b[0mAttributeError\u001b[0m\u001b[0;34m:\u001b[0m\u001b[0;34m\u001b[0m\u001b[0;34m\u001b[0m\u001b[0m\n\u001b[1;32m     94\u001b[0m       \u001b[0mdtype\u001b[0m \u001b[0;34m=\u001b[0m \u001b[0mdtypes\u001b[0m\u001b[0;34m.\u001b[0m\u001b[0mas_dtype\u001b[0m\u001b[0;34m(\u001b[0m\u001b[0mdtype\u001b[0m\u001b[0;34m)\u001b[0m\u001b[0;34m.\u001b[0m\u001b[0mas_datatype_enum\u001b[0m\u001b[0;34m\u001b[0m\u001b[0;34m\u001b[0m\u001b[0m\n\u001b[0;32m---> 95\u001b[0;31m   \u001b[0mctx\u001b[0m\u001b[0;34m.\u001b[0m\u001b[0mensure_initialized\u001b[0m\u001b[0;34m(\u001b[0m\u001b[0;34m)\u001b[0m\u001b[0;34m\u001b[0m\u001b[0;34m\u001b[0m\u001b[0m\n\u001b[0m\u001b[1;32m     96\u001b[0m   \u001b[0;32mreturn\u001b[0m \u001b[0mops\u001b[0m\u001b[0;34m.\u001b[0m\u001b[0mEagerTensor\u001b[0m\u001b[0;34m(\u001b[0m\u001b[0mvalue\u001b[0m\u001b[0;34m,\u001b[0m \u001b[0mctx\u001b[0m\u001b[0;34m.\u001b[0m\u001b[0mdevice_name\u001b[0m\u001b[0;34m,\u001b[0m \u001b[0mdtype\u001b[0m\u001b[0;34m)\u001b[0m\u001b[0;34m\u001b[0m\u001b[0;34m\u001b[0m\u001b[0m\n\u001b[1;32m     97\u001b[0m \u001b[0;34m\u001b[0m\u001b[0m\n",
      "\u001b[0;32m~/anaconda3/envs/mlenv2/lib/python3.7/site-packages/tensorflow/python/eager/context.py\u001b[0m in \u001b[0;36mensure_initialized\u001b[0;34m(self)\u001b[0m\n\u001b[1;32m    513\u001b[0m           pywrap_tfe.TFE_ContextOptionsSetLazyRemoteInputsCopy(\n\u001b[1;32m    514\u001b[0m               opts, self._lazy_remote_inputs_copy)\n\u001b[0;32m--> 515\u001b[0;31m         \u001b[0mcontext_handle\u001b[0m \u001b[0;34m=\u001b[0m \u001b[0mpywrap_tfe\u001b[0m\u001b[0;34m.\u001b[0m\u001b[0mTFE_NewContext\u001b[0m\u001b[0;34m(\u001b[0m\u001b[0mopts\u001b[0m\u001b[0;34m)\u001b[0m\u001b[0;34m\u001b[0m\u001b[0;34m\u001b[0m\u001b[0m\n\u001b[0m\u001b[1;32m    516\u001b[0m       \u001b[0;32mfinally\u001b[0m\u001b[0;34m:\u001b[0m\u001b[0;34m\u001b[0m\u001b[0;34m\u001b[0m\u001b[0m\n\u001b[1;32m    517\u001b[0m         \u001b[0mpywrap_tfe\u001b[0m\u001b[0;34m.\u001b[0m\u001b[0mTFE_DeleteContextOptions\u001b[0m\u001b[0;34m(\u001b[0m\u001b[0mopts\u001b[0m\u001b[0;34m)\u001b[0m\u001b[0;34m\u001b[0m\u001b[0;34m\u001b[0m\u001b[0m\n",
      "\u001b[0;31mKeyboardInterrupt\u001b[0m: "
     ]
    }
   ],
   "source": [
    "# define model - shallow neural net\n",
    "number_hidden_nodes = 10\n",
    "number_input_features = 5\n",
    "\n",
    "nn = Sequential()\n",
    "nn.add(Dense(units=number_hidden_nodes, input_dim=number_input_features, activation=\"relu\"))\n",
    "nn.add(Dense(1, activation=\"linear\"))\n",
    "\n",
    "nn.summary()\n",
    "\n",
    "# compile model\n",
    "nn.compile(loss=\"mean_squared_error\", optimizer=\"adam\", metrics=[\"mse\"])\n",
    "\n",
    "# train model\n",
    "model_1 = nn.fit(X_train_scaled, y_train_scaled, epochs=100)\n",
    "\n",
    "# Plot the train and test loss function\n",
    "plt.plot(model_1.history[\"loss\"])\n",
    "plt.title(\"loss_function - 1 hidden layer\")\n",
    "plt.legend([\"loss\"])\n",
    "plt.show()\n",
    "\n",
    "y_train_pred = nn.predict(X_train_scaled)\n",
    "y_test_pred = nn.predict(X_test_scaled)\n",
    "\n",
    "print(r2_score(y_train_scaled, y_train_pred))\n",
    "print(r2_score(y_test_scaled, y_test_pred))\n"
   ]
  },
  {
   "cell_type": "code",
   "execution_count": 17,
   "metadata": {
    "tags": []
   },
   "outputs": [
    {
     "output_type": "error",
     "ename": "NameError",
     "evalue": "name 'Sequential' is not defined",
     "traceback": [
      "\u001b[0;31m---------------------------------------------------------------------------\u001b[0m",
      "\u001b[0;31mNameError\u001b[0m                                 Traceback (most recent call last)",
      "\u001b[0;32m<ipython-input-17-f555dcc1506a>\u001b[0m in \u001b[0;36m<module>\u001b[0;34m\u001b[0m\n\u001b[1;32m      3\u001b[0m \u001b[0mnumber_input_features\u001b[0m \u001b[0;34m=\u001b[0m \u001b[0;36m5\u001b[0m\u001b[0;34m\u001b[0m\u001b[0;34m\u001b[0m\u001b[0m\n\u001b[1;32m      4\u001b[0m \u001b[0;34m\u001b[0m\u001b[0m\n\u001b[0;32m----> 5\u001b[0;31m \u001b[0mnn\u001b[0m \u001b[0;34m=\u001b[0m \u001b[0mSequential\u001b[0m\u001b[0;34m(\u001b[0m\u001b[0;34m)\u001b[0m\u001b[0;34m\u001b[0m\u001b[0;34m\u001b[0m\u001b[0m\n\u001b[0m\u001b[1;32m      6\u001b[0m \u001b[0mnn\u001b[0m\u001b[0;34m.\u001b[0m\u001b[0madd\u001b[0m\u001b[0;34m(\u001b[0m\u001b[0mDense\u001b[0m\u001b[0;34m(\u001b[0m\u001b[0munits\u001b[0m\u001b[0;34m=\u001b[0m\u001b[0mnumber_hidden_nodes\u001b[0m\u001b[0;34m,\u001b[0m \u001b[0minput_dim\u001b[0m\u001b[0;34m=\u001b[0m\u001b[0mnumber_input_features\u001b[0m\u001b[0;34m,\u001b[0m \u001b[0mactivation\u001b[0m\u001b[0;34m=\u001b[0m\u001b[0;34m\"relu\"\u001b[0m\u001b[0;34m)\u001b[0m\u001b[0;34m)\u001b[0m\u001b[0;34m\u001b[0m\u001b[0;34m\u001b[0m\u001b[0m\n\u001b[1;32m      7\u001b[0m \u001b[0mnn\u001b[0m\u001b[0;34m.\u001b[0m\u001b[0madd\u001b[0m\u001b[0;34m(\u001b[0m\u001b[0mDense\u001b[0m\u001b[0;34m(\u001b[0m\u001b[0;36m1\u001b[0m\u001b[0;34m,\u001b[0m \u001b[0mactivation\u001b[0m\u001b[0;34m=\u001b[0m\u001b[0;34m\"linear\"\u001b[0m\u001b[0;34m)\u001b[0m\u001b[0;34m)\u001b[0m\u001b[0;34m\u001b[0m\u001b[0;34m\u001b[0m\u001b[0m\n",
      "\u001b[0;31mNameError\u001b[0m: name 'Sequential' is not defined"
     ]
    }
   ],
   "source": [
    "# define model - shallow neural net with 3X\n",
    "number_hidden_nodes = 15\n",
    "number_input_features = 5\n",
    "\n",
    "nn = Sequential()\n",
    "nn.add(Dense(units=number_hidden_nodes, input_dim=number_input_features, activation=\"relu\"))\n",
    "nn.add(Dense(1, activation=\"linear\"))\n",
    "\n",
    "nn.summary()\n",
    "\n",
    "# compile model\n",
    "nn.compile(loss=\"mean_squared_error\", optimizer=\"adam\", metrics=[\"mse\"])\n",
    "\n",
    "# train model\n",
    "model_1 = nn.fit(X_train_scaled, y_train_scaled, epochs=100)\n",
    "\n",
    "# Plot the train and test loss function\n",
    "plt.plot(model_1.history[\"loss\"])\n",
    "plt.title(\"loss_function - 1 hidden layer\")\n",
    "plt.legend([\"loss\"])\n",
    "plt.show()\n",
    "\n",
    "y_train_pred = nn.predict(X_train_scaled)\n",
    "y_test_pred = nn.predict(X_test_scaled)\n",
    "\n",
    "print(r2_score(y_train_scaled, y_train_pred))\n",
    "print(r2_score(y_test_scaled, y_test_pred))"
   ]
  },
  {
   "cell_type": "code",
   "execution_count": 18,
   "metadata": {
    "tags": []
   },
   "outputs": [
    {
     "output_type": "error",
     "ename": "NameError",
     "evalue": "name 'Sequential' is not defined",
     "traceback": [
      "\u001b[0;31m---------------------------------------------------------------------------\u001b[0m",
      "\u001b[0;31mNameError\u001b[0m                                 Traceback (most recent call last)",
      "\u001b[0;32m<ipython-input-18-024103d95359>\u001b[0m in \u001b[0;36m<module>\u001b[0;34m\u001b[0m\n\u001b[1;32m      4\u001b[0m \u001b[0mnumber_input_features\u001b[0m \u001b[0;34m=\u001b[0m \u001b[0;36m5\u001b[0m\u001b[0;34m\u001b[0m\u001b[0;34m\u001b[0m\u001b[0m\n\u001b[1;32m      5\u001b[0m \u001b[0;34m\u001b[0m\u001b[0m\n\u001b[0;32m----> 6\u001b[0;31m \u001b[0mnn\u001b[0m \u001b[0;34m=\u001b[0m \u001b[0mSequential\u001b[0m\u001b[0;34m(\u001b[0m\u001b[0;34m)\u001b[0m\u001b[0;34m\u001b[0m\u001b[0;34m\u001b[0m\u001b[0m\n\u001b[0m\u001b[1;32m      7\u001b[0m \u001b[0mnn\u001b[0m\u001b[0;34m.\u001b[0m\u001b[0madd\u001b[0m\u001b[0;34m(\u001b[0m\u001b[0mDense\u001b[0m\u001b[0;34m(\u001b[0m\u001b[0munits\u001b[0m\u001b[0;34m=\u001b[0m\u001b[0mnumber_hidden_nodes\u001b[0m\u001b[0;34m,\u001b[0m \u001b[0minput_dim\u001b[0m\u001b[0;34m=\u001b[0m\u001b[0mnumber_input_features\u001b[0m\u001b[0;34m,\u001b[0m \u001b[0mactivation\u001b[0m\u001b[0;34m=\u001b[0m\u001b[0;34m\"relu\"\u001b[0m\u001b[0;34m)\u001b[0m\u001b[0;34m)\u001b[0m\u001b[0;34m\u001b[0m\u001b[0;34m\u001b[0m\u001b[0m\n\u001b[1;32m      8\u001b[0m \u001b[0mnn\u001b[0m\u001b[0;34m.\u001b[0m\u001b[0madd\u001b[0m\u001b[0;34m(\u001b[0m\u001b[0mDense\u001b[0m\u001b[0;34m(\u001b[0m\u001b[0;36m1\u001b[0m\u001b[0;34m,\u001b[0m \u001b[0mactivation\u001b[0m\u001b[0;34m=\u001b[0m\u001b[0;34m\"linear\"\u001b[0m\u001b[0;34m)\u001b[0m\u001b[0;34m)\u001b[0m\u001b[0;34m\u001b[0m\u001b[0;34m\u001b[0m\u001b[0m\n",
      "\u001b[0;31mNameError\u001b[0m: name 'Sequential' is not defined"
     ]
    }
   ],
   "source": [
    "# conclusion: did not add value\n",
    "# define model - shallow neural net with 4X\n",
    "number_hidden_nodes = 20\n",
    "number_input_features = 5\n",
    "\n",
    "nn = Sequential()\n",
    "nn.add(Dense(units=number_hidden_nodes, input_dim=number_input_features, activation=\"relu\"))\n",
    "nn.add(Dense(1, activation=\"linear\"))\n",
    "\n",
    "nn.summary()\n",
    "\n",
    "# compile model\n",
    "nn.compile(loss=\"mean_squared_error\", optimizer=\"adam\", metrics=[\"mse\"])\n",
    "\n",
    "# train model\n",
    "model_1 = nn.fit(X_train_scaled, y_train_scaled, epochs=100)\n",
    "\n",
    "# Plot the train and test loss function\n",
    "plt.plot(model_1.history[\"loss\"])\n",
    "plt.title(\"loss_function - 1 hidden layer\")\n",
    "plt.legend([\"loss\"])\n",
    "plt.show()\n",
    "\n",
    "y_train_pred = nn.predict(X_train_scaled)\n",
    "y_test_pred = nn.predict(X_test_scaled)\n",
    "\n",
    "print(r2_score(y_train_scaled, y_train_pred))\n",
    "print(r2_score(y_test_scaled, y_test_pred))"
   ]
  },
  {
   "cell_type": "markdown",
   "metadata": {},
   "source": [
    "## Deep Neural Network"
   ]
  },
  {
   "cell_type": "code",
   "execution_count": 19,
   "metadata": {
    "tags": []
   },
   "outputs": [
    {
     "output_type": "error",
     "ename": "NameError",
     "evalue": "name 'Sequential' is not defined",
     "traceback": [
      "\u001b[0;31m---------------------------------------------------------------------------\u001b[0m",
      "\u001b[0;31mNameError\u001b[0m                                 Traceback (most recent call last)",
      "\u001b[0;32m<ipython-input-19-e46fe8deca7f>\u001b[0m in \u001b[0;36m<module>\u001b[0;34m\u001b[0m\n\u001b[1;32m      4\u001b[0m \u001b[0mhidden_nodes_layer2\u001b[0m \u001b[0;34m=\u001b[0m \u001b[0;36m5\u001b[0m\u001b[0;34m\u001b[0m\u001b[0;34m\u001b[0m\u001b[0m\n\u001b[1;32m      5\u001b[0m \u001b[0;34m\u001b[0m\u001b[0m\n\u001b[0;32m----> 6\u001b[0;31m \u001b[0mnn\u001b[0m \u001b[0;34m=\u001b[0m \u001b[0mSequential\u001b[0m\u001b[0;34m(\u001b[0m\u001b[0;34m)\u001b[0m\u001b[0;34m\u001b[0m\u001b[0;34m\u001b[0m\u001b[0m\n\u001b[0m\u001b[1;32m      7\u001b[0m \u001b[0;31m# First hidden layer\u001b[0m\u001b[0;34m\u001b[0m\u001b[0;34m\u001b[0m\u001b[0;34m\u001b[0m\u001b[0m\n\u001b[1;32m      8\u001b[0m nn.add(\n",
      "\u001b[0;31mNameError\u001b[0m: name 'Sequential' is not defined"
     ]
    }
   ],
   "source": [
    "# Define the model - deep neural net\n",
    "number_input_features = 5\n",
    "hidden_nodes_layer1 = 10\n",
    "hidden_nodes_layer2 = 5\n",
    "\n",
    "nn = Sequential()\n",
    "# First hidden layer\n",
    "nn.add(\n",
    "    Dense(units=hidden_nodes_layer1, input_dim=number_input_features, activation=\"relu\")\n",
    ")\n",
    "# Second hidden layer\n",
    "nn.add(Dense(units=hidden_nodes_layer2, activation=\"relu\"))\n",
    "# Output layer\n",
    "nn.add(Dense(units=1, activation=\"linear\"))\n",
    "\n",
    "\n",
    "nn.summary()\n",
    "\n",
    "# compile model\n",
    "nn.compile(loss=\"mean_squared_error\", optimizer=\"adam\", metrics=[\"mse\"])\n",
    "\n",
    "# train model\n",
    "model_1 = nn.fit(X_train_scaled, y_train_scaled, epochs=100)\n",
    "\n",
    "# Plot the train and test loss function\n",
    "plt.plot(model_1.history[\"loss\"])\n",
    "plt.title(\"loss_function - 2 hidden layer\")\n",
    "plt.legend([\"loss\"])\n",
    "plt.show()\n",
    "\n",
    "y_train_pred = nn.predict(X_train_scaled)\n",
    "y_test_pred = nn.predict(X_test_scaled)\n",
    "\n",
    "print(r2_score(y_train_scaled, y_train_pred))\n",
    "print(r2_score(y_test_scaled, y_test_pred))\n",
    "# print(accuracy_score(y_test, y_pred))"
   ]
  },
  {
   "cell_type": "code",
   "execution_count": 20,
   "metadata": {
    "tags": []
   },
   "outputs": [
    {
     "output_type": "error",
     "ename": "NameError",
     "evalue": "name 'Sequential' is not defined",
     "traceback": [
      "\u001b[0;31m---------------------------------------------------------------------------\u001b[0m",
      "\u001b[0;31mNameError\u001b[0m                                 Traceback (most recent call last)",
      "\u001b[0;32m<ipython-input-20-ba41442c9c06>\u001b[0m in \u001b[0;36m<module>\u001b[0;34m\u001b[0m\n\u001b[1;32m      4\u001b[0m \u001b[0mhidden_nodes_layer2\u001b[0m \u001b[0;34m=\u001b[0m \u001b[0;36m5\u001b[0m\u001b[0;34m\u001b[0m\u001b[0;34m\u001b[0m\u001b[0m\n\u001b[1;32m      5\u001b[0m \u001b[0mepochs\u001b[0m\u001b[0;34m=\u001b[0m\u001b[0;36m100\u001b[0m\u001b[0;34m\u001b[0m\u001b[0;34m\u001b[0m\u001b[0m\n\u001b[0;32m----> 6\u001b[0;31m \u001b[0mnn\u001b[0m \u001b[0;34m=\u001b[0m \u001b[0mSequential\u001b[0m\u001b[0;34m(\u001b[0m\u001b[0;34m)\u001b[0m\u001b[0;34m\u001b[0m\u001b[0;34m\u001b[0m\u001b[0m\n\u001b[0m\u001b[1;32m      7\u001b[0m \u001b[0;31m# First hidden layer\u001b[0m\u001b[0;34m\u001b[0m\u001b[0;34m\u001b[0m\u001b[0;34m\u001b[0m\u001b[0m\n\u001b[1;32m      8\u001b[0m nn.add(\n",
      "\u001b[0;31mNameError\u001b[0m: name 'Sequential' is not defined"
     ]
    }
   ],
   "source": [
    "# Define the model - deep neural net 3X\n",
    "number_input_features = 5\n",
    "hidden_nodes_layer1 = 15\n",
    "hidden_nodes_layer2 = 5\n",
    "epochs=100\n",
    "nn = Sequential()\n",
    "# First hidden layer\n",
    "nn.add(\n",
    "    Dense(units=hidden_nodes_layer1, input_dim=number_input_features, activation=\"relu\")\n",
    ")\n",
    "# Second hidden layer\n",
    "nn.add(Dense(units=hidden_nodes_layer2, activation=\"relu\"))\n",
    "# Output layer\n",
    "nn.add(Dense(units=1, activation=\"linear\"))\n",
    "\n",
    "\n",
    "nn.summary()\n",
    "\n",
    "# compile model\n",
    "nn.compile(loss=\"mean_squared_error\", optimizer=\"adam\", metrics=[\"mse\"])\n",
    "\n",
    "# train model\n",
    "model_1 = nn.fit(X_train_scaled, y_train_scaled, epochs=epochs)\n",
    "\n",
    "# Plot the train and test loss function\n",
    "plt.plot(model_1.history[\"loss\"])\n",
    "plt.title(\"loss_function - 2 hidden layer\")\n",
    "plt.legend([\"loss\"])\n",
    "plt.show()\n",
    "\n",
    "y_train_pred = nn.predict(X_train_scaled)\n",
    "y_test_pred = nn.predict(X_test_scaled)\n",
    "\n",
    "print(r2_score(y_train_scaled, y_train_pred))\n",
    "print(r2_score(y_test_scaled, y_test_pred))"
   ]
  },
  {
   "cell_type": "markdown",
   "metadata": {},
   "source": [
    "### Deep Neural Network with three hidden layers"
   ]
  },
  {
   "cell_type": "code",
   "execution_count": 21,
   "metadata": {
    "tags": []
   },
   "outputs": [
    {
     "output_type": "error",
     "ename": "NameError",
     "evalue": "name 'Sequential' is not defined",
     "traceback": [
      "\u001b[0;31m---------------------------------------------------------------------------\u001b[0m",
      "\u001b[0;31mNameError\u001b[0m                                 Traceback (most recent call last)",
      "\u001b[0;32m<ipython-input-21-bac2b707baa5>\u001b[0m in \u001b[0;36m<module>\u001b[0;34m\u001b[0m\n\u001b[1;32m      5\u001b[0m \u001b[0mhidden_nodes_layer3\u001b[0m \u001b[0;34m=\u001b[0m \u001b[0;36m3\u001b[0m\u001b[0;34m\u001b[0m\u001b[0;34m\u001b[0m\u001b[0m\n\u001b[1;32m      6\u001b[0m \u001b[0;34m\u001b[0m\u001b[0m\n\u001b[0;32m----> 7\u001b[0;31m \u001b[0mnn\u001b[0m \u001b[0;34m=\u001b[0m \u001b[0mSequential\u001b[0m\u001b[0;34m(\u001b[0m\u001b[0;34m)\u001b[0m\u001b[0;34m\u001b[0m\u001b[0;34m\u001b[0m\u001b[0m\n\u001b[0m\u001b[1;32m      8\u001b[0m \u001b[0;31m# First hidden layer\u001b[0m\u001b[0;34m\u001b[0m\u001b[0;34m\u001b[0m\u001b[0;34m\u001b[0m\u001b[0m\n\u001b[1;32m      9\u001b[0m nn.add(\n",
      "\u001b[0;31mNameError\u001b[0m: name 'Sequential' is not defined"
     ]
    }
   ],
   "source": [
    "# Define the model - deep neural net 3X\n",
    "number_input_features = 5\n",
    "hidden_nodes_layer1 = 15\n",
    "hidden_nodes_layer2 = 7\n",
    "hidden_nodes_layer3 = 3\n",
    "\n",
    "nn = Sequential()\n",
    "# First hidden layer\n",
    "nn.add(\n",
    "    Dense(units=hidden_nodes_layer1, input_dim=number_input_features, activation=\"relu\")\n",
    ")\n",
    "# Second hidden layer\n",
    "nn.add(Dense(units=hidden_nodes_layer2, activation=\"relu\"))\n",
    "# Third hidden layer\n",
    "nn.add(Dense(units=hidden_nodes_layer3, activation=\"relu\"))\n",
    "\n",
    "# Output layer\n",
    "nn.add(Dense(units=1, activation=\"linear\"))\n",
    "\n",
    "\n",
    "nn.summary()\n",
    "\n",
    "# compile model\n",
    "nn.compile(loss=\"mean_squared_error\", optimizer=\"adam\", metrics=[\"mse\"])\n",
    "\n",
    "# train model\n",
    "model_1 = nn.fit(X_train_scaled, y_train_scaled, epochs=100)\n",
    "\n",
    "# Plot the train and test loss function\n",
    "plt.plot(model_1.history[\"loss\"])\n",
    "plt.title(\"loss_function - 3 hidden layer\")\n",
    "plt.legend([\"loss\"])\n",
    "plt.show()\n",
    "\n",
    "y_train_pred = nn.predict(X_train_scaled)\n",
    "y_test_pred = nn.predict(X_test_scaled)\n",
    "\n",
    "print(r2_score(y_train_scaled, y_train_pred))\n",
    "print(r2_score(y_test_scaled, y_test_pred))"
   ]
  },
  {
   "cell_type": "markdown",
   "metadata": {},
   "source": [
    "## Predicting Number of Cases- with NN Model"
   ]
  },
  {
   "cell_type": "code",
   "execution_count": 22,
   "metadata": {},
   "outputs": [
    {
     "output_type": "error",
     "ename": "NameError",
     "evalue": "name 'df_cases_ml' is not defined",
     "traceback": [
      "\u001b[0;31m---------------------------------------------------------------------------\u001b[0m",
      "\u001b[0;31mNameError\u001b[0m                                 Traceback (most recent call last)",
      "\u001b[0;32m<ipython-input-22-baa3d25987e0>\u001b[0m in \u001b[0;36m<module>\u001b[0;34m\u001b[0m\n\u001b[1;32m      1\u001b[0m \u001b[0;31m# Check to make sure dtypes are appropriate .\u001b[0m\u001b[0;34m\u001b[0m\u001b[0;34m\u001b[0m\u001b[0;34m\u001b[0m\u001b[0m\n\u001b[0;32m----> 2\u001b[0;31m \u001b[0mdf_cases_ml\u001b[0m\u001b[0;34m.\u001b[0m\u001b[0mdtypes\u001b[0m\u001b[0;34m\u001b[0m\u001b[0;34m\u001b[0m\u001b[0m\n\u001b[0m",
      "\u001b[0;31mNameError\u001b[0m: name 'df_cases_ml' is not defined"
     ]
    }
   ],
   "source": [
    "# Check to make sure dtypes are appropriate .\n",
    "df_cases_ml.dtypes"
   ]
  },
  {
   "cell_type": "code",
   "execution_count": 23,
   "metadata": {},
   "outputs": [
    {
     "output_type": "error",
     "ename": "NameError",
     "evalue": "name 'df_cases_ml' is not defined",
     "traceback": [
      "\u001b[0;31m---------------------------------------------------------------------------\u001b[0m",
      "\u001b[0;31mNameError\u001b[0m                                 Traceback (most recent call last)",
      "\u001b[0;32m<ipython-input-23-e8acddb1a21a>\u001b[0m in \u001b[0;36m<module>\u001b[0;34m\u001b[0m\n\u001b[1;32m      1\u001b[0m \u001b[0;31m# Check shape before dropping na\u001b[0m\u001b[0;34m\u001b[0m\u001b[0;34m\u001b[0m\u001b[0;34m\u001b[0m\u001b[0m\n\u001b[0;32m----> 2\u001b[0;31m \u001b[0mdf_cases_ml\u001b[0m\u001b[0;34m.\u001b[0m\u001b[0mshape\u001b[0m\u001b[0;34m\u001b[0m\u001b[0;34m\u001b[0m\u001b[0m\n\u001b[0m",
      "\u001b[0;31mNameError\u001b[0m: name 'df_cases_ml' is not defined"
     ]
    }
   ],
   "source": [
    "# Check shape before dropping na\n",
    "df_cases_ml.shape"
   ]
  },
  {
   "cell_type": "code",
   "execution_count": 24,
   "metadata": {},
   "outputs": [
    {
     "output_type": "error",
     "ename": "NameError",
     "evalue": "name 'df_death_ml' is not defined",
     "traceback": [
      "\u001b[0;31m---------------------------------------------------------------------------\u001b[0m",
      "\u001b[0;31mNameError\u001b[0m                                 Traceback (most recent call last)",
      "\u001b[0;32m<ipython-input-24-cdd431f2bd1d>\u001b[0m in \u001b[0;36m<module>\u001b[0;34m\u001b[0m\n\u001b[1;32m      1\u001b[0m \u001b[0;31m# Drop rows with null values\u001b[0m\u001b[0;34m\u001b[0m\u001b[0;34m\u001b[0m\u001b[0;34m\u001b[0m\u001b[0m\n\u001b[0;32m----> 2\u001b[0;31m \u001b[0mdf_cases_ml\u001b[0m\u001b[0;34m=\u001b[0m\u001b[0mdf_death_ml\u001b[0m\u001b[0;34m.\u001b[0m\u001b[0mdropna\u001b[0m\u001b[0;34m(\u001b[0m\u001b[0mhow\u001b[0m\u001b[0;34m=\u001b[0m\u001b[0;34m'any'\u001b[0m\u001b[0;34m)\u001b[0m\u001b[0;34m\u001b[0m\u001b[0;34m\u001b[0m\u001b[0m\n\u001b[0m\u001b[1;32m      3\u001b[0m \u001b[0mdf_cases_ml\u001b[0m\u001b[0;34m.\u001b[0m\u001b[0mshape\u001b[0m\u001b[0;34m\u001b[0m\u001b[0;34m\u001b[0m\u001b[0m\n",
      "\u001b[0;31mNameError\u001b[0m: name 'df_death_ml' is not defined"
     ]
    }
   ],
   "source": [
    "# Drop rows with null values\n",
    "df_cases_ml=df_death_ml.dropna(how='any')\n",
    "df_cases_ml.shape"
   ]
  },
  {
   "cell_type": "code",
   "execution_count": 25,
   "metadata": {},
   "outputs": [
    {
     "output_type": "error",
     "ename": "NameError",
     "evalue": "name 'df_cases_ml' is not defined",
     "traceback": [
      "\u001b[0;31m---------------------------------------------------------------------------\u001b[0m",
      "\u001b[0;31mNameError\u001b[0m                                 Traceback (most recent call last)",
      "\u001b[0;32m<ipython-input-25-0149f66a411f>\u001b[0m in \u001b[0;36m<module>\u001b[0;34m\u001b[0m\n\u001b[1;32m      1\u001b[0m \u001b[0;31m# create features(X) and target(y) sets\u001b[0m\u001b[0;34m\u001b[0m\u001b[0;34m\u001b[0m\u001b[0;34m\u001b[0m\u001b[0m\n\u001b[0;32m----> 2\u001b[0;31m \u001b[0mX\u001b[0m \u001b[0;34m=\u001b[0m \u001b[0mdf_cases_ml\u001b[0m\u001b[0;34m.\u001b[0m\u001b[0mdrop\u001b[0m\u001b[0;34m(\u001b[0m\u001b[0;34m[\u001b[0m\u001b[0;34m'total_cases_updated'\u001b[0m\u001b[0;34m]\u001b[0m\u001b[0;34m,\u001b[0m\u001b[0maxis\u001b[0m\u001b[0;34m=\u001b[0m\u001b[0;36m1\u001b[0m\u001b[0;34m)\u001b[0m\u001b[0;34m.\u001b[0m\u001b[0mvalues\u001b[0m\u001b[0;34m\u001b[0m\u001b[0;34m\u001b[0m\u001b[0m\n\u001b[0m\u001b[1;32m      3\u001b[0m \u001b[0;34m\u001b[0m\u001b[0m\n\u001b[1;32m      4\u001b[0m \u001b[0my\u001b[0m \u001b[0;34m=\u001b[0m \u001b[0mdf_cases_ml\u001b[0m\u001b[0;34m[\u001b[0m\u001b[0;34m'total_cases_updated'\u001b[0m\u001b[0;34m]\u001b[0m\u001b[0;34m.\u001b[0m\u001b[0mvalues\u001b[0m\u001b[0;34m\u001b[0m\u001b[0;34m\u001b[0m\u001b[0m\n\u001b[1;32m      5\u001b[0m \u001b[0my\u001b[0m \u001b[0;34m=\u001b[0m \u001b[0my\u001b[0m\u001b[0;34m.\u001b[0m\u001b[0mreshape\u001b[0m\u001b[0;34m(\u001b[0m\u001b[0;34m-\u001b[0m\u001b[0;36m1\u001b[0m\u001b[0;34m,\u001b[0m\u001b[0;36m1\u001b[0m\u001b[0;34m)\u001b[0m\u001b[0;34m\u001b[0m\u001b[0;34m\u001b[0m\u001b[0m\n",
      "\u001b[0;31mNameError\u001b[0m: name 'df_cases_ml' is not defined"
     ]
    }
   ],
   "source": [
    "# create features(X) and target(y) sets\n",
    "X = df_cases_ml.drop(['total_cases_updated'],axis=1).values\n",
    "\n",
    "y = df_cases_ml['total_cases_updated'].values\n",
    "y = y.reshape(-1,1)"
   ]
  },
  {
   "cell_type": "code",
   "execution_count": 26,
   "metadata": {},
   "outputs": [
    {
     "output_type": "error",
     "ename": "NameError",
     "evalue": "name 'X' is not defined",
     "traceback": [
      "\u001b[0;31m---------------------------------------------------------------------------\u001b[0m",
      "\u001b[0;31mNameError\u001b[0m                                 Traceback (most recent call last)",
      "\u001b[0;32m<ipython-input-26-66b2f048f698>\u001b[0m in \u001b[0;36m<module>\u001b[0;34m\u001b[0m\n\u001b[1;32m      1\u001b[0m \u001b[0;31m# Check shape for num of features\u001b[0m\u001b[0;34m\u001b[0m\u001b[0;34m\u001b[0m\u001b[0;34m\u001b[0m\u001b[0m\n\u001b[0;32m----> 2\u001b[0;31m \u001b[0mX\u001b[0m\u001b[0;34m.\u001b[0m\u001b[0mshape\u001b[0m\u001b[0;34m\u001b[0m\u001b[0;34m\u001b[0m\u001b[0m\n\u001b[0m",
      "\u001b[0;31mNameError\u001b[0m: name 'X' is not defined"
     ]
    }
   ],
   "source": [
    "# Check shape for num of features\n",
    "X.shape"
   ]
  },
  {
   "cell_type": "code",
   "execution_count": 27,
   "metadata": {},
   "outputs": [
    {
     "output_type": "error",
     "ename": "NameError",
     "evalue": "name 'train_test_split' is not defined",
     "traceback": [
      "\u001b[0;31m---------------------------------------------------------------------------\u001b[0m",
      "\u001b[0;31mNameError\u001b[0m                                 Traceback (most recent call last)",
      "\u001b[0;32m<ipython-input-27-0a98e0a859f7>\u001b[0m in \u001b[0;36m<module>\u001b[0;34m\u001b[0m\n\u001b[1;32m      1\u001b[0m \u001b[0;31m# Split dataset into training and testing\u001b[0m\u001b[0;34m\u001b[0m\u001b[0;34m\u001b[0m\u001b[0;34m\u001b[0m\u001b[0m\n\u001b[1;32m      2\u001b[0m \u001b[0;31m# train 90% of data, test 10%\u001b[0m\u001b[0;34m\u001b[0m\u001b[0;34m\u001b[0m\u001b[0;34m\u001b[0m\u001b[0m\n\u001b[0;32m----> 3\u001b[0;31m \u001b[0mX_train\u001b[0m\u001b[0;34m,\u001b[0m \u001b[0mX_test\u001b[0m\u001b[0;34m,\u001b[0m \u001b[0my_train\u001b[0m\u001b[0;34m,\u001b[0m \u001b[0my_test\u001b[0m \u001b[0;34m=\u001b[0m \u001b[0mtrain_test_split\u001b[0m\u001b[0;34m(\u001b[0m\u001b[0mX\u001b[0m\u001b[0;34m,\u001b[0m \u001b[0my\u001b[0m\u001b[0;34m,\u001b[0m \u001b[0mtest_size\u001b[0m\u001b[0;34m=\u001b[0m\u001b[0;36m0.10\u001b[0m\u001b[0;34m)\u001b[0m\u001b[0;34m\u001b[0m\u001b[0;34m\u001b[0m\u001b[0m\n\u001b[0m\u001b[1;32m      4\u001b[0m \u001b[0;34m\u001b[0m\u001b[0m\n\u001b[1;32m      5\u001b[0m \u001b[0;31m# scale data\u001b[0m\u001b[0;34m\u001b[0m\u001b[0;34m\u001b[0m\u001b[0;34m\u001b[0m\u001b[0m\n",
      "\u001b[0;31mNameError\u001b[0m: name 'train_test_split' is not defined"
     ]
    }
   ],
   "source": [
    "# Split dataset into training and testing \n",
    "# train 90% of data, test 10%\n",
    "X_train, X_test, y_train, y_test = train_test_split(X, y, test_size=0.10)\n",
    "\n",
    "# scale data\n",
    "X_scaler = StandardScaler()\n",
    "X_scaler.fit(X_train)\n",
    "\n",
    "y_scaler = StandardScaler()\n",
    "y_scaler.fit(y_train)\n",
    "\n",
    "y_train_scaled = y_scaler.transform(y_train)\n",
    "y_test_scaled =y_scaler.transform(y_test)\n",
    "\n",
    "X_train_scaled = X_scaler.transform(X_train)\n",
    "X_test_scaled = X_scaler.transform(X_test)"
   ]
  },
  {
   "cell_type": "code",
   "execution_count": 28,
   "metadata": {
    "tags": []
   },
   "outputs": [
    {
     "output_type": "error",
     "ename": "NameError",
     "evalue": "name 'Sequential' is not defined",
     "traceback": [
      "\u001b[0;31m---------------------------------------------------------------------------\u001b[0m",
      "\u001b[0;31mNameError\u001b[0m                                 Traceback (most recent call last)",
      "\u001b[0;32m<ipython-input-28-215d93a46591>\u001b[0m in \u001b[0;36m<module>\u001b[0;34m\u001b[0m\n\u001b[1;32m      3\u001b[0m \u001b[0mnumber_input_features\u001b[0m \u001b[0;34m=\u001b[0m \u001b[0;36m5\u001b[0m\u001b[0;34m\u001b[0m\u001b[0;34m\u001b[0m\u001b[0m\n\u001b[1;32m      4\u001b[0m \u001b[0mepochs\u001b[0m\u001b[0;34m=\u001b[0m\u001b[0;36m100\u001b[0m\u001b[0;34m\u001b[0m\u001b[0;34m\u001b[0m\u001b[0m\n\u001b[0;32m----> 5\u001b[0;31m \u001b[0mnn\u001b[0m \u001b[0;34m=\u001b[0m \u001b[0mSequential\u001b[0m\u001b[0;34m(\u001b[0m\u001b[0;34m)\u001b[0m\u001b[0;34m\u001b[0m\u001b[0;34m\u001b[0m\u001b[0m\n\u001b[0m\u001b[1;32m      6\u001b[0m \u001b[0mnn\u001b[0m\u001b[0;34m.\u001b[0m\u001b[0madd\u001b[0m\u001b[0;34m(\u001b[0m\u001b[0mDense\u001b[0m\u001b[0;34m(\u001b[0m\u001b[0munits\u001b[0m\u001b[0;34m=\u001b[0m\u001b[0mnumber_hidden_nodes\u001b[0m\u001b[0;34m,\u001b[0m \u001b[0minput_dim\u001b[0m\u001b[0;34m=\u001b[0m\u001b[0mnumber_input_features\u001b[0m\u001b[0;34m,\u001b[0m \u001b[0mactivation\u001b[0m\u001b[0;34m=\u001b[0m\u001b[0;34m\"relu\"\u001b[0m\u001b[0;34m)\u001b[0m\u001b[0;34m)\u001b[0m\u001b[0;34m\u001b[0m\u001b[0;34m\u001b[0m\u001b[0m\n\u001b[1;32m      7\u001b[0m \u001b[0mnn\u001b[0m\u001b[0;34m.\u001b[0m\u001b[0madd\u001b[0m\u001b[0;34m(\u001b[0m\u001b[0mDense\u001b[0m\u001b[0;34m(\u001b[0m\u001b[0;36m1\u001b[0m\u001b[0;34m,\u001b[0m \u001b[0mactivation\u001b[0m\u001b[0;34m=\u001b[0m\u001b[0;34m\"linear\"\u001b[0m\u001b[0;34m)\u001b[0m\u001b[0;34m)\u001b[0m\u001b[0;34m\u001b[0m\u001b[0;34m\u001b[0m\u001b[0m\n",
      "\u001b[0;31mNameError\u001b[0m: name 'Sequential' is not defined"
     ]
    }
   ],
   "source": [
    "# define model - shallow neural net\n",
    "number_hidden_nodes = 10\n",
    "number_input_features = 5\n",
    "epochs=100\n",
    "nn = Sequential()\n",
    "nn.add(Dense(units=number_hidden_nodes, input_dim=number_input_features, activation=\"relu\"))\n",
    "nn.add(Dense(1, activation=\"linear\"))\n",
    "\n",
    "nn.summary()\n",
    "\n",
    "# compile model\n",
    "nn.compile(loss=\"mean_squared_error\", optimizer=\"adam\", metrics=[\"mse\"])\n",
    "\n",
    "# train model\n",
    "model_1 = nn.fit(X_train_scaled, y_train_scaled, epochs=epochs )\n",
    "\n",
    "# Plot the train and test loss function\n",
    "plt.plot(model_1.history[\"loss\"])\n",
    "plt.title(\"loss_function - 1 hidden layer\")\n",
    "plt.legend([\"loss\"])\n",
    "plt.show()\n",
    "\n",
    "y_train_pred = nn.predict(X_train_scaled)\n",
    "y_test_pred = nn.predict(X_test_scaled)\n",
    "\n",
    "print(r2_score(y_train_scaled, y_train_pred))\n",
    "print(r2_score(y_test_scaled, y_test_pred))"
   ]
  },
  {
   "cell_type": "code",
   "execution_count": 29,
   "metadata": {
    "tags": []
   },
   "outputs": [
    {
     "output_type": "error",
     "ename": "NameError",
     "evalue": "name 'Sequential' is not defined",
     "traceback": [
      "\u001b[0;31m---------------------------------------------------------------------------\u001b[0m",
      "\u001b[0;31mNameError\u001b[0m                                 Traceback (most recent call last)",
      "\u001b[0;32m<ipython-input-29-e0f6bfff024a>\u001b[0m in \u001b[0;36m<module>\u001b[0;34m\u001b[0m\n\u001b[1;32m      3\u001b[0m \u001b[0mnumber_input_features\u001b[0m \u001b[0;34m=\u001b[0m \u001b[0;36m5\u001b[0m\u001b[0;34m\u001b[0m\u001b[0;34m\u001b[0m\u001b[0m\n\u001b[1;32m      4\u001b[0m \u001b[0mepochs\u001b[0m\u001b[0;34m=\u001b[0m\u001b[0;36m100\u001b[0m\u001b[0;34m\u001b[0m\u001b[0;34m\u001b[0m\u001b[0m\n\u001b[0;32m----> 5\u001b[0;31m \u001b[0mnn\u001b[0m \u001b[0;34m=\u001b[0m \u001b[0mSequential\u001b[0m\u001b[0;34m(\u001b[0m\u001b[0;34m)\u001b[0m\u001b[0;34m\u001b[0m\u001b[0;34m\u001b[0m\u001b[0m\n\u001b[0m\u001b[1;32m      6\u001b[0m \u001b[0mnn\u001b[0m\u001b[0;34m.\u001b[0m\u001b[0madd\u001b[0m\u001b[0;34m(\u001b[0m\u001b[0mDense\u001b[0m\u001b[0;34m(\u001b[0m\u001b[0munits\u001b[0m\u001b[0;34m=\u001b[0m\u001b[0mnumber_hidden_nodes\u001b[0m\u001b[0;34m,\u001b[0m \u001b[0minput_dim\u001b[0m\u001b[0;34m=\u001b[0m\u001b[0mnumber_input_features\u001b[0m\u001b[0;34m,\u001b[0m \u001b[0mactivation\u001b[0m\u001b[0;34m=\u001b[0m\u001b[0;34m\"relu\"\u001b[0m\u001b[0;34m)\u001b[0m\u001b[0;34m)\u001b[0m\u001b[0;34m\u001b[0m\u001b[0;34m\u001b[0m\u001b[0m\n\u001b[1;32m      7\u001b[0m \u001b[0mnn\u001b[0m\u001b[0;34m.\u001b[0m\u001b[0madd\u001b[0m\u001b[0;34m(\u001b[0m\u001b[0mDense\u001b[0m\u001b[0;34m(\u001b[0m\u001b[0;36m1\u001b[0m\u001b[0;34m,\u001b[0m \u001b[0mactivation\u001b[0m\u001b[0;34m=\u001b[0m\u001b[0;34m\"linear\"\u001b[0m\u001b[0;34m)\u001b[0m\u001b[0;34m)\u001b[0m\u001b[0;34m\u001b[0m\u001b[0;34m\u001b[0m\u001b[0m\n",
      "\u001b[0;31mNameError\u001b[0m: name 'Sequential' is not defined"
     ]
    }
   ],
   "source": [
    "# define model - shallow neural net 3X\n",
    "number_hidden_nodes = 15\n",
    "number_input_features = 5\n",
    "epochs=100\n",
    "nn = Sequential()\n",
    "nn.add(Dense(units=number_hidden_nodes, input_dim=number_input_features, activation=\"relu\"))\n",
    "nn.add(Dense(1, activation=\"linear\"))\n",
    "\n",
    "nn.summary()\n",
    "\n",
    "# compile model\n",
    "nn.compile(loss=\"mean_squared_error\", optimizer=\"adam\", metrics=[\"mse\"])\n",
    "\n",
    "# train model\n",
    "model_1 = nn.fit(X_train_scaled, y_train_scaled, epochs=epochs )\n",
    "\n",
    "# Plot the train and test loss function\n",
    "plt.plot(model_1.history[\"loss\"])\n",
    "plt.title(\"loss_function - 1 hidden layer\")\n",
    "plt.legend([\"loss\"])\n",
    "plt.show()\n",
    "\n",
    "y_train_pred = nn.predict(X_train_scaled)\n",
    "y_test_pred = nn.predict(X_test_scaled)\n",
    "\n",
    "print(r2_score(y_train_scaled, y_train_pred))\n",
    "print(r2_score(y_test_scaled, y_test_pred))"
   ]
  },
  {
   "cell_type": "markdown",
   "metadata": {},
   "source": [
    "### Deep Neural Network with two hidden layers\n"
   ]
  },
  {
   "cell_type": "code",
   "execution_count": 30,
   "metadata": {
    "tags": []
   },
   "outputs": [
    {
     "output_type": "error",
     "ename": "NameError",
     "evalue": "name 'Sequential' is not defined",
     "traceback": [
      "\u001b[0;31m---------------------------------------------------------------------------\u001b[0m",
      "\u001b[0;31mNameError\u001b[0m                                 Traceback (most recent call last)",
      "\u001b[0;32m<ipython-input-30-a85a93c6e6a3>\u001b[0m in \u001b[0;36m<module>\u001b[0;34m\u001b[0m\n\u001b[1;32m      4\u001b[0m \u001b[0mhidden_nodes_layer2\u001b[0m \u001b[0;34m=\u001b[0m \u001b[0;36m5\u001b[0m\u001b[0;34m\u001b[0m\u001b[0;34m\u001b[0m\u001b[0m\n\u001b[1;32m      5\u001b[0m \u001b[0;34m\u001b[0m\u001b[0m\n\u001b[0;32m----> 6\u001b[0;31m \u001b[0mnn\u001b[0m \u001b[0;34m=\u001b[0m \u001b[0mSequential\u001b[0m\u001b[0;34m(\u001b[0m\u001b[0;34m)\u001b[0m\u001b[0;34m\u001b[0m\u001b[0;34m\u001b[0m\u001b[0m\n\u001b[0m\u001b[1;32m      7\u001b[0m \u001b[0;31m# First hidden layer\u001b[0m\u001b[0;34m\u001b[0m\u001b[0;34m\u001b[0m\u001b[0;34m\u001b[0m\u001b[0m\n\u001b[1;32m      8\u001b[0m nn.add(\n",
      "\u001b[0;31mNameError\u001b[0m: name 'Sequential' is not defined"
     ]
    }
   ],
   "source": [
    "# Define the model - deep neural net\n",
    "number_input_features = 5\n",
    "hidden_nodes_layer1 = 10\n",
    "hidden_nodes_layer2 = 5\n",
    "\n",
    "nn = Sequential()\n",
    "# First hidden layer\n",
    "nn.add(\n",
    "    Dense(units=hidden_nodes_layer1, input_dim=number_input_features, activation=\"relu\")\n",
    ")\n",
    "# Second hidden layer\n",
    "nn.add(Dense(units=hidden_nodes_layer2, activation=\"relu\"))\n",
    "# Output layer\n",
    "nn.add(Dense(units=1, activation=\"linear\"))\n",
    "\n",
    "\n",
    "nn.summary()\n",
    "\n",
    "# compile model\n",
    "nn.compile(loss=\"mean_squared_error\", optimizer=\"adam\", metrics=[\"mse\"])\n",
    "\n",
    "# train model\n",
    "model_1 = nn.fit(X_train_scaled, y_train_scaled, epochs=100)\n",
    "\n",
    "# Plot the train and test loss function\n",
    "plt.plot(model_1.history[\"loss\"])\n",
    "plt.title(\"loss_function - 2 hidden layer\")\n",
    "plt.legend([\"loss\"])\n",
    "plt.show()\n",
    "\n",
    "y_train_pred = nn.predict(X_train_scaled)\n",
    "y_test_pred = nn.predict(X_test_scaled)\n",
    "\n",
    "print(r2_score(y_train_scaled, y_train_pred))\n",
    "print(r2_score(y_test_scaled, y_test_pred))"
   ]
  },
  {
   "cell_type": "code",
   "execution_count": 31,
   "metadata": {
    "tags": []
   },
   "outputs": [
    {
     "output_type": "error",
     "ename": "NameError",
     "evalue": "name 'Sequential' is not defined",
     "traceback": [
      "\u001b[0;31m---------------------------------------------------------------------------\u001b[0m",
      "\u001b[0;31mNameError\u001b[0m                                 Traceback (most recent call last)",
      "\u001b[0;32m<ipython-input-31-b0553752a187>\u001b[0m in \u001b[0;36m<module>\u001b[0;34m\u001b[0m\n\u001b[1;32m      5\u001b[0m \u001b[0mhidden_nodes_layer2\u001b[0m \u001b[0;34m=\u001b[0m \u001b[0;36m5\u001b[0m\u001b[0;34m\u001b[0m\u001b[0;34m\u001b[0m\u001b[0m\n\u001b[1;32m      6\u001b[0m \u001b[0;34m\u001b[0m\u001b[0m\n\u001b[0;32m----> 7\u001b[0;31m \u001b[0mnn\u001b[0m \u001b[0;34m=\u001b[0m \u001b[0mSequential\u001b[0m\u001b[0;34m(\u001b[0m\u001b[0;34m)\u001b[0m\u001b[0;34m\u001b[0m\u001b[0;34m\u001b[0m\u001b[0m\n\u001b[0m\u001b[1;32m      8\u001b[0m \u001b[0;31m# First hidden layer\u001b[0m\u001b[0;34m\u001b[0m\u001b[0;34m\u001b[0m\u001b[0;34m\u001b[0m\u001b[0m\n\u001b[1;32m      9\u001b[0m nn.add(\n",
      "\u001b[0;31mNameError\u001b[0m: name 'Sequential' is not defined"
     ]
    }
   ],
   "source": [
    "# Conclusion: did not add value\n",
    "# Define the model - deep neural net 3X\n",
    "number_input_features = 5\n",
    "hidden_nodes_layer1 = 15\n",
    "hidden_nodes_layer2 = 5\n",
    "\n",
    "nn = Sequential()\n",
    "# First hidden layer\n",
    "nn.add(\n",
    "    Dense(units=hidden_nodes_layer1, input_dim=number_input_features, activation=\"relu\")\n",
    ")\n",
    "# Second hidden layer\n",
    "nn.add(Dense(units=hidden_nodes_layer2, activation=\"relu\"))\n",
    "# Output layer\n",
    "nn.add(Dense(units=1, activation=\"linear\"))\n",
    "\n",
    "\n",
    "nn.summary()\n",
    "\n",
    "# compile model\n",
    "nn.compile(loss=\"mean_squared_error\", optimizer=\"adam\", metrics=[\"mse\"])\n",
    "\n",
    "# train model\n",
    "model_1 = nn.fit(X_train_scaled, y_train_scaled, epochs=100)\n",
    "\n",
    "# Plot the train and test loss function\n",
    "plt.plot(model_1.history[\"loss\"])\n",
    "plt.title(\"loss_function - 2 hidden layer\")\n",
    "plt.legend([\"loss\"])\n",
    "plt.show()\n",
    "\n",
    "y_train_pred = nn.predict(X_train_scaled)\n",
    "y_test_pred = nn.predict(X_test_scaled)\n",
    "\n",
    "print(r2_score(y_train_scaled, y_train_pred))\n",
    "print(r2_score(y_test_scaled, y_test_pred))"
   ]
  },
  {
   "cell_type": "markdown",
   "metadata": {},
   "source": [
    "## Using Support Vector Regression (SVR) "
   ]
  },
  {
   "cell_type": "code",
   "execution_count": 32,
   "metadata": {},
   "outputs": [
    {
     "output_type": "error",
     "ename": "KeyboardInterrupt",
     "evalue": "",
     "traceback": [
      "\u001b[0;31m---------------------------------------------------------------------------\u001b[0m",
      "\u001b[0;31mKeyboardInterrupt\u001b[0m                         Traceback (most recent call last)",
      "\u001b[0;32m<ipython-input-32-7676a52ba395>\u001b[0m in \u001b[0;36m<module>\u001b[0;34m\u001b[0m\n\u001b[1;32m      1\u001b[0m \u001b[0;31m# import and instantiate SVR\u001b[0m\u001b[0;34m\u001b[0m\u001b[0;34m\u001b[0m\u001b[0;34m\u001b[0m\u001b[0m\n\u001b[1;32m      2\u001b[0m \u001b[0;34m\u001b[0m\u001b[0m\n\u001b[0;32m----> 3\u001b[0;31m \u001b[0;32mfrom\u001b[0m \u001b[0msklearn\u001b[0m\u001b[0;34m.\u001b[0m\u001b[0msvm\u001b[0m \u001b[0;32mimport\u001b[0m \u001b[0mSVR\u001b[0m\u001b[0;34m\u001b[0m\u001b[0;34m\u001b[0m\u001b[0m\n\u001b[0m\u001b[1;32m      4\u001b[0m \u001b[0;34m\u001b[0m\u001b[0m\n\u001b[1;32m      5\u001b[0m \u001b[0msvr\u001b[0m \u001b[0;34m=\u001b[0m \u001b[0mSVR\u001b[0m\u001b[0;34m(\u001b[0m\u001b[0mkernel\u001b[0m\u001b[0;34m=\u001b[0m\u001b[0;34m'linear'\u001b[0m\u001b[0;34m)\u001b[0m\u001b[0;34m\u001b[0m\u001b[0;34m\u001b[0m\u001b[0m\n",
      "\u001b[0;32m~/anaconda3/envs/mlenv2/lib/python3.7/site-packages/sklearn/__init__.py\u001b[0m in \u001b[0;36m<module>\u001b[0;34m\u001b[0m\n\u001b[1;32m     78\u001b[0m     \u001b[0;32mfrom\u001b[0m \u001b[0;34m.\u001b[0m \u001b[0;32mimport\u001b[0m \u001b[0m_distributor_init\u001b[0m  \u001b[0;31m# noqa: F401\u001b[0m\u001b[0;34m\u001b[0m\u001b[0;34m\u001b[0m\u001b[0m\n\u001b[1;32m     79\u001b[0m     \u001b[0;32mfrom\u001b[0m \u001b[0;34m.\u001b[0m \u001b[0;32mimport\u001b[0m \u001b[0m__check_build\u001b[0m  \u001b[0;31m# noqa: F401\u001b[0m\u001b[0;34m\u001b[0m\u001b[0;34m\u001b[0m\u001b[0m\n\u001b[0;32m---> 80\u001b[0;31m     \u001b[0;32mfrom\u001b[0m \u001b[0;34m.\u001b[0m\u001b[0mbase\u001b[0m \u001b[0;32mimport\u001b[0m \u001b[0mclone\u001b[0m\u001b[0;34m\u001b[0m\u001b[0;34m\u001b[0m\u001b[0m\n\u001b[0m\u001b[1;32m     81\u001b[0m     \u001b[0;32mfrom\u001b[0m \u001b[0;34m.\u001b[0m\u001b[0mutils\u001b[0m\u001b[0;34m.\u001b[0m\u001b[0m_show_versions\u001b[0m \u001b[0;32mimport\u001b[0m \u001b[0mshow_versions\u001b[0m\u001b[0;34m\u001b[0m\u001b[0;34m\u001b[0m\u001b[0m\n\u001b[1;32m     82\u001b[0m \u001b[0;34m\u001b[0m\u001b[0m\n",
      "\u001b[0;32m~/anaconda3/envs/mlenv2/lib/python3.7/site-packages/sklearn/base.py\u001b[0m in \u001b[0;36m<module>\u001b[0;34m\u001b[0m\n\u001b[1;32m     19\u001b[0m \u001b[0;32mfrom\u001b[0m \u001b[0;34m.\u001b[0m \u001b[0;32mimport\u001b[0m \u001b[0m__version__\u001b[0m\u001b[0;34m\u001b[0m\u001b[0;34m\u001b[0m\u001b[0m\n\u001b[1;32m     20\u001b[0m \u001b[0;32mfrom\u001b[0m \u001b[0;34m.\u001b[0m\u001b[0m_config\u001b[0m \u001b[0;32mimport\u001b[0m \u001b[0mget_config\u001b[0m\u001b[0;34m\u001b[0m\u001b[0;34m\u001b[0m\u001b[0m\n\u001b[0;32m---> 21\u001b[0;31m \u001b[0;32mfrom\u001b[0m \u001b[0;34m.\u001b[0m\u001b[0mutils\u001b[0m \u001b[0;32mimport\u001b[0m \u001b[0m_IS_32BIT\u001b[0m\u001b[0;34m\u001b[0m\u001b[0;34m\u001b[0m\u001b[0m\n\u001b[0m\u001b[1;32m     22\u001b[0m \u001b[0;32mfrom\u001b[0m \u001b[0;34m.\u001b[0m\u001b[0mutils\u001b[0m\u001b[0;34m.\u001b[0m\u001b[0mvalidation\u001b[0m \u001b[0;32mimport\u001b[0m \u001b[0mcheck_X_y\u001b[0m\u001b[0;34m\u001b[0m\u001b[0;34m\u001b[0m\u001b[0m\n\u001b[1;32m     23\u001b[0m \u001b[0;32mfrom\u001b[0m \u001b[0;34m.\u001b[0m\u001b[0mutils\u001b[0m\u001b[0;34m.\u001b[0m\u001b[0mvalidation\u001b[0m \u001b[0;32mimport\u001b[0m \u001b[0mcheck_array\u001b[0m\u001b[0;34m\u001b[0m\u001b[0;34m\u001b[0m\u001b[0m\n",
      "\u001b[0;32m~/anaconda3/envs/mlenv2/lib/python3.7/site-packages/sklearn/utils/__init__.py\u001b[0m in \u001b[0;36m<module>\u001b[0;34m\u001b[0m\n\u001b[1;32m     21\u001b[0m \u001b[0;34m\u001b[0m\u001b[0m\n\u001b[1;32m     22\u001b[0m \u001b[0;32mfrom\u001b[0m \u001b[0;34m.\u001b[0m\u001b[0mmurmurhash\u001b[0m \u001b[0;32mimport\u001b[0m \u001b[0mmurmurhash3_32\u001b[0m\u001b[0;34m\u001b[0m\u001b[0;34m\u001b[0m\u001b[0m\n\u001b[0;32m---> 23\u001b[0;31m \u001b[0;32mfrom\u001b[0m \u001b[0;34m.\u001b[0m\u001b[0mclass_weight\u001b[0m \u001b[0;32mimport\u001b[0m \u001b[0mcompute_class_weight\u001b[0m\u001b[0;34m,\u001b[0m \u001b[0mcompute_sample_weight\u001b[0m\u001b[0;34m\u001b[0m\u001b[0;34m\u001b[0m\u001b[0m\n\u001b[0m\u001b[1;32m     24\u001b[0m \u001b[0;32mfrom\u001b[0m \u001b[0;34m.\u001b[0m \u001b[0;32mimport\u001b[0m \u001b[0m_joblib\u001b[0m\u001b[0;34m\u001b[0m\u001b[0;34m\u001b[0m\u001b[0m\n\u001b[1;32m     25\u001b[0m \u001b[0;32mfrom\u001b[0m \u001b[0;34m.\u001b[0m\u001b[0;34m.\u001b[0m\u001b[0mexceptions\u001b[0m \u001b[0;32mimport\u001b[0m \u001b[0mDataConversionWarning\u001b[0m\u001b[0;34m\u001b[0m\u001b[0;34m\u001b[0m\u001b[0m\n",
      "\u001b[0;32m~/anaconda3/envs/mlenv2/lib/python3.7/site-packages/sklearn/utils/class_weight.py\u001b[0m in \u001b[0;36m<module>\u001b[0;34m\u001b[0m\n\u001b[1;32m      5\u001b[0m \u001b[0;32mimport\u001b[0m \u001b[0mnumpy\u001b[0m \u001b[0;32mas\u001b[0m \u001b[0mnp\u001b[0m\u001b[0;34m\u001b[0m\u001b[0;34m\u001b[0m\u001b[0m\n\u001b[1;32m      6\u001b[0m \u001b[0;34m\u001b[0m\u001b[0m\n\u001b[0;32m----> 7\u001b[0;31m \u001b[0;32mfrom\u001b[0m \u001b[0;34m.\u001b[0m\u001b[0mvalidation\u001b[0m \u001b[0;32mimport\u001b[0m \u001b[0m_deprecate_positional_args\u001b[0m\u001b[0;34m\u001b[0m\u001b[0;34m\u001b[0m\u001b[0m\n\u001b[0m\u001b[1;32m      8\u001b[0m \u001b[0;34m\u001b[0m\u001b[0m\n\u001b[1;32m      9\u001b[0m \u001b[0;34m\u001b[0m\u001b[0m\n",
      "\u001b[0;32m~/anaconda3/envs/mlenv2/lib/python3.7/site-packages/sklearn/utils/validation.py\u001b[0m in \u001b[0;36m<module>\u001b[0;34m\u001b[0m\n\u001b[1;32m     23\u001b[0m \u001b[0;32mfrom\u001b[0m \u001b[0mcontextlib\u001b[0m \u001b[0;32mimport\u001b[0m \u001b[0msuppress\u001b[0m\u001b[0;34m\u001b[0m\u001b[0;34m\u001b[0m\u001b[0m\n\u001b[1;32m     24\u001b[0m \u001b[0;34m\u001b[0m\u001b[0m\n\u001b[0;32m---> 25\u001b[0;31m \u001b[0;32mfrom\u001b[0m \u001b[0;34m.\u001b[0m\u001b[0mfixes\u001b[0m \u001b[0;32mimport\u001b[0m \u001b[0m_object_dtype_isnan\u001b[0m\u001b[0;34m,\u001b[0m \u001b[0mparse_version\u001b[0m\u001b[0;34m\u001b[0m\u001b[0;34m\u001b[0m\u001b[0m\n\u001b[0m\u001b[1;32m     26\u001b[0m \u001b[0;32mfrom\u001b[0m \u001b[0;34m.\u001b[0m\u001b[0;34m.\u001b[0m \u001b[0;32mimport\u001b[0m \u001b[0mget_config\u001b[0m \u001b[0;32mas\u001b[0m \u001b[0m_get_config\u001b[0m\u001b[0;34m\u001b[0m\u001b[0;34m\u001b[0m\u001b[0m\n\u001b[1;32m     27\u001b[0m \u001b[0;32mfrom\u001b[0m \u001b[0;34m.\u001b[0m\u001b[0;34m.\u001b[0m\u001b[0mexceptions\u001b[0m \u001b[0;32mimport\u001b[0m \u001b[0mNonBLASDotWarning\u001b[0m\u001b[0;34m,\u001b[0m \u001b[0mPositiveSpectrumWarning\u001b[0m\u001b[0;34m\u001b[0m\u001b[0;34m\u001b[0m\u001b[0m\n",
      "\u001b[0;32m~/anaconda3/envs/mlenv2/lib/python3.7/site-packages/sklearn/utils/fixes.py\u001b[0m in \u001b[0;36m<module>\u001b[0;34m\u001b[0m\n\u001b[1;32m     23\u001b[0m \u001b[0;34m\u001b[0m\u001b[0m\n\u001b[1;32m     24\u001b[0m \u001b[0;32mtry\u001b[0m\u001b[0;34m:\u001b[0m\u001b[0;34m\u001b[0m\u001b[0;34m\u001b[0m\u001b[0m\n\u001b[0;32m---> 25\u001b[0;31m     \u001b[0;32mfrom\u001b[0m \u001b[0mpkg_resources\u001b[0m \u001b[0;32mimport\u001b[0m \u001b[0mparse_version\u001b[0m  \u001b[0;31m# type: ignore\u001b[0m\u001b[0;34m\u001b[0m\u001b[0;34m\u001b[0m\u001b[0m\n\u001b[0m\u001b[1;32m     26\u001b[0m \u001b[0;32mexcept\u001b[0m \u001b[0mImportError\u001b[0m\u001b[0;34m:\u001b[0m\u001b[0;34m\u001b[0m\u001b[0;34m\u001b[0m\u001b[0m\n\u001b[1;32m     27\u001b[0m     \u001b[0;31m# setuptools not installed\u001b[0m\u001b[0;34m\u001b[0m\u001b[0;34m\u001b[0m\u001b[0;34m\u001b[0m\u001b[0m\n",
      "\u001b[0;32m~/anaconda3/envs/mlenv2/lib/python3.7/site-packages/pkg_resources/__init__.py\u001b[0m in \u001b[0;36m<module>\u001b[0;34m\u001b[0m\n\u001b[1;32m   3265\u001b[0m \u001b[0;34m\u001b[0m\u001b[0m\n\u001b[1;32m   3266\u001b[0m \u001b[0;34m\u001b[0m\u001b[0m\n\u001b[0;32m-> 3267\u001b[0;31m \u001b[0;34m@\u001b[0m\u001b[0m_call_aside\u001b[0m\u001b[0;34m\u001b[0m\u001b[0;34m\u001b[0m\u001b[0m\n\u001b[0m\u001b[1;32m   3268\u001b[0m \u001b[0;32mdef\u001b[0m \u001b[0m_initialize_master_working_set\u001b[0m\u001b[0;34m(\u001b[0m\u001b[0;34m)\u001b[0m\u001b[0;34m:\u001b[0m\u001b[0;34m\u001b[0m\u001b[0;34m\u001b[0m\u001b[0m\n\u001b[1;32m   3269\u001b[0m     \"\"\"\n",
      "\u001b[0;32m~/anaconda3/envs/mlenv2/lib/python3.7/site-packages/pkg_resources/__init__.py\u001b[0m in \u001b[0;36m_call_aside\u001b[0;34m(f, *args, **kwargs)\u001b[0m\n\u001b[1;32m   3249\u001b[0m \u001b[0;31m# from jaraco.functools 1.3\u001b[0m\u001b[0;34m\u001b[0m\u001b[0;34m\u001b[0m\u001b[0;34m\u001b[0m\u001b[0m\n\u001b[1;32m   3250\u001b[0m \u001b[0;32mdef\u001b[0m \u001b[0m_call_aside\u001b[0m\u001b[0;34m(\u001b[0m\u001b[0mf\u001b[0m\u001b[0;34m,\u001b[0m \u001b[0;34m*\u001b[0m\u001b[0margs\u001b[0m\u001b[0;34m,\u001b[0m \u001b[0;34m**\u001b[0m\u001b[0mkwargs\u001b[0m\u001b[0;34m)\u001b[0m\u001b[0;34m:\u001b[0m\u001b[0;34m\u001b[0m\u001b[0;34m\u001b[0m\u001b[0m\n\u001b[0;32m-> 3251\u001b[0;31m     \u001b[0mf\u001b[0m\u001b[0;34m(\u001b[0m\u001b[0;34m*\u001b[0m\u001b[0margs\u001b[0m\u001b[0;34m,\u001b[0m \u001b[0;34m**\u001b[0m\u001b[0mkwargs\u001b[0m\u001b[0;34m)\u001b[0m\u001b[0;34m\u001b[0m\u001b[0;34m\u001b[0m\u001b[0m\n\u001b[0m\u001b[1;32m   3252\u001b[0m     \u001b[0;32mreturn\u001b[0m \u001b[0mf\u001b[0m\u001b[0;34m\u001b[0m\u001b[0;34m\u001b[0m\u001b[0m\n\u001b[1;32m   3253\u001b[0m \u001b[0;34m\u001b[0m\u001b[0m\n",
      "\u001b[0;32m~/anaconda3/envs/mlenv2/lib/python3.7/site-packages/pkg_resources/__init__.py\u001b[0m in \u001b[0;36m_initialize_master_working_set\u001b[0;34m()\u001b[0m\n\u001b[1;32m   3278\u001b[0m     \u001b[0mat\u001b[0m \u001b[0mtheir\u001b[0m \u001b[0mown\u001b[0m \u001b[0mrisk\u001b[0m\u001b[0;34m.\u001b[0m\u001b[0;34m\u001b[0m\u001b[0;34m\u001b[0m\u001b[0m\n\u001b[1;32m   3279\u001b[0m     \"\"\"\n\u001b[0;32m-> 3280\u001b[0;31m     \u001b[0mworking_set\u001b[0m \u001b[0;34m=\u001b[0m \u001b[0mWorkingSet\u001b[0m\u001b[0;34m.\u001b[0m\u001b[0m_build_master\u001b[0m\u001b[0;34m(\u001b[0m\u001b[0;34m)\u001b[0m\u001b[0;34m\u001b[0m\u001b[0;34m\u001b[0m\u001b[0m\n\u001b[0m\u001b[1;32m   3281\u001b[0m     \u001b[0m_declare_state\u001b[0m\u001b[0;34m(\u001b[0m\u001b[0;34m'object'\u001b[0m\u001b[0;34m,\u001b[0m \u001b[0mworking_set\u001b[0m\u001b[0;34m=\u001b[0m\u001b[0mworking_set\u001b[0m\u001b[0;34m)\u001b[0m\u001b[0;34m\u001b[0m\u001b[0;34m\u001b[0m\u001b[0m\n\u001b[1;32m   3282\u001b[0m \u001b[0;34m\u001b[0m\u001b[0m\n",
      "\u001b[0;32m~/anaconda3/envs/mlenv2/lib/python3.7/site-packages/pkg_resources/__init__.py\u001b[0m in \u001b[0;36m_build_master\u001b[0;34m(cls)\u001b[0m\n\u001b[1;32m    571\u001b[0m         \u001b[0mPrepare\u001b[0m \u001b[0mthe\u001b[0m \u001b[0mmaster\u001b[0m \u001b[0mworking\u001b[0m \u001b[0mset\u001b[0m\u001b[0;34m.\u001b[0m\u001b[0;34m\u001b[0m\u001b[0;34m\u001b[0m\u001b[0m\n\u001b[1;32m    572\u001b[0m         \"\"\"\n\u001b[0;32m--> 573\u001b[0;31m         \u001b[0mws\u001b[0m \u001b[0;34m=\u001b[0m \u001b[0mcls\u001b[0m\u001b[0;34m(\u001b[0m\u001b[0;34m)\u001b[0m\u001b[0;34m\u001b[0m\u001b[0;34m\u001b[0m\u001b[0m\n\u001b[0m\u001b[1;32m    574\u001b[0m         \u001b[0;32mtry\u001b[0m\u001b[0;34m:\u001b[0m\u001b[0;34m\u001b[0m\u001b[0;34m\u001b[0m\u001b[0m\n\u001b[1;32m    575\u001b[0m             \u001b[0;32mfrom\u001b[0m \u001b[0m__main__\u001b[0m \u001b[0;32mimport\u001b[0m \u001b[0m__requires__\u001b[0m\u001b[0;34m\u001b[0m\u001b[0;34m\u001b[0m\u001b[0m\n",
      "\u001b[0;32m~/anaconda3/envs/mlenv2/lib/python3.7/site-packages/pkg_resources/__init__.py\u001b[0m in \u001b[0;36m__init__\u001b[0;34m(self, entries)\u001b[0m\n\u001b[1;32m    564\u001b[0m \u001b[0;34m\u001b[0m\u001b[0m\n\u001b[1;32m    565\u001b[0m         \u001b[0;32mfor\u001b[0m \u001b[0mentry\u001b[0m \u001b[0;32min\u001b[0m \u001b[0mentries\u001b[0m\u001b[0;34m:\u001b[0m\u001b[0;34m\u001b[0m\u001b[0;34m\u001b[0m\u001b[0m\n\u001b[0;32m--> 566\u001b[0;31m             \u001b[0mself\u001b[0m\u001b[0;34m.\u001b[0m\u001b[0madd_entry\u001b[0m\u001b[0;34m(\u001b[0m\u001b[0mentry\u001b[0m\u001b[0;34m)\u001b[0m\u001b[0;34m\u001b[0m\u001b[0;34m\u001b[0m\u001b[0m\n\u001b[0m\u001b[1;32m    567\u001b[0m \u001b[0;34m\u001b[0m\u001b[0m\n\u001b[1;32m    568\u001b[0m     \u001b[0;34m@\u001b[0m\u001b[0mclassmethod\u001b[0m\u001b[0;34m\u001b[0m\u001b[0;34m\u001b[0m\u001b[0m\n",
      "\u001b[0;32m~/anaconda3/envs/mlenv2/lib/python3.7/site-packages/pkg_resources/__init__.py\u001b[0m in \u001b[0;36madd_entry\u001b[0;34m(self, entry)\u001b[0m\n\u001b[1;32m    620\u001b[0m         \u001b[0mself\u001b[0m\u001b[0;34m.\u001b[0m\u001b[0mentry_keys\u001b[0m\u001b[0;34m.\u001b[0m\u001b[0msetdefault\u001b[0m\u001b[0;34m(\u001b[0m\u001b[0mentry\u001b[0m\u001b[0;34m,\u001b[0m \u001b[0;34m[\u001b[0m\u001b[0;34m]\u001b[0m\u001b[0;34m)\u001b[0m\u001b[0;34m\u001b[0m\u001b[0;34m\u001b[0m\u001b[0m\n\u001b[1;32m    621\u001b[0m         \u001b[0mself\u001b[0m\u001b[0;34m.\u001b[0m\u001b[0mentries\u001b[0m\u001b[0;34m.\u001b[0m\u001b[0mappend\u001b[0m\u001b[0;34m(\u001b[0m\u001b[0mentry\u001b[0m\u001b[0;34m)\u001b[0m\u001b[0;34m\u001b[0m\u001b[0;34m\u001b[0m\u001b[0m\n\u001b[0;32m--> 622\u001b[0;31m         \u001b[0;32mfor\u001b[0m \u001b[0mdist\u001b[0m \u001b[0;32min\u001b[0m \u001b[0mfind_distributions\u001b[0m\u001b[0;34m(\u001b[0m\u001b[0mentry\u001b[0m\u001b[0;34m,\u001b[0m \u001b[0;32mTrue\u001b[0m\u001b[0;34m)\u001b[0m\u001b[0;34m:\u001b[0m\u001b[0;34m\u001b[0m\u001b[0;34m\u001b[0m\u001b[0m\n\u001b[0m\u001b[1;32m    623\u001b[0m             \u001b[0mself\u001b[0m\u001b[0;34m.\u001b[0m\u001b[0madd\u001b[0m\u001b[0;34m(\u001b[0m\u001b[0mdist\u001b[0m\u001b[0;34m,\u001b[0m \u001b[0mentry\u001b[0m\u001b[0;34m,\u001b[0m \u001b[0;32mFalse\u001b[0m\u001b[0;34m)\u001b[0m\u001b[0;34m\u001b[0m\u001b[0;34m\u001b[0m\u001b[0m\n\u001b[1;32m    624\u001b[0m \u001b[0;34m\u001b[0m\u001b[0m\n",
      "\u001b[0;32m~/anaconda3/envs/mlenv2/lib/python3.7/site-packages/pkg_resources/__init__.py\u001b[0m in \u001b[0;36mfind_on_path\u001b[0;34m(importer, path_item, only)\u001b[0m\n\u001b[1;32m   2076\u001b[0m         \u001b[0mfullpath\u001b[0m \u001b[0;34m=\u001b[0m \u001b[0mos\u001b[0m\u001b[0;34m.\u001b[0m\u001b[0mpath\u001b[0m\u001b[0;34m.\u001b[0m\u001b[0mjoin\u001b[0m\u001b[0;34m(\u001b[0m\u001b[0mpath_item\u001b[0m\u001b[0;34m,\u001b[0m \u001b[0mentry\u001b[0m\u001b[0;34m)\u001b[0m\u001b[0;34m\u001b[0m\u001b[0;34m\u001b[0m\u001b[0m\n\u001b[1;32m   2077\u001b[0m         \u001b[0mfactory\u001b[0m \u001b[0;34m=\u001b[0m \u001b[0mdist_factory\u001b[0m\u001b[0;34m(\u001b[0m\u001b[0mpath_item\u001b[0m\u001b[0;34m,\u001b[0m \u001b[0mentry\u001b[0m\u001b[0;34m,\u001b[0m \u001b[0monly\u001b[0m\u001b[0;34m)\u001b[0m\u001b[0;34m\u001b[0m\u001b[0;34m\u001b[0m\u001b[0m\n\u001b[0;32m-> 2078\u001b[0;31m         \u001b[0;32mfor\u001b[0m \u001b[0mdist\u001b[0m \u001b[0;32min\u001b[0m \u001b[0mfactory\u001b[0m\u001b[0;34m(\u001b[0m\u001b[0mfullpath\u001b[0m\u001b[0;34m)\u001b[0m\u001b[0;34m:\u001b[0m\u001b[0;34m\u001b[0m\u001b[0;34m\u001b[0m\u001b[0m\n\u001b[0m\u001b[1;32m   2079\u001b[0m             \u001b[0;32myield\u001b[0m \u001b[0mdist\u001b[0m\u001b[0;34m\u001b[0m\u001b[0;34m\u001b[0m\u001b[0m\n\u001b[1;32m   2080\u001b[0m \u001b[0;34m\u001b[0m\u001b[0m\n",
      "\u001b[0;32m~/anaconda3/envs/mlenv2/lib/python3.7/site-packages/pkg_resources/__init__.py\u001b[0m in \u001b[0;36mdistributions_from_metadata\u001b[0;34m(path)\u001b[0m\n\u001b[1;32m   2149\u001b[0m     \u001b[0mentry\u001b[0m \u001b[0;34m=\u001b[0m \u001b[0mos\u001b[0m\u001b[0;34m.\u001b[0m\u001b[0mpath\u001b[0m\u001b[0;34m.\u001b[0m\u001b[0mbasename\u001b[0m\u001b[0;34m(\u001b[0m\u001b[0mpath\u001b[0m\u001b[0;34m)\u001b[0m\u001b[0;34m\u001b[0m\u001b[0;34m\u001b[0m\u001b[0m\n\u001b[1;32m   2150\u001b[0m     yield Distribution.from_location(\n\u001b[0;32m-> 2151\u001b[0;31m         \u001b[0mroot\u001b[0m\u001b[0;34m,\u001b[0m \u001b[0mentry\u001b[0m\u001b[0;34m,\u001b[0m \u001b[0mmetadata\u001b[0m\u001b[0;34m,\u001b[0m \u001b[0mprecedence\u001b[0m\u001b[0;34m=\u001b[0m\u001b[0mDEVELOP_DIST\u001b[0m\u001b[0;34m,\u001b[0m\u001b[0;34m\u001b[0m\u001b[0;34m\u001b[0m\u001b[0m\n\u001b[0m\u001b[1;32m   2152\u001b[0m     )\n\u001b[1;32m   2153\u001b[0m \u001b[0;34m\u001b[0m\u001b[0m\n",
      "\u001b[0;32m~/anaconda3/envs/mlenv2/lib/python3.7/site-packages/pkg_resources/__init__.py\u001b[0m in \u001b[0;36mfrom_location\u001b[0;34m(cls, location, basename, metadata, **kw)\u001b[0m\n\u001b[1;32m   2610\u001b[0m         return cls(\n\u001b[1;32m   2611\u001b[0m             \u001b[0mlocation\u001b[0m\u001b[0;34m,\u001b[0m \u001b[0mmetadata\u001b[0m\u001b[0;34m,\u001b[0m \u001b[0mproject_name\u001b[0m\u001b[0;34m=\u001b[0m\u001b[0mproject_name\u001b[0m\u001b[0;34m,\u001b[0m \u001b[0mversion\u001b[0m\u001b[0;34m=\u001b[0m\u001b[0mversion\u001b[0m\u001b[0;34m,\u001b[0m\u001b[0;34m\u001b[0m\u001b[0;34m\u001b[0m\u001b[0m\n\u001b[0;32m-> 2612\u001b[0;31m             \u001b[0mpy_version\u001b[0m\u001b[0;34m=\u001b[0m\u001b[0mpy_version\u001b[0m\u001b[0;34m,\u001b[0m \u001b[0mplatform\u001b[0m\u001b[0;34m=\u001b[0m\u001b[0mplatform\u001b[0m\u001b[0;34m,\u001b[0m \u001b[0;34m**\u001b[0m\u001b[0mkw\u001b[0m\u001b[0;34m\u001b[0m\u001b[0;34m\u001b[0m\u001b[0m\n\u001b[0m\u001b[1;32m   2613\u001b[0m         )._reload_version()\n\u001b[1;32m   2614\u001b[0m \u001b[0;34m\u001b[0m\u001b[0m\n",
      "\u001b[0;32m~/anaconda3/envs/mlenv2/lib/python3.7/site-packages/pkg_resources/__init__.py\u001b[0m in \u001b[0;36m_reload_version\u001b[0;34m(self)\u001b[0m\n\u001b[1;32m   3012\u001b[0m         \u001b[0mthe\u001b[0m \u001b[0mmetadata\u001b[0m \u001b[0mfile\u001b[0m \u001b[0mitself\u001b[0m \u001b[0minstead\u001b[0m \u001b[0mof\u001b[0m \u001b[0mthe\u001b[0m \u001b[0mfilename\u001b[0m\u001b[0;34m.\u001b[0m\u001b[0;34m\u001b[0m\u001b[0;34m\u001b[0m\u001b[0m\n\u001b[1;32m   3013\u001b[0m         \"\"\"\n\u001b[0;32m-> 3014\u001b[0;31m         \u001b[0mmd_version\u001b[0m \u001b[0;34m=\u001b[0m \u001b[0mself\u001b[0m\u001b[0;34m.\u001b[0m\u001b[0m_get_version\u001b[0m\u001b[0;34m(\u001b[0m\u001b[0;34m)\u001b[0m\u001b[0;34m\u001b[0m\u001b[0;34m\u001b[0m\u001b[0m\n\u001b[0m\u001b[1;32m   3015\u001b[0m         \u001b[0;32mif\u001b[0m \u001b[0mmd_version\u001b[0m\u001b[0;34m:\u001b[0m\u001b[0;34m\u001b[0m\u001b[0;34m\u001b[0m\u001b[0m\n\u001b[1;32m   3016\u001b[0m             \u001b[0mself\u001b[0m\u001b[0;34m.\u001b[0m\u001b[0m_version\u001b[0m \u001b[0;34m=\u001b[0m \u001b[0mmd_version\u001b[0m\u001b[0;34m\u001b[0m\u001b[0;34m\u001b[0m\u001b[0m\n",
      "\u001b[0;32m~/anaconda3/envs/mlenv2/lib/python3.7/site-packages/pkg_resources/__init__.py\u001b[0m in \u001b[0;36m_get_version\u001b[0;34m(self)\u001b[0m\n\u001b[1;32m   2790\u001b[0m     \u001b[0;32mdef\u001b[0m \u001b[0m_get_version\u001b[0m\u001b[0;34m(\u001b[0m\u001b[0mself\u001b[0m\u001b[0;34m)\u001b[0m\u001b[0;34m:\u001b[0m\u001b[0;34m\u001b[0m\u001b[0;34m\u001b[0m\u001b[0m\n\u001b[1;32m   2791\u001b[0m         \u001b[0mlines\u001b[0m \u001b[0;34m=\u001b[0m \u001b[0mself\u001b[0m\u001b[0;34m.\u001b[0m\u001b[0m_get_metadata\u001b[0m\u001b[0;34m(\u001b[0m\u001b[0mself\u001b[0m\u001b[0;34m.\u001b[0m\u001b[0mPKG_INFO\u001b[0m\u001b[0;34m)\u001b[0m\u001b[0;34m\u001b[0m\u001b[0;34m\u001b[0m\u001b[0m\n\u001b[0;32m-> 2792\u001b[0;31m         \u001b[0mversion\u001b[0m \u001b[0;34m=\u001b[0m \u001b[0m_version_from_file\u001b[0m\u001b[0;34m(\u001b[0m\u001b[0mlines\u001b[0m\u001b[0;34m)\u001b[0m\u001b[0;34m\u001b[0m\u001b[0;34m\u001b[0m\u001b[0m\n\u001b[0m\u001b[1;32m   2793\u001b[0m \u001b[0;34m\u001b[0m\u001b[0m\n\u001b[1;32m   2794\u001b[0m         \u001b[0;32mreturn\u001b[0m \u001b[0mversion\u001b[0m\u001b[0;34m\u001b[0m\u001b[0;34m\u001b[0m\u001b[0m\n",
      "\u001b[0;32m~/anaconda3/envs/mlenv2/lib/python3.7/site-packages/pkg_resources/__init__.py\u001b[0m in \u001b[0;36m_version_from_file\u001b[0;34m(lines)\u001b[0m\n\u001b[1;32m   2574\u001b[0m         \u001b[0;32mreturn\u001b[0m \u001b[0mline\u001b[0m\u001b[0;34m.\u001b[0m\u001b[0mlower\u001b[0m\u001b[0;34m(\u001b[0m\u001b[0;34m)\u001b[0m\u001b[0;34m.\u001b[0m\u001b[0mstartswith\u001b[0m\u001b[0;34m(\u001b[0m\u001b[0;34m'version:'\u001b[0m\u001b[0;34m)\u001b[0m\u001b[0;34m\u001b[0m\u001b[0;34m\u001b[0m\u001b[0m\n\u001b[1;32m   2575\u001b[0m     \u001b[0mversion_lines\u001b[0m \u001b[0;34m=\u001b[0m \u001b[0mfilter\u001b[0m\u001b[0;34m(\u001b[0m\u001b[0mis_version_line\u001b[0m\u001b[0;34m,\u001b[0m \u001b[0mlines\u001b[0m\u001b[0;34m)\u001b[0m\u001b[0;34m\u001b[0m\u001b[0;34m\u001b[0m\u001b[0m\n\u001b[0;32m-> 2576\u001b[0;31m     \u001b[0mline\u001b[0m \u001b[0;34m=\u001b[0m \u001b[0mnext\u001b[0m\u001b[0;34m(\u001b[0m\u001b[0miter\u001b[0m\u001b[0;34m(\u001b[0m\u001b[0mversion_lines\u001b[0m\u001b[0;34m)\u001b[0m\u001b[0;34m,\u001b[0m \u001b[0;34m''\u001b[0m\u001b[0;34m)\u001b[0m\u001b[0;34m\u001b[0m\u001b[0;34m\u001b[0m\u001b[0m\n\u001b[0m\u001b[1;32m   2577\u001b[0m     \u001b[0m_\u001b[0m\u001b[0;34m,\u001b[0m \u001b[0m_\u001b[0m\u001b[0;34m,\u001b[0m \u001b[0mvalue\u001b[0m \u001b[0;34m=\u001b[0m \u001b[0mline\u001b[0m\u001b[0;34m.\u001b[0m\u001b[0mpartition\u001b[0m\u001b[0;34m(\u001b[0m\u001b[0;34m':'\u001b[0m\u001b[0;34m)\u001b[0m\u001b[0;34m\u001b[0m\u001b[0;34m\u001b[0m\u001b[0m\n\u001b[1;32m   2578\u001b[0m     \u001b[0;32mreturn\u001b[0m \u001b[0msafe_version\u001b[0m\u001b[0;34m(\u001b[0m\u001b[0mvalue\u001b[0m\u001b[0;34m.\u001b[0m\u001b[0mstrip\u001b[0m\u001b[0;34m(\u001b[0m\u001b[0;34m)\u001b[0m\u001b[0;34m)\u001b[0m \u001b[0;32mor\u001b[0m \u001b[0;32mNone\u001b[0m\u001b[0;34m\u001b[0m\u001b[0;34m\u001b[0m\u001b[0m\n",
      "\u001b[0;32m~/anaconda3/envs/mlenv2/lib/python3.7/site-packages/pkg_resources/__init__.py\u001b[0m in \u001b[0;36m_get_metadata\u001b[0;34m(self, name)\u001b[0m\n\u001b[1;32m   2785\u001b[0m     \u001b[0;32mdef\u001b[0m \u001b[0m_get_metadata\u001b[0m\u001b[0;34m(\u001b[0m\u001b[0mself\u001b[0m\u001b[0;34m,\u001b[0m \u001b[0mname\u001b[0m\u001b[0;34m)\u001b[0m\u001b[0;34m:\u001b[0m\u001b[0;34m\u001b[0m\u001b[0;34m\u001b[0m\u001b[0m\n\u001b[1;32m   2786\u001b[0m         \u001b[0;32mif\u001b[0m \u001b[0mself\u001b[0m\u001b[0;34m.\u001b[0m\u001b[0mhas_metadata\u001b[0m\u001b[0;34m(\u001b[0m\u001b[0mname\u001b[0m\u001b[0;34m)\u001b[0m\u001b[0;34m:\u001b[0m\u001b[0;34m\u001b[0m\u001b[0;34m\u001b[0m\u001b[0m\n\u001b[0;32m-> 2787\u001b[0;31m             \u001b[0;32mfor\u001b[0m \u001b[0mline\u001b[0m \u001b[0;32min\u001b[0m \u001b[0mself\u001b[0m\u001b[0;34m.\u001b[0m\u001b[0mget_metadata_lines\u001b[0m\u001b[0;34m(\u001b[0m\u001b[0mname\u001b[0m\u001b[0;34m)\u001b[0m\u001b[0;34m:\u001b[0m\u001b[0;34m\u001b[0m\u001b[0;34m\u001b[0m\u001b[0m\n\u001b[0m\u001b[1;32m   2788\u001b[0m                 \u001b[0;32myield\u001b[0m \u001b[0mline\u001b[0m\u001b[0;34m\u001b[0m\u001b[0;34m\u001b[0m\u001b[0m\n\u001b[1;32m   2789\u001b[0m \u001b[0;34m\u001b[0m\u001b[0m\n",
      "\u001b[0;32m~/anaconda3/envs/mlenv2/lib/python3.7/site-packages/pkg_resources/__init__.py\u001b[0m in \u001b[0;36mget_metadata_lines\u001b[0;34m(self, name)\u001b[0m\n\u001b[1;32m   1430\u001b[0m \u001b[0;34m\u001b[0m\u001b[0m\n\u001b[1;32m   1431\u001b[0m     \u001b[0;32mdef\u001b[0m \u001b[0mget_metadata_lines\u001b[0m\u001b[0;34m(\u001b[0m\u001b[0mself\u001b[0m\u001b[0;34m,\u001b[0m \u001b[0mname\u001b[0m\u001b[0;34m)\u001b[0m\u001b[0;34m:\u001b[0m\u001b[0;34m\u001b[0m\u001b[0;34m\u001b[0m\u001b[0m\n\u001b[0;32m-> 1432\u001b[0;31m         \u001b[0;32mreturn\u001b[0m \u001b[0myield_lines\u001b[0m\u001b[0;34m(\u001b[0m\u001b[0mself\u001b[0m\u001b[0;34m.\u001b[0m\u001b[0mget_metadata\u001b[0m\u001b[0;34m(\u001b[0m\u001b[0mname\u001b[0m\u001b[0;34m)\u001b[0m\u001b[0;34m)\u001b[0m\u001b[0;34m\u001b[0m\u001b[0;34m\u001b[0m\u001b[0m\n\u001b[0m\u001b[1;32m   1433\u001b[0m \u001b[0;34m\u001b[0m\u001b[0m\n\u001b[1;32m   1434\u001b[0m     \u001b[0;32mdef\u001b[0m \u001b[0mresource_isdir\u001b[0m\u001b[0;34m(\u001b[0m\u001b[0mself\u001b[0m\u001b[0;34m,\u001b[0m \u001b[0mresource_name\u001b[0m\u001b[0;34m)\u001b[0m\u001b[0;34m:\u001b[0m\u001b[0;34m\u001b[0m\u001b[0;34m\u001b[0m\u001b[0m\n",
      "\u001b[0;32m~/anaconda3/envs/mlenv2/lib/python3.7/site-packages/pkg_resources/__init__.py\u001b[0m in \u001b[0;36mget_metadata\u001b[0;34m(self, name)\u001b[0m\n\u001b[1;32m   1418\u001b[0m             \u001b[0;32mreturn\u001b[0m \u001b[0;34m\"\"\u001b[0m\u001b[0;34m\u001b[0m\u001b[0;34m\u001b[0m\u001b[0m\n\u001b[1;32m   1419\u001b[0m         \u001b[0mpath\u001b[0m \u001b[0;34m=\u001b[0m \u001b[0mself\u001b[0m\u001b[0;34m.\u001b[0m\u001b[0m_get_metadata_path\u001b[0m\u001b[0;34m(\u001b[0m\u001b[0mname\u001b[0m\u001b[0;34m)\u001b[0m\u001b[0;34m\u001b[0m\u001b[0;34m\u001b[0m\u001b[0m\n\u001b[0;32m-> 1420\u001b[0;31m         \u001b[0mvalue\u001b[0m \u001b[0;34m=\u001b[0m \u001b[0mself\u001b[0m\u001b[0;34m.\u001b[0m\u001b[0m_get\u001b[0m\u001b[0;34m(\u001b[0m\u001b[0mpath\u001b[0m\u001b[0;34m)\u001b[0m\u001b[0;34m\u001b[0m\u001b[0;34m\u001b[0m\u001b[0m\n\u001b[0m\u001b[1;32m   1421\u001b[0m         \u001b[0;32mif\u001b[0m \u001b[0msix\u001b[0m\u001b[0;34m.\u001b[0m\u001b[0mPY2\u001b[0m\u001b[0;34m:\u001b[0m\u001b[0;34m\u001b[0m\u001b[0;34m\u001b[0m\u001b[0m\n\u001b[1;32m   1422\u001b[0m             \u001b[0;32mreturn\u001b[0m \u001b[0mvalue\u001b[0m\u001b[0;34m\u001b[0m\u001b[0;34m\u001b[0m\u001b[0m\n",
      "\u001b[0;32m~/anaconda3/envs/mlenv2/lib/python3.7/site-packages/pkg_resources/__init__.py\u001b[0m in \u001b[0;36m_get\u001b[0;34m(self, path)\u001b[0m\n\u001b[1;32m   1625\u001b[0m     \u001b[0;32mdef\u001b[0m \u001b[0m_get\u001b[0m\u001b[0;34m(\u001b[0m\u001b[0mself\u001b[0m\u001b[0;34m,\u001b[0m \u001b[0mpath\u001b[0m\u001b[0;34m)\u001b[0m\u001b[0;34m:\u001b[0m\u001b[0;34m\u001b[0m\u001b[0;34m\u001b[0m\u001b[0m\n\u001b[1;32m   1626\u001b[0m         \u001b[0;32mwith\u001b[0m \u001b[0mopen\u001b[0m\u001b[0;34m(\u001b[0m\u001b[0mpath\u001b[0m\u001b[0;34m,\u001b[0m \u001b[0;34m'rb'\u001b[0m\u001b[0;34m)\u001b[0m \u001b[0;32mas\u001b[0m \u001b[0mstream\u001b[0m\u001b[0;34m:\u001b[0m\u001b[0;34m\u001b[0m\u001b[0;34m\u001b[0m\u001b[0m\n\u001b[0;32m-> 1627\u001b[0;31m             \u001b[0;32mreturn\u001b[0m \u001b[0mstream\u001b[0m\u001b[0;34m.\u001b[0m\u001b[0mread\u001b[0m\u001b[0;34m(\u001b[0m\u001b[0;34m)\u001b[0m\u001b[0;34m\u001b[0m\u001b[0;34m\u001b[0m\u001b[0m\n\u001b[0m\u001b[1;32m   1628\u001b[0m \u001b[0;34m\u001b[0m\u001b[0m\n\u001b[1;32m   1629\u001b[0m     \u001b[0;34m@\u001b[0m\u001b[0mclassmethod\u001b[0m\u001b[0;34m\u001b[0m\u001b[0;34m\u001b[0m\u001b[0m\n",
      "\u001b[0;31mKeyboardInterrupt\u001b[0m: "
     ]
    }
   ],
   "source": [
    "# import and instantiate SVR\n",
    "\n",
    "from sklearn.svm import SVR\n",
    "\n",
    "svr = SVR(kernel='linear')"
   ]
  },
  {
   "cell_type": "code",
   "execution_count": 56,
   "metadata": {},
   "outputs": [],
   "source": [
    "model = svr.fit(X_train,y_train)"
   ]
  }
 ],
 "metadata": {
  "kernelspec": {
   "display_name": "mlenv2",
   "language": "python",
   "name": "mlenv2"
  },
  "language_info": {
   "codemirror_mode": {
    "name": "ipython",
    "version": 3
   },
   "file_extension": ".py",
   "mimetype": "text/x-python",
   "name": "python",
   "nbconvert_exporter": "python",
   "pygments_lexer": "ipython3",
   "version": "3.7.7-final"
  }
 },
 "nbformat": 4,
 "nbformat_minor": 4
}