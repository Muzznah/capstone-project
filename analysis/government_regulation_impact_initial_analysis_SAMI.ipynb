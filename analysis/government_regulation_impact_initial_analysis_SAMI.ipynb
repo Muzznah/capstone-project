{
 "cells": [
  {
   "cell_type": "code",
   "execution_count": 1,
   "metadata": {},
   "outputs": [],
   "source": [
    "# Import the dependencies\n",
    "import pandas as pd\n",
    "import numpy as np"
   ]
  },
  {
   "cell_type": "code",
   "execution_count": 2,
   "metadata": {},
   "outputs": [
    {
     "name": "stderr",
     "output_type": "stream",
     "text": [
      "C:\\Users\\twin_\\anaconda3\\envs\\PythonData\\lib\\site-packages\\IPython\\core\\interactiveshell.py:3063: DtypeWarning: Columns (2,3) have mixed types.Specify dtype option on import or set low_memory=False.\n",
      "  interactivity=interactivity, compiler=compiler, result=result)\n"
     ]
    }
   ],
   "source": [
    "# Store the CSV into a DataFrame\n",
    "government_regulation_df = pd.read_csv(\"Resources/government_regulation.csv\")\n",
    "covid_stats_df = pd.read_csv(\"Resources/covid_stats.csv\")"
   ]
  },
  {
   "cell_type": "code",
   "execution_count": 23,
   "metadata": {},
   "outputs": [],
   "source": [
    "# Get all the unique country codes\n",
    "\n",
    "iso_codes = covid_stats_df[\"iso_code\"].unique()"
   ]
  },
  {
   "cell_type": "code",
   "execution_count": 24,
   "metadata": {},
   "outputs": [],
   "source": [
    "# Split up the covid_stats_df into a list of dataframes based on country code (iso code)\n",
    "\n",
    "iso_code_dfs = []\n",
    "for code in iso_codes:\n",
    "    df = covid_stats_df[covid_stats_df[\"iso_code\"] == code].copy()\n",
    "    iso_code_dfs.append(df)"
   ]
  },
  {
   "cell_type": "code",
   "execution_count": 25,
   "metadata": {
    "scrolled": true
   },
   "outputs": [],
   "source": [
    "# Iterate through the iso code dataframes and do the following:\n",
    "# - Make a copy of the current dataframe because we want to limit the scope of the forward fill operation\n",
    "# - If the first row of total_deaths is Nan, replace it with 0\n",
    "# - Forward fill (ffill) to fill the total_deaths column\n",
    "# - Update the iso_code_dfs dataframe list\n",
    "# - Concatenate the list of dataframes to get the covid_stats_d\n",
    "\n",
    "for i,df in enumerate(iso_code_dfs):\n",
    "    df_temp = df.copy()\n",
    "    if np.isnan(df_temp.iloc[0][\"total_deaths\"]):\n",
    "        df.iloc[0,6] = 0    # [\"total_deaths\"]\n",
    "        \n",
    "    df = df.ffill(axis = 0)\n",
    "    iso_code_dfs[i] = df\n",
    "    \n",
    "covid_stats_df = pd.concat(iso_code_dfs)"
   ]
  },
  {
   "cell_type": "code",
   "execution_count": 26,
   "metadata": {},
   "outputs": [],
   "source": [
    "covid_stats_df.count()"
   ]
  },
  {
   "cell_type": "code",
   "execution_count": 27,
   "metadata": {},
   "outputs": [],
   "source": [
    "covid_stats_df[covid_stats_df[\"iso_code\"] == \"MEX\"]"
   ]
  }
 ],
 "metadata": {
  "kernelspec": {
   "display_name": "Python 3",
   "language": "python",
   "name": "python3"
  },
  "language_info": {
   "codemirror_mode": {
    "name": "ipython",
    "version": 3
   },
   "file_extension": ".py",
   "mimetype": "text/x-python",
   "name": "python",
   "nbconvert_exporter": "python",
   "pygments_lexer": "ipython3",
   "version": "3.7.7"
  }
 },
 "nbformat": 4,
 "nbformat_minor": 4
}
